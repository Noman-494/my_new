{
 "cells": [
  {
   "cell_type": "code",
   "execution_count": 2,
   "id": "db292254",
   "metadata": {},
   "outputs": [
    {
     "name": "stdout",
     "output_type": "stream",
     "text": [
      "Collecting mysql.connector\n",
      "  Downloading mysql-connector-2.2.9.tar.gz (11.9 MB)\n",
      "     ---------------------------------------- 0.0/11.9 MB ? eta -:--:--\n",
      "     ---------------------------------------- 0.0/11.9 MB ? eta -:--:--\n",
      "     --------------------------------------- 0.0/11.9 MB 131.3 kB/s eta 0:01:31\n",
      "     --------------------------------------- 0.0/11.9 MB 131.3 kB/s eta 0:01:31\n",
      "     --------------------------------------- 0.0/11.9 MB 178.6 kB/s eta 0:01:07\n",
      "     --------------------------------------- 0.1/11.9 MB 233.8 kB/s eta 0:00:51\n",
      "     --------------------------------------- 0.1/11.9 MB 309.1 kB/s eta 0:00:39\n",
      "     --------------------------------------- 0.1/11.9 MB 343.4 kB/s eta 0:00:35\n",
      "      -------------------------------------- 0.2/11.9 MB 399.3 kB/s eta 0:00:30\n",
      "      -------------------------------------- 0.2/11.9 MB 446.4 kB/s eta 0:00:27\n",
      "      -------------------------------------- 0.2/11.9 MB 461.0 kB/s eta 0:00:26\n",
      "     - ------------------------------------- 0.3/11.9 MB 596.5 kB/s eta 0:00:20\n",
      "     - ------------------------------------- 0.4/11.9 MB 692.4 kB/s eta 0:00:17\n",
      "     - ------------------------------------- 0.5/11.9 MB 793.0 kB/s eta 0:00:15\n",
      "     - ------------------------------------- 0.6/11.9 MB 864.0 kB/s eta 0:00:14\n",
      "     -- ------------------------------------ 0.7/11.9 MB 946.8 kB/s eta 0:00:12\n",
      "     -- ------------------------------------- 0.8/11.9 MB 1.1 MB/s eta 0:00:11\n",
      "     --- ------------------------------------ 0.9/11.9 MB 1.2 MB/s eta 0:00:10\n",
      "     --- ------------------------------------ 1.1/11.9 MB 1.3 MB/s eta 0:00:09\n",
      "     ---- ----------------------------------- 1.2/11.9 MB 1.4 MB/s eta 0:00:08\n",
      "     ---- ----------------------------------- 1.4/11.9 MB 1.4 MB/s eta 0:00:08\n",
      "     ----- ---------------------------------- 1.5/11.9 MB 1.5 MB/s eta 0:00:07\n",
      "     ----- ---------------------------------- 1.6/11.9 MB 1.6 MB/s eta 0:00:07\n",
      "     ------ --------------------------------- 1.8/11.9 MB 1.6 MB/s eta 0:00:07\n",
      "     ------ --------------------------------- 1.9/11.9 MB 1.7 MB/s eta 0:00:06\n",
      "     ------ --------------------------------- 2.0/11.9 MB 1.7 MB/s eta 0:00:06\n",
      "     ------ --------------------------------- 2.1/11.9 MB 1.7 MB/s eta 0:00:06\n",
      "     ------ --------------------------------- 2.1/11.9 MB 1.7 MB/s eta 0:00:06\n",
      "     ------ --------------------------------- 2.1/11.9 MB 1.7 MB/s eta 0:00:06\n",
      "     ------ --------------------------------- 2.1/11.9 MB 1.7 MB/s eta 0:00:06\n",
      "     --------- ------------------------------ 2.7/11.9 MB 1.9 MB/s eta 0:00:05\n",
      "     --------- ------------------------------ 2.8/11.9 MB 1.9 MB/s eta 0:00:05\n",
      "     --------- ------------------------------ 2.9/11.9 MB 1.9 MB/s eta 0:00:05\n",
      "     ---------- ----------------------------- 3.0/11.9 MB 1.9 MB/s eta 0:00:05\n",
      "     ---------- ----------------------------- 3.2/11.9 MB 1.9 MB/s eta 0:00:05\n",
      "     ----------- ---------------------------- 3.3/11.9 MB 2.0 MB/s eta 0:00:05\n",
      "     ----------- ---------------------------- 3.4/11.9 MB 2.0 MB/s eta 0:00:05\n",
      "     ----------- ---------------------------- 3.5/11.9 MB 2.0 MB/s eta 0:00:05\n",
      "     ----------- ---------------------------- 3.5/11.9 MB 2.0 MB/s eta 0:00:05\n",
      "     ------------ --------------------------- 3.6/11.9 MB 1.9 MB/s eta 0:00:05\n",
      "     ------------ --------------------------- 3.6/11.9 MB 1.9 MB/s eta 0:00:05\n",
      "     ------------ --------------------------- 3.7/11.9 MB 1.9 MB/s eta 0:00:05\n",
      "     ------------ --------------------------- 3.7/11.9 MB 1.9 MB/s eta 0:00:05\n",
      "     ------------ --------------------------- 3.8/11.9 MB 1.9 MB/s eta 0:00:05\n",
      "     ------------- -------------------------- 3.9/11.9 MB 1.8 MB/s eta 0:00:05\n",
      "     ------------- -------------------------- 3.9/11.9 MB 1.8 MB/s eta 0:00:05\n",
      "     ------------- -------------------------- 4.0/11.9 MB 1.8 MB/s eta 0:00:05\n",
      "     ------------- -------------------------- 4.1/11.9 MB 1.8 MB/s eta 0:00:05\n",
      "     -------------- ------------------------- 4.3/11.9 MB 1.8 MB/s eta 0:00:05\n",
      "     -------------- ------------------------- 4.3/11.9 MB 1.8 MB/s eta 0:00:05\n",
      "     -------------- ------------------------- 4.4/11.9 MB 1.8 MB/s eta 0:00:05\n",
      "     --------------- ------------------------ 4.5/11.9 MB 1.8 MB/s eta 0:00:05\n",
      "     --------------- ------------------------ 4.5/11.9 MB 1.8 MB/s eta 0:00:05\n",
      "     --------------- ------------------------ 4.6/11.9 MB 1.8 MB/s eta 0:00:05\n",
      "     --------------- ------------------------ 4.7/11.9 MB 1.8 MB/s eta 0:00:04\n",
      "     ---------------- ----------------------- 4.9/11.9 MB 1.8 MB/s eta 0:00:04\n",
      "     ---------------- ----------------------- 5.0/11.9 MB 1.8 MB/s eta 0:00:04\n",
      "     ----------------- ---------------------- 5.1/11.9 MB 1.8 MB/s eta 0:00:04\n",
      "     ----------------- ---------------------- 5.2/11.9 MB 1.8 MB/s eta 0:00:04\n",
      "     ----------------- ---------------------- 5.3/11.9 MB 1.8 MB/s eta 0:00:04\n",
      "     ------------------ --------------------- 5.4/11.9 MB 1.9 MB/s eta 0:00:04\n",
      "     ------------------ --------------------- 5.5/11.9 MB 1.8 MB/s eta 0:00:04\n",
      "     ------------------ --------------------- 5.6/11.9 MB 1.9 MB/s eta 0:00:04\n",
      "     ------------------ --------------------- 5.6/11.9 MB 1.9 MB/s eta 0:00:04\n",
      "     ------------------ --------------------- 5.6/11.9 MB 1.8 MB/s eta 0:00:04\n",
      "     ------------------ --------------------- 5.6/11.9 MB 1.8 MB/s eta 0:00:04\n",
      "     ------------------ --------------------- 5.6/11.9 MB 1.8 MB/s eta 0:00:04\n",
      "     ------------------ --------------------- 5.6/11.9 MB 1.7 MB/s eta 0:00:04\n",
      "     ------------------ --------------------- 5.6/11.9 MB 1.7 MB/s eta 0:00:04\n",
      "     ------------------ --------------------- 5.6/11.9 MB 1.7 MB/s eta 0:00:04\n",
      "     ------------------- -------------------- 5.6/11.9 MB 1.7 MB/s eta 0:00:04\n",
      "     ------------------- -------------------- 5.6/11.9 MB 1.7 MB/s eta 0:00:04\n",
      "     ------------------- -------------------- 5.6/11.9 MB 1.7 MB/s eta 0:00:04\n",
      "     ------------------- -------------------- 5.7/11.9 MB 1.6 MB/s eta 0:00:04\n",
      "     ------------------- -------------------- 5.8/11.9 MB 1.6 MB/s eta 0:00:04\n",
      "     ------------------- -------------------- 5.9/11.9 MB 1.6 MB/s eta 0:00:04\n",
      "     -------------------- ------------------- 5.9/11.9 MB 1.6 MB/s eta 0:00:04\n",
      "     -------------------- ------------------- 6.0/11.9 MB 1.6 MB/s eta 0:00:04\n",
      "     -------------------- ------------------- 6.1/11.9 MB 1.6 MB/s eta 0:00:04\n",
      "     -------------------- ------------------- 6.2/11.9 MB 1.6 MB/s eta 0:00:04\n",
      "     -------------------- ------------------- 6.2/11.9 MB 1.6 MB/s eta 0:00:04\n",
      "     --------------------- ------------------ 6.3/11.9 MB 1.6 MB/s eta 0:00:04\n",
      "     --------------------- ------------------ 6.3/11.9 MB 1.6 MB/s eta 0:00:04\n",
      "     --------------------- ------------------ 6.4/11.9 MB 1.6 MB/s eta 0:00:04\n",
      "     ---------------------- ----------------- 6.6/11.9 MB 1.6 MB/s eta 0:00:04\n",
      "     ---------------------- ----------------- 6.7/11.9 MB 1.6 MB/s eta 0:00:04\n",
      "     ---------------------- ----------------- 6.7/11.9 MB 1.6 MB/s eta 0:00:04\n",
      "     ---------------------- ----------------- 6.7/11.9 MB 1.6 MB/s eta 0:00:04\n",
      "     ---------------------- ----------------- 6.8/11.9 MB 1.6 MB/s eta 0:00:04\n",
      "     ---------------------- ----------------- 6.8/11.9 MB 1.6 MB/s eta 0:00:04\n",
      "     ----------------------- ---------------- 6.8/11.9 MB 1.6 MB/s eta 0:00:04\n",
      "     ----------------------- ---------------- 6.8/11.9 MB 1.6 MB/s eta 0:00:04\n",
      "     ----------------------- ---------------- 6.9/11.9 MB 1.5 MB/s eta 0:00:04\n",
      "     ----------------------- ---------------- 6.9/11.9 MB 1.5 MB/s eta 0:00:04\n",
      "     ----------------------- ---------------- 6.9/11.9 MB 1.5 MB/s eta 0:00:04\n",
      "     ----------------------- ---------------- 6.9/11.9 MB 1.5 MB/s eta 0:00:04\n",
      "     ----------------------- ---------------- 6.9/11.9 MB 1.5 MB/s eta 0:00:04\n",
      "     ----------------------- ---------------- 7.0/11.9 MB 1.5 MB/s eta 0:00:04\n",
      "     ----------------------- ---------------- 7.0/11.9 MB 1.5 MB/s eta 0:00:04\n",
      "     ----------------------- ---------------- 7.0/11.9 MB 1.5 MB/s eta 0:00:04\n",
      "     ----------------------- ---------------- 7.0/11.9 MB 1.5 MB/s eta 0:00:04\n",
      "     ----------------------- ---------------- 7.0/11.9 MB 1.4 MB/s eta 0:00:04\n",
      "     ----------------------- ---------------- 7.0/11.9 MB 1.4 MB/s eta 0:00:04\n",
      "     ----------------------- ---------------- 7.0/11.9 MB 1.4 MB/s eta 0:00:04\n",
      "     ----------------------- ---------------- 7.0/11.9 MB 1.4 MB/s eta 0:00:04\n",
      "     ----------------------- ---------------- 7.0/11.9 MB 1.4 MB/s eta 0:00:04\n",
      "     ----------------------- ---------------- 7.0/11.9 MB 1.4 MB/s eta 0:00:04\n",
      "     ----------------------- ---------------- 7.1/11.9 MB 1.4 MB/s eta 0:00:04\n",
      "     ----------------------- ---------------- 7.1/11.9 MB 1.4 MB/s eta 0:00:04\n",
      "     ----------------------- ---------------- 7.1/11.9 MB 1.4 MB/s eta 0:00:04\n",
      "     ------------------------ --------------- 7.1/11.9 MB 1.3 MB/s eta 0:00:04\n",
      "     ------------------------ --------------- 7.2/11.9 MB 1.3 MB/s eta 0:00:04\n",
      "     ------------------------ --------------- 7.2/11.9 MB 1.3 MB/s eta 0:00:04\n",
      "     ------------------------ --------------- 7.3/11.9 MB 1.3 MB/s eta 0:00:04\n",
      "     ------------------------ --------------- 7.3/11.9 MB 1.3 MB/s eta 0:00:04\n",
      "     ------------------------ --------------- 7.3/11.9 MB 1.3 MB/s eta 0:00:04\n",
      "     ------------------------ --------------- 7.4/11.9 MB 1.3 MB/s eta 0:00:04\n",
      "     ------------------------ --------------- 7.4/11.9 MB 1.3 MB/s eta 0:00:04\n",
      "     ------------------------ --------------- 7.4/11.9 MB 1.3 MB/s eta 0:00:04\n",
      "     ------------------------- -------------- 7.5/11.9 MB 1.3 MB/s eta 0:00:04\n",
      "     ------------------------- -------------- 7.7/11.9 MB 1.3 MB/s eta 0:00:04\n",
      "     -------------------------- ------------- 7.8/11.9 MB 1.3 MB/s eta 0:00:04\n",
      "     -------------------------- ------------- 7.9/11.9 MB 1.3 MB/s eta 0:00:03\n",
      "     -------------------------- ------------- 7.9/11.9 MB 1.3 MB/s eta 0:00:03\n",
      "     -------------------------- ------------- 7.9/11.9 MB 1.3 MB/s eta 0:00:03\n",
      "     -------------------------- ------------- 7.9/11.9 MB 1.3 MB/s eta 0:00:03\n",
      "     -------------------------- ------------- 8.0/11.9 MB 1.3 MB/s eta 0:00:03\n",
      "     --------------------------- ------------ 8.1/11.9 MB 1.3 MB/s eta 0:00:03\n",
      "     --------------------------- ------------ 8.2/11.9 MB 1.3 MB/s eta 0:00:03\n",
      "     --------------------------- ------------ 8.2/11.9 MB 1.3 MB/s eta 0:00:03\n",
      "     ---------------------------- ----------- 8.4/11.9 MB 1.3 MB/s eta 0:00:03\n",
      "     ---------------------------- ----------- 8.5/11.9 MB 1.3 MB/s eta 0:00:03\n",
      "     ---------------------------- ----------- 8.5/11.9 MB 1.3 MB/s eta 0:00:03\n",
      "     ----------------------------- ---------- 8.6/11.9 MB 1.3 MB/s eta 0:00:03\n",
      "     ----------------------------- ---------- 8.8/11.9 MB 1.4 MB/s eta 0:00:03\n",
      "     ------------------------------ --------- 8.9/11.9 MB 1.4 MB/s eta 0:00:03\n",
      "     ------------------------------ --------- 9.0/11.9 MB 1.4 MB/s eta 0:00:03\n",
      "     ------------------------------ --------- 9.1/11.9 MB 1.4 MB/s eta 0:00:03\n",
      "     ------------------------------ --------- 9.1/11.9 MB 1.4 MB/s eta 0:00:02\n",
      "     ------------------------------ --------- 9.2/11.9 MB 1.4 MB/s eta 0:00:02\n",
      "     ------------------------------- -------- 9.3/11.9 MB 1.4 MB/s eta 0:00:02\n",
      "     ------------------------------- -------- 9.3/11.9 MB 1.4 MB/s eta 0:00:02\n",
      "     ------------------------------- -------- 9.3/11.9 MB 1.4 MB/s eta 0:00:02\n",
      "     ------------------------------- -------- 9.3/11.9 MB 1.4 MB/s eta 0:00:02\n",
      "     ------------------------------- -------- 9.3/11.9 MB 1.3 MB/s eta 0:00:02\n",
      "     ------------------------------- -------- 9.3/11.9 MB 1.3 MB/s eta 0:00:02\n",
      "     ------------------------------- -------- 9.4/11.9 MB 1.3 MB/s eta 0:00:02\n",
      "     ------------------------------- -------- 9.4/11.9 MB 1.3 MB/s eta 0:00:02\n",
      "     ------------------------------- -------- 9.4/11.9 MB 1.3 MB/s eta 0:00:02\n",
      "     ------------------------------- -------- 9.4/11.9 MB 1.3 MB/s eta 0:00:02\n",
      "     -------------------------------- ------- 9.5/11.9 MB 1.3 MB/s eta 0:00:02\n",
      "     -------------------------------- ------- 9.6/11.9 MB 1.3 MB/s eta 0:00:02\n",
      "     -------------------------------- ------- 9.7/11.9 MB 1.3 MB/s eta 0:00:02\n",
      "     --------------------------------- ------ 9.9/11.9 MB 1.3 MB/s eta 0:00:02\n",
      "     --------------------------------- ------ 10.0/11.9 MB 1.3 MB/s eta 0:00:02\n",
      "     ---------------------------------- ----- 10.1/11.9 MB 1.4 MB/s eta 0:00:02\n",
      "     ---------------------------------- ----- 10.1/11.9 MB 1.3 MB/s eta 0:00:02\n",
      "     ---------------------------------- ----- 10.2/11.9 MB 1.3 MB/s eta 0:00:02\n",
      "     ---------------------------------- ----- 10.2/11.9 MB 1.3 MB/s eta 0:00:02\n",
      "     ---------------------------------- ----- 10.4/11.9 MB 1.4 MB/s eta 0:00:02\n",
      "     ----------------------------------- ---- 10.6/11.9 MB 1.4 MB/s eta 0:00:01\n",
      "     ------------------------------------ --- 10.7/11.9 MB 1.4 MB/s eta 0:00:01\n",
      "     ------------------------------------ --- 10.8/11.9 MB 1.4 MB/s eta 0:00:01\n",
      "     ------------------------------------- -- 11.0/11.9 MB 1.4 MB/s eta 0:00:01\n",
      "     ------------------------------------- -- 11.1/11.9 MB 1.4 MB/s eta 0:00:01\n",
      "     ------------------------------------- -- 11.2/11.9 MB 1.4 MB/s eta 0:00:01\n",
      "     -------------------------------------- - 11.4/11.9 MB 1.4 MB/s eta 0:00:01\n",
      "     ---------------------------------------  11.6/11.9 MB 1.4 MB/s eta 0:00:01\n",
      "     ---------------------------------------  11.7/11.9 MB 1.4 MB/s eta 0:00:01\n",
      "     ---------------------------------------  11.8/11.9 MB 1.4 MB/s eta 0:00:01\n",
      "     ---------------------------------------  11.8/11.9 MB 1.4 MB/s eta 0:00:01\n",
      "     ---------------------------------------  11.8/11.9 MB 1.4 MB/s eta 0:00:01\n",
      "     ---------------------------------------- 11.9/11.9 MB 1.4 MB/s eta 0:00:00\n",
      "  Preparing metadata (setup.py): started\n",
      "  Preparing metadata (setup.py): finished with status 'done'\n",
      "Building wheels for collected packages: mysql.connector\n",
      "  Building wheel for mysql.connector (setup.py): started\n",
      "  Building wheel for mysql.connector (setup.py): finished with status 'done'\n",
      "  Created wheel for mysql.connector: filename=mysql_connector-2.2.9-cp311-cp311-win_amd64.whl size=247958 sha256=bcdc09e62ae515760f62ae9a7560498fcc76e8863dc6744c7c189f6e3f371d31\n",
      "  Stored in directory: c:\\users\\user\\appdata\\local\\pip\\cache\\wheels\\17\\cd\\ed\\2d49e9bac69cf09382e4c7cc20a2511202b48324b87db26019\n",
      "Successfully built mysql.connector\n",
      "Installing collected packages: mysql.connector\n",
      "Successfully installed mysql.connector-2.2.9\n"
     ]
    }
   ],
   "source": [
    "!pip install mysql.connector"
   ]
  },
  {
   "cell_type": "code",
   "execution_count": 1,
   "id": "4d501daf",
   "metadata": {},
   "outputs": [],
   "source": [
    "import pandas as pd"
   ]
  },
  {
   "cell_type": "code",
   "execution_count": 3,
   "id": "0641f9c5",
   "metadata": {},
   "outputs": [],
   "source": [
    "import mysql.connector"
   ]
  },
  {
   "cell_type": "code",
   "execution_count": 5,
   "id": "2a202262",
   "metadata": {},
   "outputs": [
    {
     "ename": "NotSupportedError",
     "evalue": "Authentication plugin 'caching_sha2_password' is not supported",
     "output_type": "error",
     "traceback": [
      "\u001b[1;31m---------------------------------------------------------------------------\u001b[0m",
      "\u001b[1;31mNotSupportedError\u001b[0m                         Traceback (most recent call last)",
      "Cell \u001b[1;32mIn[5], line 1\u001b[0m\n\u001b[1;32m----> 1\u001b[0m con\u001b[38;5;241m=\u001b[39mmysql\u001b[38;5;241m.\u001b[39mconnector\u001b[38;5;241m.\u001b[39mconnect(host\u001b[38;5;241m=\u001b[39m\u001b[38;5;124m'\u001b[39m\u001b[38;5;124mlocalhost\u001b[39m\u001b[38;5;124m'\u001b[39m,user\u001b[38;5;241m=\u001b[39m\u001b[38;5;124m'\u001b[39m\u001b[38;5;124mroot\u001b[39m\u001b[38;5;124m'\u001b[39m,password\u001b[38;5;241m=\u001b[39m\u001b[38;5;124m'\u001b[39m\u001b[38;5;124mEmirates1258@\u001b[39m\u001b[38;5;124m'\u001b[39m,database\u001b[38;5;241m=\u001b[39m\u001b[38;5;124m'\u001b[39m\u001b[38;5;124m`salesorder`\u001b[39m\u001b[38;5;124m'\u001b[39m)\n",
      "File \u001b[1;32m~\\AppData\\Local\\anaconda3\\Lib\\site-packages\\mysql\\connector\\__init__.py:179\u001b[0m, in \u001b[0;36mconnect\u001b[1;34m(*args, **kwargs)\u001b[0m\n\u001b[0;32m    177\u001b[0m     \u001b[38;5;28;01mreturn\u001b[39;00m CMySQLConnection(\u001b[38;5;241m*\u001b[39margs, \u001b[38;5;241m*\u001b[39m\u001b[38;5;241m*\u001b[39mkwargs)\n\u001b[0;32m    178\u001b[0m \u001b[38;5;28;01melse\u001b[39;00m:\n\u001b[1;32m--> 179\u001b[0m     \u001b[38;5;28;01mreturn\u001b[39;00m MySQLConnection(\u001b[38;5;241m*\u001b[39margs, \u001b[38;5;241m*\u001b[39m\u001b[38;5;241m*\u001b[39mkwargs)\n",
      "File \u001b[1;32m~\\AppData\\Local\\anaconda3\\Lib\\site-packages\\mysql\\connector\\connection.py:95\u001b[0m, in \u001b[0;36mMySQLConnection.__init__\u001b[1;34m(self, *args, **kwargs)\u001b[0m\n\u001b[0;32m     92\u001b[0m \u001b[38;5;28mself\u001b[39m\u001b[38;5;241m.\u001b[39m_pool_config_version \u001b[38;5;241m=\u001b[39m \u001b[38;5;28;01mNone\u001b[39;00m\n\u001b[0;32m     94\u001b[0m \u001b[38;5;28;01mif\u001b[39;00m \u001b[38;5;28mlen\u001b[39m(kwargs) \u001b[38;5;241m>\u001b[39m \u001b[38;5;241m0\u001b[39m:\n\u001b[1;32m---> 95\u001b[0m     \u001b[38;5;28mself\u001b[39m\u001b[38;5;241m.\u001b[39mconnect(\u001b[38;5;241m*\u001b[39m\u001b[38;5;241m*\u001b[39mkwargs)\n",
      "File \u001b[1;32m~\\AppData\\Local\\anaconda3\\Lib\\site-packages\\mysql\\connector\\abstracts.py:716\u001b[0m, in \u001b[0;36mMySQLConnectionAbstract.connect\u001b[1;34m(self, **kwargs)\u001b[0m\n\u001b[0;32m    713\u001b[0m     \u001b[38;5;28mself\u001b[39m\u001b[38;5;241m.\u001b[39mconfig(\u001b[38;5;241m*\u001b[39m\u001b[38;5;241m*\u001b[39mkwargs)\n\u001b[0;32m    715\u001b[0m \u001b[38;5;28mself\u001b[39m\u001b[38;5;241m.\u001b[39mdisconnect()\n\u001b[1;32m--> 716\u001b[0m \u001b[38;5;28mself\u001b[39m\u001b[38;5;241m.\u001b[39m_open_connection()\n\u001b[0;32m    717\u001b[0m \u001b[38;5;28mself\u001b[39m\u001b[38;5;241m.\u001b[39m_post_connection()\n",
      "File \u001b[1;32m~\\AppData\\Local\\anaconda3\\Lib\\site-packages\\mysql\\connector\\connection.py:208\u001b[0m, in \u001b[0;36mMySQLConnection._open_connection\u001b[1;34m(self)\u001b[0m\n\u001b[0;32m    206\u001b[0m \u001b[38;5;28mself\u001b[39m\u001b[38;5;241m.\u001b[39m_socket\u001b[38;5;241m.\u001b[39mopen_connection()\n\u001b[0;32m    207\u001b[0m \u001b[38;5;28mself\u001b[39m\u001b[38;5;241m.\u001b[39m_do_handshake()\n\u001b[1;32m--> 208\u001b[0m \u001b[38;5;28mself\u001b[39m\u001b[38;5;241m.\u001b[39m_do_auth(\u001b[38;5;28mself\u001b[39m\u001b[38;5;241m.\u001b[39m_user, \u001b[38;5;28mself\u001b[39m\u001b[38;5;241m.\u001b[39m_password,\n\u001b[0;32m    209\u001b[0m               \u001b[38;5;28mself\u001b[39m\u001b[38;5;241m.\u001b[39m_database, \u001b[38;5;28mself\u001b[39m\u001b[38;5;241m.\u001b[39m_client_flags, \u001b[38;5;28mself\u001b[39m\u001b[38;5;241m.\u001b[39m_charset_id,\n\u001b[0;32m    210\u001b[0m               \u001b[38;5;28mself\u001b[39m\u001b[38;5;241m.\u001b[39m_ssl)\n\u001b[0;32m    211\u001b[0m \u001b[38;5;28mself\u001b[39m\u001b[38;5;241m.\u001b[39mset_converter_class(\u001b[38;5;28mself\u001b[39m\u001b[38;5;241m.\u001b[39m_converter_class)\n\u001b[0;32m    212\u001b[0m \u001b[38;5;28;01mif\u001b[39;00m \u001b[38;5;28mself\u001b[39m\u001b[38;5;241m.\u001b[39m_client_flags \u001b[38;5;241m&\u001b[39m ClientFlag\u001b[38;5;241m.\u001b[39mCOMPRESS:\n",
      "File \u001b[1;32m~\\AppData\\Local\\anaconda3\\Lib\\site-packages\\mysql\\connector\\connection.py:137\u001b[0m, in \u001b[0;36mMySQLConnection._do_auth\u001b[1;34m(self, username, password, database, client_flags, charset, ssl_options)\u001b[0m\n\u001b[0;32m    134\u001b[0m     \u001b[38;5;28mself\u001b[39m\u001b[38;5;241m.\u001b[39m_socket\u001b[38;5;241m.\u001b[39mswitch_to_ssl(\u001b[38;5;241m*\u001b[39m\u001b[38;5;241m*\u001b[39mssl_options)\n\u001b[0;32m    135\u001b[0m     \u001b[38;5;28mself\u001b[39m\u001b[38;5;241m.\u001b[39m_ssl_active \u001b[38;5;241m=\u001b[39m \u001b[38;5;28;01mTrue\u001b[39;00m\n\u001b[1;32m--> 137\u001b[0m packet \u001b[38;5;241m=\u001b[39m \u001b[38;5;28mself\u001b[39m\u001b[38;5;241m.\u001b[39m_protocol\u001b[38;5;241m.\u001b[39mmake_auth(\n\u001b[0;32m    138\u001b[0m     handshake\u001b[38;5;241m=\u001b[39m\u001b[38;5;28mself\u001b[39m\u001b[38;5;241m.\u001b[39m_handshake,\n\u001b[0;32m    139\u001b[0m     username\u001b[38;5;241m=\u001b[39musername, password\u001b[38;5;241m=\u001b[39mpassword, database\u001b[38;5;241m=\u001b[39mdatabase,\n\u001b[0;32m    140\u001b[0m     charset\u001b[38;5;241m=\u001b[39mcharset, client_flags\u001b[38;5;241m=\u001b[39mclient_flags,\n\u001b[0;32m    141\u001b[0m     ssl_enabled\u001b[38;5;241m=\u001b[39m\u001b[38;5;28mself\u001b[39m\u001b[38;5;241m.\u001b[39m_ssl_active,\n\u001b[0;32m    142\u001b[0m     auth_plugin\u001b[38;5;241m=\u001b[39m\u001b[38;5;28mself\u001b[39m\u001b[38;5;241m.\u001b[39m_auth_plugin)\n\u001b[0;32m    143\u001b[0m \u001b[38;5;28mself\u001b[39m\u001b[38;5;241m.\u001b[39m_socket\u001b[38;5;241m.\u001b[39msend(packet)\n\u001b[0;32m    144\u001b[0m \u001b[38;5;28mself\u001b[39m\u001b[38;5;241m.\u001b[39m_auth_switch_request(username, password)\n",
      "File \u001b[1;32m~\\AppData\\Local\\anaconda3\\Lib\\site-packages\\mysql\\connector\\protocol.py:99\u001b[0m, in \u001b[0;36mMySQLProtocol.make_auth\u001b[1;34m(self, handshake, username, password, database, charset, client_flags, max_allowed_packet, ssl_enabled, auth_plugin)\u001b[0m\n\u001b[0;32m     93\u001b[0m     username_bytes \u001b[38;5;241m=\u001b[39m username\n\u001b[0;32m     94\u001b[0m packet \u001b[38;5;241m=\u001b[39m struct\u001b[38;5;241m.\u001b[39mpack(\u001b[38;5;124m'\u001b[39m\u001b[38;5;124m<IIB\u001b[39m\u001b[38;5;132;01m{filler}\u001b[39;00m\u001b[38;5;132;01m{usrlen}\u001b[39;00m\u001b[38;5;124msx\u001b[39m\u001b[38;5;124m'\u001b[39m\u001b[38;5;241m.\u001b[39mformat(\n\u001b[0;32m     95\u001b[0m     filler\u001b[38;5;241m=\u001b[39m\u001b[38;5;124m'\u001b[39m\u001b[38;5;124mx\u001b[39m\u001b[38;5;124m'\u001b[39m \u001b[38;5;241m*\u001b[39m \u001b[38;5;241m23\u001b[39m, usrlen\u001b[38;5;241m=\u001b[39m\u001b[38;5;28mlen\u001b[39m(username_bytes)),\n\u001b[0;32m     96\u001b[0m                      client_flags, max_allowed_packet, charset,\n\u001b[0;32m     97\u001b[0m                      username_bytes)\n\u001b[1;32m---> 99\u001b[0m packet \u001b[38;5;241m+\u001b[39m\u001b[38;5;241m=\u001b[39m \u001b[38;5;28mself\u001b[39m\u001b[38;5;241m.\u001b[39m_auth_response(client_flags, username, password,\n\u001b[0;32m    100\u001b[0m                               database,\n\u001b[0;32m    101\u001b[0m                               auth_plugin,\n\u001b[0;32m    102\u001b[0m                               auth_data, ssl_enabled)\n\u001b[0;32m    104\u001b[0m packet \u001b[38;5;241m+\u001b[39m\u001b[38;5;241m=\u001b[39m \u001b[38;5;28mself\u001b[39m\u001b[38;5;241m.\u001b[39m_connect_with_db(client_flags, database)\n\u001b[0;32m    106\u001b[0m \u001b[38;5;28;01mif\u001b[39;00m client_flags \u001b[38;5;241m&\u001b[39m ClientFlag\u001b[38;5;241m.\u001b[39mPLUGIN_AUTH:\n",
      "File \u001b[1;32m~\\AppData\\Local\\anaconda3\\Lib\\site-packages\\mysql\\connector\\protocol.py:58\u001b[0m, in \u001b[0;36mMySQLProtocol._auth_response\u001b[1;34m(self, client_flags, username, password, database, auth_plugin, auth_data, ssl_enabled)\u001b[0m\n\u001b[0;32m     55\u001b[0m     \u001b[38;5;28;01mreturn\u001b[39;00m \u001b[38;5;124mb\u001b[39m\u001b[38;5;124m'\u001b[39m\u001b[38;5;130;01m\\x00\u001b[39;00m\u001b[38;5;124m'\u001b[39m\n\u001b[0;32m     57\u001b[0m \u001b[38;5;28;01mtry\u001b[39;00m:\n\u001b[1;32m---> 58\u001b[0m     auth \u001b[38;5;241m=\u001b[39m get_auth_plugin(auth_plugin)(\n\u001b[0;32m     59\u001b[0m         auth_data,\n\u001b[0;32m     60\u001b[0m         username\u001b[38;5;241m=\u001b[39musername, password\u001b[38;5;241m=\u001b[39mpassword, database\u001b[38;5;241m=\u001b[39mdatabase,\n\u001b[0;32m     61\u001b[0m         ssl_enabled\u001b[38;5;241m=\u001b[39mssl_enabled)\n\u001b[0;32m     62\u001b[0m     plugin_auth_response \u001b[38;5;241m=\u001b[39m auth\u001b[38;5;241m.\u001b[39mauth_response()\n\u001b[0;32m     63\u001b[0m \u001b[38;5;28;01mexcept\u001b[39;00m (\u001b[38;5;167;01mTypeError\u001b[39;00m, errors\u001b[38;5;241m.\u001b[39mInterfaceError) \u001b[38;5;28;01mas\u001b[39;00m exc:\n",
      "File \u001b[1;32m~\\AppData\\Local\\anaconda3\\Lib\\site-packages\\mysql\\connector\\authentication.py:190\u001b[0m, in \u001b[0;36mget_auth_plugin\u001b[1;34m(plugin_name)\u001b[0m\n\u001b[0;32m    187\u001b[0m     \u001b[38;5;28;01mif\u001b[39;00m authclass\u001b[38;5;241m.\u001b[39mplugin_name \u001b[38;5;241m==\u001b[39m plugin_name:\n\u001b[0;32m    188\u001b[0m         \u001b[38;5;28;01mreturn\u001b[39;00m authclass\n\u001b[1;32m--> 190\u001b[0m \u001b[38;5;28;01mraise\u001b[39;00m errors\u001b[38;5;241m.\u001b[39mNotSupportedError(\n\u001b[0;32m    191\u001b[0m     \u001b[38;5;124m\"\u001b[39m\u001b[38;5;124mAuthentication plugin \u001b[39m\u001b[38;5;124m'\u001b[39m\u001b[38;5;132;01m{0}\u001b[39;00m\u001b[38;5;124m'\u001b[39m\u001b[38;5;124m is not supported\u001b[39m\u001b[38;5;124m\"\u001b[39m\u001b[38;5;241m.\u001b[39mformat(plugin_name))\n",
      "\u001b[1;31mNotSupportedError\u001b[0m: Authentication plugin 'caching_sha2_password' is not supported"
     ]
    }
   ],
   "source": [
    "con=mysql.connector.connect(host='localhost',user='root',password='Emirates1258@',database='`salesorder`')"
   ]
  },
  {
   "cell_type": "code",
   "execution_count": 1,
   "id": "2ad25adb",
   "metadata": {},
   "outputs": [],
   "source": [
    "import pandas as pd"
   ]
  },
  {
   "cell_type": "code",
   "execution_count": 3,
   "id": "2dd2af9d",
   "metadata": {},
   "outputs": [],
   "source": [
    "train=pd.read_csv(\"train.csv\")"
   ]
  },
  {
   "cell_type": "code",
   "execution_count": 5,
   "id": "27a43974",
   "metadata": {},
   "outputs": [
    {
     "data": {
      "text/plain": [
       "PassengerId      0\n",
       "Survived         0\n",
       "Pclass           0\n",
       "Name             0\n",
       "Sex              0\n",
       "Age            177\n",
       "SibSp            0\n",
       "Parch            0\n",
       "Ticket           0\n",
       "Fare             0\n",
       "Cabin          687\n",
       "Embarked         2\n",
       "dtype: int64"
      ]
     },
     "execution_count": 5,
     "metadata": {},
     "output_type": "execute_result"
    }
   ],
   "source": [
    "train.isnull().sum()"
   ]
  },
  {
   "cell_type": "code",
   "execution_count": null,
   "id": "3c6e2856",
   "metadata": {},
   "outputs": [],
   "source": [
    "##univariate analysis"
   ]
  },
  {
   "cell_type": "code",
   "execution_count": 7,
   "id": "b0482479",
   "metadata": {},
   "outputs": [
    {
     "data": {
      "text/html": [
       "<div>\n",
       "<style scoped>\n",
       "    .dataframe tbody tr th:only-of-type {\n",
       "        vertical-align: middle;\n",
       "    }\n",
       "\n",
       "    .dataframe tbody tr th {\n",
       "        vertical-align: top;\n",
       "    }\n",
       "\n",
       "    .dataframe thead th {\n",
       "        text-align: right;\n",
       "    }\n",
       "</style>\n",
       "<table border=\"1\" class=\"dataframe\">\n",
       "  <thead>\n",
       "    <tr style=\"text-align: right;\">\n",
       "      <th></th>\n",
       "      <th>PassengerId</th>\n",
       "      <th>Survived</th>\n",
       "      <th>Pclass</th>\n",
       "      <th>Name</th>\n",
       "      <th>Sex</th>\n",
       "      <th>Age</th>\n",
       "      <th>SibSp</th>\n",
       "      <th>Parch</th>\n",
       "      <th>Ticket</th>\n",
       "      <th>Fare</th>\n",
       "      <th>Cabin</th>\n",
       "      <th>Embarked</th>\n",
       "    </tr>\n",
       "  </thead>\n",
       "  <tbody>\n",
       "    <tr>\n",
       "      <th>0</th>\n",
       "      <td>1</td>\n",
       "      <td>0</td>\n",
       "      <td>3</td>\n",
       "      <td>Braund, Mr. Owen Harris</td>\n",
       "      <td>male</td>\n",
       "      <td>22.0</td>\n",
       "      <td>1</td>\n",
       "      <td>0</td>\n",
       "      <td>A/5 21171</td>\n",
       "      <td>7.2500</td>\n",
       "      <td>NaN</td>\n",
       "      <td>S</td>\n",
       "    </tr>\n",
       "    <tr>\n",
       "      <th>1</th>\n",
       "      <td>2</td>\n",
       "      <td>1</td>\n",
       "      <td>1</td>\n",
       "      <td>Cumings, Mrs. John Bradley (Florence Briggs Th...</td>\n",
       "      <td>female</td>\n",
       "      <td>38.0</td>\n",
       "      <td>1</td>\n",
       "      <td>0</td>\n",
       "      <td>PC 17599</td>\n",
       "      <td>71.2833</td>\n",
       "      <td>C85</td>\n",
       "      <td>C</td>\n",
       "    </tr>\n",
       "    <tr>\n",
       "      <th>2</th>\n",
       "      <td>3</td>\n",
       "      <td>1</td>\n",
       "      <td>3</td>\n",
       "      <td>Heikkinen, Miss. Laina</td>\n",
       "      <td>female</td>\n",
       "      <td>26.0</td>\n",
       "      <td>0</td>\n",
       "      <td>0</td>\n",
       "      <td>STON/O2. 3101282</td>\n",
       "      <td>7.9250</td>\n",
       "      <td>NaN</td>\n",
       "      <td>S</td>\n",
       "    </tr>\n",
       "    <tr>\n",
       "      <th>3</th>\n",
       "      <td>4</td>\n",
       "      <td>1</td>\n",
       "      <td>1</td>\n",
       "      <td>Futrelle, Mrs. Jacques Heath (Lily May Peel)</td>\n",
       "      <td>female</td>\n",
       "      <td>35.0</td>\n",
       "      <td>1</td>\n",
       "      <td>0</td>\n",
       "      <td>113803</td>\n",
       "      <td>53.1000</td>\n",
       "      <td>C123</td>\n",
       "      <td>S</td>\n",
       "    </tr>\n",
       "    <tr>\n",
       "      <th>4</th>\n",
       "      <td>5</td>\n",
       "      <td>0</td>\n",
       "      <td>3</td>\n",
       "      <td>Allen, Mr. William Henry</td>\n",
       "      <td>male</td>\n",
       "      <td>35.0</td>\n",
       "      <td>0</td>\n",
       "      <td>0</td>\n",
       "      <td>373450</td>\n",
       "      <td>8.0500</td>\n",
       "      <td>NaN</td>\n",
       "      <td>S</td>\n",
       "    </tr>\n",
       "  </tbody>\n",
       "</table>\n",
       "</div>"
      ],
      "text/plain": [
       "   PassengerId  Survived  Pclass  \\\n",
       "0            1         0       3   \n",
       "1            2         1       1   \n",
       "2            3         1       3   \n",
       "3            4         1       1   \n",
       "4            5         0       3   \n",
       "\n",
       "                                                Name     Sex   Age  SibSp  \\\n",
       "0                            Braund, Mr. Owen Harris    male  22.0      1   \n",
       "1  Cumings, Mrs. John Bradley (Florence Briggs Th...  female  38.0      1   \n",
       "2                             Heikkinen, Miss. Laina  female  26.0      0   \n",
       "3       Futrelle, Mrs. Jacques Heath (Lily May Peel)  female  35.0      1   \n",
       "4                           Allen, Mr. William Henry    male  35.0      0   \n",
       "\n",
       "   Parch            Ticket     Fare Cabin Embarked  \n",
       "0      0         A/5 21171   7.2500   NaN        S  \n",
       "1      0          PC 17599  71.2833   C85        C  \n",
       "2      0  STON/O2. 3101282   7.9250   NaN        S  \n",
       "3      0            113803  53.1000  C123        S  \n",
       "4      0            373450   8.0500   NaN        S  "
      ]
     },
     "execution_count": 7,
     "metadata": {},
     "output_type": "execute_result"
    }
   ],
   "source": [
    "train.head()"
   ]
  },
  {
   "cell_type": "code",
   "execution_count": 22,
   "id": "a3eda300",
   "metadata": {},
   "outputs": [
    {
     "data": {
      "text/plain": [
       "0      False\n",
       "1       True\n",
       "2       True\n",
       "3       True\n",
       "4      False\n",
       "       ...  \n",
       "886    False\n",
       "887     True\n",
       "888    False\n",
       "889     True\n",
       "890    False\n",
       "Name: Survived, Length: 891, dtype: bool"
      ]
     },
     "execution_count": 22,
     "metadata": {},
     "output_type": "execute_result"
    }
   ],
   "source": [
    "(train[\"Survived\"]==1)"
   ]
  },
  {
   "cell_type": "code",
   "execution_count": 23,
   "id": "f15f8a49",
   "metadata": {},
   "outputs": [
    {
     "data": {
      "text/html": [
       "<div>\n",
       "<style scoped>\n",
       "    .dataframe tbody tr th:only-of-type {\n",
       "        vertical-align: middle;\n",
       "    }\n",
       "\n",
       "    .dataframe tbody tr th {\n",
       "        vertical-align: top;\n",
       "    }\n",
       "\n",
       "    .dataframe thead th {\n",
       "        text-align: right;\n",
       "    }\n",
       "</style>\n",
       "<table border=\"1\" class=\"dataframe\">\n",
       "  <thead>\n",
       "    <tr style=\"text-align: right;\">\n",
       "      <th></th>\n",
       "      <th>PassengerId</th>\n",
       "      <th>Survived</th>\n",
       "      <th>Pclass</th>\n",
       "      <th>Name</th>\n",
       "      <th>Sex</th>\n",
       "      <th>Age</th>\n",
       "      <th>SibSp</th>\n",
       "      <th>Parch</th>\n",
       "      <th>Ticket</th>\n",
       "      <th>Fare</th>\n",
       "      <th>Cabin</th>\n",
       "      <th>Embarked</th>\n",
       "    </tr>\n",
       "  </thead>\n",
       "  <tbody>\n",
       "    <tr>\n",
       "      <th>1</th>\n",
       "      <td>2</td>\n",
       "      <td>1</td>\n",
       "      <td>1</td>\n",
       "      <td>Cumings, Mrs. John Bradley (Florence Briggs Th...</td>\n",
       "      <td>female</td>\n",
       "      <td>38.0</td>\n",
       "      <td>1</td>\n",
       "      <td>0</td>\n",
       "      <td>PC 17599</td>\n",
       "      <td>71.2833</td>\n",
       "      <td>C85</td>\n",
       "      <td>C</td>\n",
       "    </tr>\n",
       "    <tr>\n",
       "      <th>2</th>\n",
       "      <td>3</td>\n",
       "      <td>1</td>\n",
       "      <td>3</td>\n",
       "      <td>Heikkinen, Miss. Laina</td>\n",
       "      <td>female</td>\n",
       "      <td>26.0</td>\n",
       "      <td>0</td>\n",
       "      <td>0</td>\n",
       "      <td>STON/O2. 3101282</td>\n",
       "      <td>7.9250</td>\n",
       "      <td>NaN</td>\n",
       "      <td>S</td>\n",
       "    </tr>\n",
       "    <tr>\n",
       "      <th>3</th>\n",
       "      <td>4</td>\n",
       "      <td>1</td>\n",
       "      <td>1</td>\n",
       "      <td>Futrelle, Mrs. Jacques Heath (Lily May Peel)</td>\n",
       "      <td>female</td>\n",
       "      <td>35.0</td>\n",
       "      <td>1</td>\n",
       "      <td>0</td>\n",
       "      <td>113803</td>\n",
       "      <td>53.1000</td>\n",
       "      <td>C123</td>\n",
       "      <td>S</td>\n",
       "    </tr>\n",
       "    <tr>\n",
       "      <th>8</th>\n",
       "      <td>9</td>\n",
       "      <td>1</td>\n",
       "      <td>3</td>\n",
       "      <td>Johnson, Mrs. Oscar W (Elisabeth Vilhelmina Berg)</td>\n",
       "      <td>female</td>\n",
       "      <td>27.0</td>\n",
       "      <td>0</td>\n",
       "      <td>2</td>\n",
       "      <td>347742</td>\n",
       "      <td>11.1333</td>\n",
       "      <td>NaN</td>\n",
       "      <td>S</td>\n",
       "    </tr>\n",
       "    <tr>\n",
       "      <th>9</th>\n",
       "      <td>10</td>\n",
       "      <td>1</td>\n",
       "      <td>2</td>\n",
       "      <td>Nasser, Mrs. Nicholas (Adele Achem)</td>\n",
       "      <td>female</td>\n",
       "      <td>14.0</td>\n",
       "      <td>1</td>\n",
       "      <td>0</td>\n",
       "      <td>237736</td>\n",
       "      <td>30.0708</td>\n",
       "      <td>NaN</td>\n",
       "      <td>C</td>\n",
       "    </tr>\n",
       "    <tr>\n",
       "      <th>...</th>\n",
       "      <td>...</td>\n",
       "      <td>...</td>\n",
       "      <td>...</td>\n",
       "      <td>...</td>\n",
       "      <td>...</td>\n",
       "      <td>...</td>\n",
       "      <td>...</td>\n",
       "      <td>...</td>\n",
       "      <td>...</td>\n",
       "      <td>...</td>\n",
       "      <td>...</td>\n",
       "      <td>...</td>\n",
       "    </tr>\n",
       "    <tr>\n",
       "      <th>875</th>\n",
       "      <td>876</td>\n",
       "      <td>1</td>\n",
       "      <td>3</td>\n",
       "      <td>Najib, Miss. Adele Kiamie \"Jane\"</td>\n",
       "      <td>female</td>\n",
       "      <td>15.0</td>\n",
       "      <td>0</td>\n",
       "      <td>0</td>\n",
       "      <td>2667</td>\n",
       "      <td>7.2250</td>\n",
       "      <td>NaN</td>\n",
       "      <td>C</td>\n",
       "    </tr>\n",
       "    <tr>\n",
       "      <th>879</th>\n",
       "      <td>880</td>\n",
       "      <td>1</td>\n",
       "      <td>1</td>\n",
       "      <td>Potter, Mrs. Thomas Jr (Lily Alexenia Wilson)</td>\n",
       "      <td>female</td>\n",
       "      <td>56.0</td>\n",
       "      <td>0</td>\n",
       "      <td>1</td>\n",
       "      <td>11767</td>\n",
       "      <td>83.1583</td>\n",
       "      <td>C50</td>\n",
       "      <td>C</td>\n",
       "    </tr>\n",
       "    <tr>\n",
       "      <th>880</th>\n",
       "      <td>881</td>\n",
       "      <td>1</td>\n",
       "      <td>2</td>\n",
       "      <td>Shelley, Mrs. William (Imanita Parrish Hall)</td>\n",
       "      <td>female</td>\n",
       "      <td>25.0</td>\n",
       "      <td>0</td>\n",
       "      <td>1</td>\n",
       "      <td>230433</td>\n",
       "      <td>26.0000</td>\n",
       "      <td>NaN</td>\n",
       "      <td>S</td>\n",
       "    </tr>\n",
       "    <tr>\n",
       "      <th>887</th>\n",
       "      <td>888</td>\n",
       "      <td>1</td>\n",
       "      <td>1</td>\n",
       "      <td>Graham, Miss. Margaret Edith</td>\n",
       "      <td>female</td>\n",
       "      <td>19.0</td>\n",
       "      <td>0</td>\n",
       "      <td>0</td>\n",
       "      <td>112053</td>\n",
       "      <td>30.0000</td>\n",
       "      <td>B42</td>\n",
       "      <td>S</td>\n",
       "    </tr>\n",
       "    <tr>\n",
       "      <th>889</th>\n",
       "      <td>890</td>\n",
       "      <td>1</td>\n",
       "      <td>1</td>\n",
       "      <td>Behr, Mr. Karl Howell</td>\n",
       "      <td>male</td>\n",
       "      <td>26.0</td>\n",
       "      <td>0</td>\n",
       "      <td>0</td>\n",
       "      <td>111369</td>\n",
       "      <td>30.0000</td>\n",
       "      <td>C148</td>\n",
       "      <td>C</td>\n",
       "    </tr>\n",
       "  </tbody>\n",
       "</table>\n",
       "<p>342 rows × 12 columns</p>\n",
       "</div>"
      ],
      "text/plain": [
       "     PassengerId  Survived  Pclass  \\\n",
       "1              2         1       1   \n",
       "2              3         1       3   \n",
       "3              4         1       1   \n",
       "8              9         1       3   \n",
       "9             10         1       2   \n",
       "..           ...       ...     ...   \n",
       "875          876         1       3   \n",
       "879          880         1       1   \n",
       "880          881         1       2   \n",
       "887          888         1       1   \n",
       "889          890         1       1   \n",
       "\n",
       "                                                  Name     Sex   Age  SibSp  \\\n",
       "1    Cumings, Mrs. John Bradley (Florence Briggs Th...  female  38.0      1   \n",
       "2                               Heikkinen, Miss. Laina  female  26.0      0   \n",
       "3         Futrelle, Mrs. Jacques Heath (Lily May Peel)  female  35.0      1   \n",
       "8    Johnson, Mrs. Oscar W (Elisabeth Vilhelmina Berg)  female  27.0      0   \n",
       "9                  Nasser, Mrs. Nicholas (Adele Achem)  female  14.0      1   \n",
       "..                                                 ...     ...   ...    ...   \n",
       "875                   Najib, Miss. Adele Kiamie \"Jane\"  female  15.0      0   \n",
       "879      Potter, Mrs. Thomas Jr (Lily Alexenia Wilson)  female  56.0      0   \n",
       "880       Shelley, Mrs. William (Imanita Parrish Hall)  female  25.0      0   \n",
       "887                       Graham, Miss. Margaret Edith  female  19.0      0   \n",
       "889                              Behr, Mr. Karl Howell    male  26.0      0   \n",
       "\n",
       "     Parch            Ticket     Fare Cabin Embarked  \n",
       "1        0          PC 17599  71.2833   C85        C  \n",
       "2        0  STON/O2. 3101282   7.9250   NaN        S  \n",
       "3        0            113803  53.1000  C123        S  \n",
       "8        2            347742  11.1333   NaN        S  \n",
       "9        0            237736  30.0708   NaN        C  \n",
       "..     ...               ...      ...   ...      ...  \n",
       "875      0              2667   7.2250   NaN        C  \n",
       "879      1             11767  83.1583   C50        C  \n",
       "880      1            230433  26.0000   NaN        S  \n",
       "887      0            112053  30.0000   B42        S  \n",
       "889      0            111369  30.0000  C148        C  \n",
       "\n",
       "[342 rows x 12 columns]"
      ]
     },
     "execution_count": 23,
     "metadata": {},
     "output_type": "execute_result"
    }
   ],
   "source": [
    "train[(train[\"Survived\"]==1)]"
   ]
  },
  {
   "cell_type": "code",
   "execution_count": 6,
   "id": "6737274a",
   "metadata": {},
   "outputs": [],
   "source": [
    "import seaborn as sns"
   ]
  },
  {
   "cell_type": "code",
   "execution_count": 26,
   "id": "3417fa44",
   "metadata": {},
   "outputs": [
    {
     "data": {
      "text/plain": [
       "<Axes: ylabel='count'>"
      ]
     },
     "execution_count": 26,
     "metadata": {},
     "output_type": "execute_result"
    },
    {
     "data": {
      "image/png": "[encoded data removed]",
      "text/plain": [
       "<Figure size 640x480 with 1 Axes>"
      ]
     },
     "metadata": {},
     "output_type": "display_data"
    }
   ],
   "source": [
    "sns.countplot(train[\"Survived\"])"
   ]
  },
  {
   "cell_type": "code",
   "execution_count": 29,
   "id": "4ba1d0f4",
   "metadata": {},
   "outputs": [
    {
     "data": {
      "text/plain": [
       "<Axes: xlabel='Survived'>"
      ]
     },
     "execution_count": 29,
     "metadata": {},
     "output_type": "execute_result"
    },
    {
     "data": {
      "image/png": "[encoded data removed]",
      "text/plain": [
       "<Figure size 640x480 with 1 Axes>"
      ]
     },
     "metadata": {},
     "output_type": "display_data"
    }
   ],
   "source": [
    "train.Survived.value_counts().plot(kind=\"bar\",color=\"red\")\n",
    "train.Survived.value_counts().plot(kind=\"bar\",color=\"red\")\n"
   ]
  },
  {
   "cell_type": "code",
   "execution_count": 35,
   "id": "8b237ba5",
   "metadata": {},
   "outputs": [
    {
     "data": {
      "text/plain": [
       "<Axes: ylabel='count'>"
      ]
     },
     "execution_count": 35,
     "metadata": {},
     "output_type": "execute_result"
    },
    {
     "data": {
      "image/png": "[encoded data removed]",
      "text/plain": [
       "<Figure size 640x480 with 1 Axes>"
      ]
     },
     "metadata": {},
     "output_type": "display_data"
    }
   ],
   "source": [
    "sns.countplot(train[\"Survived\"])"
   ]
  },
  {
   "cell_type": "code",
   "execution_count": 30,
   "id": "264881c9",
   "metadata": {},
   "outputs": [
    {
     "data": {
      "text/plain": [
       "<Axes: xlabel='Pclass'>"
      ]
     },
     "execution_count": 30,
     "metadata": {},
     "output_type": "execute_result"
    },
    {
     "data": {
      "image/png": "[encoded data removed]",
      "text/plain": [
       "<Figure size 640x480 with 1 Axes>"
      ]
     },
     "metadata": {},
     "output_type": "display_data"
    }
   ],
   "source": [
    "train.Pclass.value_counts().plot(kind=\"bar\",color=\"red\")"
   ]
  },
  {
   "cell_type": "code",
   "execution_count": null,
   "id": "b93946fe",
   "metadata": {},
   "outputs": [],
   "source": [
    "import mat"
   ]
  },
  {
   "cell_type": "code",
   "execution_count": 33,
   "id": "e8c7fd75",
   "metadata": {},
   "outputs": [
    {
     "data": {
      "text/plain": [
       "<Axes: ylabel='count'>"
      ]
     },
     "execution_count": 33,
     "metadata": {},
     "output_type": "execute_result"
    },
    {
     "data": {
      "image/png": "[encoded data removed]",
      "text/plain": [
       "<Figure size 640x480 with 1 Axes>"
      ]
     },
     "metadata": {},
     "output_type": "display_data"
    }
   ],
   "source": [
    "train.Pclass.value_counts().plot(kind='pie',autopct='%.2f')"
   ]
  },
  {
   "cell_type": "code",
   "execution_count": 34,
   "id": "4cc60932",
   "metadata": {},
   "outputs": [],
   "source": [
    "import matplotlib. pyplot as plt"
   ]
  },
  {
   "cell_type": "code",
   "execution_count": 38,
   "id": "6c791f9b",
   "metadata": {},
   "outputs": [
    {
     "data": {
      "text/plain": [
       "(array([100., 346., 188.,  69.,  11.]),\n",
       " array([ 0.42 , 16.336, 32.252, 48.168, 64.084, 80.   ]),\n",
       " <BarContainer object of 5 artists>)"
      ]
     },
     "execution_count": 38,
     "metadata": {},
     "output_type": "execute_result"
    },
    {
     "data": {
      "image/png": "[encoded data removed]",
      "text/plain": [
       "<Figure size 640x480 with 1 Axes>"
      ]
     },
     "metadata": {},
     "output_type": "display_data"
    }
   ],
   "source": [
    "plt.hist(train.Age,bins=5)"
   ]
  },
  {
   "cell_type": "code",
   "execution_count": 40,
   "id": "2e27cff0",
   "metadata": {},
   "outputs": [
    {
     "name": "stderr",
     "output_type": "stream",
     "text": [
      "C:\\Users\\user\\AppData\\Local\\Temp\\ipykernel_840\\2534536325.py:1: UserWarning: \n",
      "\n",
      "`distplot` is a deprecated function and will be removed in seaborn v0.14.0.\n",
      "\n",
      "Please adapt your code to use either `displot` (a figure-level function with\n",
      "similar flexibility) or `histplot` (an axes-level function for histograms).\n",
      "\n",
      "For a guide to updating your code to use the new functions, please see\n",
      "https://gist.github.com/mwaskom/de44147ed2974457ad6372750bbe5751\n",
      "\n",
      "  sns.distplot(train.Age)\n"
     ]
    },
    {
     "data": {
      "text/plain": [
       "<Axes: xlabel='Age', ylabel='Density'>"
      ]
     },
     "execution_count": 40,
     "metadata": {},
     "output_type": "execute_result"
    },
    {
     "data": {
      "image/png": "[encoded data removed]",
      "text/plain": [
       "<Figure size 640x480 with 1 Axes>"
      ]
     },
     "metadata": {},
     "output_type": "display_data"
    }
   ],
   "source": [
    "sns.distplot(train.Age)"
   ]
  },
  {
   "cell_type": "code",
   "execution_count": 42,
   "id": "4af38e99",
   "metadata": {},
   "outputs": [
    {
     "data": {
      "text/plain": [
       "<Axes: >"
      ]
     },
     "execution_count": 42,
     "metadata": {},
     "output_type": "execute_result"
    },
    {
     "data": {
      "image/png": "[encoded data removed]",
      "text/plain": [
       "<Figure size 640x480 with 1 Axes>"
      ]
     },
     "metadata": {},
     "output_type": "display_data"
    }
   ],
   "source": [
    "sns.boxplot(train[\"Age\"])"
   ]
  }
 ],
 "metadata": {
  "kernelspec": {
   "display_name": "Python 3 (ipykernel)",
   "language": "python",
   "name": "python3"
  },
  "language_info": {
   "codemirror_mode": {
    "name": "ipython",
    "version": 3
   },
   "file_extension": ".py",
   "mimetype": "text/x-python",
   "name": "python",
   "nbconvert_exporter": "python",
   "pygments_lexer": "ipython3",
   "version": "3.11.5"
  }
 },
 "nbformat": 4,
 "nbformat_minor": 5
}
