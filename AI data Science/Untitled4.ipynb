{
 "cells": [
  {
   "cell_type": "code",
   "execution_count": 1,
   "id": "ba5221a1",
   "metadata": {},
   "outputs": [],
   "source": [
    "import csv\n",
    "def read_csv(file_name,header= True):\n",
    "    data=list(csv.reader(open(file_name,encoding=\"utf-8\")))\n",
    "    if header== True:\n",
    "        return data[0],data[1:]\n",
    "    else:\n",
    "        return data"
   ]
  },
  {
   "cell_type": "code",
   "execution_count": 2,
   "id": "9c8601e5",
   "metadata": {},
   "outputs": [],
   "source": [
    "header,play_store=read_csv(\"playstore.csv\")"
   ]
  },
  {
   "cell_type": "code",
   "execution_count": 3,
   "id": "f4c2e170",
   "metadata": {},
   "outputs": [],
   "source": [
    "del play_store[10472]"
   ]
  },
  {
   "cell_type": "code",
   "execution_count": 4,
   "id": "e45d7ada",
   "metadata": {},
   "outputs": [],
   "source": [
    "def eng_app(app_name):\n",
    "    non_ascii = 0\n",
    "    for i in app_name:\n",
    "        ordi = ord(i)\n",
    "        if ordi > 127:\n",
    "            non_ascii += 1\n",
    "    if non_ascii>3:\n",
    "        return False\n",
    "    else:\n",
    "        return True\n",
    "    "
   ]
  },
  {
   "cell_type": "code",
   "execution_count": 5,
   "id": "59647013",
   "metadata": {},
   "outputs": [
    {
     "data": {
      "text/plain": [
       "10039"
      ]
     },
     "execution_count": 5,
     "metadata": {},
     "output_type": "execute_result"
    }
   ],
   "source": [
    "len(free_app)"
   ]
  },
  {
   "cell_type": "code",
   "execution_count": 7,
   "id": "f5a858ef",
   "metadata": {},
   "outputs": [
    {
     "ename": "IndentationError",
     "evalue": "unindent does not match any outer indentation level (<tokenize>, line 8)",
     "output_type": "error",
     "traceback": [
      "\u001b[1;36m  File \u001b[1;32m<tokenize>:8\u001b[1;36m\u001b[0m\n\u001b[1;33m    else:\u001b[0m\n\u001b[1;37m    ^\u001b[0m\n\u001b[1;31mIndentationError\u001b[0m\u001b[1;31m:\u001b[0m unindent does not match any outer indentation level\n"
     ]
    }
   ],
   "source": [
    "def eng_value(data):\n",
    "    non_ascii = 0\n",
    "    for i in data:\n",
    "        if ord(i) > 127:\n",
    "            non_ascii += 1\n",
    "    if non_ascii > 3:\n",
    "        return False\n",
    "     else:\n",
    "        return True\n"
   ]
  },
  {
   "cell_type": "code",
   "execution_count": null,
   "id": "652e066d",
   "metadata": {},
   "outputs": [],
   "source": [
    "english_data= []\n",
    "for i in free_app:\n",
    "    app=i[0]\n",
    "    if eng_value(app):\n",
    "        english_data.append(i)\n"
   ]
  },
  {
   "cell_type": "code",
   "execution_count": null,
   "id": "deaca9b6",
   "metadata": {},
   "outputs": [],
   "source": [
    "len(english_data)"
   ]
  },
  {
   "cell_type": "code",
   "execution_count": 8,
   "id": "26bc7875",
   "metadata": {},
   "outputs": [],
   "source": [
    "def eng_app(app_name):\n",
    "    non_ascii = 0\n",
    "    for i in app_name:\n",
    "        ordi = ord(i)\n",
    "        if ordi > 127:\n",
    "            non_ascii += 1\n",
    "    if non_ascii>3:\n",
    "        return False\n",
    "    else:\n",
    "        return True\n",
    "    "
   ]
  },
  {
   "cell_type": "code",
   "execution_count": 10,
   "id": "1ef2e379",
   "metadata": {},
   "outputs": [],
   "source": [
    "name_0=\"facebook\""
   ]
  },
  {
   "cell_type": "code",
   "execution_count": 11,
   "id": "f82764bc",
   "metadata": {},
   "outputs": [
    {
     "data": {
      "text/plain": [
       "True"
      ]
     },
     "execution_count": 11,
     "metadata": {},
     "output_type": "execute_result"
    }
   ],
   "source": [
    "eng_app(name_0)"
   ]
  },
  {
   "cell_type": "code",
   "execution_count": 12,
   "id": "8dd0feb1",
   "metadata": {},
   "outputs": [],
   "source": [
    "english_data= []\n",
    "for i in free_app:\n",
    "    app=i[0]\n",
    "    if eng_app(app):\n",
    "        english_data.append(i)\n"
   ]
  },
  {
   "cell_type": "code",
   "execution_count": 13,
   "id": "13697b40",
   "metadata": {},
   "outputs": [
    {
     "data": {
      "text/plain": [
       "9998"
      ]
     },
     "execution_count": 13,
     "metadata": {},
     "output_type": "execute_result"
    }
   ],
   "source": [
    "len(english_data)"
   ]
  },
  {
   "cell_type": "code",
   "execution_count": 24,
   "id": "e39ecb4e",
   "metadata": {},
   "outputs": [],
   "source": [
    "unique_app= []\n",
    "duplicate_app=[]\n",
    "for i in english_data:\n",
    "        app= i[0]\n",
    "        if app not in unique_app:\n",
    "            unique_app.append(app)\n",
    "        else:\n",
    "            duplicate_app.append(app)"
   ]
  },
  {
   "cell_type": "code",
   "execution_count": 25,
   "id": "c6e11762",
   "metadata": {},
   "outputs": [
    {
     "data": {
      "text/plain": [
       "1135"
      ]
     },
     "execution_count": 25,
     "metadata": {},
     "output_type": "execute_result"
    }
   ],
   "source": [
    "len(duplicate_app)"
   ]
  },
  {
   "cell_type": "code",
   "execution_count": 22,
   "id": "636fe022",
   "metadata": {},
   "outputs": [],
   "source": [
    "unique_apps = []\n",
    "duplicate_apps = []\n",
    "\n",
    "for i in english_data:\n",
    "    app_name = i[0]\n",
    "    if app_name not in unique_apps:\n",
    "        unique_apps.append(app_name)\n",
    "    else:\n",
    "        duplicate_apps.append(app_name)"
   ]
  },
  {
   "cell_type": "code",
   "execution_count": 23,
   "id": "78c88d42",
   "metadata": {},
   "outputs": [
    {
     "data": {
      "text/plain": [
       "1135"
      ]
     },
     "execution_count": 23,
     "metadata": {},
     "output_type": "execute_result"
    }
   ],
   "source": [
    "len(duplicate_apps)"
   ]
  },
  {
   "cell_type": "code",
   "execution_count": 28,
   "id": "400f1bb7",
   "metadata": {},
   "outputs": [],
   "source": [
    "Review_max={}\n",
    "for i in english_data:\n",
    "    app= i[0]\n",
    "    reviews= int(i[3])\n",
    "    if app not in Review_max:\n",
    "        Review_max[app]=reviews\n",
    "    elif app in Review_max and Review_max[app] < reviews:\n",
    "        Review_max[app]=reviews"
   ]
  },
  {
   "cell_type": "code",
   "execution_count": 31,
   "id": "70f8df01",
   "metadata": {},
   "outputs": [
    {
     "data": {
      "text/plain": [
       "159872"
      ]
     },
     "execution_count": 31,
     "metadata": {},
     "output_type": "execute_result"
    }
   ],
   "source": [
    "Review_max[\"Box\"]"
   ]
  },
  {
   "cell_type": "code",
   "execution_count": 35,
   "id": "94e0ed5a",
   "metadata": {},
   "outputs": [],
   "source": [
    "anroid_list=[]\n",
    "rest_data=[]\n",
    "for i in english_data:\n",
    "    app=i[0]\n",
    "    review =i[3]\n",
    "    if Review_max[app]==review and app not in rest_data:\n",
    "        anroid_list.append(i)\n",
    "        rest_data.append(app)\n",
    "        "
   ]
  },
  {
   "cell_type": "code",
   "execution_count": 36,
   "id": "e513d6ea",
   "metadata": {},
   "outputs": [
    {
     "data": {
      "text/plain": [
       "0"
      ]
     },
     "execution_count": 36,
     "metadata": {},
     "output_type": "execute_result"
    }
   ],
   "source": [
    "len(anroid_list)"
   ]
  },
  {
   "cell_type": "code",
   "execution_count": null,
   "id": "85ad7140",
   "metadata": {},
   "outputs": [],
   "source": [
    "android_clean = [] #  complete row will added \n",
    "added_apps_name = [] # app name will be added\n",
    "\n",
    "for row in eng_data:\n",
    "    app_name = row[0] # Box\n",
    "    n_reviews = int(row[3]) # 159872\n",
    "         # True                    and   False\n",
    "    if reviews_max[app_name] == n_reviews and app_name not in added_apps_name:\n",
    "        android_clean.append(row)\n",
    "        added_apps_name.append(app_name)"
   ]
  }
 ],
 "metadata": {
  "kernelspec": {
   "display_name": "Python 3 (ipykernel)",
   "language": "python",
   "name": "python3"
  },
  "language_info": {
   "codemirror_mode": {
    "name": "ipython",
    "version": 3
   },
   "file_extension": ".py",
   "mimetype": "text/x-python",
   "name": "python",
   "nbconvert_exporter": "python",
   "pygments_lexer": "ipython3",
   "version": "3.11.5"
  }
 },
 "nbformat": 4,
 "nbformat_minor": 5
}
