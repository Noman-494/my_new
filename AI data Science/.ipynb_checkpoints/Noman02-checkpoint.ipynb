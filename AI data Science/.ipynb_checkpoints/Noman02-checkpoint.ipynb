{
 "cells": [
  {
   "cell_type": "code",
   "execution_count": 1,
   "id": "88e8ad80",
   "metadata": {},
   "outputs": [],
   "source": [
    "import pandas as pd"
   ]
  },
  {
   "cell_type": "code",
   "execution_count": 2,
   "id": "c708297d",
   "metadata": {},
   "outputs": [],
   "source": [
    "import csv"
   ]
  },
  {
   "cell_type": "markdown",
   "id": "802ca0fe",
   "metadata": {},
   "source": [
    "### Allegheny County Employee Salaries firstly we have to find out how many employees are working each department and this can easily be extracted through pandas through value counts methods"
   ]
  },
  {
   "cell_type": "code",
   "execution_count": 3,
   "id": "38379585",
   "metadata": {},
   "outputs": [],
   "source": [
    "salary_pd=pd.read_csv(\"redacted-2022-december-31-wprdc.csv\")"
   ]
  },
  {
   "cell_type": "code",
   "execution_count": 4,
   "id": "aed6a944",
   "metadata": {
    "scrolled": true
   },
   "outputs": [
    {
     "data": {
      "text/html": [
       "<div>\n",
       "<style scoped>\n",
       "    .dataframe tbody tr th:only-of-type {\n",
       "        vertical-align: middle;\n",
       "    }\n",
       "\n",
       "    .dataframe tbody tr th {\n",
       "        vertical-align: top;\n",
       "    }\n",
       "\n",
       "    .dataframe thead th {\n",
       "        text-align: right;\n",
       "    }\n",
       "</style>\n",
       "<table border=\"1\" class=\"dataframe\">\n",
       "  <thead>\n",
       "    <tr style=\"text-align: right;\">\n",
       "      <th></th>\n",
       "      <th>FIRST_NAME</th>\n",
       "      <th>LAST_NAME</th>\n",
       "      <th>Combo Name</th>\n",
       "      <th>DEPARTMENT</th>\n",
       "      <th>JOB_TITLE</th>\n",
       "      <th>ELECTED_OFFICIAL</th>\n",
       "      <th>DATE_STARTED</th>\n",
       "      <th>SEX</th>\n",
       "      <th>ETHNICITY</th>\n",
       "      <th>ORIG_START</th>\n",
       "      <th>DATE_TERM</th>\n",
       "      <th>PAY_STATUS</th>\n",
       "      <th>ANNUAL_SALARY</th>\n",
       "      <th>REGULAR_PAY</th>\n",
       "      <th>OVERTIME_PAY</th>\n",
       "      <th>INCENTIVE_PAY</th>\n",
       "      <th>GROSS_PAY</th>\n",
       "      <th>Unnamed: 17</th>\n",
       "    </tr>\n",
       "  </thead>\n",
       "  <tbody>\n",
       "    <tr>\n",
       "      <th>0</th>\n",
       "      <td>CATHERINE</td>\n",
       "      <td>ABALO</td>\n",
       "      <td>ABALO, CATHERINE</td>\n",
       "      <td>Kane Regional Centers</td>\n",
       "      <td>NURSING ASSISTANT</td>\n",
       "      <td>0</td>\n",
       "      <td>4/8/2010</td>\n",
       "      <td>F</td>\n",
       "      <td>Black</td>\n",
       "      <td>7/6/2009</td>\n",
       "      <td>NaN</td>\n",
       "      <td>Active</td>\n",
       "      <td>41,581.07</td>\n",
       "      <td>40,740.50</td>\n",
       "      <td>23,416.98</td>\n",
       "      <td>125.00</td>\n",
       "      <td>64,282.48</td>\n",
       "      <td>NaN</td>\n",
       "    </tr>\n",
       "    <tr>\n",
       "      <th>1</th>\n",
       "      <td>KEVIN J</td>\n",
       "      <td>ABBOTT</td>\n",
       "      <td>ABBOTT, KEVIN J</td>\n",
       "      <td>Emergency Management</td>\n",
       "      <td>FIRE INSTRUCTOR - PART TIME</td>\n",
       "      <td>0</td>\n",
       "      <td>6/11/2018</td>\n",
       "      <td>M</td>\n",
       "      <td>White (Not of Hispanic Origin)</td>\n",
       "      <td>6/11/2018</td>\n",
       "      <td>NaN</td>\n",
       "      <td>Active</td>\n",
       "      <td>30,576.00</td>\n",
       "      <td>378.00</td>\n",
       "      <td>-</td>\n",
       "      <td>-</td>\n",
       "      <td>378.00</td>\n",
       "      <td>NaN</td>\n",
       "    </tr>\n",
       "    <tr>\n",
       "      <th>2</th>\n",
       "      <td>JOY M</td>\n",
       "      <td>ABBOTT</td>\n",
       "      <td>ABBOTT, JOY M</td>\n",
       "      <td>Kane Regional Centers</td>\n",
       "      <td>COOK</td>\n",
       "      <td>0</td>\n",
       "      <td>2/14/1999</td>\n",
       "      <td>F</td>\n",
       "      <td>White (Not of Hispanic Origin)</td>\n",
       "      <td>2/2/1998</td>\n",
       "      <td>NaN</td>\n",
       "      <td>Active</td>\n",
       "      <td>40,761.76</td>\n",
       "      <td>44,015.85</td>\n",
       "      <td>1,923.77</td>\n",
       "      <td>225.00</td>\n",
       "      <td>46,164.62</td>\n",
       "      <td>NaN</td>\n",
       "    </tr>\n",
       "    <tr>\n",
       "      <th>3</th>\n",
       "      <td>ELIZABETH S</td>\n",
       "      <td>ABRAHAM</td>\n",
       "      <td>ABRAHAM, ELIZABETH S</td>\n",
       "      <td>Parks</td>\n",
       "      <td>SEASONAL AIDE</td>\n",
       "      <td>0</td>\n",
       "      <td>5/26/2022</td>\n",
       "      <td>F</td>\n",
       "      <td>White (Not of Hispanic Origin)</td>\n",
       "      <td>5/26/2022</td>\n",
       "      <td>9/5/2022</td>\n",
       "      <td>Terminated</td>\n",
       "      <td>39,936.00</td>\n",
       "      <td>6,488.00</td>\n",
       "      <td>-</td>\n",
       "      <td>100.00</td>\n",
       "      <td>6,588.00</td>\n",
       "      <td>NaN</td>\n",
       "    </tr>\n",
       "    <tr>\n",
       "      <th>4</th>\n",
       "      <td>JASMINE</td>\n",
       "      <td>ABRAM</td>\n",
       "      <td>ABRAM, JASMINE</td>\n",
       "      <td>Emergency Management</td>\n",
       "      <td>TELECOMMUNICATION OFFICER</td>\n",
       "      <td>0</td>\n",
       "      <td>5/23/2022</td>\n",
       "      <td>F</td>\n",
       "      <td>Black</td>\n",
       "      <td>5/31/2016</td>\n",
       "      <td>NaN</td>\n",
       "      <td>Active</td>\n",
       "      <td>52,240.03</td>\n",
       "      <td>25,637.96</td>\n",
       "      <td>15,994.95</td>\n",
       "      <td>125.00</td>\n",
       "      <td>41,757.91</td>\n",
       "      <td>NaN</td>\n",
       "    </tr>\n",
       "  </tbody>\n",
       "</table>\n",
       "</div>"
      ],
      "text/plain": [
       "    FIRST_NAME LAST_NAME            Combo Name             DEPARTMENT  \\\n",
       "0    CATHERINE     ABALO      ABALO, CATHERINE  Kane Regional Centers   \n",
       "1      KEVIN J    ABBOTT       ABBOTT, KEVIN J   Emergency Management   \n",
       "2        JOY M    ABBOTT         ABBOTT, JOY M  Kane Regional Centers   \n",
       "3  ELIZABETH S   ABRAHAM  ABRAHAM, ELIZABETH S                  Parks   \n",
       "4      JASMINE     ABRAM        ABRAM, JASMINE   Emergency Management   \n",
       "\n",
       "                     JOB_TITLE  ELECTED_OFFICIAL DATE_STARTED SEX  \\\n",
       "0            NURSING ASSISTANT                 0     4/8/2010   F   \n",
       "1  FIRE INSTRUCTOR - PART TIME                 0    6/11/2018   M   \n",
       "2                         COOK                 0    2/14/1999   F   \n",
       "3                SEASONAL AIDE                 0    5/26/2022   F   \n",
       "4    TELECOMMUNICATION OFFICER                 0    5/23/2022   F   \n",
       "\n",
       "                        ETHNICITY ORIG_START DATE_TERM  PAY_STATUS  \\\n",
       "0                           Black   7/6/2009       NaN      Active   \n",
       "1  White (Not of Hispanic Origin)  6/11/2018       NaN      Active   \n",
       "2  White (Not of Hispanic Origin)   2/2/1998       NaN      Active   \n",
       "3  White (Not of Hispanic Origin)  5/26/2022  9/5/2022  Terminated   \n",
       "4                           Black  5/31/2016       NaN      Active   \n",
       "\n",
       "   ANNUAL_SALARY   REGULAR_PAY   OVERTIME_PAY   INCENTIVE_PAY    GROSS_PAY   \\\n",
       "0      41,581.07     40,740.50      23,416.98          125.00    64,282.48    \n",
       "1      30,576.00        378.00            -               -         378.00    \n",
       "2      40,761.76     44,015.85       1,923.77          225.00    46,164.62    \n",
       "3      39,936.00      6,488.00            -            100.00     6,588.00    \n",
       "4      52,240.03     25,637.96      15,994.95          125.00    41,757.91    \n",
       "\n",
       "  Unnamed: 17  \n",
       "0         NaN  \n",
       "1         NaN  \n",
       "2         NaN  \n",
       "3         NaN  \n",
       "4         NaN  "
      ]
     },
     "execution_count": 4,
     "metadata": {},
     "output_type": "execute_result"
    }
   ],
   "source": [
    "salary_pd.head()"
   ]
  },
  {
   "cell_type": "code",
   "execution_count": 5,
   "id": "fd7b4873",
   "metadata": {},
   "outputs": [
    {
     "name": "stdout",
     "output_type": "stream",
     "text": [
      "<class 'pandas.core.frame.DataFrame'>\n",
      "RangeIndex: 6280 entries, 0 to 6279\n",
      "Data columns (total 18 columns):\n",
      " #   Column            Non-Null Count  Dtype \n",
      "---  ------            --------------  ----- \n",
      " 0   FIRST_NAME        6280 non-null   object\n",
      " 1   LAST_NAME         6280 non-null   object\n",
      " 2   Combo Name        6280 non-null   object\n",
      " 3   DEPARTMENT        6280 non-null   object\n",
      " 4   JOB_TITLE         6280 non-null   object\n",
      " 5   ELECTED_OFFICIAL  6280 non-null   int64 \n",
      " 6   DATE_STARTED      6280 non-null   object\n",
      " 7   SEX               6280 non-null   object\n",
      " 8   ETHNICITY         6280 non-null   object\n",
      " 9   ORIG_START        6280 non-null   object\n",
      " 10  DATE_TERM         1263 non-null   object\n",
      " 11  PAY_STATUS        6280 non-null   object\n",
      " 12   ANNUAL_SALARY    6280 non-null   object\n",
      " 13   REGULAR_PAY      6280 non-null   object\n",
      " 14   OVERTIME_PAY     6280 non-null   object\n",
      " 15   INCENTIVE_PAY    6280 non-null   object\n",
      " 16   GROSS_PAY        6280 non-null   object\n",
      " 17  Unnamed: 17       1 non-null      object\n",
      "dtypes: int64(1), object(17)\n",
      "memory usage: 883.3+ KB\n"
     ]
    }
   ],
   "source": [
    "salary_pd.info()"
   ]
  },
  {
   "cell_type": "code",
   "execution_count": 6,
   "id": "d7f1309f",
   "metadata": {},
   "outputs": [],
   "source": [
    "with open(\"redacted-2022-december-31-wprdc.csv\") as f:\n",
    "    salary=list(csv.reader(f))\n",
    "    header=salary[0]\n",
    "    salary=salary[1:]"
   ]
  },
  {
   "cell_type": "code",
   "execution_count": 7,
   "id": "2d1f3e87",
   "metadata": {},
   "outputs": [
    {
     "data": {
      "text/plain": [
       "DEPARTMENT\n",
       "Human Services             935\n",
       "Kane Regional Centers      814\n",
       "Parks                      732\n",
       "Jail                       635\n",
       "Emergency Management       404\n",
       "Health                     401\n",
       "Police                     298\n",
       "District Attorney          266\n",
       "Public Works Operating     240\n",
       "Facilities Management      230\n",
       "Administrative Services    217\n",
       "Sheriff                    210\n",
       "Public Defender            162\n",
       "Court Records              122\n",
       "Information Technology     115\n",
       "Medical Examiner           105\n",
       "Controller                  92\n",
       "Treasurer                   79\n",
       "Economic Development        78\n",
       "County Solicitor            57\n",
       "Human Resources             27\n",
       "County Manager              20\n",
       "Budget & Finance             9\n",
       "Equity and Inclusion         9\n",
       "County Council               7\n",
       "Children Initiatives         7\n",
       "Retirement System            4\n",
       "Sustainability               3\n",
       "County Executive             2\n",
       "Name: count, dtype: int64"
      ]
     },
     "execution_count": 7,
     "metadata": {},
     "output_type": "execute_result"
    }
   ],
   "source": [
    "salary_pd[\"DEPARTMENT\"].value_counts()"
   ]
  },
  {
   "cell_type": "code",
   "execution_count": 8,
   "id": "6943125a",
   "metadata": {},
   "outputs": [],
   "source": [
    "##Now we have to identify the how many job titile are under our data set."
   ]
  },
  {
   "cell_type": "code",
   "execution_count": 9,
   "id": "4781d13d",
   "metadata": {},
   "outputs": [
    {
     "data": {
      "text/plain": [
       "JOB_TITLE\n",
       "SEASONAL AIDE                     552\n",
       "CORRECTIONAL OFFICER              406\n",
       "TELECOMMUNICATION OFFICER         314\n",
       "LABORER                           195\n",
       "POLICE OFFICER                    173\n",
       "NURSING ASSISTANT                 153\n",
       "DEPUTY SHERIFF                    149\n",
       "CASEWORKER SUPERVISOR              95\n",
       "CASEWORKER - CYF (lng Step)        79\n",
       "SERGEANT                           76\n",
       "STUDENT INTERN                     67\n",
       "LICENSED PRACTICAL NURSE           64\n",
       "BUILDING GUARD                     62\n",
       "CASEWORKER 5 - 10 - CYF            60\n",
       "ATTORNEY 4                         59\n",
       "CASEWORKER S - 3 - CYF             59\n",
       "ADMINISTRATIVE ASSISTANT           56\n",
       "CASEWORKER - CYF                   55\n",
       "DRIVER 002 WITH CDL                53\n",
       "RN RESIDENT CARE COORDINATOR       53\n",
       "ASSISTANT COUNTY SOLICITOR         47\n",
       "CUSTODIAL WORKER                   44\n",
       "CLERK 5                            42\n",
       "ATTORNEY 3                         42\n",
       "SCIENTIST                          40\n",
       "CLERK TYPIST 12 YEAR               37\n",
       "HOUSEKEEPER/START 2013             37\n",
       "CLERK TYPIST 1                     36\n",
       "TRIAL DEFENDER 4                   35\n",
       "PROJECT MANAGER                    34\n",
       "CHILD WELFARE AIDE                 34\n",
       "CASEWORKER 3 - 5 - CYF             33\n",
       "NURSING ASSISTANT/PROB 2017        32\n",
       "FOOD SERVICE WORKER/START 2013     29\n",
       "TRIAL DEFENDER                     29\n",
       "REGISTERED NURSE                   29\n",
       "CASEWORKER - AGING (Lng Step)      26\n",
       "HOUSEKEEPER                        25\n",
       "CARPENTER                          24\n",
       "FOOD SERVICE WORKER                23\n",
       "LEGAL SECRETARY                    23\n",
       "DETECTIVE                          22\n",
       "COOK                               22\n",
       "PUBLIC HEALTH NURSE                22\n",
       "NURSING ASSISTANT/2019 Hire        20\n",
       "DEPUTY DISTRICT ATTORNEY           19\n",
       "ASSISTANT DIRECTOR NURSING         19\n",
       "POLICE OFFICER - 11 to 20 MOS      19\n",
       "PUBLIC HEALTH ADMINISTRATOR        18\n",
       "PARALEGAL                          18\n",
       "Name: count, dtype: int64"
      ]
     },
     "execution_count": 9,
     "metadata": {},
     "output_type": "execute_result"
    }
   ],
   "source": [
    "salary_pd[\"JOB_TITLE\"].value_counts().head(50)"
   ]
  },
  {
   "cell_type": "code",
   "execution_count": 10,
   "id": "ca79b961",
   "metadata": {},
   "outputs": [
    {
     "data": {
      "text/plain": [
       "PAY_STATUS\n",
       "Active        5017\n",
       "Terminated    1263\n",
       "Name: count, dtype: int64"
      ]
     },
     "execution_count": 10,
     "metadata": {},
     "output_type": "execute_result"
    }
   ],
   "source": [
    "salary_pd[\"PAY_STATUS\"].value_counts()"
   ]
  },
  {
   "cell_type": "markdown",
   "id": "aadd34ec",
   "metadata": {},
   "source": [
    "## so we have 5017 employee active so will work on active employee now we require how many employee are male and female in active status and who is highest payer gross salary and highest payer in male and female and what is the highest paying department."
   ]
  },
  {
   "cell_type": "code",
   "execution_count": 11,
   "id": "f0d8ef5f",
   "metadata": {},
   "outputs": [
    {
     "data": {
      "text/plain": [
       "0        True\n",
       "1        True\n",
       "2        True\n",
       "3       False\n",
       "4        True\n",
       "        ...  \n",
       "6275     True\n",
       "6276     True\n",
       "6277     True\n",
       "6278     True\n",
       "6279     True\n",
       "Name: PAY_STATUS, Length: 6280, dtype: bool"
      ]
     },
     "execution_count": 11,
     "metadata": {},
     "output_type": "execute_result"
    }
   ],
   "source": [
    "salary_pd[\"PAY_STATUS\"]==\"Active\"\n"
   ]
  },
  {
   "cell_type": "code",
   "execution_count": 12,
   "id": "6735dd3b",
   "metadata": {},
   "outputs": [],
   "source": [
    "Active=salary_pd.loc[salary_pd[\"PAY_STATUS\"]==\"Active\"]\n"
   ]
  },
  {
   "cell_type": "code",
   "execution_count": 13,
   "id": "bdc9aade",
   "metadata": {},
   "outputs": [
    {
     "data": {
      "text/plain": [
       "SEX\n",
       "M    2620\n",
       "F    2397\n",
       "Name: count, dtype: int64"
      ]
     },
     "execution_count": 13,
     "metadata": {},
     "output_type": "execute_result"
    }
   ],
   "source": [
    "Active[\"SEX\"].value_counts()"
   ]
  },
  {
   "cell_type": "code",
   "execution_count": 14,
   "id": "10ec4457",
   "metadata": {
    "scrolled": true
   },
   "outputs": [
    {
     "ename": "KeyError",
     "evalue": "'ANNUAL_SALARY'",
     "output_type": "error",
     "traceback": [
      "\u001b[1;31m---------------------------------------------------------------------------\u001b[0m",
      "\u001b[1;31mKeyError\u001b[0m                                  Traceback (most recent call last)",
      "File \u001b[1;32m~\\AppData\\Local\\anaconda3\\Lib\\site-packages\\pandas\\core\\indexes\\base.py:3653\u001b[0m, in \u001b[0;36mIndex.get_loc\u001b[1;34m(self, key)\u001b[0m\n\u001b[0;32m   3652\u001b[0m \u001b[38;5;28;01mtry\u001b[39;00m:\n\u001b[1;32m-> 3653\u001b[0m     \u001b[38;5;28;01mreturn\u001b[39;00m \u001b[38;5;28mself\u001b[39m\u001b[38;5;241m.\u001b[39m_engine\u001b[38;5;241m.\u001b[39mget_loc(casted_key)\n\u001b[0;32m   3654\u001b[0m \u001b[38;5;28;01mexcept\u001b[39;00m \u001b[38;5;167;01mKeyError\u001b[39;00m \u001b[38;5;28;01mas\u001b[39;00m err:\n",
      "File \u001b[1;32m~\\AppData\\Local\\anaconda3\\Lib\\site-packages\\pandas\\_libs\\index.pyx:147\u001b[0m, in \u001b[0;36mpandas._libs.index.IndexEngine.get_loc\u001b[1;34m()\u001b[0m\n",
      "File \u001b[1;32m~\\AppData\\Local\\anaconda3\\Lib\\site-packages\\pandas\\_libs\\index.pyx:176\u001b[0m, in \u001b[0;36mpandas._libs.index.IndexEngine.get_loc\u001b[1;34m()\u001b[0m\n",
      "File \u001b[1;32mpandas\\_libs\\hashtable_class_helper.pxi:7080\u001b[0m, in \u001b[0;36mpandas._libs.hashtable.PyObjectHashTable.get_item\u001b[1;34m()\u001b[0m\n",
      "File \u001b[1;32mpandas\\_libs\\hashtable_class_helper.pxi:7088\u001b[0m, in \u001b[0;36mpandas._libs.hashtable.PyObjectHashTable.get_item\u001b[1;34m()\u001b[0m\n",
      "\u001b[1;31mKeyError\u001b[0m: 'ANNUAL_SALARY'",
      "\nThe above exception was the direct cause of the following exception:\n",
      "\u001b[1;31mKeyError\u001b[0m                                  Traceback (most recent call last)",
      "Cell \u001b[1;32mIn[14], line 1\u001b[0m\n\u001b[1;32m----> 1\u001b[0m salary_pd[\u001b[38;5;124m\"\u001b[39m\u001b[38;5;124mANNUAL_SALARY\u001b[39m\u001b[38;5;124m\"\u001b[39m]\n",
      "File \u001b[1;32m~\\AppData\\Local\\anaconda3\\Lib\\site-packages\\pandas\\core\\frame.py:3761\u001b[0m, in \u001b[0;36mDataFrame.__getitem__\u001b[1;34m(self, key)\u001b[0m\n\u001b[0;32m   3759\u001b[0m \u001b[38;5;28;01mif\u001b[39;00m \u001b[38;5;28mself\u001b[39m\u001b[38;5;241m.\u001b[39mcolumns\u001b[38;5;241m.\u001b[39mnlevels \u001b[38;5;241m>\u001b[39m \u001b[38;5;241m1\u001b[39m:\n\u001b[0;32m   3760\u001b[0m     \u001b[38;5;28;01mreturn\u001b[39;00m \u001b[38;5;28mself\u001b[39m\u001b[38;5;241m.\u001b[39m_getitem_multilevel(key)\n\u001b[1;32m-> 3761\u001b[0m indexer \u001b[38;5;241m=\u001b[39m \u001b[38;5;28mself\u001b[39m\u001b[38;5;241m.\u001b[39mcolumns\u001b[38;5;241m.\u001b[39mget_loc(key)\n\u001b[0;32m   3762\u001b[0m \u001b[38;5;28;01mif\u001b[39;00m is_integer(indexer):\n\u001b[0;32m   3763\u001b[0m     indexer \u001b[38;5;241m=\u001b[39m [indexer]\n",
      "File \u001b[1;32m~\\AppData\\Local\\anaconda3\\Lib\\site-packages\\pandas\\core\\indexes\\base.py:3655\u001b[0m, in \u001b[0;36mIndex.get_loc\u001b[1;34m(self, key)\u001b[0m\n\u001b[0;32m   3653\u001b[0m     \u001b[38;5;28;01mreturn\u001b[39;00m \u001b[38;5;28mself\u001b[39m\u001b[38;5;241m.\u001b[39m_engine\u001b[38;5;241m.\u001b[39mget_loc(casted_key)\n\u001b[0;32m   3654\u001b[0m \u001b[38;5;28;01mexcept\u001b[39;00m \u001b[38;5;167;01mKeyError\u001b[39;00m \u001b[38;5;28;01mas\u001b[39;00m err:\n\u001b[1;32m-> 3655\u001b[0m     \u001b[38;5;28;01mraise\u001b[39;00m \u001b[38;5;167;01mKeyError\u001b[39;00m(key) \u001b[38;5;28;01mfrom\u001b[39;00m \u001b[38;5;21;01merr\u001b[39;00m\n\u001b[0;32m   3656\u001b[0m \u001b[38;5;28;01mexcept\u001b[39;00m \u001b[38;5;167;01mTypeError\u001b[39;00m:\n\u001b[0;32m   3657\u001b[0m     \u001b[38;5;66;03m# If we have a listlike key, _check_indexing_error will raise\u001b[39;00m\n\u001b[0;32m   3658\u001b[0m     \u001b[38;5;66;03m#  InvalidIndexError. Otherwise we fall through and re-raise\u001b[39;00m\n\u001b[0;32m   3659\u001b[0m     \u001b[38;5;66;03m#  the TypeError.\u001b[39;00m\n\u001b[0;32m   3660\u001b[0m     \u001b[38;5;28mself\u001b[39m\u001b[38;5;241m.\u001b[39m_check_indexing_error(key)\n",
      "\u001b[1;31mKeyError\u001b[0m: 'ANNUAL_SALARY'"
     ]
    }
   ],
   "source": [
    "salary_pd[\"ANNUAL_SALARY\"]"
   ]
  },
  {
   "cell_type": "code",
   "execution_count": 15,
   "id": "5bc1f3a4",
   "metadata": {},
   "outputs": [
    {
     "name": "stdout",
     "output_type": "stream",
     "text": [
      "Index(['FIRST_NAME', 'LAST_NAME', 'Combo Name', 'DEPARTMENT', 'JOB_TITLE',\n",
      "       'ELECTED_OFFICIAL', 'DATE_STARTED', 'SEX', 'ETHNICITY', 'ORIG_START',\n",
      "       'DATE_TERM', 'PAY_STATUS', ' ANNUAL_SALARY ', ' REGULAR_PAY ',\n",
      "       ' OVERTIME_PAY ', ' INCENTIVE_PAY ', ' GROSS_PAY ', 'Unnamed: 17'],\n",
      "      dtype='object')\n"
     ]
    }
   ],
   "source": [
    "print(salary_pd.columns)"
   ]
  },
  {
   "cell_type": "code",
   "execution_count": 16,
   "id": "0ca70726",
   "metadata": {},
   "outputs": [],
   "source": [
    "salary_pd.columns=salary_pd.columns.str.strip()"
   ]
  },
  {
   "cell_type": "code",
   "execution_count": 17,
   "id": "6b8a56ea",
   "metadata": {},
   "outputs": [],
   "source": [
    "Active.columns=Active.columns.str.strip()"
   ]
  },
  {
   "cell_type": "code",
   "execution_count": 18,
   "id": "ca137507",
   "metadata": {},
   "outputs": [
    {
     "name": "stderr",
     "output_type": "stream",
     "text": [
      "C:\\Users\\user\\AppData\\Local\\Temp\\ipykernel_6356\\1632086882.py:1: SettingWithCopyWarning: \n",
      "A value is trying to be set on a copy of a slice from a DataFrame.\n",
      "Try using .loc[row_indexer,col_indexer] = value instead\n",
      "\n",
      "See the caveats in the documentation: https://pandas.pydata.org/pandas-docs/stable/user_guide/indexing.html#returning-a-view-versus-a-copy\n",
      "  Active[\"GROSS_PAY\"]=Active[\"GROSS_PAY\"].str.replace(',', '').astype(float)\n"
     ]
    }
   ],
   "source": [
    "Active[\"GROSS_PAY\"]=Active[\"GROSS_PAY\"].str.replace(',', '').astype(float)"
   ]
  },
  {
   "cell_type": "code",
   "execution_count": 19,
   "id": "d59bed38",
   "metadata": {},
   "outputs": [
    {
     "data": {
      "text/plain": [
       "Combo Name    ABALO, CATHERINE\n",
       "GROSS_PAY                 63.0\n",
       "SEX                          F\n",
       "dtype: object"
      ]
     },
     "execution_count": 19,
     "metadata": {},
     "output_type": "execute_result"
    }
   ],
   "source": [
    "Active.loc[:,[\"Combo Name\",\"GROSS_PAY\",\"SEX\"]].min()   ## minimum salary "
   ]
  },
  {
   "cell_type": "code",
   "execution_count": 20,
   "id": "3b218afd",
   "metadata": {},
   "outputs": [
    {
     "data": {
      "text/plain": [
       "Combo Name    ZWOLINSKI, STEVEN\n",
       "GROSS_PAY             269356.28\n",
       "SEX                           M\n",
       "dtype: object"
      ]
     },
     "execution_count": 20,
     "metadata": {},
     "output_type": "execute_result"
    }
   ],
   "source": [
    "Active.loc[:,[\"Combo Name\",\"GROSS_PAY\",\"SEX\"]].max()     ## Maximum Salary"
   ]
  },
  {
   "cell_type": "code",
   "execution_count": 21,
   "id": "3466b141",
   "metadata": {},
   "outputs": [
    {
     "data": {
      "text/plain": [
       "59178.42286426151"
      ]
     },
     "execution_count": 21,
     "metadata": {},
     "output_type": "execute_result"
    }
   ],
   "source": [
    "Active.loc[:,[\"Combo Name\",\"GROSS_PAY\",\"SEX\"]][\"GROSS_PAY\"].mean()  ### Average Salary"
   ]
  },
  {
   "cell_type": "code",
   "execution_count": 22,
   "id": "6419b537",
   "metadata": {},
   "outputs": [
    {
     "data": {
      "text/plain": [
       "296898147.51"
      ]
     },
     "execution_count": 22,
     "metadata": {},
     "output_type": "execute_result"
    }
   ],
   "source": [
    "Active[\"GROSS_PAY\"].sum()"
   ]
  },
  {
   "cell_type": "code",
   "execution_count": 23,
   "id": "e60666df",
   "metadata": {},
   "outputs": [
    {
     "data": {
      "text/html": [
       "<div>\n",
       "<style scoped>\n",
       "    .dataframe tbody tr th:only-of-type {\n",
       "        vertical-align: middle;\n",
       "    }\n",
       "\n",
       "    .dataframe tbody tr th {\n",
       "        vertical-align: top;\n",
       "    }\n",
       "\n",
       "    .dataframe thead th {\n",
       "        text-align: right;\n",
       "    }\n",
       "</style>\n",
       "<table border=\"1\" class=\"dataframe\">\n",
       "  <thead>\n",
       "    <tr style=\"text-align: right;\">\n",
       "      <th></th>\n",
       "      <th>GROSS_PAY</th>\n",
       "    </tr>\n",
       "    <tr>\n",
       "      <th>SEX</th>\n",
       "      <th></th>\n",
       "    </tr>\n",
       "  </thead>\n",
       "  <tbody>\n",
       "    <tr>\n",
       "      <th>F</th>\n",
       "      <td>52469.153813</td>\n",
       "    </tr>\n",
       "    <tr>\n",
       "      <th>M</th>\n",
       "      <td>65316.635809</td>\n",
       "    </tr>\n",
       "  </tbody>\n",
       "</table>\n",
       "</div>"
      ],
      "text/plain": [
       "        GROSS_PAY\n",
       "SEX              \n",
       "F    52469.153813\n",
       "M    65316.635809"
      ]
     },
     "execution_count": 23,
     "metadata": {},
     "output_type": "execute_result"
    }
   ],
   "source": [
    "Active.pivot_table(values=\"GROSS_PAY\", index=\"SEX\", aggfunc=\"mean\")"
   ]
  },
  {
   "cell_type": "code",
   "execution_count": 24,
   "id": "982c84b5",
   "metadata": {},
   "outputs": [
    {
     "data": {
      "text/html": [
       "<div>\n",
       "<style scoped>\n",
       "    .dataframe tbody tr th:only-of-type {\n",
       "        vertical-align: middle;\n",
       "    }\n",
       "\n",
       "    .dataframe tbody tr th {\n",
       "        vertical-align: top;\n",
       "    }\n",
       "\n",
       "    .dataframe thead th {\n",
       "        text-align: right;\n",
       "    }\n",
       "</style>\n",
       "<table border=\"1\" class=\"dataframe\">\n",
       "  <thead>\n",
       "    <tr style=\"text-align: right;\">\n",
       "      <th></th>\n",
       "      <th>GROSS_PAY</th>\n",
       "    </tr>\n",
       "    <tr>\n",
       "      <th>DEPARTMENT</th>\n",
       "      <th></th>\n",
       "    </tr>\n",
       "  </thead>\n",
       "  <tbody>\n",
       "    <tr>\n",
       "      <th>Administrative Services</th>\n",
       "      <td>45356.198531</td>\n",
       "    </tr>\n",
       "    <tr>\n",
       "      <th>Budget &amp; Finance</th>\n",
       "      <td>78462.197778</td>\n",
       "    </tr>\n",
       "    <tr>\n",
       "      <th>Children Initiatives</th>\n",
       "      <td>60941.928571</td>\n",
       "    </tr>\n",
       "    <tr>\n",
       "      <th>Controller</th>\n",
       "      <td>57922.996988</td>\n",
       "    </tr>\n",
       "    <tr>\n",
       "      <th>County Council</th>\n",
       "      <td>70300.792500</td>\n",
       "    </tr>\n",
       "    <tr>\n",
       "      <th>County Executive</th>\n",
       "      <td>162126.450000</td>\n",
       "    </tr>\n",
       "    <tr>\n",
       "      <th>County Manager</th>\n",
       "      <td>84574.780588</td>\n",
       "    </tr>\n",
       "    <tr>\n",
       "      <th>County Solicitor</th>\n",
       "      <td>60337.995686</td>\n",
       "    </tr>\n",
       "    <tr>\n",
       "      <th>Court Records</th>\n",
       "      <td>45331.767549</td>\n",
       "    </tr>\n",
       "    <tr>\n",
       "      <th>District Attorney</th>\n",
       "      <td>59858.273667</td>\n",
       "    </tr>\n",
       "    <tr>\n",
       "      <th>Economic Development</th>\n",
       "      <td>50563.250909</td>\n",
       "    </tr>\n",
       "    <tr>\n",
       "      <th>Emergency Management</th>\n",
       "      <td>61007.012102</td>\n",
       "    </tr>\n",
       "    <tr>\n",
       "      <th>Equity and Inclusion</th>\n",
       "      <td>51564.548571</td>\n",
       "    </tr>\n",
       "    <tr>\n",
       "      <th>Facilities Management</th>\n",
       "      <td>52378.975572</td>\n",
       "    </tr>\n",
       "    <tr>\n",
       "      <th>Health</th>\n",
       "      <td>50121.654704</td>\n",
       "    </tr>\n",
       "    <tr>\n",
       "      <th>Human Resources</th>\n",
       "      <td>54789.137500</td>\n",
       "    </tr>\n",
       "    <tr>\n",
       "      <th>Human Services</th>\n",
       "      <td>57747.598257</td>\n",
       "    </tr>\n",
       "    <tr>\n",
       "      <th>Information Technology</th>\n",
       "      <td>63094.134712</td>\n",
       "    </tr>\n",
       "    <tr>\n",
       "      <th>Jail</th>\n",
       "      <td>78324.737065</td>\n",
       "    </tr>\n",
       "    <tr>\n",
       "      <th>Kane Regional Centers</th>\n",
       "      <td>51287.185000</td>\n",
       "    </tr>\n",
       "    <tr>\n",
       "      <th>Medical Examiner</th>\n",
       "      <td>68137.151087</td>\n",
       "    </tr>\n",
       "    <tr>\n",
       "      <th>Parks</th>\n",
       "      <td>24330.253050</td>\n",
       "    </tr>\n",
       "    <tr>\n",
       "      <th>Police</th>\n",
       "      <td>101296.706250</td>\n",
       "    </tr>\n",
       "    <tr>\n",
       "      <th>Public Defender</th>\n",
       "      <td>49761.305071</td>\n",
       "    </tr>\n",
       "    <tr>\n",
       "      <th>Public Works Operating</th>\n",
       "      <td>55024.158380</td>\n",
       "    </tr>\n",
       "    <tr>\n",
       "      <th>Retirement System</th>\n",
       "      <td>63414.320000</td>\n",
       "    </tr>\n",
       "    <tr>\n",
       "      <th>Sheriff</th>\n",
       "      <td>91444.324924</td>\n",
       "    </tr>\n",
       "    <tr>\n",
       "      <th>Sustainability</th>\n",
       "      <td>41460.023333</td>\n",
       "    </tr>\n",
       "    <tr>\n",
       "      <th>Treasurer</th>\n",
       "      <td>49303.322121</td>\n",
       "    </tr>\n",
       "  </tbody>\n",
       "</table>\n",
       "</div>"
      ],
      "text/plain": [
       "                             GROSS_PAY\n",
       "DEPARTMENT                            \n",
       "Administrative Services   45356.198531\n",
       "Budget & Finance          78462.197778\n",
       "Children Initiatives      60941.928571\n",
       "Controller                57922.996988\n",
       "County Council            70300.792500\n",
       "County Executive         162126.450000\n",
       "County Manager            84574.780588\n",
       "County Solicitor          60337.995686\n",
       "Court Records             45331.767549\n",
       "District Attorney         59858.273667\n",
       "Economic Development      50563.250909\n",
       "Emergency Management      61007.012102\n",
       "Equity and Inclusion      51564.548571\n",
       "Facilities Management     52378.975572\n",
       "Health                    50121.654704\n",
       "Human Resources           54789.137500\n",
       "Human Services            57747.598257\n",
       "Information Technology    63094.134712\n",
       "Jail                      78324.737065\n",
       "Kane Regional Centers     51287.185000\n",
       "Medical Examiner          68137.151087\n",
       "Parks                     24330.253050\n",
       "Police                   101296.706250\n",
       "Public Defender           49761.305071\n",
       "Public Works Operating    55024.158380\n",
       "Retirement System         63414.320000\n",
       "Sheriff                   91444.324924\n",
       "Sustainability            41460.023333\n",
       "Treasurer                 49303.322121"
      ]
     },
     "execution_count": 24,
     "metadata": {},
     "output_type": "execute_result"
    }
   ],
   "source": [
    "Active.pivot_table(values=\"GROSS_PAY\", index=\"DEPARTMENT\", aggfunc=\"mean\") ## we can extract max and min salary "
   ]
  },
  {
   "cell_type": "code",
   "execution_count": 25,
   "id": "00b3b9e3",
   "metadata": {},
   "outputs": [
    {
     "data": {
      "text/html": [
       "<div>\n",
       "<style scoped>\n",
       "    .dataframe tbody tr th:only-of-type {\n",
       "        vertical-align: middle;\n",
       "    }\n",
       "\n",
       "    .dataframe tbody tr th {\n",
       "        vertical-align: top;\n",
       "    }\n",
       "\n",
       "    .dataframe thead th {\n",
       "        text-align: right;\n",
       "    }\n",
       "</style>\n",
       "<table border=\"1\" class=\"dataframe\">\n",
       "  <thead>\n",
       "    <tr style=\"text-align: right;\">\n",
       "      <th></th>\n",
       "      <th>GROSS_PAY</th>\n",
       "    </tr>\n",
       "    <tr>\n",
       "      <th>ETHNICITY</th>\n",
       "      <th></th>\n",
       "    </tr>\n",
       "  </thead>\n",
       "  <tbody>\n",
       "    <tr>\n",
       "      <th>American Indian/Alaskan Native</th>\n",
       "      <td>73348.943333</td>\n",
       "    </tr>\n",
       "    <tr>\n",
       "      <th>Asian or Pacific Islander</th>\n",
       "      <td>54114.603051</td>\n",
       "    </tr>\n",
       "    <tr>\n",
       "      <th>Black</th>\n",
       "      <td>56038.215473</td>\n",
       "    </tr>\n",
       "    <tr>\n",
       "      <th>Hispanic</th>\n",
       "      <td>61623.942564</td>\n",
       "    </tr>\n",
       "    <tr>\n",
       "      <th>Two or More Races</th>\n",
       "      <td>52142.180800</td>\n",
       "    </tr>\n",
       "    <tr>\n",
       "      <th>White (Not of Hispanic Origin)</th>\n",
       "      <td>59868.264019</td>\n",
       "    </tr>\n",
       "  </tbody>\n",
       "</table>\n",
       "</div>"
      ],
      "text/plain": [
       "                                   GROSS_PAY\n",
       "ETHNICITY                                   \n",
       "American Indian/Alaskan Native  73348.943333\n",
       "Asian or Pacific Islander       54114.603051\n",
       "Black                           56038.215473\n",
       "Hispanic                        61623.942564\n",
       "Two or More Races               52142.180800\n",
       "White (Not of Hispanic Origin)  59868.264019"
      ]
     },
     "execution_count": 25,
     "metadata": {},
     "output_type": "execute_result"
    }
   ],
   "source": [
    "Active.pivot_table(values=\"GROSS_PAY\", index=\"ETHNICITY\", aggfunc=\"mean\")"
   ]
  },
  {
   "cell_type": "code",
   "execution_count": 26,
   "id": "56b65908",
   "metadata": {},
   "outputs": [
    {
     "data": {
      "text/plain": [
       "GROSS_PAY    236752.69\n",
       "dtype: float64"
      ]
     },
     "execution_count": 26,
     "metadata": {},
     "output_type": "execute_result"
    }
   ],
   "source": [
    "Active.pivot_table(values=\"GROSS_PAY\", index=\"JOB_TITLE\", aggfunc=\"mean\").max()"
   ]
  },
  {
   "cell_type": "markdown",
   "id": "8bf1d73b",
   "metadata": {},
   "source": [
    "#### it is observed that male are being paid high salary with average 65316 compared to female 52469 and similarly average highest salary is 162126.450000 in county executives department and highest paying ETHNICITY is American/Alaskan Native. \n",
    " "
   ]
  },
  {
   "cell_type": "code",
   "execution_count": 27,
   "id": "04fcf4f7",
   "metadata": {},
   "outputs": [],
   "source": [
    "import datetime as dt"
   ]
  },
  {
   "cell_type": "code",
   "execution_count": 28,
   "id": "4f1ddf15",
   "metadata": {},
   "outputs": [
    {
     "name": "stderr",
     "output_type": "stream",
     "text": [
      "C:\\Users\\user\\AppData\\Local\\Temp\\ipykernel_6356\\500098170.py:1: SettingWithCopyWarning: \n",
      "A value is trying to be set on a copy of a slice from a DataFrame.\n",
      "Try using .loc[row_indexer,col_indexer] = value instead\n",
      "\n",
      "See the caveats in the documentation: https://pandas.pydata.org/pandas-docs/stable/user_guide/indexing.html#returning-a-view-versus-a-copy\n",
      "  Active[\"DATE_STARTED\"]=pd.to_datetime(Active[\"DATE_STARTED\"])\n"
     ]
    }
   ],
   "source": [
    "Active[\"DATE_STARTED\"]=pd.to_datetime(Active[\"DATE_STARTED\"])"
   ]
  },
  {
   "cell_type": "code",
   "execution_count": 29,
   "id": "8f763479",
   "metadata": {},
   "outputs": [
    {
     "name": "stderr",
     "output_type": "stream",
     "text": [
      "C:\\Users\\user\\AppData\\Local\\Temp\\ipykernel_6356\\1728814147.py:1: SettingWithCopyWarning: \n",
      "A value is trying to be set on a copy of a slice from a DataFrame.\n",
      "Try using .loc[row_indexer,col_indexer] = value instead\n",
      "\n",
      "See the caveats in the documentation: https://pandas.pydata.org/pandas-docs/stable/user_guide/indexing.html#returning-a-view-versus-a-copy\n",
      "  Active[\"ORIG_START\"]=pd.to_datetime(Active[\"ORIG_START\"])\n"
     ]
    }
   ],
   "source": [
    "Active[\"ORIG_START\"]=pd.to_datetime(Active[\"ORIG_START\"])"
   ]
  },
  {
   "cell_type": "code",
   "execution_count": 30,
   "id": "948ca901",
   "metadata": {
    "scrolled": true
   },
   "outputs": [
    {
     "data": {
      "text/plain": [
       "0       276 days\n",
       "1         0 days\n",
       "2       377 days\n",
       "4      2183 days\n",
       "5       237 days\n",
       "          ...   \n",
       "6275      0 days\n",
       "6276      0 days\n",
       "6277      0 days\n",
       "6278    574 days\n",
       "6279      0 days\n",
       "Length: 5017, dtype: timedelta64[ns]"
      ]
     },
     "execution_count": 30,
     "metadata": {},
     "output_type": "execute_result"
    }
   ],
   "source": [
    "Active[\"DATE_STARTED\"]-Active[\"ORIG_START\"]"
   ]
  },
  {
   "cell_type": "code",
   "execution_count": 31,
   "id": "dd1f84a8",
   "metadata": {},
   "outputs": [
    {
     "data": {
      "text/plain": [
       "1170"
      ]
     },
     "execution_count": 31,
     "metadata": {},
     "output_type": "execute_result"
    }
   ],
   "source": [
    "((Active[\"DATE_STARTED\"]-Active[\"ORIG_START\"]) != pd.Timedelta(0)).sum() "
   ]
  },
  {
   "cell_type": "markdown",
   "id": "560409b5",
   "metadata": {},
   "source": [
    "## so there are 1170 actve employees where there is difference between Date Started and origin start so need to be investigated further."
   ]
  },
  {
   "cell_type": "code",
   "execution_count": null,
   "id": "505add29",
   "metadata": {},
   "outputs": [],
   "source": [
    "# i need to extract the service period of active employees in terms of years and months and days closing date is 12/31/2023"
   ]
  },
  {
   "cell_type": "code",
   "execution_count": null,
   "id": "2ca46024",
   "metadata": {},
   "outputs": [],
   "source": []
  },
  {
   "cell_type": "code",
   "execution_count": 40,
   "id": "cb04b1f4",
   "metadata": {},
   "outputs": [
    {
     "data": {
      "text/plain": [
       "Timestamp('2023-12-31 00:00:00')"
      ]
     },
     "execution_count": 40,
     "metadata": {},
     "output_type": "execute_result"
    }
   ],
   "source": [
    "pd.to_datetime('12/31/23', format='%m/%d/%y')"
   ]
  },
  {
   "cell_type": "code",
   "execution_count": 64,
   "id": "353804f9",
   "metadata": {},
   "outputs": [
    {
     "data": {
      "text/plain": [
       "0       5015 days\n",
       "1       2029 days\n",
       "2       9086 days\n",
       "4        587 days\n",
       "5       8400 days\n",
       "          ...    \n",
       "6275    9218 days\n",
       "6276    6250 days\n",
       "6277    3877 days\n",
       "6278   14111 days\n",
       "6279     412 days\n",
       "Name: DATE_STARTED, Length: 5017, dtype: timedelta64[ns]"
      ]
     },
     "execution_count": 64,
     "metadata": {},
     "output_type": "execute_result"
    }
   ],
   "source": [
    "\n",
    "(pd.to_datetime('12/31/23', format='%m/%d/%y')) - Active[\"DATE_STARTED\"]\n"
   ]
  },
  {
   "cell_type": "code",
   "execution_count": null,
   "id": "9566f3a7",
   "metadata": {},
   "outputs": [],
   "source": []
  }
 ],
 "metadata": {
  "kernelspec": {
   "display_name": "Python 3 (ipykernel)",
   "language": "python",
   "name": "python3"
  },
  "language_info": {
   "codemirror_mode": {
    "name": "ipython",
    "version": 3
   },
   "file_extension": ".py",
   "mimetype": "text/x-python",
   "name": "python",
   "nbconvert_exporter": "python",
   "pygments_lexer": "ipython3",
   "version": "3.11.5"
  }
 },
 "nbformat": 4,
 "nbformat_minor": 5
}
