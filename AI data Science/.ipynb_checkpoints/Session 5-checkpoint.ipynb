{
 "cells": [
  {
   "cell_type": "code",
   "execution_count": 1,
   "id": "6f84a7da",
   "metadata": {},
   "outputs": [],
   "source": [
    "# import time # module/package\n",
    "\n",
    "import csv # variables, functions, classes"
   ]
  },
  {
   "cell_type": "code",
   "execution_count": 3,
   "id": "f3922fd5",
   "metadata": {},
   "outputs": [
    {
     "ename": "FileNotFoundError",
     "evalue": "[Errno 2] No such file or directory: 'Store.csv'",
     "output_type": "error",
     "traceback": [
      "\u001b[1;31m---------------------------------------------------------------------------\u001b[0m",
      "\u001b[1;31mFileNotFoundError\u001b[0m                         Traceback (most recent call last)",
      "Cell \u001b[1;32mIn[3], line 1\u001b[0m\n\u001b[1;32m----> 1\u001b[0m f \u001b[38;5;241m=\u001b[39m \u001b[38;5;28mopen\u001b[39m(\u001b[38;5;124m\"\u001b[39m\u001b[38;5;124mStore.csv\u001b[39m\u001b[38;5;124m\"\u001b[39m)\n",
      "File \u001b[1;32m~\\AppData\\Local\\anaconda3\\Lib\\site-packages\\IPython\\core\\interactiveshell.py:286\u001b[0m, in \u001b[0;36m_modified_open\u001b[1;34m(file, *args, **kwargs)\u001b[0m\n\u001b[0;32m    279\u001b[0m \u001b[38;5;28;01mif\u001b[39;00m file \u001b[38;5;129;01min\u001b[39;00m {\u001b[38;5;241m0\u001b[39m, \u001b[38;5;241m1\u001b[39m, \u001b[38;5;241m2\u001b[39m}:\n\u001b[0;32m    280\u001b[0m     \u001b[38;5;28;01mraise\u001b[39;00m \u001b[38;5;167;01mValueError\u001b[39;00m(\n\u001b[0;32m    281\u001b[0m         \u001b[38;5;124mf\u001b[39m\u001b[38;5;124m\"\u001b[39m\u001b[38;5;124mIPython won\u001b[39m\u001b[38;5;124m'\u001b[39m\u001b[38;5;124mt let you open fd=\u001b[39m\u001b[38;5;132;01m{\u001b[39;00mfile\u001b[38;5;132;01m}\u001b[39;00m\u001b[38;5;124m by default \u001b[39m\u001b[38;5;124m\"\u001b[39m\n\u001b[0;32m    282\u001b[0m         \u001b[38;5;124m\"\u001b[39m\u001b[38;5;124mas it is likely to crash IPython. If you know what you are doing, \u001b[39m\u001b[38;5;124m\"\u001b[39m\n\u001b[0;32m    283\u001b[0m         \u001b[38;5;124m\"\u001b[39m\u001b[38;5;124myou can use builtins\u001b[39m\u001b[38;5;124m'\u001b[39m\u001b[38;5;124m open.\u001b[39m\u001b[38;5;124m\"\u001b[39m\n\u001b[0;32m    284\u001b[0m     )\n\u001b[1;32m--> 286\u001b[0m \u001b[38;5;28;01mreturn\u001b[39;00m io_open(file, \u001b[38;5;241m*\u001b[39margs, \u001b[38;5;241m*\u001b[39m\u001b[38;5;241m*\u001b[39mkwargs)\n",
      "\u001b[1;31mFileNotFoundError\u001b[0m: [Errno 2] No such file or directory: 'Store.csv'"
     ]
    }
   ],
   "source": [
    "f = open(\"Store.csv\")"
   ]
  },
  {
   "cell_type": "code",
   "execution_count": 4,
   "id": "ba195159",
   "metadata": {},
   "outputs": [
    {
     "data": {
      "text/plain": [
       "['Dialect',\n",
       " 'DictReader',\n",
       " 'DictWriter',\n",
       " 'Error',\n",
       " 'QUOTE_ALL',\n",
       " 'QUOTE_MINIMAL',\n",
       " 'QUOTE_NONE',\n",
       " 'QUOTE_NONNUMERIC',\n",
       " 'Sniffer',\n",
       " 'StringIO',\n",
       " '_Dialect',\n",
       " '__all__',\n",
       " '__builtins__',\n",
       " '__cached__',\n",
       " '__doc__',\n",
       " '__file__',\n",
       " '__loader__',\n",
       " '__name__',\n",
       " '__package__',\n",
       " '__spec__',\n",
       " '__version__',\n",
       " 'excel',\n",
       " 'excel_tab',\n",
       " 'field_size_limit',\n",
       " 'get_dialect',\n",
       " 'list_dialects',\n",
       " 're',\n",
       " 'reader',\n",
       " 'register_dialect',\n",
       " 'unix_dialect',\n",
       " 'unregister_dialect',\n",
       " 'writer']"
      ]
     },
     "execution_count": 4,
     "metadata": {},
     "output_type": "execute_result"
    }
   ],
   "source": [
    "dir(csv)"
   ]
  },
  {
   "cell_type": "code",
   "execution_count": 5,
   "id": "25551e18",
   "metadata": {},
   "outputs": [
    {
     "ename": "NameError",
     "evalue": "name 'f' is not defined",
     "output_type": "error",
     "traceback": [
      "\u001b[1;31m---------------------------------------------------------------------------\u001b[0m",
      "\u001b[1;31mNameError\u001b[0m                                 Traceback (most recent call last)",
      "Cell \u001b[1;32mIn[5], line 1\u001b[0m\n\u001b[1;32m----> 1\u001b[0m read \u001b[38;5;241m=\u001b[39m csv\u001b[38;5;241m.\u001b[39mreader(f) \u001b[38;5;66;03m# 0-0a-f\u001b[39;00m\n\u001b[0;32m      2\u001b[0m read\n",
      "\u001b[1;31mNameError\u001b[0m: name 'f' is not defined"
     ]
    }
   ],
   "source": [
    "read = csv.reader(f) # 0-0a-f\n",
    "read"
   ]
  },
  {
   "cell_type": "code",
   "execution_count": 6,
   "id": "9635279d",
   "metadata": {},
   "outputs": [
    {
     "ename": "NameError",
     "evalue": "name 'read' is not defined",
     "output_type": "error",
     "traceback": [
      "\u001b[1;31m---------------------------------------------------------------------------\u001b[0m",
      "\u001b[1;31mNameError\u001b[0m                                 Traceback (most recent call last)",
      "Cell \u001b[1;32mIn[6], line 1\u001b[0m\n\u001b[1;32m----> 1\u001b[0m store \u001b[38;5;241m=\u001b[39m \u001b[38;5;28mlist\u001b[39m(read)\n",
      "\u001b[1;31mNameError\u001b[0m: name 'read' is not defined"
     ]
    }
   ],
   "source": [
    "store = list(read) # typecasting"
   ]
  },
  {
   "cell_type": "code",
   "execution_count": 7,
   "id": "110790ec",
   "metadata": {},
   "outputs": [
    {
     "ename": "FileNotFoundError",
     "evalue": "[Errno 2] No such file or directory: 'Store.csv'",
     "output_type": "error",
     "traceback": [
      "\u001b[1;31m---------------------------------------------------------------------------\u001b[0m",
      "\u001b[1;31mFileNotFoundError\u001b[0m                         Traceback (most recent call last)",
      "Cell \u001b[1;32mIn[7], line 1\u001b[0m\n\u001b[1;32m----> 1\u001b[0m f \u001b[38;5;241m=\u001b[39m \u001b[38;5;28mopen\u001b[39m(\u001b[38;5;124m\"\u001b[39m\u001b[38;5;124mStore.csv\u001b[39m\u001b[38;5;124m\"\u001b[39m, encoding \u001b[38;5;241m=\u001b[39m \u001b[38;5;124m\"\u001b[39m\u001b[38;5;124mUTF-8\u001b[39m\u001b[38;5;124m\"\u001b[39m) \u001b[38;5;66;03m# latin-1, windows-1251\u001b[39;00m\n\u001b[0;32m      2\u001b[0m read \u001b[38;5;241m=\u001b[39m csv\u001b[38;5;241m.\u001b[39mreader(f)\n\u001b[0;32m      3\u001b[0m store \u001b[38;5;241m=\u001b[39m \u001b[38;5;28mlist\u001b[39m(read)\n",
      "File \u001b[1;32m~\\AppData\\Local\\anaconda3\\Lib\\site-packages\\IPython\\core\\interactiveshell.py:286\u001b[0m, in \u001b[0;36m_modified_open\u001b[1;34m(file, *args, **kwargs)\u001b[0m\n\u001b[0;32m    279\u001b[0m \u001b[38;5;28;01mif\u001b[39;00m file \u001b[38;5;129;01min\u001b[39;00m {\u001b[38;5;241m0\u001b[39m, \u001b[38;5;241m1\u001b[39m, \u001b[38;5;241m2\u001b[39m}:\n\u001b[0;32m    280\u001b[0m     \u001b[38;5;28;01mraise\u001b[39;00m \u001b[38;5;167;01mValueError\u001b[39;00m(\n\u001b[0;32m    281\u001b[0m         \u001b[38;5;124mf\u001b[39m\u001b[38;5;124m\"\u001b[39m\u001b[38;5;124mIPython won\u001b[39m\u001b[38;5;124m'\u001b[39m\u001b[38;5;124mt let you open fd=\u001b[39m\u001b[38;5;132;01m{\u001b[39;00mfile\u001b[38;5;132;01m}\u001b[39;00m\u001b[38;5;124m by default \u001b[39m\u001b[38;5;124m\"\u001b[39m\n\u001b[0;32m    282\u001b[0m         \u001b[38;5;124m\"\u001b[39m\u001b[38;5;124mas it is likely to crash IPython. If you know what you are doing, \u001b[39m\u001b[38;5;124m\"\u001b[39m\n\u001b[0;32m    283\u001b[0m         \u001b[38;5;124m\"\u001b[39m\u001b[38;5;124myou can use builtins\u001b[39m\u001b[38;5;124m'\u001b[39m\u001b[38;5;124m open.\u001b[39m\u001b[38;5;124m\"\u001b[39m\n\u001b[0;32m    284\u001b[0m     )\n\u001b[1;32m--> 286\u001b[0m \u001b[38;5;28;01mreturn\u001b[39;00m io_open(file, \u001b[38;5;241m*\u001b[39margs, \u001b[38;5;241m*\u001b[39m\u001b[38;5;241m*\u001b[39mkwargs)\n",
      "\u001b[1;31mFileNotFoundError\u001b[0m: [Errno 2] No such file or directory: 'Store.csv'"
     ]
    }
   ],
   "source": [
    "f = open(\"Store.csv\", encoding = \"UTF-8\") # latin-1, windows-1251\n",
    "read = csv.reader(f)\n",
    "store = list(read)"
   ]
  },
  {
   "cell_type": "code",
   "execution_count": 8,
   "id": "66efa7ae",
   "metadata": {},
   "outputs": [
    {
     "ename": "NameError",
     "evalue": "name 'store' is not defined",
     "output_type": "error",
     "traceback": [
      "\u001b[1;31m---------------------------------------------------------------------------\u001b[0m",
      "\u001b[1;31mNameError\u001b[0m                                 Traceback (most recent call last)",
      "Cell \u001b[1;32mIn[8], line 1\u001b[0m\n\u001b[1;32m----> 1\u001b[0m \u001b[38;5;28mtype\u001b[39m(store)\n",
      "\u001b[1;31mNameError\u001b[0m: name 'store' is not defined"
     ]
    }
   ],
   "source": [
    "type(store)"
   ]
  },
  {
   "cell_type": "code",
   "execution_count": 9,
   "id": "eb3f3016",
   "metadata": {},
   "outputs": [
    {
     "ename": "NameError",
     "evalue": "name 'store' is not defined",
     "output_type": "error",
     "traceback": [
      "\u001b[1;31m---------------------------------------------------------------------------\u001b[0m",
      "\u001b[1;31mNameError\u001b[0m                                 Traceback (most recent call last)",
      "Cell \u001b[1;32mIn[9], line 1\u001b[0m\n\u001b[1;32m----> 1\u001b[0m \u001b[38;5;28mlen\u001b[39m(store)\n",
      "\u001b[1;31mNameError\u001b[0m: name 'store' is not defined"
     ]
    }
   ],
   "source": [
    "len(store)"
   ]
  },
  {
   "cell_type": "code",
   "execution_count": 10,
   "id": "2a01aba2",
   "metadata": {},
   "outputs": [
    {
     "ename": "NameError",
     "evalue": "name 'store' is not defined",
     "output_type": "error",
     "traceback": [
      "\u001b[1;31m---------------------------------------------------------------------------\u001b[0m",
      "\u001b[1;31mNameError\u001b[0m                                 Traceback (most recent call last)",
      "Cell \u001b[1;32mIn[10], line 1\u001b[0m\n\u001b[1;32m----> 1\u001b[0m \u001b[38;5;28mprint\u001b[39m(store[\u001b[38;5;241m0\u001b[39m])\n",
      "\u001b[1;31mNameError\u001b[0m: name 'store' is not defined"
     ]
    }
   ],
   "source": [
    "print(store[0])"
   ]
  },
  {
   "cell_type": "code",
   "execution_count": null,
   "id": "501190d7",
   "metadata": {},
   "outputs": [],
   "source": [
    "store[-1]"
   ]
  },
  {
   "cell_type": "code",
   "execution_count": null,
   "id": "b8e805d6",
   "metadata": {},
   "outputs": [],
   "source": [
    "store[0].index('user_rating')"
   ]
  },
  {
   "cell_type": "code",
   "execution_count": null,
   "id": "0a75678c",
   "metadata": {},
   "outputs": [],
   "source": [
    "for row in store[1:6]:\n",
    "    ratings = row[7]\n",
    "    print(ratings)"
   ]
  },
  {
   "cell_type": "code",
   "execution_count": null,
   "id": "1410acc1",
   "metadata": {},
   "outputs": [],
   "source": [
    "print(store[1][7] + store[-1][7])"
   ]
  },
  {
   "cell_type": "code",
   "execution_count": null,
   "id": "65bf52b4",
   "metadata": {},
   "outputs": [],
   "source": [
    "for row in store[1:6]:\n",
    "    ratings = row[7]\n",
    "    print(type(ratings))"
   ]
  },
  {
   "cell_type": "code",
   "execution_count": null,
   "id": "183ebb8f",
   "metadata": {},
   "outputs": [],
   "source": [
    "int(\"4.5\")"
   ]
  },
  {
   "cell_type": "code",
   "execution_count": null,
   "id": "41517333",
   "metadata": {},
   "outputs": [],
   "source": [
    "sum_ratings = 0\n",
    "\n",
    "for row in store[1:]:\n",
    "    ratings = float(row[7])\n",
    "    sum_ratings += ratings"
   ]
  },
  {
   "cell_type": "code",
   "execution_count": null,
   "id": "ffaae525",
   "metadata": {},
   "outputs": [],
   "source": [
    "sum_ratings"
   ]
  },
  {
   "cell_type": "code",
   "execution_count": null,
   "id": "9a9acc11",
   "metadata": {},
   "outputs": [],
   "source": [
    "total_user_rating_ver = 0\n",
    "\n",
    "for row in store[1:]:\n",
    "    ratings = float(row[8])\n",
    "    total_user_rating_ver+= ratings"
   ]
  },
  {
   "cell_type": "code",
   "execution_count": null,
   "id": "fea2416f",
   "metadata": {},
   "outputs": [],
   "source": [
    "total_user_rating_ver = int(total_user_rating_ver)\n",
    "total_user_rating_ver"
   ]
  },
  {
   "cell_type": "markdown",
   "id": "034968c1",
   "metadata": {},
   "source": [
    "# Logical Operators\n",
    "\n",
    "* not\n",
    "* and\n",
    "* or"
   ]
  },
  {
   "cell_type": "code",
   "execution_count": null,
   "id": "1c451d90",
   "metadata": {},
   "outputs": [],
   "source": [
    "count = 0\n",
    "for i in store[1:]:\n",
    "    \n",
    "    price = i[4]\n",
    "    rating = i[7]\n",
    "    print(price, type(price))\n",
    "    count +=1\n",
    "    if count == 10:\n",
    "        break\n"
   ]
  },
  {
   "cell_type": "code",
   "execution_count": null,
   "id": "78370ece",
   "metadata": {},
   "outputs": [],
   "source": [
    "0.0 == \"0.0\""
   ]
  },
  {
   "cell_type": "code",
   "execution_count": null,
   "id": "9947f51d",
   "metadata": {},
   "outputs": [],
   "source": [
    "freeapp_total_ratings = 0\n",
    "\n",
    "for row in store[1:]:\n",
    "    \n",
    "    price = row[4] # column 5\n",
    "    rating = row[7] # column 8\n",
    "    if price == \"0.0\":\n",
    "        freeapp_total_ratings  += float(rating) "
   ]
  },
  {
   "cell_type": "code",
   "execution_count": null,
   "id": "f10205a0",
   "metadata": {},
   "outputs": [],
   "source": [
    "freeapp_total_ratings"
   ]
  },
  {
   "cell_type": "code",
   "execution_count": null,
   "id": "9ff48123",
   "metadata": {},
   "outputs": [],
   "source": [
    "freeapp_ratings = []\n",
    "\n",
    "for row in store[1:]:\n",
    "    \n",
    "    price = row[4] # column 5\n",
    "    rating = row[7] # column 8\n",
    "    if price == \"0.0\":\n",
    "        freeapp_ratings.append(float(rating))"
   ]
  },
  {
   "cell_type": "code",
   "execution_count": null,
   "id": "2d0a787d",
   "metadata": {},
   "outputs": [],
   "source": [
    "len(freeapp_ratings)"
   ]
  },
  {
   "cell_type": "code",
   "execution_count": null,
   "id": "7453ef7a",
   "metadata": {},
   "outputs": [],
   "source": [
    "sum(freeapp_ratings)"
   ]
  },
  {
   "cell_type": "code",
   "execution_count": null,
   "id": "3d395ba5",
   "metadata": {},
   "outputs": [],
   "source": [
    "True and False or True\n",
    "False or True\n",
    "True"
   ]
  },
  {
   "cell_type": "code",
   "execution_count": null,
   "id": "df22282b",
   "metadata": {},
   "outputs": [],
   "source": [
    "if True and False:\n",
    "    print(\"Ok\")"
   ]
  },
  {
   "cell_type": "code",
   "execution_count": null,
   "id": "fa9690f7",
   "metadata": {},
   "outputs": [],
   "source": [
    "if True or False:\n",
    "    print(\"Ok\")"
   ]
  },
  {
   "cell_type": "code",
   "execution_count": null,
   "id": "f97b6e7f",
   "metadata": {},
   "outputs": [],
   "source": [
    "free_games_apps_total_ratings = 0\n",
    "\n",
    "for row in store[1:]:\n",
    "    \n",
    "    price = row[4] # column 5\n",
    "    rating = row[7] # column 8\n",
    "    genre = row[-5] \n",
    "    if price == \"0.0\" and genre == \"Games\":\n",
    "        free_games_apps_total_ratings  += float(rating) "
   ]
  },
  {
   "cell_type": "code",
   "execution_count": null,
   "id": "ffc7ddf4",
   "metadata": {},
   "outputs": [],
   "source": [
    "free_games_apps_total_ratings "
   ]
  },
  {
   "cell_type": "markdown",
   "id": "507f9721",
   "metadata": {},
   "source": [
    "I want a total ratings of free social_networking/games apps"
   ]
  },
  {
   "cell_type": "code",
   "execution_count": null,
   "id": "93c4421f",
   "metadata": {},
   "outputs": [],
   "source": [
    "free_gamesoci_apps_total_ratings = 0\n",
    "\n",
    "for row in store[1:]:\n",
    "    \n",
    "    price = row[4] # column 5\n",
    "    rating = row[7] # column 8\n",
    "    genre = row[-5] \n",
    "    if price == \"0.0\" and (genre == \"Games\" or genre == \"Social Networking\"):\n",
    "        free_games_apps_total_ratings  += float(rating) "
   ]
  }
 ],
 "metadata": {
  "kernelspec": {
   "display_name": "Python 3 (ipykernel)",
   "language": "python",
   "name": "python3"
  },
  "language_info": {
   "codemirror_mode": {
    "name": "ipython",
    "version": 3
   },
   "file_extension": ".py",
   "mimetype": "text/x-python",
   "name": "python",
   "nbconvert_exporter": "python",
   "pygments_lexer": "ipython3",
   "version": "3.11.5"
  }
 },
 "nbformat": 4,
 "nbformat_minor": 5
}
