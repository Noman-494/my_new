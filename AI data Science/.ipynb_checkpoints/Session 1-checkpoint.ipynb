{
 "cells": [
  {
   "cell_type": "markdown",
   "id": "9f4a5fa2",
   "metadata": {},
   "source": [
    "# First Session\n",
    "\n",
    "Python For Data Science With AI"
   ]
  },
  {
   "cell_type": "code",
   "execution_count": 1,
   "id": "b1da8bfd",
   "metadata": {},
   "outputs": [
    {
     "data": {
      "text/plain": [
       "3"
      ]
     },
     "execution_count": 1,
     "metadata": {},
     "output_type": "execute_result"
    }
   ],
   "source": [
    "1+2"
   ]
  },
  {
   "cell_type": "code",
   "execution_count": 2,
   "id": "0faa9958",
   "metadata": {},
   "outputs": [
    {
     "data": {
      "text/plain": [
       "8"
      ]
     },
     "execution_count": 2,
     "metadata": {},
     "output_type": "execute_result"
    }
   ],
   "source": [
    "1+2\n",
    "3+5"
   ]
  },
  {
   "cell_type": "code",
   "execution_count": 3,
   "id": "ece9aaa2",
   "metadata": {},
   "outputs": [
    {
     "name": "stdout",
     "output_type": "stream",
     "text": [
      "3\n"
     ]
    },
    {
     "data": {
      "text/plain": [
       "8"
      ]
     },
     "execution_count": 3,
     "metadata": {},
     "output_type": "execute_result"
    }
   ],
   "source": [
    "print(1+2)\n",
    "3+5"
   ]
  },
  {
   "cell_type": "code",
   "execution_count": 4,
   "id": "9dbf5554",
   "metadata": {},
   "outputs": [
    {
     "name": "stdout",
     "output_type": "stream",
     "text": [
      "3\n",
      "8\n"
     ]
    }
   ],
   "source": [
    "print(1+2)\n",
    "print(3+5)"
   ]
  },
  {
   "cell_type": "code",
   "execution_count": 5,
   "id": "e0b5922d",
   "metadata": {},
   "outputs": [
    {
     "name": "stdout",
     "output_type": "stream",
     "text": [
      "3\n",
      "8\n"
     ]
    }
   ],
   "source": [
    "print(1+2) # We are on the 1st session\n",
    "print(3+5)"
   ]
  },
  {
   "cell_type": "code",
   "execution_count": 6,
   "id": "804b318c",
   "metadata": {},
   "outputs": [
    {
     "ename": "SyntaxError",
     "evalue": "invalid decimal literal (3219598487.py, line 1)",
     "output_type": "error",
     "traceback": [
      "\u001b[1;36m  Cell \u001b[1;32mIn[6], line 1\u001b[1;36m\u001b[0m\n\u001b[1;33m    We are on the 1st session\u001b[0m\n\u001b[1;37m                  ^\u001b[0m\n\u001b[1;31mSyntaxError\u001b[0m\u001b[1;31m:\u001b[0m invalid decimal literal\n"
     ]
    }
   ],
   "source": [
    "We are on the 1st session"
   ]
  },
  {
   "cell_type": "code",
   "execution_count": 8,
   "id": "83936b98",
   "metadata": {},
   "outputs": [
    {
     "data": {
      "text/plain": [
       "19"
      ]
     },
     "execution_count": 8,
     "metadata": {},
     "output_type": "execute_result"
    }
   ],
   "source": [
    "3+2*9-6+(8/2) # 10,19,31,43,11,13,4,23, PEMDAS\n",
    "\n",
    "3+2*9-6+4\n",
    "3+18-6+4\n",
    "19\n"
   ]
  },
  {
   "cell_type": "code",
   "execution_count": 9,
   "id": "c698ee21",
   "metadata": {},
   "outputs": [
    {
     "data": {
      "text/plain": [
       "19.0"
      ]
     },
     "execution_count": 9,
     "metadata": {},
     "output_type": "execute_result"
    }
   ],
   "source": [
    "3+2*9-6+(8/2) # 10,19,31,43,11,13,4,23, PEMDAS"
   ]
  },
  {
   "cell_type": "code",
   "execution_count": 10,
   "id": "b5b13db7",
   "metadata": {},
   "outputs": [
    {
     "data": {
      "text/plain": [
       "2.0"
      ]
     },
     "execution_count": 10,
     "metadata": {},
     "output_type": "execute_result"
    }
   ],
   "source": [
    "4/2"
   ]
  },
  {
   "cell_type": "code",
   "execution_count": 11,
   "id": "be872ff6",
   "metadata": {},
   "outputs": [
    {
     "data": {
      "text/plain": [
       "5"
      ]
     },
     "execution_count": 11,
     "metadata": {},
     "output_type": "execute_result"
    }
   ],
   "source": [
    "2+3"
   ]
  },
  {
   "cell_type": "markdown",
   "id": "d7cf6e66",
   "metadata": {},
   "source": []
  },
  {
   "cell_type": "code",
   "execution_count": 17,
   "id": "854a5df5",
   "metadata": {},
   "outputs": [
    {
     "ename": "SyntaxError",
     "evalue": "invalid syntax (3745698406.py, line 8)",
     "output_type": "error",
     "traceback": [
      "\u001b[1;36m  Cell \u001b[1;32mIn[17], line 8\u001b[1;36m\u001b[0m\n\u001b[1;33m    else:\u001b[0m\n\u001b[1;37m    ^\u001b[0m\n\u001b[1;31mSyntaxError\u001b[0m\u001b[1;31m:\u001b[0m invalid syntax\n"
     ]
    }
   ],
   "source": [
    "def readfile(file_name,header=True):\n",
    "    if header==True:\n",
    "        data=list(csv.reader(open(file_name,encoding = \"utf-8\")))\n",
    "        _headers=data[0]\n",
    "        data=data[1:]\n",
    "    return headers,data\n",
    "    \n",
    "    else:\n",
    "        data=list(csv.reader(open(file_name,encoding = \"utf-8\")))\n",
    "        return data\n",
    "        \n",
    "    \n",
    "    "
   ]
  },
  {
   "cell_type": "code",
   "execution_count": 18,
   "id": "fe1de921",
   "metadata": {},
   "outputs": [],
   "source": [
    "import csv\n",
    "\n",
    "def readfile(file_name, header=True):\n",
    "    if header:\n",
    "        data = list(csv.reader(open(file_name, encoding=\"utf-8\")))\n",
    "        headers = data[0]\n",
    "        data = data[1:]\n",
    "        return headers, data\n",
    "    else:\n",
    "        data = list(csv.reader(open(file_name, encoding=\"utf-8\")))\n",
    "        return data\n"
   ]
  },
  {
   "cell_type": "code",
   "execution_count": 19,
   "id": "4d08259a",
   "metadata": {},
   "outputs": [],
   "source": [
    "headers,data=readfile(\"playstore.csv\")"
   ]
  },
  {
   "cell_type": "code",
   "execution_count": 20,
   "id": "74b2d031",
   "metadata": {},
   "outputs": [
    {
     "data": {
      "text/plain": [
       "['App',\n",
       " 'Category',\n",
       " 'Rating',\n",
       " 'Reviews',\n",
       " 'Size',\n",
       " 'Installs',\n",
       " 'Type',\n",
       " 'Price',\n",
       " 'Content Rating',\n",
       " 'Genres',\n",
       " 'Last Updated',\n",
       " 'Current Ver',\n",
       " 'Android Ver']"
      ]
     },
     "execution_count": 20,
     "metadata": {},
     "output_type": "execute_result"
    }
   ],
   "source": [
    "headers"
   ]
  },
  {
   "cell_type": "code",
   "execution_count": 1,
   "id": "8c7226ad",
   "metadata": {},
   "outputs": [],
   "source": [
    "l=list(range(15))"
   ]
  },
  {
   "cell_type": "code",
   "execution_count": 2,
   "id": "e085e9cb",
   "metadata": {},
   "outputs": [
    {
     "data": {
      "text/plain": [
       "[0, 1, 2, 3, 4, 5, 6, 7, 8, 9, 10, 11, 12, 13, 14]"
      ]
     },
     "execution_count": 2,
     "metadata": {},
     "output_type": "execute_result"
    }
   ],
   "source": [
    "l"
   ]
  },
  {
   "cell_type": "code",
   "execution_count": 3,
   "id": "3c26498d",
   "metadata": {},
   "outputs": [
    {
     "data": {
      "text/plain": [
       "15"
      ]
     },
     "execution_count": 3,
     "metadata": {},
     "output_type": "execute_result"
    }
   ],
   "source": [
    "len(l)"
   ]
  },
  {
   "cell_type": "code",
   "execution_count": 8,
   "id": "0e69503a",
   "metadata": {},
   "outputs": [],
   "source": [
    "total_count = 0\n",
    "for _ in l:\n",
    "    total_count +=1"
   ]
  },
  {
   "cell_type": "code",
   "execution_count": 9,
   "id": "91ff12e6",
   "metadata": {},
   "outputs": [
    {
     "data": {
      "text/plain": [
       "15"
      ]
     },
     "execution_count": 9,
     "metadata": {},
     "output_type": "execute_result"
    }
   ],
   "source": [
    "total_count"
   ]
  },
  {
   "cell_type": "code",
   "execution_count": 14,
   "id": "9f0d6716",
   "metadata": {},
   "outputs": [
    {
     "ename": "NameError",
     "evalue": "name 'data' is not defined",
     "output_type": "error",
     "traceback": [
      "\u001b[1;31m---------------------------------------------------------------------------\u001b[0m",
      "\u001b[1;31mNameError\u001b[0m                                 Traceback (most recent call last)",
      "Cell \u001b[1;32mIn[14], line 3\u001b[0m\n\u001b[0;32m      1\u001b[0m \u001b[38;5;28;01mdef\u001b[39;00m \u001b[38;5;21mcount\u001b[39m(data):\n\u001b[0;32m      2\u001b[0m     total_count \u001b[38;5;241m=\u001b[39m \u001b[38;5;241m0\u001b[39m \n\u001b[1;32m----> 3\u001b[0m \u001b[38;5;28;01mfor\u001b[39;00m _ \u001b[38;5;129;01min\u001b[39;00m data:\n\u001b[0;32m      4\u001b[0m     total_count \u001b[38;5;241m+\u001b[39m\u001b[38;5;241m=\u001b[39m\u001b[38;5;241m1\u001b[39m\n\u001b[0;32m      5\u001b[0m \u001b[38;5;28;01mreturn\u001b[39;00m total_count\n",
      "\u001b[1;31mNameError\u001b[0m: name 'data' is not defined"
     ]
    }
   ],
   "source": [
    "def count(data):\n",
    "    total_count = 0 \n",
    "for _ in data:\n",
    "    total_count +=1\n",
    "return total_count\n",
    "    \n",
    "    "
   ]
  },
  {
   "cell_type": "code",
   "execution_count": 15,
   "id": "9104cbe5",
   "metadata": {},
   "outputs": [],
   "source": [
    "def count(data):\n",
    "    total_count = 0 \n",
    "    for _ in data:\n",
    "        total_count += 1\n",
    "    return total_count\n"
   ]
  },
  {
   "cell_type": "code",
   "execution_count": 16,
   "id": "b3e6a956",
   "metadata": {},
   "outputs": [
    {
     "data": {
      "text/plain": [
       "15"
      ]
     },
     "execution_count": 16,
     "metadata": {},
     "output_type": "execute_result"
    }
   ],
   "source": [
    "count(l)"
   ]
  },
  {
   "cell_type": "code",
   "execution_count": null,
   "id": "0082570b",
   "metadata": {},
   "outputs": [],
   "source": []
  },
  {
   "cell_type": "code",
   "execution_count": 15,
   "id": "615c9d12",
   "metadata": {},
   "outputs": [
    {
     "data": {
      "text/plain": [
       "['App',\n",
       " 'Category',\n",
       " 'Rating',\n",
       " 'Reviews',\n",
       " 'Size',\n",
       " 'Installs',\n",
       " 'Type',\n",
       " 'Price',\n",
       " 'Content Rating',\n",
       " 'Genres',\n",
       " 'Last Updated',\n",
       " 'Current Ver',\n",
       " 'Android Ver']"
      ]
     },
     "execution_count": 15,
     "metadata": {},
     "output_type": "execute_result"
    }
   ],
   "source": [
    "headers"
   ]
  },
  {
   "cell_type": "code",
   "execution_count": 16,
   "id": "56594e57",
   "metadata": {},
   "outputs": [
    {
     "data": {
      "text/plain": [
       "['Photo Editor & Candy Camera & Grid & ScrapBook',\n",
       " 'ART_AND_DESIGN',\n",
       " '4.1',\n",
       " '159',\n",
       " '19M',\n",
       " '10,000+',\n",
       " 'Free',\n",
       " '0',\n",
       " 'Everyone',\n",
       " 'Art & Design',\n",
       " 'January 7, 2018',\n",
       " '1.0.0',\n",
       " '4.0.3 and up']"
      ]
     },
     "execution_count": 16,
     "metadata": {},
     "output_type": "execute_result"
    }
   ],
   "source": [
    "\n",
    "\n",
    "data[0]"
   ]
  },
  {
   "cell_type": "code",
   "execution_count": 1,
   "id": "f577751d",
   "metadata": {},
   "outputs": [],
   "source": [
    "import csv"
   ]
  },
  {
   "cell_type": "code",
   "execution_count": 2,
   "id": "1d8a84a5",
   "metadata": {},
   "outputs": [],
   "source": [
    "with open(\"banana_quality.csv\") as f:\n",
    "    data=list(csv.reader(f))\n",
    "    header=data[0]\n",
    "    data=data[1:]"
   ]
  },
  {
   "cell_type": "code",
   "execution_count": 3,
   "id": "f8f88410",
   "metadata": {},
   "outputs": [
    {
     "data": {
      "text/plain": [
       "['Size',\n",
       " 'Weight',\n",
       " 'Sweetness',\n",
       " 'Softness',\n",
       " 'HarvestTime',\n",
       " 'Ripeness',\n",
       " 'Acidity',\n",
       " 'Quality']"
      ]
     },
     "execution_count": 3,
     "metadata": {},
     "output_type": "execute_result"
    }
   ],
   "source": [
    "header"
   ]
  },
  {
   "cell_type": "code",
   "execution_count": 4,
   "id": "fc1188aa",
   "metadata": {},
   "outputs": [],
   "source": [
    "import pandas as pd"
   ]
  },
  {
   "cell_type": "code",
   "execution_count": 6,
   "id": "02a24d4c",
   "metadata": {},
   "outputs": [],
   "source": [
    "data_pd=pd.read_csv(\"banana_quality.csv\")"
   ]
  },
  {
   "cell_type": "code",
   "execution_count": 10,
   "id": "9549aff4",
   "metadata": {},
   "outputs": [
    {
     "data": {
      "text/plain": [
       "(8000, 8)"
      ]
     },
     "execution_count": 10,
     "metadata": {},
     "output_type": "execute_result"
    }
   ],
   "source": [
    "data_pd.shape"
   ]
  },
  {
   "cell_type": "code",
   "execution_count": 16,
   "id": "eb347fc7",
   "metadata": {},
   "outputs": [],
   "source": [
    "sum_ac=0\n",
    "for i in data:\n",
    "    if i[-1]==\"Good\":\n",
    "        sum_ac +=float(i[-2])\n",
    "    "
   ]
  },
  {
   "cell_type": "code",
   "execution_count": 17,
   "id": "8375d4bc",
   "metadata": {},
   "outputs": [
    {
     "data": {
      "text/plain": [
       "27.067004365719104"
      ]
     },
     "execution_count": 17,
     "metadata": {},
     "output_type": "execute_result"
    }
   ],
   "source": [
    "sum_ac"
   ]
  },
  {
   "cell_type": "code",
   "execution_count": 19,
   "id": "bde50223",
   "metadata": {},
   "outputs": [],
   "source": [
    "count=0\n",
    "for i in data:\n",
    "    if i[-1]==\"Good\":\n",
    "        count +=1\n",
    "    "
   ]
  },
  {
   "cell_type": "code",
   "execution_count": 20,
   "id": "fdb20c0c",
   "metadata": {},
   "outputs": [
    {
     "data": {
      "text/plain": [
       "4006"
      ]
     },
     "execution_count": 20,
     "metadata": {},
     "output_type": "execute_result"
    }
   ],
   "source": [
    "count"
   ]
  },
  {
   "cell_type": "code",
   "execution_count": 21,
   "id": "ef3727e2",
   "metadata": {},
   "outputs": [
    {
     "data": {
      "text/plain": [
       "0.006756616167179008"
      ]
     },
     "execution_count": 21,
     "metadata": {},
     "output_type": "execute_result"
    }
   ],
   "source": [
    "sum_ac/count"
   ]
  },
  {
   "cell_type": "code",
   "execution_count": 33,
   "id": "0fdb790d",
   "metadata": {},
   "outputs": [
    {
     "data": {
      "text/plain": [
       "0        True\n",
       "1        True\n",
       "2        True\n",
       "3        True\n",
       "4        True\n",
       "        ...  \n",
       "7995    False\n",
       "7996    False\n",
       "7997    False\n",
       "7998    False\n",
       "7999    False\n",
       "Name: Quality, Length: 8000, dtype: bool"
      ]
     },
     "execution_count": 33,
     "metadata": {},
     "output_type": "execute_result"
    }
   ],
   "source": [
    "data_pd.Quality==\"Good\""
   ]
  },
  {
   "cell_type": "code",
   "execution_count": 29,
   "id": "e8c7eec6",
   "metadata": {},
   "outputs": [
    {
     "data": {
      "text/plain": [
       "0.006756616167179255"
      ]
     },
     "execution_count": 29,
     "metadata": {},
     "output_type": "execute_result"
    }
   ],
   "source": [
    "data_pd.loc[data_pd.Quality==\"Good\"][\"Acidity\"].mean()"
   ]
  },
  {
   "cell_type": "code",
   "execution_count": 43,
   "id": "f7f87656",
   "metadata": {},
   "outputs": [
    {
     "data": {
      "text/html": [
       "<div>\n",
       "<style scoped>\n",
       "    .dataframe tbody tr th:only-of-type {\n",
       "        vertical-align: middle;\n",
       "    }\n",
       "\n",
       "    .dataframe tbody tr th {\n",
       "        vertical-align: top;\n",
       "    }\n",
       "\n",
       "    .dataframe thead th {\n",
       "        text-align: right;\n",
       "    }\n",
       "</style>\n",
       "<table border=\"1\" class=\"dataframe\">\n",
       "  <thead>\n",
       "    <tr style=\"text-align: right;\">\n",
       "      <th>Quality</th>\n",
       "      <th>Bad</th>\n",
       "      <th>Good</th>\n",
       "    </tr>\n",
       "  </thead>\n",
       "  <tbody>\n",
       "    <tr>\n",
       "      <th>Acidity</th>\n",
       "      <td>2.211917</td>\n",
       "      <td>2.372258</td>\n",
       "    </tr>\n",
       "  </tbody>\n",
       "</table>\n",
       "</div>"
      ],
      "text/plain": [
       "Quality       Bad      Good\n",
       "Acidity  2.211917  2.372258"
      ]
     },
     "execution_count": 43,
     "metadata": {},
     "output_type": "execute_result"
    }
   ],
   "source": [
    "data_pd.pivot_table(values=\"Acidity\",columns=\"Quality\",aggfunc=\"std\")"
   ]
  },
  {
   "cell_type": "code",
   "execution_count": 58,
   "id": "1048e090",
   "metadata": {},
   "outputs": [],
   "source": [
    "main_list=[]\n",
    "for i in data:\n",
    "    sweet=float(i[-6])\n",
    "    if sweet>=2.0 and sweet<=3.0:\n",
    "        main_list.append(i)\n",
    "        "
   ]
  },
  {
   "cell_type": "code",
   "execution_count": 59,
   "id": "7f18e32b",
   "metadata": {},
   "outputs": [
    {
     "data": {
      "text/plain": [
       "368"
      ]
     },
     "execution_count": 59,
     "metadata": {},
     "output_type": "execute_result"
    }
   ],
   "source": [
    "len(main_list)"
   ]
  },
  {
   "cell_type": "code",
   "execution_count": 60,
   "id": "b97ea504",
   "metadata": {},
   "outputs": [
    {
     "data": {
      "text/html": [
       "<div>\n",
       "<style scoped>\n",
       "    .dataframe tbody tr th:only-of-type {\n",
       "        vertical-align: middle;\n",
       "    }\n",
       "\n",
       "    .dataframe tbody tr th {\n",
       "        vertical-align: top;\n",
       "    }\n",
       "\n",
       "    .dataframe thead th {\n",
       "        text-align: right;\n",
       "    }\n",
       "</style>\n",
       "<table border=\"1\" class=\"dataframe\">\n",
       "  <thead>\n",
       "    <tr style=\"text-align: right;\">\n",
       "      <th></th>\n",
       "      <th>Size</th>\n",
       "      <th>Weight</th>\n",
       "      <th>Sweetness</th>\n",
       "      <th>Softness</th>\n",
       "      <th>HarvestTime</th>\n",
       "      <th>Ripeness</th>\n",
       "      <th>Acidity</th>\n",
       "      <th>Quality</th>\n",
       "    </tr>\n",
       "  </thead>\n",
       "  <tbody>\n",
       "    <tr>\n",
       "      <th>0</th>\n",
       "      <td>-2.0318587</td>\n",
       "      <td>1.3767682</td>\n",
       "      <td>2.2734401</td>\n",
       "      <td>-2.2057126</td>\n",
       "      <td>0.41215587</td>\n",
       "      <td>3.757726</td>\n",
       "      <td>3.1004484</td>\n",
       "      <td>Good</td>\n",
       "    </tr>\n",
       "    <tr>\n",
       "      <th>1</th>\n",
       "      <td>2.0621698</td>\n",
       "      <td>1.5615295</td>\n",
       "      <td>2.5703752</td>\n",
       "      <td>-1.8647795</td>\n",
       "      <td>-0.44219488</td>\n",
       "      <td>2.2499652</td>\n",
       "      <td>4.70331</td>\n",
       "      <td>Good</td>\n",
       "    </tr>\n",
       "    <tr>\n",
       "      <th>2</th>\n",
       "      <td>-1.9652935</td>\n",
       "      <td>-0.06748736</td>\n",
       "      <td>2.6001945</td>\n",
       "      <td>-1.7930973</td>\n",
       "      <td>-1.6579864</td>\n",
       "      <td>1.0869076</td>\n",
       "      <td>2.335015</td>\n",
       "      <td>Good</td>\n",
       "    </tr>\n",
       "    <tr>\n",
       "      <th>3</th>\n",
       "      <td>-0.8328398</td>\n",
       "      <td>0.6344345</td>\n",
       "      <td>2.8857996</td>\n",
       "      <td>-1.018919</td>\n",
       "      <td>-1.476629</td>\n",
       "      <td>0.09706835</td>\n",
       "      <td>1.8400067</td>\n",
       "      <td>Good</td>\n",
       "    </tr>\n",
       "    <tr>\n",
       "      <th>4</th>\n",
       "      <td>-0.47838327</td>\n",
       "      <td>1.2760094</td>\n",
       "      <td>2.0892775</td>\n",
       "      <td>-0.27186796</td>\n",
       "      <td>-0.9304542</td>\n",
       "      <td>1.2834822</td>\n",
       "      <td>3.8400788</td>\n",
       "      <td>Good</td>\n",
       "    </tr>\n",
       "    <tr>\n",
       "      <th>...</th>\n",
       "      <td>...</td>\n",
       "      <td>...</td>\n",
       "      <td>...</td>\n",
       "      <td>...</td>\n",
       "      <td>...</td>\n",
       "      <td>...</td>\n",
       "      <td>...</td>\n",
       "      <td>...</td>\n",
       "    </tr>\n",
       "    <tr>\n",
       "      <th>363</th>\n",
       "      <td>-3.2349498</td>\n",
       "      <td>-2.6076138</td>\n",
       "      <td>2.6205332</td>\n",
       "      <td>1.8316296</td>\n",
       "      <td>-0.056623954</td>\n",
       "      <td>0.32338053</td>\n",
       "      <td>-0.8257309</td>\n",
       "      <td>Bad</td>\n",
       "    </tr>\n",
       "    <tr>\n",
       "      <th>364</th>\n",
       "      <td>-3.6606069</td>\n",
       "      <td>2.185512</td>\n",
       "      <td>2.7170763</td>\n",
       "      <td>1.2544135</td>\n",
       "      <td>0.35569912</td>\n",
       "      <td>-1.3294989</td>\n",
       "      <td>4.0603633</td>\n",
       "      <td>Bad</td>\n",
       "    </tr>\n",
       "    <tr>\n",
       "      <th>365</th>\n",
       "      <td>-4.3856716</td>\n",
       "      <td>1.0842898</td>\n",
       "      <td>2.1054387</td>\n",
       "      <td>1.3834324</td>\n",
       "      <td>-2.0792463</td>\n",
       "      <td>-0.042838756</td>\n",
       "      <td>3.800508</td>\n",
       "      <td>Bad</td>\n",
       "    </tr>\n",
       "    <tr>\n",
       "      <th>366</th>\n",
       "      <td>-3.0025156</td>\n",
       "      <td>-0.22629987</td>\n",
       "      <td>2.2006247</td>\n",
       "      <td>1.5567461</td>\n",
       "      <td>-1.269556</td>\n",
       "      <td>0.24930413</td>\n",
       "      <td>1.6283996</td>\n",
       "      <td>Bad</td>\n",
       "    </tr>\n",
       "    <tr>\n",
       "      <th>367</th>\n",
       "      <td>-3.9012096</td>\n",
       "      <td>0.36483932</td>\n",
       "      <td>2.0043974</td>\n",
       "      <td>1.8095461</td>\n",
       "      <td>-1.1069522</td>\n",
       "      <td>-1.5863168</td>\n",
       "      <td>1.8969749</td>\n",
       "      <td>Bad</td>\n",
       "    </tr>\n",
       "  </tbody>\n",
       "</table>\n",
       "<p>368 rows × 8 columns</p>\n",
       "</div>"
      ],
      "text/plain": [
       "            Size       Weight  Sweetness     Softness   HarvestTime  \\\n",
       "0     -2.0318587    1.3767682  2.2734401   -2.2057126    0.41215587   \n",
       "1      2.0621698    1.5615295  2.5703752   -1.8647795   -0.44219488   \n",
       "2     -1.9652935  -0.06748736  2.6001945   -1.7930973    -1.6579864   \n",
       "3     -0.8328398    0.6344345  2.8857996    -1.018919     -1.476629   \n",
       "4    -0.47838327    1.2760094  2.0892775  -0.27186796    -0.9304542   \n",
       "..           ...          ...        ...          ...           ...   \n",
       "363   -3.2349498   -2.6076138  2.6205332    1.8316296  -0.056623954   \n",
       "364   -3.6606069     2.185512  2.7170763    1.2544135    0.35569912   \n",
       "365   -4.3856716    1.0842898  2.1054387    1.3834324    -2.0792463   \n",
       "366   -3.0025156  -0.22629987  2.2006247    1.5567461     -1.269556   \n",
       "367   -3.9012096   0.36483932  2.0043974    1.8095461    -1.1069522   \n",
       "\n",
       "         Ripeness     Acidity Quality  \n",
       "0        3.757726   3.1004484    Good  \n",
       "1       2.2499652     4.70331    Good  \n",
       "2       1.0869076    2.335015    Good  \n",
       "3      0.09706835   1.8400067    Good  \n",
       "4       1.2834822   3.8400788    Good  \n",
       "..            ...         ...     ...  \n",
       "363    0.32338053  -0.8257309     Bad  \n",
       "364    -1.3294989   4.0603633     Bad  \n",
       "365  -0.042838756    3.800508     Bad  \n",
       "366    0.24930413   1.6283996     Bad  \n",
       "367    -1.5863168   1.8969749     Bad  \n",
       "\n",
       "[368 rows x 8 columns]"
      ]
     },
     "execution_count": 60,
     "metadata": {},
     "output_type": "execute_result"
    }
   ],
   "source": [
    "pd.DataFrame(main_list,columns=header)"
   ]
  },
  {
   "cell_type": "code",
   "execution_count": 57,
   "id": "a5ac4cd2",
   "metadata": {},
   "outputs": [
    {
     "data": {
      "text/plain": [
       "368"
      ]
     },
     "execution_count": 57,
     "metadata": {},
     "output_type": "execute_result"
    }
   ],
   "source": [
    "((data_pd[\"Sweetness\"]>=2)&(data_pd[\"Sweetness\"]<=3)).sum()"
   ]
  },
  {
   "cell_type": "code",
   "execution_count": 66,
   "id": "a461869f",
   "metadata": {},
   "outputs": [
    {
     "data": {
      "text/html": [
       "<div>\n",
       "<style scoped>\n",
       "    .dataframe tbody tr th:only-of-type {\n",
       "        vertical-align: middle;\n",
       "    }\n",
       "\n",
       "    .dataframe tbody tr th {\n",
       "        vertical-align: top;\n",
       "    }\n",
       "\n",
       "    .dataframe thead th {\n",
       "        text-align: right;\n",
       "    }\n",
       "</style>\n",
       "<table border=\"1\" class=\"dataframe\">\n",
       "  <thead>\n",
       "    <tr style=\"text-align: right;\">\n",
       "      <th></th>\n",
       "      <th>Size</th>\n",
       "      <th>Weight</th>\n",
       "      <th>Sweetness</th>\n",
       "      <th>Softness</th>\n",
       "      <th>HarvestTime</th>\n",
       "      <th>Ripeness</th>\n",
       "      <th>Acidity</th>\n",
       "      <th>Quality</th>\n",
       "    </tr>\n",
       "  </thead>\n",
       "  <tbody>\n",
       "    <tr>\n",
       "      <th>11</th>\n",
       "      <td>-2.031859</td>\n",
       "      <td>1.376768</td>\n",
       "      <td>2.273440</td>\n",
       "      <td>-2.205713</td>\n",
       "      <td>0.412156</td>\n",
       "      <td>3.757726</td>\n",
       "      <td>3.100448</td>\n",
       "      <td>Good</td>\n",
       "    </tr>\n",
       "    <tr>\n",
       "      <th>12</th>\n",
       "      <td>2.062170</td>\n",
       "      <td>1.561530</td>\n",
       "      <td>2.570375</td>\n",
       "      <td>-1.864780</td>\n",
       "      <td>-0.442195</td>\n",
       "      <td>2.249965</td>\n",
       "      <td>4.703310</td>\n",
       "      <td>Good</td>\n",
       "    </tr>\n",
       "    <tr>\n",
       "      <th>16</th>\n",
       "      <td>-1.965294</td>\n",
       "      <td>-0.067487</td>\n",
       "      <td>2.600195</td>\n",
       "      <td>-1.793097</td>\n",
       "      <td>-1.657986</td>\n",
       "      <td>1.086908</td>\n",
       "      <td>2.335015</td>\n",
       "      <td>Good</td>\n",
       "    </tr>\n",
       "    <tr>\n",
       "      <th>23</th>\n",
       "      <td>-0.832840</td>\n",
       "      <td>0.634435</td>\n",
       "      <td>2.885800</td>\n",
       "      <td>-1.018919</td>\n",
       "      <td>-1.476629</td>\n",
       "      <td>0.097068</td>\n",
       "      <td>1.840007</td>\n",
       "      <td>Good</td>\n",
       "    </tr>\n",
       "    <tr>\n",
       "      <th>28</th>\n",
       "      <td>-0.478383</td>\n",
       "      <td>1.276009</td>\n",
       "      <td>2.089278</td>\n",
       "      <td>-0.271868</td>\n",
       "      <td>-0.930454</td>\n",
       "      <td>1.283482</td>\n",
       "      <td>3.840079</td>\n",
       "      <td>Good</td>\n",
       "    </tr>\n",
       "    <tr>\n",
       "      <th>...</th>\n",
       "      <td>...</td>\n",
       "      <td>...</td>\n",
       "      <td>...</td>\n",
       "      <td>...</td>\n",
       "      <td>...</td>\n",
       "      <td>...</td>\n",
       "      <td>...</td>\n",
       "      <td>...</td>\n",
       "    </tr>\n",
       "    <tr>\n",
       "      <th>7533</th>\n",
       "      <td>-3.234950</td>\n",
       "      <td>-2.607614</td>\n",
       "      <td>2.620533</td>\n",
       "      <td>1.831630</td>\n",
       "      <td>-0.056624</td>\n",
       "      <td>0.323381</td>\n",
       "      <td>-0.825731</td>\n",
       "      <td>Bad</td>\n",
       "    </tr>\n",
       "    <tr>\n",
       "      <th>7546</th>\n",
       "      <td>-3.660607</td>\n",
       "      <td>2.185512</td>\n",
       "      <td>2.717076</td>\n",
       "      <td>1.254414</td>\n",
       "      <td>0.355699</td>\n",
       "      <td>-1.329499</td>\n",
       "      <td>4.060363</td>\n",
       "      <td>Bad</td>\n",
       "    </tr>\n",
       "    <tr>\n",
       "      <th>7668</th>\n",
       "      <td>-4.385672</td>\n",
       "      <td>1.084290</td>\n",
       "      <td>2.105439</td>\n",
       "      <td>1.383432</td>\n",
       "      <td>-2.079246</td>\n",
       "      <td>-0.042839</td>\n",
       "      <td>3.800508</td>\n",
       "      <td>Bad</td>\n",
       "    </tr>\n",
       "    <tr>\n",
       "      <th>7670</th>\n",
       "      <td>-3.002516</td>\n",
       "      <td>-0.226300</td>\n",
       "      <td>2.200625</td>\n",
       "      <td>1.556746</td>\n",
       "      <td>-1.269556</td>\n",
       "      <td>0.249304</td>\n",
       "      <td>1.628400</td>\n",
       "      <td>Bad</td>\n",
       "    </tr>\n",
       "    <tr>\n",
       "      <th>7992</th>\n",
       "      <td>-3.901210</td>\n",
       "      <td>0.364839</td>\n",
       "      <td>2.004397</td>\n",
       "      <td>1.809546</td>\n",
       "      <td>-1.106952</td>\n",
       "      <td>-1.586317</td>\n",
       "      <td>1.896975</td>\n",
       "      <td>Bad</td>\n",
       "    </tr>\n",
       "  </tbody>\n",
       "</table>\n",
       "<p>368 rows × 8 columns</p>\n",
       "</div>"
      ],
      "text/plain": [
       "          Size    Weight  Sweetness  Softness  HarvestTime  Ripeness  \\\n",
       "11   -2.031859  1.376768   2.273440 -2.205713     0.412156  3.757726   \n",
       "12    2.062170  1.561530   2.570375 -1.864780    -0.442195  2.249965   \n",
       "16   -1.965294 -0.067487   2.600195 -1.793097    -1.657986  1.086908   \n",
       "23   -0.832840  0.634435   2.885800 -1.018919    -1.476629  0.097068   \n",
       "28   -0.478383  1.276009   2.089278 -0.271868    -0.930454  1.283482   \n",
       "...        ...       ...        ...       ...          ...       ...   \n",
       "7533 -3.234950 -2.607614   2.620533  1.831630    -0.056624  0.323381   \n",
       "7546 -3.660607  2.185512   2.717076  1.254414     0.355699 -1.329499   \n",
       "7668 -4.385672  1.084290   2.105439  1.383432    -2.079246 -0.042839   \n",
       "7670 -3.002516 -0.226300   2.200625  1.556746    -1.269556  0.249304   \n",
       "7992 -3.901210  0.364839   2.004397  1.809546    -1.106952 -1.586317   \n",
       "\n",
       "       Acidity Quality  \n",
       "11    3.100448    Good  \n",
       "12    4.703310    Good  \n",
       "16    2.335015    Good  \n",
       "23    1.840007    Good  \n",
       "28    3.840079    Good  \n",
       "...        ...     ...  \n",
       "7533 -0.825731     Bad  \n",
       "7546  4.060363     Bad  \n",
       "7668  3.800508     Bad  \n",
       "7670  1.628400     Bad  \n",
       "7992  1.896975     Bad  \n",
       "\n",
       "[368 rows x 8 columns]"
      ]
     },
     "execution_count": 66,
     "metadata": {},
     "output_type": "execute_result"
    }
   ],
   "source": [
    "data_pd[(data_pd[\"Sweetness\"]>=2)&(data_pd[\"Sweetness\"]<=3)]"
   ]
  },
  {
   "cell_type": "code",
   "execution_count": 67,
   "id": "b730feae",
   "metadata": {},
   "outputs": [],
   "source": [
    "car_pd=pd.read_csv(\"car_prices.csv\")"
   ]
  },
  {
   "cell_type": "code",
   "execution_count": 68,
   "id": "b4fcd68b",
   "metadata": {},
   "outputs": [],
   "source": [
    "import func"
   ]
  },
  {
   "cell_type": "code",
   "execution_count": 70,
   "id": "4dbaf1dc",
   "metadata": {},
   "outputs": [],
   "source": [
    "header,car=func.read_csv(\"car_prices.csv\")"
   ]
  },
  {
   "cell_type": "code",
   "execution_count": 71,
   "id": "64f1e714",
   "metadata": {},
   "outputs": [
    {
     "data": {
      "text/plain": [
       "['year',\n",
       " 'make',\n",
       " 'model',\n",
       " 'trim',\n",
       " 'body',\n",
       " 'transmission',\n",
       " 'vin',\n",
       " 'state',\n",
       " 'condition',\n",
       " 'odometer',\n",
       " 'color',\n",
       " 'interior',\n",
       " 'seller',\n",
       " 'mmr',\n",
       " 'sellingprice',\n",
       " 'saledate']"
      ]
     },
     "execution_count": 71,
     "metadata": {},
     "output_type": "execute_result"
    }
   ],
   "source": [
    "header"
   ]
  },
  {
   "cell_type": "code",
   "execution_count": 73,
   "id": "6ef6253a",
   "metadata": {},
   "outputs": [
    {
     "name": "stdout",
     "output_type": "stream",
     "text": [
      "<class 'pandas.core.frame.DataFrame'>\n",
      "RangeIndex: 558837 entries, 0 to 558836\n",
      "Data columns (total 16 columns):\n",
      " #   Column        Non-Null Count   Dtype  \n",
      "---  ------        --------------   -----  \n",
      " 0   year          558837 non-null  int64  \n",
      " 1   make          548536 non-null  object \n",
      " 2   model         548438 non-null  object \n",
      " 3   trim          548186 non-null  object \n",
      " 4   body          545642 non-null  object \n",
      " 5   transmission  493485 non-null  object \n",
      " 6   vin           558833 non-null  object \n",
      " 7   state         558837 non-null  object \n",
      " 8   condition     547017 non-null  float64\n",
      " 9   odometer      558743 non-null  float64\n",
      " 10  color         558088 non-null  object \n",
      " 11  interior      558088 non-null  object \n",
      " 12  seller        558837 non-null  object \n",
      " 13  mmr           558799 non-null  float64\n",
      " 14  sellingprice  558825 non-null  float64\n",
      " 15  saledate      558825 non-null  object \n",
      "dtypes: float64(4), int64(1), object(11)\n",
      "memory usage: 68.2+ MB\n"
     ]
    }
   ],
   "source": [
    "car_pd.info()"
   ]
  },
  {
   "cell_type": "code",
   "execution_count": 85,
   "id": "8397a6ad",
   "metadata": {},
   "outputs": [
    {
     "data": {
      "text/plain": [
       "10301"
      ]
     },
     "execution_count": 85,
     "metadata": {},
     "output_type": "execute_result"
    }
   ],
   "source": [
    "(car_pd.make.isnull()).sum()"
   ]
  },
  {
   "cell_type": "code",
   "execution_count": 86,
   "id": "73118b39",
   "metadata": {},
   "outputs": [
    {
     "data": {
      "text/plain": [
       "558837"
      ]
     },
     "execution_count": 86,
     "metadata": {},
     "output_type": "execute_result"
    }
   ],
   "source": [
    "10301+548536"
   ]
  },
  {
   "cell_type": "code",
   "execution_count": 91,
   "id": "965303db",
   "metadata": {},
   "outputs": [],
   "source": [
    "car_pd[\"make\"]=car_pd[\"make\"].fillna(method=\"ffill\")"
   ]
  },
  {
   "cell_type": "code",
   "execution_count": 92,
   "id": "7c271a16",
   "metadata": {},
   "outputs": [
    {
     "name": "stdout",
     "output_type": "stream",
     "text": [
      "<class 'pandas.core.frame.DataFrame'>\n",
      "RangeIndex: 558837 entries, 0 to 558836\n",
      "Data columns (total 16 columns):\n",
      " #   Column        Non-Null Count   Dtype  \n",
      "---  ------        --------------   -----  \n",
      " 0   year          558837 non-null  int64  \n",
      " 1   make          558837 non-null  object \n",
      " 2   model         548438 non-null  object \n",
      " 3   trim          548186 non-null  object \n",
      " 4   body          545642 non-null  object \n",
      " 5   transmission  493485 non-null  object \n",
      " 6   vin           558833 non-null  object \n",
      " 7   state         558837 non-null  object \n",
      " 8   condition     547017 non-null  float64\n",
      " 9   odometer      558743 non-null  float64\n",
      " 10  color         558088 non-null  object \n",
      " 11  interior      558088 non-null  object \n",
      " 12  seller        558837 non-null  object \n",
      " 13  mmr           558799 non-null  float64\n",
      " 14  sellingprice  558825 non-null  float64\n",
      " 15  saledate      558825 non-null  object \n",
      "dtypes: float64(4), int64(1), object(11)\n",
      "memory usage: 68.2+ MB\n"
     ]
    }
   ],
   "source": [
    "car_pd.info()"
   ]
  },
  {
   "cell_type": "code",
   "execution_count": 106,
   "id": "dd37ea2b",
   "metadata": {},
   "outputs": [
    {
     "data": {
      "text/plain": [
       "year                                               2012\n",
       "make                                                Bmw\n",
       "model                                          6 Series\n",
       "trim                                               650i\n",
       "body                                        Convertible\n",
       "transmission                                  automatic\n",
       "vin                                   wbalz3c5xcdl71530\n",
       "state                                                ca\n",
       "condition                                          38.0\n",
       "odometer                                        28925.0\n",
       "color                                             white\n",
       "interior                                          black\n",
       "seller           financial services remarketing (lease)\n",
       "mmr                                             48500.0\n",
       "sellingprice                                    50500.0\n",
       "saledate        Thu Dec 18 2014 12:30:00 GMT-0800 (PST)\n",
       "Name: 744, dtype: object"
      ]
     },
     "execution_count": 106,
     "metadata": {},
     "output_type": "execute_result"
    }
   ],
   "source": [
    "car_pd.iloc[744]"
   ]
  },
  {
   "cell_type": "code",
   "execution_count": 104,
   "id": "364c6dc7",
   "metadata": {},
   "outputs": [],
   "source": [
    "car_pd['make']=car_pd['make'].str.title()"
   ]
  },
  {
   "cell_type": "code",
   "execution_count": 113,
   "id": "e2263f94",
   "metadata": {},
   "outputs": [],
   "source": [
    "car_pd['saledate']=car_pd['saledate'].fillna(method=\"ffill\")"
   ]
  },
  {
   "cell_type": "code",
   "execution_count": 115,
   "id": "12bb8336",
   "metadata": {},
   "outputs": [
    {
     "ename": "ValueError",
     "evalue": "Cannot parse both %Z and %z",
     "output_type": "error",
     "traceback": [
      "\u001b[1;31m---------------------------------------------------------------------------\u001b[0m",
      "\u001b[1;31mValueError\u001b[0m                                Traceback (most recent call last)",
      "Cell \u001b[1;32mIn[115], line 1\u001b[0m\n\u001b[1;32m----> 1\u001b[0m pd\u001b[38;5;241m.\u001b[39mto_datetime(car_pd[\u001b[38;5;124m'\u001b[39m\u001b[38;5;124msaledate\u001b[39m\u001b[38;5;124m'\u001b[39m], \u001b[38;5;28mformat\u001b[39m\u001b[38;5;241m=\u001b[39m\u001b[38;5;124m'\u001b[39m\u001b[38;5;132;01m%a\u001b[39;00m\u001b[38;5;124m \u001b[39m\u001b[38;5;124m%\u001b[39m\u001b[38;5;124mb \u001b[39m\u001b[38;5;132;01m%d\u001b[39;00m\u001b[38;5;124m \u001b[39m\u001b[38;5;124m%\u001b[39m\u001b[38;5;124mY \u001b[39m\u001b[38;5;124m%\u001b[39m\u001b[38;5;124mH:\u001b[39m\u001b[38;5;124m%\u001b[39m\u001b[38;5;124mM:\u001b[39m\u001b[38;5;124m%\u001b[39m\u001b[38;5;124mS GMT\u001b[39m\u001b[38;5;124m%\u001b[39m\u001b[38;5;124mz (\u001b[39m\u001b[38;5;124m%\u001b[39m\u001b[38;5;124mZ)\u001b[39m\u001b[38;5;124m'\u001b[39m)\n",
      "File \u001b[1;32m~\\AppData\\Local\\anaconda3\\Lib\\site-packages\\pandas\\core\\tools\\datetimes.py:1046\u001b[0m, in \u001b[0;36mto_datetime\u001b[1;34m(arg, errors, dayfirst, yearfirst, utc, format, exact, unit, infer_datetime_format, origin, cache)\u001b[0m\n\u001b[0;32m   1044\u001b[0m             result \u001b[38;5;241m=\u001b[39m arg\u001b[38;5;241m.\u001b[39mtz_localize(\u001b[38;5;124m\"\u001b[39m\u001b[38;5;124mutc\u001b[39m\u001b[38;5;124m\"\u001b[39m)\n\u001b[0;32m   1045\u001b[0m \u001b[38;5;28;01melif\u001b[39;00m \u001b[38;5;28misinstance\u001b[39m(arg, ABCSeries):\n\u001b[1;32m-> 1046\u001b[0m     cache_array \u001b[38;5;241m=\u001b[39m _maybe_cache(arg, \u001b[38;5;28mformat\u001b[39m, cache, convert_listlike)\n\u001b[0;32m   1047\u001b[0m     \u001b[38;5;28;01mif\u001b[39;00m \u001b[38;5;129;01mnot\u001b[39;00m cache_array\u001b[38;5;241m.\u001b[39mempty:\n\u001b[0;32m   1048\u001b[0m         result \u001b[38;5;241m=\u001b[39m arg\u001b[38;5;241m.\u001b[39mmap(cache_array)\n",
      "File \u001b[1;32m~\\AppData\\Local\\anaconda3\\Lib\\site-packages\\pandas\\core\\tools\\datetimes.py:250\u001b[0m, in \u001b[0;36m_maybe_cache\u001b[1;34m(arg, format, cache, convert_listlike)\u001b[0m\n\u001b[0;32m    248\u001b[0m unique_dates \u001b[38;5;241m=\u001b[39m unique(arg)\n\u001b[0;32m    249\u001b[0m \u001b[38;5;28;01mif\u001b[39;00m \u001b[38;5;28mlen\u001b[39m(unique_dates) \u001b[38;5;241m<\u001b[39m \u001b[38;5;28mlen\u001b[39m(arg):\n\u001b[1;32m--> 250\u001b[0m     cache_dates \u001b[38;5;241m=\u001b[39m convert_listlike(unique_dates, \u001b[38;5;28mformat\u001b[39m)\n\u001b[0;32m    251\u001b[0m     \u001b[38;5;66;03m# GH#45319\u001b[39;00m\n\u001b[0;32m    252\u001b[0m     \u001b[38;5;28;01mtry\u001b[39;00m:\n",
      "File \u001b[1;32m~\\AppData\\Local\\anaconda3\\Lib\\site-packages\\pandas\\core\\tools\\datetimes.py:453\u001b[0m, in \u001b[0;36m_convert_listlike_datetimes\u001b[1;34m(arg, format, name, utc, unit, errors, dayfirst, yearfirst, exact)\u001b[0m\n\u001b[0;32m    451\u001b[0m \u001b[38;5;66;03m# `format` could be inferred, or user didn't ask for mixed-format parsing.\u001b[39;00m\n\u001b[0;32m    452\u001b[0m \u001b[38;5;28;01mif\u001b[39;00m \u001b[38;5;28mformat\u001b[39m \u001b[38;5;129;01mis\u001b[39;00m \u001b[38;5;129;01mnot\u001b[39;00m \u001b[38;5;28;01mNone\u001b[39;00m \u001b[38;5;129;01mand\u001b[39;00m \u001b[38;5;28mformat\u001b[39m \u001b[38;5;241m!=\u001b[39m \u001b[38;5;124m\"\u001b[39m\u001b[38;5;124mmixed\u001b[39m\u001b[38;5;124m\"\u001b[39m:\n\u001b[1;32m--> 453\u001b[0m     \u001b[38;5;28;01mreturn\u001b[39;00m _array_strptime_with_fallback(arg, name, utc, \u001b[38;5;28mformat\u001b[39m, exact, errors)\n\u001b[0;32m    455\u001b[0m result, tz_parsed \u001b[38;5;241m=\u001b[39m objects_to_datetime64ns(\n\u001b[0;32m    456\u001b[0m     arg,\n\u001b[0;32m    457\u001b[0m     dayfirst\u001b[38;5;241m=\u001b[39mdayfirst,\n\u001b[1;32m   (...)\u001b[0m\n\u001b[0;32m    461\u001b[0m     allow_object\u001b[38;5;241m=\u001b[39m\u001b[38;5;28;01mTrue\u001b[39;00m,\n\u001b[0;32m    462\u001b[0m )\n\u001b[0;32m    464\u001b[0m \u001b[38;5;28;01mif\u001b[39;00m tz_parsed \u001b[38;5;129;01mis\u001b[39;00m \u001b[38;5;129;01mnot\u001b[39;00m \u001b[38;5;28;01mNone\u001b[39;00m:\n\u001b[0;32m    465\u001b[0m     \u001b[38;5;66;03m# We can take a shortcut since the datetime64 numpy array\u001b[39;00m\n\u001b[0;32m    466\u001b[0m     \u001b[38;5;66;03m# is in UTC\u001b[39;00m\n",
      "File \u001b[1;32m~\\AppData\\Local\\anaconda3\\Lib\\site-packages\\pandas\\core\\tools\\datetimes.py:484\u001b[0m, in \u001b[0;36m_array_strptime_with_fallback\u001b[1;34m(arg, name, utc, fmt, exact, errors)\u001b[0m\n\u001b[0;32m    473\u001b[0m \u001b[38;5;28;01mdef\u001b[39;00m \u001b[38;5;21m_array_strptime_with_fallback\u001b[39m(\n\u001b[0;32m    474\u001b[0m     arg,\n\u001b[0;32m    475\u001b[0m     name,\n\u001b[1;32m   (...)\u001b[0m\n\u001b[0;32m    479\u001b[0m     errors: \u001b[38;5;28mstr\u001b[39m,\n\u001b[0;32m    480\u001b[0m ) \u001b[38;5;241m-\u001b[39m\u001b[38;5;241m>\u001b[39m Index:\n\u001b[0;32m    481\u001b[0m \u001b[38;5;250m    \u001b[39m\u001b[38;5;124;03m\"\"\"\u001b[39;00m\n\u001b[0;32m    482\u001b[0m \u001b[38;5;124;03m    Call array_strptime, with fallback behavior depending on 'errors'.\u001b[39;00m\n\u001b[0;32m    483\u001b[0m \u001b[38;5;124;03m    \"\"\"\u001b[39;00m\n\u001b[1;32m--> 484\u001b[0m     result, timezones \u001b[38;5;241m=\u001b[39m array_strptime(arg, fmt, exact\u001b[38;5;241m=\u001b[39mexact, errors\u001b[38;5;241m=\u001b[39merrors, utc\u001b[38;5;241m=\u001b[39mutc)\n\u001b[0;32m    485\u001b[0m     \u001b[38;5;28;01mif\u001b[39;00m \u001b[38;5;28many\u001b[39m(tz \u001b[38;5;129;01mis\u001b[39;00m \u001b[38;5;129;01mnot\u001b[39;00m \u001b[38;5;28;01mNone\u001b[39;00m \u001b[38;5;28;01mfor\u001b[39;00m tz \u001b[38;5;129;01min\u001b[39;00m timezones):\n\u001b[0;32m    486\u001b[0m         \u001b[38;5;28;01mreturn\u001b[39;00m _return_parsed_timezone_results(result, timezones, utc, name)\n",
      "File \u001b[1;32m~\\AppData\\Local\\anaconda3\\Lib\\site-packages\\pandas\\_libs\\tslibs\\strptime.pyx:199\u001b[0m, in \u001b[0;36mpandas._libs.tslibs.strptime.array_strptime\u001b[1;34m()\u001b[0m\n",
      "\u001b[1;31mValueError\u001b[0m: Cannot parse both %Z and %z"
     ]
    }
   ],
   "source": [
    "pd.to_datetime(car_pd['saledate'], format='%a %b %d %Y %H:%M:%S GMT%z (%Z)')"
   ]
  },
  {
   "cell_type": "code",
   "execution_count": 116,
   "id": "5ed92ba4",
   "metadata": {},
   "outputs": [
    {
     "ename": "ValueError",
     "evalue": "Cannot parse both %Z and %z",
     "output_type": "error",
     "traceback": [
      "\u001b[1;31m---------------------------------------------------------------------------\u001b[0m",
      "\u001b[1;31mValueError\u001b[0m                                Traceback (most recent call last)",
      "Cell \u001b[1;32mIn[116], line 1\u001b[0m\n\u001b[1;32m----> 1\u001b[0m pd\u001b[38;5;241m.\u001b[39mto_datetime(car_pd[\u001b[38;5;124m'\u001b[39m\u001b[38;5;124msaledate\u001b[39m\u001b[38;5;124m'\u001b[39m], \u001b[38;5;28mformat\u001b[39m\u001b[38;5;241m=\u001b[39m\u001b[38;5;124m'\u001b[39m\u001b[38;5;132;01m%a\u001b[39;00m\u001b[38;5;124m \u001b[39m\u001b[38;5;124m%\u001b[39m\u001b[38;5;124mb \u001b[39m\u001b[38;5;132;01m%d\u001b[39;00m\u001b[38;5;124m \u001b[39m\u001b[38;5;124m%\u001b[39m\u001b[38;5;124mY \u001b[39m\u001b[38;5;124m%\u001b[39m\u001b[38;5;124mH:\u001b[39m\u001b[38;5;124m%\u001b[39m\u001b[38;5;124mM:\u001b[39m\u001b[38;5;124m%\u001b[39m\u001b[38;5;124mS GMT\u001b[39m\u001b[38;5;124m%\u001b[39m\u001b[38;5;124mz (\u001b[39m\u001b[38;5;124m%\u001b[39m\u001b[38;5;124mZ)\u001b[39m\u001b[38;5;124m'\u001b[39m)\n",
      "File \u001b[1;32m~\\AppData\\Local\\anaconda3\\Lib\\site-packages\\pandas\\core\\tools\\datetimes.py:1046\u001b[0m, in \u001b[0;36mto_datetime\u001b[1;34m(arg, errors, dayfirst, yearfirst, utc, format, exact, unit, infer_datetime_format, origin, cache)\u001b[0m\n\u001b[0;32m   1044\u001b[0m             result \u001b[38;5;241m=\u001b[39m arg\u001b[38;5;241m.\u001b[39mtz_localize(\u001b[38;5;124m\"\u001b[39m\u001b[38;5;124mutc\u001b[39m\u001b[38;5;124m\"\u001b[39m)\n\u001b[0;32m   1045\u001b[0m \u001b[38;5;28;01melif\u001b[39;00m \u001b[38;5;28misinstance\u001b[39m(arg, ABCSeries):\n\u001b[1;32m-> 1046\u001b[0m     cache_array \u001b[38;5;241m=\u001b[39m _maybe_cache(arg, \u001b[38;5;28mformat\u001b[39m, cache, convert_listlike)\n\u001b[0;32m   1047\u001b[0m     \u001b[38;5;28;01mif\u001b[39;00m \u001b[38;5;129;01mnot\u001b[39;00m cache_array\u001b[38;5;241m.\u001b[39mempty:\n\u001b[0;32m   1048\u001b[0m         result \u001b[38;5;241m=\u001b[39m arg\u001b[38;5;241m.\u001b[39mmap(cache_array)\n",
      "File \u001b[1;32m~\\AppData\\Local\\anaconda3\\Lib\\site-packages\\pandas\\core\\tools\\datetimes.py:250\u001b[0m, in \u001b[0;36m_maybe_cache\u001b[1;34m(arg, format, cache, convert_listlike)\u001b[0m\n\u001b[0;32m    248\u001b[0m unique_dates \u001b[38;5;241m=\u001b[39m unique(arg)\n\u001b[0;32m    249\u001b[0m \u001b[38;5;28;01mif\u001b[39;00m \u001b[38;5;28mlen\u001b[39m(unique_dates) \u001b[38;5;241m<\u001b[39m \u001b[38;5;28mlen\u001b[39m(arg):\n\u001b[1;32m--> 250\u001b[0m     cache_dates \u001b[38;5;241m=\u001b[39m convert_listlike(unique_dates, \u001b[38;5;28mformat\u001b[39m)\n\u001b[0;32m    251\u001b[0m     \u001b[38;5;66;03m# GH#45319\u001b[39;00m\n\u001b[0;32m    252\u001b[0m     \u001b[38;5;28;01mtry\u001b[39;00m:\n",
      "File \u001b[1;32m~\\AppData\\Local\\anaconda3\\Lib\\site-packages\\pandas\\core\\tools\\datetimes.py:453\u001b[0m, in \u001b[0;36m_convert_listlike_datetimes\u001b[1;34m(arg, format, name, utc, unit, errors, dayfirst, yearfirst, exact)\u001b[0m\n\u001b[0;32m    451\u001b[0m \u001b[38;5;66;03m# `format` could be inferred, or user didn't ask for mixed-format parsing.\u001b[39;00m\n\u001b[0;32m    452\u001b[0m \u001b[38;5;28;01mif\u001b[39;00m \u001b[38;5;28mformat\u001b[39m \u001b[38;5;129;01mis\u001b[39;00m \u001b[38;5;129;01mnot\u001b[39;00m \u001b[38;5;28;01mNone\u001b[39;00m \u001b[38;5;129;01mand\u001b[39;00m \u001b[38;5;28mformat\u001b[39m \u001b[38;5;241m!=\u001b[39m \u001b[38;5;124m\"\u001b[39m\u001b[38;5;124mmixed\u001b[39m\u001b[38;5;124m\"\u001b[39m:\n\u001b[1;32m--> 453\u001b[0m     \u001b[38;5;28;01mreturn\u001b[39;00m _array_strptime_with_fallback(arg, name, utc, \u001b[38;5;28mformat\u001b[39m, exact, errors)\n\u001b[0;32m    455\u001b[0m result, tz_parsed \u001b[38;5;241m=\u001b[39m objects_to_datetime64ns(\n\u001b[0;32m    456\u001b[0m     arg,\n\u001b[0;32m    457\u001b[0m     dayfirst\u001b[38;5;241m=\u001b[39mdayfirst,\n\u001b[1;32m   (...)\u001b[0m\n\u001b[0;32m    461\u001b[0m     allow_object\u001b[38;5;241m=\u001b[39m\u001b[38;5;28;01mTrue\u001b[39;00m,\n\u001b[0;32m    462\u001b[0m )\n\u001b[0;32m    464\u001b[0m \u001b[38;5;28;01mif\u001b[39;00m tz_parsed \u001b[38;5;129;01mis\u001b[39;00m \u001b[38;5;129;01mnot\u001b[39;00m \u001b[38;5;28;01mNone\u001b[39;00m:\n\u001b[0;32m    465\u001b[0m     \u001b[38;5;66;03m# We can take a shortcut since the datetime64 numpy array\u001b[39;00m\n\u001b[0;32m    466\u001b[0m     \u001b[38;5;66;03m# is in UTC\u001b[39;00m\n",
      "File \u001b[1;32m~\\AppData\\Local\\anaconda3\\Lib\\site-packages\\pandas\\core\\tools\\datetimes.py:484\u001b[0m, in \u001b[0;36m_array_strptime_with_fallback\u001b[1;34m(arg, name, utc, fmt, exact, errors)\u001b[0m\n\u001b[0;32m    473\u001b[0m \u001b[38;5;28;01mdef\u001b[39;00m \u001b[38;5;21m_array_strptime_with_fallback\u001b[39m(\n\u001b[0;32m    474\u001b[0m     arg,\n\u001b[0;32m    475\u001b[0m     name,\n\u001b[1;32m   (...)\u001b[0m\n\u001b[0;32m    479\u001b[0m     errors: \u001b[38;5;28mstr\u001b[39m,\n\u001b[0;32m    480\u001b[0m ) \u001b[38;5;241m-\u001b[39m\u001b[38;5;241m>\u001b[39m Index:\n\u001b[0;32m    481\u001b[0m \u001b[38;5;250m    \u001b[39m\u001b[38;5;124;03m\"\"\"\u001b[39;00m\n\u001b[0;32m    482\u001b[0m \u001b[38;5;124;03m    Call array_strptime, with fallback behavior depending on 'errors'.\u001b[39;00m\n\u001b[0;32m    483\u001b[0m \u001b[38;5;124;03m    \"\"\"\u001b[39;00m\n\u001b[1;32m--> 484\u001b[0m     result, timezones \u001b[38;5;241m=\u001b[39m array_strptime(arg, fmt, exact\u001b[38;5;241m=\u001b[39mexact, errors\u001b[38;5;241m=\u001b[39merrors, utc\u001b[38;5;241m=\u001b[39mutc)\n\u001b[0;32m    485\u001b[0m     \u001b[38;5;28;01mif\u001b[39;00m \u001b[38;5;28many\u001b[39m(tz \u001b[38;5;129;01mis\u001b[39;00m \u001b[38;5;129;01mnot\u001b[39;00m \u001b[38;5;28;01mNone\u001b[39;00m \u001b[38;5;28;01mfor\u001b[39;00m tz \u001b[38;5;129;01min\u001b[39;00m timezones):\n\u001b[0;32m    486\u001b[0m         \u001b[38;5;28;01mreturn\u001b[39;00m _return_parsed_timezone_results(result, timezones, utc, name)\n",
      "File \u001b[1;32m~\\AppData\\Local\\anaconda3\\Lib\\site-packages\\pandas\\_libs\\tslibs\\strptime.pyx:199\u001b[0m, in \u001b[0;36mpandas._libs.tslibs.strptime.array_strptime\u001b[1;34m()\u001b[0m\n",
      "\u001b[1;31mValueError\u001b[0m: Cannot parse both %Z and %z"
     ]
    }
   ],
   "source": [
    "pd.to_datetime(car_pd['saledate'], format='%a %b %d %Y %H:%M:%S GMT%z (%Z)')\n"
   ]
  },
  {
   "cell_type": "code",
   "execution_count": 117,
   "id": "e031c100",
   "metadata": {},
   "outputs": [
    {
     "ename": "SyntaxError",
     "evalue": "invalid syntax (468474341.py, line 1)",
     "output_type": "error",
     "traceback": [
      "\u001b[1;36m  Cell \u001b[1;32mIn[117], line 1\u001b[1;36m\u001b[0m\n\u001b[1;33m    Extract UTC offset and timezone abbreviation\u001b[0m\n\u001b[1;37m            ^\u001b[0m\n\u001b[1;31mSyntaxError\u001b[0m\u001b[1;31m:\u001b[0m invalid syntax\n"
     ]
    }
   ],
   "source": [
    "Extract UTC offset and timezone abbreviation\n",
    "offsets = car_pd['saledate'].str.extract(r'GMT([-+]\\d{4}) \\((\\w{3})\\)')\n",
    "\n",
    "# Add UTC offset and timezone abbreviation as separate columns\n",
    "car_pd['utc_offset'] = pd.to_timedelta(offsets[0], unit='hour')\n",
    "car_pd['timezone'] = offsets[1]\n",
    "\n",
    "# Remove UTC offset and timezone abbreviation from the datetime strings\n",
    "car_pd['saledate'] = car_pd['saledate'].str.replace(r'GMT[-+]\\d{4} \\(\\w{3}\\)', '').str.strip()\n",
    "\n",
    "# Convert the 'saledate' column to datetime format\n",
    "car_pd['saledate'] = pd.to_datetime(car_pd['saledate'], format='%a %b %d %Y %H:%M:%S')\n"
   ]
  },
  {
   "cell_type": "code",
   "execution_count": null,
   "id": "991f8a3d",
   "metadata": {},
   "outputs": [],
   "source": []
  }
 ],
 "metadata": {
  "kernelspec": {
   "display_name": "Python 3 (ipykernel)",
   "language": "python",
   "name": "python3"
  },
  "language_info": {
   "codemirror_mode": {
    "name": "ipython",
    "version": 3
   },
   "file_extension": ".py",
   "mimetype": "text/x-python",
   "name": "python",
   "nbconvert_exporter": "python",
   "pygments_lexer": "ipython3",
   "version": "3.11.5"
  }
 },
 "nbformat": 4,
 "nbformat_minor": 5
}
