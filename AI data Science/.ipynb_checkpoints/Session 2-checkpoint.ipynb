{
 "cells": [
  {
   "cell_type": "code",
   "execution_count": 1,
   "id": "574b47d1",
   "metadata": {},
   "outputs": [
    {
     "data": {
      "text/plain": [
       "8"
      ]
     },
     "execution_count": 1,
     "metadata": {},
     "output_type": "execute_result"
    }
   ],
   "source": [
    "3+5"
   ]
  },
  {
   "cell_type": "markdown",
   "id": "bd20eef3",
   "metadata": {},
   "source": [
    "# Legality of Variable\n",
    "\n",
    "1. Variable contains alpha (abc), number (123) or underscore (_)\n",
    "2. It will not start from a number"
   ]
  },
  {
   "cell_type": "code",
   "execution_count": 5,
   "id": "f3d7dda7",
   "metadata": {},
   "outputs": [
    {
     "ename": "SyntaxError",
     "evalue": "invalid decimal literal (3311630159.py, line 4)",
     "output_type": "error",
     "traceback": [
      "\u001b[1;36m  Cell \u001b[1;32mIn[5], line 4\u001b[1;36m\u001b[0m\n\u001b[1;33m    1num = 5+2\u001b[0m\n\u001b[1;37m    ^\u001b[0m\n\u001b[1;31mSyntaxError\u001b[0m\u001b[1;31m:\u001b[0m invalid decimal literal\n"
     ]
    }
   ],
   "source": [
    "num = 3+5\n",
    "num1 = 3+6\n",
    "\n",
    "1num = 5+2\n",
    "\n",
    "_num = 6+3"
   ]
  },
  {
   "cell_type": "code",
   "execution_count": 6,
   "id": "3dc3c750",
   "metadata": {},
   "outputs": [
    {
     "ename": "SyntaxError",
     "evalue": "invalid syntax (3857184244.py, line 3)",
     "output_type": "error",
     "traceback": [
      "\u001b[1;36m  Cell \u001b[1;32mIn[6], line 3\u001b[1;36m\u001b[0m\n\u001b[1;33m    num 1 = 52\u001b[0m\n\u001b[1;37m        ^\u001b[0m\n\u001b[1;31mSyntaxError\u001b[0m\u001b[1;31m:\u001b[0m invalid syntax\n"
     ]
    }
   ],
   "source": [
    "num_1 = 89*2\n",
    "\n",
    "num 1 = 52"
   ]
  },
  {
   "cell_type": "code",
   "execution_count": 8,
   "id": "9b6ac5f4",
   "metadata": {},
   "outputs": [],
   "source": [
    "num = 3+5"
   ]
  },
  {
   "cell_type": "code",
   "execution_count": 9,
   "id": "cd5e1998",
   "metadata": {},
   "outputs": [
    {
     "data": {
      "text/plain": [
       "8"
      ]
     },
     "execution_count": 9,
     "metadata": {},
     "output_type": "execute_result"
    }
   ],
   "source": [
    "num"
   ]
  },
  {
   "cell_type": "code",
   "execution_count": 10,
   "id": "1cca6d98",
   "metadata": {},
   "outputs": [
    {
     "data": {
      "text/plain": [
       "8"
      ]
     },
     "execution_count": 10,
     "metadata": {},
     "output_type": "execute_result"
    }
   ],
   "source": [
    "3+5"
   ]
  },
  {
   "cell_type": "code",
   "execution_count": 11,
   "id": "88d6557e",
   "metadata": {},
   "outputs": [
    {
     "ename": "SyntaxError",
     "evalue": "invalid syntax (3271083384.py, line 1)",
     "output_type": "error",
     "traceback": [
      "\u001b[1;36m  Cell \u001b[1;32mIn[11], line 1\u001b[1;36m\u001b[0m\n\u001b[1;33m    3.0.0\u001b[0m\n\u001b[1;37m       ^\u001b[0m\n\u001b[1;31mSyntaxError\u001b[0m\u001b[1;31m:\u001b[0m invalid syntax\n"
     ]
    }
   ],
   "source": [
    "3.0.0"
   ]
  },
  {
   "cell_type": "code",
   "execution_count": 12,
   "id": "46203078",
   "metadata": {},
   "outputs": [
    {
     "data": {
      "text/plain": [
       "int"
      ]
     },
     "execution_count": 12,
     "metadata": {},
     "output_type": "execute_result"
    }
   ],
   "source": [
    "type(3)"
   ]
  },
  {
   "cell_type": "code",
   "execution_count": 19,
   "id": "f9a403f9",
   "metadata": {},
   "outputs": [],
   "source": [
    "print = 123"
   ]
  },
  {
   "cell_type": "code",
   "execution_count": 14,
   "id": "f49b68e4",
   "metadata": {},
   "outputs": [
    {
     "data": {
      "text/plain": [
       "123"
      ]
     },
     "execution_count": 14,
     "metadata": {},
     "output_type": "execute_result"
    }
   ],
   "source": [
    "print"
   ]
  },
  {
   "cell_type": "code",
   "execution_count": 15,
   "id": "9f7ce678",
   "metadata": {},
   "outputs": [
    {
     "ename": "TypeError",
     "evalue": "'int' object is not callable",
     "output_type": "error",
     "traceback": [
      "\u001b[1;31m---------------------------------------------------------------------------\u001b[0m",
      "\u001b[1;31mTypeError\u001b[0m                                 Traceback (most recent call last)",
      "Cell \u001b[1;32mIn[15], line 1\u001b[0m\n\u001b[1;32m----> 1\u001b[0m \u001b[38;5;28mprint\u001b[39m(\u001b[38;5;241m3\u001b[39m)\n",
      "\u001b[1;31mTypeError\u001b[0m: 'int' object is not callable"
     ]
    }
   ],
   "source": [
    "print(3)"
   ]
  },
  {
   "cell_type": "code",
   "execution_count": 16,
   "id": "b9d41793",
   "metadata": {},
   "outputs": [
    {
     "data": {
      "text/plain": [
       "8"
      ]
     },
     "execution_count": 16,
     "metadata": {},
     "output_type": "execute_result"
    }
   ],
   "source": [
    "num"
   ]
  },
  {
   "cell_type": "code",
   "execution_count": 21,
   "id": "27f87ba8",
   "metadata": {},
   "outputs": [],
   "source": [
    "del print"
   ]
  },
  {
   "cell_type": "code",
   "execution_count": 22,
   "id": "c2b5c81b",
   "metadata": {},
   "outputs": [
    {
     "name": "stdout",
     "output_type": "stream",
     "text": [
      "9\n"
     ]
    }
   ],
   "source": [
    "print(3+6)"
   ]
  },
  {
   "cell_type": "code",
   "execution_count": 23,
   "id": "776d8dbf",
   "metadata": {},
   "outputs": [],
   "source": [
    "num = 7\n",
    "num = 9"
   ]
  },
  {
   "cell_type": "code",
   "execution_count": 24,
   "id": "dc26c0b8",
   "metadata": {},
   "outputs": [],
   "source": [
    "waqas_salary = 5000\n",
    "waqas_salary = 6000"
   ]
  },
  {
   "cell_type": "code",
   "execution_count": 25,
   "id": "8e8991c9",
   "metadata": {},
   "outputs": [],
   "source": [
    "waqas_salary = waqas_salary + 200 # = assignment operator"
   ]
  },
  {
   "cell_type": "code",
   "execution_count": 26,
   "id": "002ae376",
   "metadata": {},
   "outputs": [
    {
     "data": {
      "text/plain": [
       "6200"
      ]
     },
     "execution_count": 26,
     "metadata": {},
     "output_type": "execute_result"
    }
   ],
   "source": [
    "waqas_salary"
   ]
  },
  {
   "cell_type": "code",
   "execution_count": 27,
   "id": "03222873",
   "metadata": {},
   "outputs": [
    {
     "data": {
      "text/plain": [
       "float"
      ]
     },
     "execution_count": 27,
     "metadata": {},
     "output_type": "execute_result"
    }
   ],
   "source": [
    "type(3.0)"
   ]
  },
  {
   "cell_type": "code",
   "execution_count": 29,
   "id": "b411a6c8",
   "metadata": {},
   "outputs": [
    {
     "data": {
      "text/plain": [
       "str"
      ]
     },
     "execution_count": 29,
     "metadata": {},
     "output_type": "execute_result"
    }
   ],
   "source": [
    "\"3.0.0\"\n",
    "type('3.0.0')"
   ]
  },
  {
   "cell_type": "code",
   "execution_count": 30,
   "id": "f45d0c45",
   "metadata": {},
   "outputs": [],
   "source": [
    "num = 8"
   ]
  },
  {
   "cell_type": "code",
   "execution_count": 31,
   "id": "91981d95",
   "metadata": {},
   "outputs": [
    {
     "data": {
      "text/plain": [
       "10"
      ]
     },
     "execution_count": 31,
     "metadata": {},
     "output_type": "execute_result"
    }
   ],
   "source": [
    "num + 2"
   ]
  },
  {
   "cell_type": "code",
   "execution_count": 32,
   "id": "4c017dcf",
   "metadata": {},
   "outputs": [],
   "source": [
    "num = num + 2"
   ]
  },
  {
   "cell_type": "code",
   "execution_count": 33,
   "id": "de8af982",
   "metadata": {},
   "outputs": [
    {
     "data": {
      "text/plain": [
       "10"
      ]
     },
     "execution_count": 33,
     "metadata": {},
     "output_type": "execute_result"
    }
   ],
   "source": [
    "num"
   ]
  },
  {
   "cell_type": "code",
   "execution_count": 35,
   "id": "f9fca808",
   "metadata": {},
   "outputs": [
    {
     "data": {
      "text/plain": [
       "6200"
      ]
     },
     "execution_count": 35,
     "metadata": {},
     "output_type": "execute_result"
    }
   ],
   "source": [
    "waqas_salary"
   ]
  },
  {
   "cell_type": "code",
   "execution_count": 36,
   "id": "86f7e3ee",
   "metadata": {},
   "outputs": [],
   "source": [
    "waqas_salary += 700 # waqas_salary = waqas_salary + 700"
   ]
  },
  {
   "cell_type": "code",
   "execution_count": 37,
   "id": "e6f985e2",
   "metadata": {},
   "outputs": [
    {
     "data": {
      "text/plain": [
       "6900"
      ]
     },
     "execution_count": 37,
     "metadata": {},
     "output_type": "execute_result"
    }
   ],
   "source": [
    "waqas_salary"
   ]
  },
  {
   "cell_type": "code",
   "execution_count": 38,
   "id": "f2cd3f0c",
   "metadata": {},
   "outputs": [],
   "source": [
    "waqas_salary -= 200"
   ]
  },
  {
   "cell_type": "code",
   "execution_count": 39,
   "id": "75dabd82",
   "metadata": {},
   "outputs": [
    {
     "data": {
      "text/plain": [
       "6700"
      ]
     },
     "execution_count": 39,
     "metadata": {},
     "output_type": "execute_result"
    }
   ],
   "source": [
    "waqas_salary"
   ]
  },
  {
   "cell_type": "markdown",
   "id": "a3f22094",
   "metadata": {},
   "source": [
    "# PEMDAS"
   ]
  },
  {
   "cell_type": "code",
   "execution_count": 40,
   "id": "c17f12cc",
   "metadata": {},
   "outputs": [
    {
     "data": {
      "text/plain": [
       "0"
      ]
     },
     "execution_count": 40,
     "metadata": {},
     "output_type": "execute_result"
    }
   ],
   "source": [
    "2^2"
   ]
  },
  {
   "cell_type": "code",
   "execution_count": 41,
   "id": "3416b085",
   "metadata": {},
   "outputs": [
    {
     "data": {
      "text/plain": [
       "8"
      ]
     },
     "execution_count": 41,
     "metadata": {},
     "output_type": "execute_result"
    }
   ],
   "source": [
    "2**3 # 2x2x2"
   ]
  },
  {
   "cell_type": "markdown",
   "id": "374e03dc",
   "metadata": {},
   "source": [
    "PEMDAS # - (),**,*,/,+,- "
   ]
  },
  {
   "cell_type": "code",
   "execution_count": 42,
   "id": "a0202a7f",
   "metadata": {},
   "outputs": [
    {
     "ename": "SyntaxError",
     "evalue": "unterminated string literal (detected at line 1) (3279288623.py, line 1)",
     "output_type": "error",
     "traceback": [
      "\u001b[1;36m  Cell \u001b[1;32mIn[42], line 1\u001b[1;36m\u001b[0m\n\u001b[1;33m    name = \"Waqas'\u001b[0m\n\u001b[1;37m           ^\u001b[0m\n\u001b[1;31mSyntaxError\u001b[0m\u001b[1;31m:\u001b[0m unterminated string literal (detected at line 1)\n"
     ]
    }
   ],
   "source": [
    "name = \"Waqas'\n",
    "\n",
    "name"
   ]
  },
  {
   "cell_type": "code",
   "execution_count": 44,
   "id": "2a3cb262",
   "metadata": {},
   "outputs": [
    {
     "name": "stdout",
     "output_type": "stream",
     "text": [
      "Waqas' House\n"
     ]
    }
   ],
   "source": [
    "name = \"Waqas' House\"\n",
    "\n",
    "print(name)"
   ]
  },
  {
   "cell_type": "code",
   "execution_count": 47,
   "id": "5f4424bd",
   "metadata": {},
   "outputs": [
    {
     "name": "stdout",
     "output_type": "stream",
     "text": [
      "Waqas' House\n"
     ]
    }
   ],
   "source": [
    "print('Waqas\\' House') # escape char"
   ]
  },
  {
   "cell_type": "code",
   "execution_count": 52,
   "id": "b1f19299",
   "metadata": {},
   "outputs": [],
   "source": [
    "first_name = \"Muhammad\"\n",
    "LAST_NAME = \"Waqas\""
   ]
  },
  {
   "cell_type": "code",
   "execution_count": 53,
   "id": "ea4ed7de",
   "metadata": {},
   "outputs": [
    {
     "data": {
      "text/plain": [
       "'MuhammadWaqas'"
      ]
     },
     "execution_count": 53,
     "metadata": {},
     "output_type": "execute_result"
    }
   ],
   "source": [
    "first_name + LAST_NAME # concatenation"
   ]
  },
  {
   "cell_type": "code",
   "execution_count": 54,
   "id": "f17dce6b",
   "metadata": {},
   "outputs": [
    {
     "data": {
      "text/plain": [
       "'Muhammad Waqas'"
      ]
     },
     "execution_count": 54,
     "metadata": {},
     "output_type": "execute_result"
    }
   ],
   "source": [
    "first_name+ \" \" + LAST_NAME # concatenation"
   ]
  },
  {
   "cell_type": "code",
   "execution_count": 55,
   "id": "47fada31",
   "metadata": {},
   "outputs": [
    {
     "data": {
      "text/plain": [
       "'Muhammad Waqas'"
      ]
     },
     "execution_count": 55,
     "metadata": {},
     "output_type": "execute_result"
    }
   ],
   "source": [
    "first_name += \" \" + LAST_NAME\n",
    "\n",
    "first_name"
   ]
  },
  {
   "cell_type": "markdown",
   "id": "b52a253f",
   "metadata": {},
   "source": [
    "n=\"noman\\\"shaikh\""
   ]
  }
 ],
 "metadata": {
  "kernelspec": {
   "display_name": "Python 3 (ipykernel)",
   "language": "python",
   "name": "python3"
  },
  "language_info": {
   "codemirror_mode": {
    "name": "ipython",
    "version": 3
   },
   "file_extension": ".py",
   "mimetype": "text/x-python",
   "name": "python",
   "nbconvert_exporter": "python",
   "pygments_lexer": "ipython3",
   "version": "3.11.5"
  }
 },
 "nbformat": 4,
 "nbformat_minor": 5
}
