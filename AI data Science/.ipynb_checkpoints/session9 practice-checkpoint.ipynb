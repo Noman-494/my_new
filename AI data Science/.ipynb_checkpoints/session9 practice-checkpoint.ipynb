{
 "cells": [
  {
   "cell_type": "code",
   "execution_count": 3,
   "id": "d339b19f",
   "metadata": {},
   "outputs": [],
   "source": [
    "import csv"
   ]
  },
  {
   "cell_type": "code",
   "execution_count": 2,
   "id": "e0890030",
   "metadata": {},
   "outputs": [
    {
     "ename": "SyntaxError",
     "evalue": "invalid syntax (1767327844.py, line 2)",
     "output_type": "error",
     "traceback": [
      "\u001b[1;36m  Cell \u001b[1;32mIn[2], line 2\u001b[1;36m\u001b[0m\n\u001b[1;33m    =list(csv.reader(open(file_name,coding=\"utf-8\")))\u001b[0m\n\u001b[1;37m    ^\u001b[0m\n\u001b[1;31mSyntaxError\u001b[0m\u001b[1;31m:\u001b[0m invalid syntax\n"
     ]
    }
   ],
   "source": [
    "def file_read():\n",
    "    if header:\n",
    "    data =list(csv.reader(open(file_name,encoding = \"utf-8\")))\n",
    "    return "
   ]
  },
  {
   "cell_type": "code",
   "execution_count": 10,
   "id": "21b64e6e",
   "metadata": {},
   "outputs": [],
   "source": [
    "data =list(csv.reader(open(\"playstore.csv\",encoding = \"utf-8\")))"
   ]
  },
  {
   "cell_type": "code",
   "execution_count": 18,
   "id": "a125bfc1",
   "metadata": {},
   "outputs": [],
   "source": [
    "def read_file(file_name):\n",
    "    data= list(csv.reader(open(file_name,encoding = \"utf-8\")))\n",
    "    if header:\n",
    "        return data[0],data[1:]\n",
    "    else:\n",
    "        return data\n",
    "           "
   ]
  },
  {
   "cell_type": "code",
   "execution_count": 30,
   "id": "dbe81b8d",
   "metadata": {},
   "outputs": [],
   "source": [
    "def read_file(file_name,header = True):\n",
    "    data= list(csv.reader(open(file_name,encoding = \"utf-8\")))\n",
    "    if header:\n",
    "        return data[0],data[1:]\n",
    "    else:\n",
    "        return data\n",
    "           "
   ]
  },
  {
   "cell_type": "code",
   "execution_count": 32,
   "id": "025eee7d",
   "metadata": {},
   "outputs": [],
   "source": [
    "headers,Playstore=read_file(\"playstore.csv\")"
   ]
  },
  {
   "cell_type": "code",
   "execution_count": 33,
   "id": "b6214113",
   "metadata": {},
   "outputs": [
    {
     "data": {
      "text/plain": [
       "['Photo Editor & Candy Camera & Grid & ScrapBook',\n",
       " 'ART_AND_DESIGN',\n",
       " '4.1',\n",
       " '159',\n",
       " '19M',\n",
       " '10,000+',\n",
       " 'Free',\n",
       " '0',\n",
       " 'Everyone',\n",
       " 'Art & Design',\n",
       " 'January 7, 2018',\n",
       " '1.0.0',\n",
       " '4.0.3 and up']"
      ]
     },
     "execution_count": 33,
     "metadata": {},
     "output_type": "execute_result"
    }
   ],
   "source": [
    "Playstore[0]"
   ]
  },
  {
   "cell_type": "code",
   "execution_count": 55,
   "id": "445c8867",
   "metadata": {},
   "outputs": [],
   "source": [
    "del Playstore[10472]"
   ]
  },
  {
   "cell_type": "code",
   "execution_count": 56,
   "id": "964fefaf",
   "metadata": {},
   "outputs": [
    {
     "data": {
      "text/plain": [
       "['Sat-Fi Voice',\n",
       " 'COMMUNICATION',\n",
       " '3.4',\n",
       " '37',\n",
       " '14M',\n",
       " '1,000+',\n",
       " 'Free',\n",
       " '0',\n",
       " 'Everyone',\n",
       " 'Communication',\n",
       " 'November 21, 2014',\n",
       " '2.2.1.5',\n",
       " '2.2 and up']"
      ]
     },
     "execution_count": 56,
     "metadata": {},
     "output_type": "execute_result"
    }
   ],
   "source": [
    "Playstore[10472]"
   ]
  },
  {
   "cell_type": "code",
   "execution_count": 57,
   "id": "0d3a6aa2",
   "metadata": {},
   "outputs": [],
   "source": [
    "Free_app=[]\n",
    "for row in Playstore:\n",
    "    typ=row[6]\n",
    "    if typ==\"Free\":\n",
    "        Free_app.append(row)\n",
    "    "
   ]
  },
  {
   "cell_type": "code",
   "execution_count": 58,
   "id": "58626db8",
   "metadata": {},
   "outputs": [
    {
     "data": {
      "text/plain": [
       "10038"
      ]
     },
     "execution_count": 58,
     "metadata": {},
     "output_type": "execute_result"
    }
   ],
   "source": [
    "len(Free_app)"
   ]
  },
  {
   "cell_type": "code",
   "execution_count": 59,
   "id": "341adc01",
   "metadata": {},
   "outputs": [
    {
     "data": {
      "text/plain": [
       "87"
      ]
     },
     "execution_count": 59,
     "metadata": {},
     "output_type": "execute_result"
    }
   ],
   "source": [
    "ord(\"W\")"
   ]
  },
  {
   "cell_type": "code",
   "execution_count": 60,
   "id": "62f9b5d0",
   "metadata": {},
   "outputs": [],
   "source": [
    "app=\"facebook\""
   ]
  },
  {
   "cell_type": "code",
   "execution_count": 61,
   "id": "a25faea8",
   "metadata": {},
   "outputs": [
    {
     "name": "stdout",
     "output_type": "stream",
     "text": [
      "f\n",
      "a\n",
      "c\n",
      "e\n",
      "b\n",
      "o\n",
      "o\n",
      "k\n"
     ]
    }
   ],
   "source": [
    "for i in app:\n",
    "    print(i)"
   ]
  },
  {
   "cell_type": "code",
   "execution_count": 64,
   "id": "ba7407f3",
   "metadata": {},
   "outputs": [],
   "source": [
    "def eng_app(app_name):\n",
    "    non_asscii= 0\n",
    "    for i in app_name:\n",
    "        ordi=ord(i)\n",
    "        if ordi>127:\n",
    "            non_asscii +=1\n",
    "    if non_asscii>3:\n",
    "        return False\n",
    "    else:\n",
    "        return True\n",
    "        "
   ]
  },
  {
   "cell_type": "code",
   "execution_count": 65,
   "id": "2ba57286",
   "metadata": {},
   "outputs": [],
   "source": [
    "english_data=[]\n",
    "for row in Free_app:\n",
    "    app=row[0]\n",
    "    enlish_app=eng_app(app)\n",
    "    if enlish_app:\n",
    "        english_data.append(row)\n",
    "    "
   ]
  },
  {
   "cell_type": "code",
   "execution_count": 67,
   "id": "5ef229e9",
   "metadata": {},
   "outputs": [
    {
     "data": {
      "text/plain": [
       "9997"
      ]
     },
     "execution_count": 67,
     "metadata": {},
     "output_type": "execute_result"
    }
   ],
   "source": [
    "len(english_data)"
   ]
  }
 ],
 "metadata": {
  "kernelspec": {
   "display_name": "Python 3 (ipykernel)",
   "language": "python",
   "name": "python3"
  },
  "language_info": {
   "codemirror_mode": {
    "name": "ipython",
    "version": 3
   },
   "file_extension": ".py",
   "mimetype": "text/x-python",
   "name": "python",
   "nbconvert_exporter": "python",
   "pygments_lexer": "ipython3",
   "version": "3.11.5"
  }
 },
 "nbformat": 4,
 "nbformat_minor": 5
}
