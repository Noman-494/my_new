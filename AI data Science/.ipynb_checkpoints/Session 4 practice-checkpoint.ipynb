{
 "cells": [
  {
   "cell_type": "code",
   "execution_count": 1,
   "id": "6a0edf88",
   "metadata": {},
   "outputs": [
    {
     "data": {
      "text/plain": [
       "2.0"
      ]
     },
     "execution_count": 1,
     "metadata": {},
     "output_type": "execute_result"
    }
   ],
   "source": [
    "4/2"
   ]
  },
  {
   "cell_type": "code",
   "execution_count": 2,
   "id": "72ab3e16",
   "metadata": {},
   "outputs": [
    {
     "data": {
      "text/plain": [
       "3.0"
      ]
     },
     "execution_count": 2,
     "metadata": {},
     "output_type": "execute_result"
    }
   ],
   "source": [
    "6.3//2"
   ]
  },
  {
   "cell_type": "code",
   "execution_count": 3,
   "id": "1e97b342",
   "metadata": {},
   "outputs": [
    {
     "data": {
      "text/plain": [
       "3.85"
      ]
     },
     "execution_count": 3,
     "metadata": {},
     "output_type": "execute_result"
    }
   ],
   "source": [
    "7.7/2"
   ]
  },
  {
   "cell_type": "code",
   "execution_count": 4,
   "id": "da4a2ecf",
   "metadata": {},
   "outputs": [
    {
     "data": {
      "text/plain": [
       "3.0"
      ]
     },
     "execution_count": 4,
     "metadata": {},
     "output_type": "execute_result"
    }
   ],
   "source": [
    "7.7//2"
   ]
  },
  {
   "cell_type": "markdown",
   "id": "fa93783e",
   "metadata": {},
   "source": [
    "# Type Casting"
   ]
  },
  {
   "cell_type": "code",
   "execution_count": 5,
   "id": "bc44d70a",
   "metadata": {},
   "outputs": [
    {
     "data": {
      "text/plain": [
       "3"
      ]
     },
     "execution_count": 5,
     "metadata": {},
     "output_type": "execute_result"
    }
   ],
   "source": [
    "int(3.82)"
   ]
  },
  {
   "cell_type": "code",
   "execution_count": 6,
   "id": "6e71a0e3",
   "metadata": {},
   "outputs": [
    {
     "data": {
      "text/plain": [
       "3.0"
      ]
     },
     "execution_count": 6,
     "metadata": {},
     "output_type": "execute_result"
    }
   ],
   "source": [
    "float(3)"
   ]
  },
  {
   "cell_type": "code",
   "execution_count": 7,
   "id": "8bb37ea0",
   "metadata": {},
   "outputs": [
    {
     "data": {
      "text/plain": [
       "'3.2'"
      ]
     },
     "execution_count": 7,
     "metadata": {},
     "output_type": "execute_result"
    }
   ],
   "source": [
    "str(3.2)"
   ]
  },
  {
   "cell_type": "code",
   "execution_count": 8,
   "id": "755ecf5d",
   "metadata": {},
   "outputs": [
    {
     "data": {
      "text/plain": [
       "3.2"
      ]
     },
     "execution_count": 8,
     "metadata": {},
     "output_type": "execute_result"
    }
   ],
   "source": [
    "float(\"3.2\")"
   ]
  },
  {
   "cell_type": "code",
   "execution_count": 9,
   "id": "053e2700",
   "metadata": {},
   "outputs": [
    {
     "ename": "ValueError",
     "evalue": "invalid literal for int() with base 10: '3.2'",
     "output_type": "error",
     "traceback": [
      "\u001b[1;31m---------------------------------------------------------------------------\u001b[0m",
      "\u001b[1;31mValueError\u001b[0m                                Traceback (most recent call last)",
      "Cell \u001b[1;32mIn[9], line 1\u001b[0m\n\u001b[1;32m----> 1\u001b[0m \u001b[38;5;28mint\u001b[39m(\u001b[38;5;124m\"\u001b[39m\u001b[38;5;124m3.2\u001b[39m\u001b[38;5;124m\"\u001b[39m)\n",
      "\u001b[1;31mValueError\u001b[0m: invalid literal for int() with base 10: '3.2'"
     ]
    }
   ],
   "source": [
    "int(\"3.2\")"
   ]
  },
  {
   "cell_type": "code",
   "execution_count": null,
   "id": "1c6d8df9",
   "metadata": {},
   "outputs": [],
   "source": [
    "print(int(float(\"3.2\")))\n",
    "\n",
    "int(3.2)\n",
    "# 3"
   ]
  },
  {
   "cell_type": "code",
   "execution_count": null,
   "id": "e6ff157d",
   "metadata": {},
   "outputs": [],
   "source": [
    "\"This is our 3rd Session ------------------------------------------\"\n"
   ]
  },
  {
   "cell_type": "code",
   "execution_count": null,
   "id": "1439c88a",
   "metadata": {},
   "outputs": [],
   "source": [
    "\"This is our 3rd Session\n",
    "We are learning Data Science\""
   ]
  },
  {
   "cell_type": "code",
   "execution_count": null,
   "id": "97f2270c",
   "metadata": {},
   "outputs": [],
   "source": [
    "\"\"\"This is our 3rd Session\n",
    "We are learning Applied Data Science\n",
    "-\n",
    "-\n",
    "-\n",
    "\n",
    "-\n",
    "-\n",
    "\n",
    "-\n",
    "-\n",
    "\n",
    "-\n",
    "-\n",
    "\"\"\""
   ]
  },
  {
   "cell_type": "code",
   "execution_count": null,
   "id": "63043d3e",
   "metadata": {},
   "outputs": [],
   "source": [
    "print(\"\"\"This is our 3rd Session\n",
    "We are learning Applied Data Science\n",
    "-\n",
    "-\n",
    "-\n",
    "\n",
    "-\n",
    "-\n",
    "\n",
    "-\n",
    "-\n",
    "\n",
    "-\n",
    "-\n",
    "\"\"\")"
   ]
  },
  {
   "cell_type": "code",
   "execution_count": null,
   "id": "ec2cead2",
   "metadata": {},
   "outputs": [],
   "source": [
    "\"Muahmmad\\nWaqas\""
   ]
  },
  {
   "cell_type": "code",
   "execution_count": null,
   "id": "0b50ce8e",
   "metadata": {},
   "outputs": [],
   "source": [
    "print(\"Muahmmad\\nWaqas\")"
   ]
  },
  {
   "cell_type": "code",
   "execution_count": null,
   "id": "d7f7913f",
   "metadata": {},
   "outputs": [],
   "source": [
    "print(int(float(\"3.2\")))"
   ]
  },
  {
   "cell_type": "code",
   "execution_count": null,
   "id": "bed72735",
   "metadata": {},
   "outputs": [],
   "source": [
    "bt1st1 = \"Waqas\"\n",
    "-\n",
    "\n",
    "\n",
    "# stn = \"N\""
   ]
  },
  {
   "cell_type": "code",
   "execution_count": null,
   "id": "124e391a",
   "metadata": {},
   "outputs": [],
   "source": [
    "s = \"\"\n",
    "type(s)"
   ]
  },
  {
   "cell_type": "markdown",
   "id": "28e67705",
   "metadata": {},
   "source": [
    "# list"
   ]
  },
  {
   "cell_type": "code",
   "execution_count": null,
   "id": "c2f76119",
   "metadata": {},
   "outputs": [],
   "source": [
    "l = []\n",
    "\n",
    "type(l)"
   ]
  },
  {
   "cell_type": "code",
   "execution_count": null,
   "id": "437c894f",
   "metadata": {},
   "outputs": [],
   "source": [
    "batch6 = [\"Python for DS\", \"Data Visualization\", \"BI\", \"ML\", \"DL\"]"
   ]
  },
  {
   "cell_type": "code",
   "execution_count": null,
   "id": "6c08a401",
   "metadata": {},
   "outputs": [],
   "source": [
    "len(batch6)"
   ]
  },
  {
   "cell_type": "code",
   "execution_count": null,
   "id": "2e658273",
   "metadata": {},
   "outputs": [],
   "source": [
    "batch6"
   ]
  },
  {
   "cell_type": "code",
   "execution_count": null,
   "id": "7a2d2480",
   "metadata": {},
   "outputs": [],
   "source": [
    "batch6.append(\"GAI\")"
   ]
  },
  {
   "cell_type": "code",
   "execution_count": null,
   "id": "2ec90cba",
   "metadata": {},
   "outputs": [],
   "source": [
    "batch6"
   ]
  },
  {
   "cell_type": "code",
   "execution_count": null,
   "id": "80c5e59e",
   "metadata": {},
   "outputs": [],
   "source": [
    "[1,2,3] + [4]"
   ]
  },
  {
   "cell_type": "code",
   "execution_count": null,
   "id": "2d66d181",
   "metadata": {},
   "outputs": [],
   "source": [
    "batch6 +=[\"EDA\"]"
   ]
  },
  {
   "cell_type": "code",
   "execution_count": null,
   "id": "4e673419",
   "metadata": {},
   "outputs": [],
   "source": [
    "batch6"
   ]
  },
  {
   "cell_type": "code",
   "execution_count": null,
   "id": "d135bbad",
   "metadata": {},
   "outputs": [],
   "source": [
    "dir(batch6)"
   ]
  },
  {
   "cell_type": "code",
   "execution_count": null,
   "id": "17226fe2",
   "metadata": {},
   "outputs": [],
   "source": [
    "dir(list)"
   ]
  },
  {
   "cell_type": "markdown",
   "id": "1660927c",
   "metadata": {},
   "source": [
    "# indexing\n",
    "\n",
    "## Positive Indexing"
   ]
  },
  {
   "cell_type": "code",
   "execution_count": null,
   "id": "56dab47e",
   "metadata": {},
   "outputs": [],
   "source": [
    "batch6"
   ]
  },
  {
   "cell_type": "code",
   "execution_count": null,
   "id": "c6fa4780",
   "metadata": {},
   "outputs": [],
   "source": [
    "len(batch6)"
   ]
  },
  {
   "cell_type": "code",
   "execution_count": null,
   "id": "4385b1f5",
   "metadata": {},
   "outputs": [],
   "source": [
    "final_index = len(batch6) - 1"
   ]
  },
  {
   "cell_type": "markdown",
   "id": "28adda23",
   "metadata": {},
   "source": [
    "## Negative Indexing"
   ]
  },
  {
   "cell_type": "markdown",
   "id": "5cb36706",
   "metadata": {},
   "source": [
    "* postive indx ---- Left to right and 0 to onwards\n",
    "* Negative indx ---- right to left and -1 to backwards\n"
   ]
  },
  {
   "cell_type": "code",
   "execution_count": null,
   "id": "2a1fdb3f",
   "metadata": {},
   "outputs": [],
   "source": [
    "batch6"
   ]
  },
  {
   "cell_type": "code",
   "execution_count": null,
   "id": "de82f449",
   "metadata": {},
   "outputs": [],
   "source": [
    "batch6[-4]"
   ]
  },
  {
   "cell_type": "code",
   "execution_count": null,
   "id": "6f620844",
   "metadata": {},
   "outputs": [],
   "source": [
    "batch6[3]"
   ]
  },
  {
   "cell_type": "code",
   "execution_count": null,
   "id": "9af75801",
   "metadata": {},
   "outputs": [],
   "source": [
    "batch6[-1]"
   ]
  },
  {
   "cell_type": "code",
   "execution_count": null,
   "id": "a7978cf2",
   "metadata": {},
   "outputs": [],
   "source": [
    "batch6[0]"
   ]
  },
  {
   "cell_type": "code",
   "execution_count": null,
   "id": "83c213b7",
   "metadata": {},
   "outputs": [],
   "source": [
    "batch6.insert(2,\"Data Analysis\")"
   ]
  },
  {
   "cell_type": "code",
   "execution_count": null,
   "id": "b7a5c2bf",
   "metadata": {},
   "outputs": [],
   "source": [
    "batch6"
   ]
  },
  {
   "cell_type": "code",
   "execution_count": null,
   "id": "9a4b89a6",
   "metadata": {},
   "outputs": [],
   "source": [
    "print(batch6)"
   ]
  },
  {
   "cell_type": "code",
   "execution_count": null,
   "id": "320a43b1",
   "metadata": {},
   "outputs": [],
   "source": [
    "batch6[2] = \"Web Scrapping\"\n",
    "batch6[3] = \"Database\""
   ]
  },
  {
   "cell_type": "code",
   "execution_count": null,
   "id": "e778ee02",
   "metadata": {},
   "outputs": [],
   "source": [
    "print(batch6)"
   ]
  },
  {
   "cell_type": "code",
   "execution_count": null,
   "id": "b1728bbb",
   "metadata": {},
   "outputs": [],
   "source": [
    "batch6.insert(2,\"science\")"
   ]
  },
  {
   "cell_type": "code",
   "execution_count": null,
   "id": "bfd0e024",
   "metadata": {},
   "outputs": [],
   "source": [
    "print(batch6)"
   ]
  },
  {
   "cell_type": "code",
   "execution_count": null,
   "id": "5a3fe32c",
   "metadata": {},
   "outputs": [],
   "source": [
    "batch6[1]=\"english\""
   ]
  },
  {
   "cell_type": "code",
   "execution_count": null,
   "id": "a5efca22",
   "metadata": {},
   "outputs": [],
   "source": [
    "print(batch6)"
   ]
  },
  {
   "cell_type": "code",
   "execution_count": null,
   "id": "382d916b",
   "metadata": {},
   "outputs": [],
   "source": [
    "two_course=[batch6[3],batch6[-3]]"
   ]
  },
  {
   "cell_type": "code",
   "execution_count": null,
   "id": "b3c6e950",
   "metadata": {},
   "outputs": [],
   "source": [
    "two_course"
   ]
  },
  {
   "cell_type": "markdown",
   "id": "32feaeec",
   "metadata": {},
   "source": [
    "## slicing"
   ]
  },
  {
   "cell_type": "code",
   "execution_count": null,
   "id": "22509aef",
   "metadata": {},
   "outputs": [],
   "source": [
    "batch6[1:9]"
   ]
  },
  {
   "cell_type": "code",
   "execution_count": null,
   "id": "14ba47e4",
   "metadata": {},
   "outputs": [],
   "source": [
    "batch6[1:]"
   ]
  },
  {
   "cell_type": "code",
   "execution_count": null,
   "id": "dc4aeda1",
   "metadata": {},
   "outputs": [],
   "source": [
    "batch6[:-2]"
   ]
  },
  {
   "cell_type": "code",
   "execution_count": null,
   "id": "e9f16323",
   "metadata": {},
   "outputs": [],
   "source": [
    "batch6.index('DL')"
   ]
  },
  {
   "cell_type": "markdown",
   "id": "32141892",
   "metadata": {},
   "source": [
    "# Mwmbership operator\n",
    "\n"
   ]
  },
  {
   "cell_type": "code",
   "execution_count": null,
   "id": "dfb47e5e",
   "metadata": {},
   "outputs": [],
   "source": [
    "'dl'not in batch6"
   ]
  },
  {
   "cell_type": "code",
   "execution_count": null,
   "id": "12bdbc28",
   "metadata": {},
   "outputs": [],
   "source": [
    "type(True)"
   ]
  },
  {
   "cell_type": "code",
   "execution_count": null,
   "id": "bf3523fe",
   "metadata": {},
   "outputs": [],
   "source": [
    "'w'in 'Waqas'"
   ]
  },
  {
   "cell_type": "code",
   "execution_count": null,
   "id": "8be9a628",
   "metadata": {},
   "outputs": [],
   "source": [
    "'q'in 'Waqas'"
   ]
  },
  {
   "cell_type": "code",
   "execution_count": null,
   "id": "082802f6",
   "metadata": {},
   "outputs": [],
   "source": [
    "employee1=['waqas','Dl',6000]\n",
    "employee2=['noman','ml',5000]"
   ]
  },
  {
   "cell_type": "code",
   "execution_count": null,
   "id": "15a82f68",
   "metadata": {},
   "outputs": [],
   "source": [
    "employees=[employee1,employee2]"
   ]
  },
  {
   "cell_type": "code",
   "execution_count": null,
   "id": "5f141d9c",
   "metadata": {},
   "outputs": [],
   "source": [
    "employees"
   ]
  },
  {
   "cell_type": "code",
   "execution_count": null,
   "id": "4e64caf4",
   "metadata": {},
   "outputs": [],
   "source": [
    "len(employees)"
   ]
  },
  {
   "cell_type": "code",
   "execution_count": null,
   "id": "4a0a94a5",
   "metadata": {},
   "outputs": [],
   "source": [
    "employees[0],[2]"
   ]
  },
  {
   "cell_type": "markdown",
   "id": "88136950",
   "metadata": {},
   "source": [
    "## for loop"
   ]
  },
  {
   "cell_type": "code",
   "execution_count": null,
   "id": "aec2ee7b",
   "metadata": {},
   "outputs": [],
   "source": [
    "name=\"waqas\""
   ]
  },
  {
   "cell_type": "code",
   "execution_count": null,
   "id": "d4ac85f7",
   "metadata": {},
   "outputs": [],
   "source": [
    "for c in \"waqas\""
   ]
  },
  {
   "cell_type": "code",
   "execution_count": 2,
   "id": "c05b1065",
   "metadata": {},
   "outputs": [],
   "source": [
    "employee1=[\"noman\",\"Manager\",\"5000\"]"
   ]
  },
  {
   "cell_type": "code",
   "execution_count": 3,
   "id": "270270a7",
   "metadata": {},
   "outputs": [],
   "source": [
    "employee2=[\"Zuhaib\",\"Manager\",\"6000\"]"
   ]
  },
  {
   "cell_type": "code",
   "execution_count": 4,
   "id": "19185491",
   "metadata": {},
   "outputs": [],
   "source": [
    "employee3=[\"Fahad\",\"Manager\",\"7000\"]"
   ]
  },
  {
   "cell_type": "code",
   "execution_count": 5,
   "id": "6f4085fd",
   "metadata": {},
   "outputs": [],
   "source": [
    "employee4=[\"Hasseb\",\"DM\",\"7000\"]"
   ]
  },
  {
   "cell_type": "code",
   "execution_count": 6,
   "id": "318f5277",
   "metadata": {},
   "outputs": [],
   "source": [
    "employees=[employee1,employee2,employee3,employee4]"
   ]
  },
  {
   "cell_type": "code",
   "execution_count": 7,
   "id": "9e7f939d",
   "metadata": {},
   "outputs": [
    {
     "name": "stdout",
     "output_type": "stream",
     "text": [
      "[['noman', 'Manager', '5000'], ['Zuhaib', 'Manager', '6000'], ['Fahad', 'Manager', '7000'], ['Hasseb', 'DM', '7000']]\n"
     ]
    }
   ],
   "source": [
    "print(employees)"
   ]
  },
  {
   "cell_type": "code",
   "execution_count": 8,
   "id": "c8a83dd5",
   "metadata": {},
   "outputs": [
    {
     "data": {
      "text/plain": [
       "'6000'"
      ]
     },
     "execution_count": 8,
     "metadata": {},
     "output_type": "execute_result"
    }
   ],
   "source": [
    "employees[1][-1]"
   ]
  },
  {
   "cell_type": "code",
   "execution_count": 9,
   "id": "790ecc0c",
   "metadata": {},
   "outputs": [
    {
     "data": {
      "text/plain": [
       "'Hasseb'"
      ]
     },
     "execution_count": 9,
     "metadata": {},
     "output_type": "execute_result"
    }
   ],
   "source": [
    "employees[-1][0]"
   ]
  },
  {
   "cell_type": "code",
   "execution_count": 10,
   "id": "2d5a7657",
   "metadata": {},
   "outputs": [
    {
     "data": {
      "text/plain": [
       "'5000'"
      ]
     },
     "execution_count": 10,
     "metadata": {},
     "output_type": "execute_result"
    }
   ],
   "source": [
    "employees[0][-1]"
   ]
  },
  {
   "cell_type": "code",
   "execution_count": 11,
   "id": "299b2434",
   "metadata": {},
   "outputs": [
    {
     "data": {
      "text/plain": [
       "'Fahad'"
      ]
     },
     "execution_count": 11,
     "metadata": {},
     "output_type": "execute_result"
    }
   ],
   "source": [
    "employees[2][0]"
   ]
  },
  {
   "cell_type": "code",
   "execution_count": 12,
   "id": "6cbb459b",
   "metadata": {},
   "outputs": [
    {
     "data": {
      "text/plain": [
       "[['noman', 'Manager', '5000'],\n",
       " ['Zuhaib', 'Manager', '6000'],\n",
       " ['Fahad', 'Manager', '7000'],\n",
       " ['Hasseb', 'DM', '7000']]"
      ]
     },
     "execution_count": 12,
     "metadata": {},
     "output_type": "execute_result"
    }
   ],
   "source": [
    "employees"
   ]
  },
  {
   "cell_type": "code",
   "execution_count": 13,
   "id": "d5a33b67",
   "metadata": {},
   "outputs": [],
   "source": [
    "employee1.insert(2,'grade')"
   ]
  },
  {
   "cell_type": "code",
   "execution_count": 14,
   "id": "642baf87",
   "metadata": {},
   "outputs": [
    {
     "name": "stdout",
     "output_type": "stream",
     "text": [
      "[['noman', 'Manager', 'grade', '5000'], ['Zuhaib', 'Manager', '6000'], ['Fahad', 'Manager', '7000'], ['Hasseb', 'DM', '7000']]\n"
     ]
    }
   ],
   "source": [
    "print(employees)"
   ]
  },
  {
   "cell_type": "code",
   "execution_count": 15,
   "id": "189a3f23",
   "metadata": {},
   "outputs": [
    {
     "data": {
      "text/plain": [
       "['Zuhaib', 'Manager', '6000']"
      ]
     },
     "execution_count": 15,
     "metadata": {},
     "output_type": "execute_result"
    }
   ],
   "source": [
    "employee2"
   ]
  },
  {
   "cell_type": "code",
   "execution_count": 16,
   "id": "0c3f1977",
   "metadata": {},
   "outputs": [],
   "source": [
    "employee2.insert(2,'grade')"
   ]
  },
  {
   "cell_type": "code",
   "execution_count": 17,
   "id": "d6e1aaa3",
   "metadata": {},
   "outputs": [
    {
     "data": {
      "text/plain": [
       "['Zuhaib', 'Manager', 'grade', '6000']"
      ]
     },
     "execution_count": 17,
     "metadata": {},
     "output_type": "execute_result"
    }
   ],
   "source": [
    "employee2"
   ]
  },
  {
   "cell_type": "code",
   "execution_count": 18,
   "id": "8dbddd80",
   "metadata": {},
   "outputs": [],
   "source": [
    "employee3.insert(2,'grade')"
   ]
  },
  {
   "cell_type": "code",
   "execution_count": 19,
   "id": "d119160c",
   "metadata": {},
   "outputs": [
    {
     "data": {
      "text/plain": [
       "['Fahad', 'Manager', 'grade', '7000']"
      ]
     },
     "execution_count": 19,
     "metadata": {},
     "output_type": "execute_result"
    }
   ],
   "source": [
    "employee3"
   ]
  },
  {
   "cell_type": "code",
   "execution_count": 20,
   "id": "66a352d7",
   "metadata": {},
   "outputs": [],
   "source": [
    "employee4.insert(2,'grade')"
   ]
  },
  {
   "cell_type": "code",
   "execution_count": 21,
   "id": "11eb379c",
   "metadata": {},
   "outputs": [
    {
     "data": {
      "text/plain": [
       "['Hasseb', 'DM', 'grade', '7000']"
      ]
     },
     "execution_count": 21,
     "metadata": {},
     "output_type": "execute_result"
    }
   ],
   "source": [
    "employee4"
   ]
  },
  {
   "cell_type": "code",
   "execution_count": 24,
   "id": "3d0caebb",
   "metadata": {},
   "outputs": [],
   "source": [
    "employee1.remove('grade')"
   ]
  },
  {
   "cell_type": "code",
   "execution_count": 25,
   "id": "0584bc7d",
   "metadata": {},
   "outputs": [
    {
     "data": {
      "text/plain": [
       "['noman', 'Manager', '5000']"
      ]
     },
     "execution_count": 25,
     "metadata": {},
     "output_type": "execute_result"
    }
   ],
   "source": [
    "employee1"
   ]
  },
  {
   "cell_type": "code",
   "execution_count": 29,
   "id": "a483018f",
   "metadata": {},
   "outputs": [],
   "source": [
    "employee4.remove('grade')"
   ]
  },
  {
   "cell_type": "code",
   "execution_count": 30,
   "id": "1c76f856",
   "metadata": {},
   "outputs": [
    {
     "data": {
      "text/plain": [
       "[['noman', 'Manager', '5000'],\n",
       " ['Zuhaib', 'Manager', '6000'],\n",
       " ['Fahad', 'Manager', '7000'],\n",
       " ['Hasseb', 'DM', '7000']]"
      ]
     },
     "execution_count": 30,
     "metadata": {},
     "output_type": "execute_result"
    }
   ],
   "source": [
    "employees"
   ]
  },
  {
   "cell_type": "code",
   "execution_count": 31,
   "id": "2b21556d",
   "metadata": {},
   "outputs": [
    {
     "data": {
      "text/plain": [
       "['noman', 'Manager']"
      ]
     },
     "execution_count": 31,
     "metadata": {},
     "output_type": "execute_result"
    }
   ],
   "source": [
    "employee1[0:-1]"
   ]
  },
  {
   "cell_type": "code",
   "execution_count": 32,
   "id": "2d7d5d06",
   "metadata": {},
   "outputs": [
    {
     "data": {
      "text/plain": [
       "['Manager', '6000']"
      ]
     },
     "execution_count": 32,
     "metadata": {},
     "output_type": "execute_result"
    }
   ],
   "source": [
    "employee2[1:]"
   ]
  },
  {
   "cell_type": "code",
   "execution_count": 33,
   "id": "9ab653e4",
   "metadata": {},
   "outputs": [
    {
     "data": {
      "text/plain": [
       "[['noman', 'Manager', '5000'],\n",
       " ['Zuhaib', 'Manager', '6000'],\n",
       " ['Fahad', 'Manager', '7000'],\n",
       " ['Hasseb', 'DM', '7000']]"
      ]
     },
     "execution_count": 33,
     "metadata": {},
     "output_type": "execute_result"
    }
   ],
   "source": [
    "employees"
   ]
  },
  {
   "cell_type": "code",
   "execution_count": 34,
   "id": "ac1bfb8e",
   "metadata": {},
   "outputs": [
    {
     "data": {
      "text/plain": [
       "1"
      ]
     },
     "execution_count": 34,
     "metadata": {},
     "output_type": "execute_result"
    }
   ],
   "source": [
    "employee4.index('DM')"
   ]
  },
  {
   "cell_type": "code",
   "execution_count": 35,
   "id": "49073a5b",
   "metadata": {},
   "outputs": [
    {
     "ename": "ValueError",
     "evalue": "'dm' is not in list",
     "output_type": "error",
     "traceback": [
      "\u001b[1;31m---------------------------------------------------------------------------\u001b[0m",
      "\u001b[1;31mValueError\u001b[0m                                Traceback (most recent call last)",
      "Cell \u001b[1;32mIn[35], line 1\u001b[0m\n\u001b[1;32m----> 1\u001b[0m employee4\u001b[38;5;241m.\u001b[39mindex(\u001b[38;5;124m'\u001b[39m\u001b[38;5;124mdm\u001b[39m\u001b[38;5;124m'\u001b[39m)\n",
      "\u001b[1;31mValueError\u001b[0m: 'dm' is not in list"
     ]
    }
   ],
   "source": [
    "employee4.index('dm')"
   ]
  },
  {
   "cell_type": "code",
   "execution_count": 36,
   "id": "3c561876",
   "metadata": {},
   "outputs": [
    {
     "data": {
      "text/plain": [
       "0"
      ]
     },
     "execution_count": 36,
     "metadata": {},
     "output_type": "execute_result"
    }
   ],
   "source": [
    "employee1.index('noman')"
   ]
  },
  {
   "cell_type": "code",
   "execution_count": 37,
   "id": "e72e45cd",
   "metadata": {},
   "outputs": [
    {
     "data": {
      "text/plain": [
       "True"
      ]
     },
     "execution_count": 37,
     "metadata": {},
     "output_type": "execute_result"
    }
   ],
   "source": [
    "'noman'in employee1"
   ]
  },
  {
   "cell_type": "code",
   "execution_count": 38,
   "id": "67461868",
   "metadata": {},
   "outputs": [
    {
     "data": {
      "text/plain": [
       "True"
      ]
     },
     "execution_count": 38,
     "metadata": {},
     "output_type": "execute_result"
    }
   ],
   "source": [
    "'Noman'not in employee1"
   ]
  },
  {
   "cell_type": "code",
   "execution_count": 39,
   "id": "cddbb5ba",
   "metadata": {},
   "outputs": [
    {
     "data": {
      "text/plain": [
       "False"
      ]
     },
     "execution_count": 39,
     "metadata": {},
     "output_type": "execute_result"
    }
   ],
   "source": [
    "'zuhaib'in employee2"
   ]
  },
  {
   "cell_type": "code",
   "execution_count": 40,
   "id": "5c15d90c",
   "metadata": {},
   "outputs": [
    {
     "data": {
      "text/plain": [
       "False"
      ]
     },
     "execution_count": 40,
     "metadata": {},
     "output_type": "execute_result"
    }
   ],
   "source": [
    "'Zuhaib'not in employee2"
   ]
  },
  {
   "cell_type": "code",
   "execution_count": 41,
   "id": "7dc18500",
   "metadata": {},
   "outputs": [
    {
     "data": {
      "text/plain": [
       "True"
      ]
     },
     "execution_count": 41,
     "metadata": {},
     "output_type": "execute_result"
    }
   ],
   "source": [
    "'Zuhaib'in employee2"
   ]
  },
  {
   "cell_type": "code",
   "execution_count": 42,
   "id": "5f3109c4",
   "metadata": {},
   "outputs": [
    {
     "data": {
      "text/plain": [
       "4"
      ]
     },
     "execution_count": 42,
     "metadata": {},
     "output_type": "execute_result"
    }
   ],
   "source": [
    "len(employees)"
   ]
  },
  {
   "cell_type": "code",
   "execution_count": 43,
   "id": "875d1981",
   "metadata": {},
   "outputs": [
    {
     "data": {
      "text/plain": [
       "'6000'"
      ]
     },
     "execution_count": 43,
     "metadata": {},
     "output_type": "execute_result"
    }
   ],
   "source": [
    "employees[1][2]"
   ]
  },
  {
   "cell_type": "code",
   "execution_count": 44,
   "id": "2515a1f8",
   "metadata": {},
   "outputs": [
    {
     "data": {
      "text/plain": [
       "[['noman', 'Manager', '5000'],\n",
       " ['Zuhaib', 'Manager', '6000'],\n",
       " ['Fahad', 'Manager', '7000'],\n",
       " ['Hasseb', 'DM', '7000']]"
      ]
     },
     "execution_count": 44,
     "metadata": {},
     "output_type": "execute_result"
    }
   ],
   "source": [
    "employees"
   ]
  },
  {
   "cell_type": "code",
   "execution_count": 45,
   "id": "48e60f48",
   "metadata": {},
   "outputs": [],
   "source": [
    "employees.insert(0,['name','postion','salary'])"
   ]
  },
  {
   "cell_type": "code",
   "execution_count": 47,
   "id": "6dd4fd34",
   "metadata": {},
   "outputs": [
    {
     "name": "stdout",
     "output_type": "stream",
     "text": [
      "[['name', 'postion', 'salary'], ['noman', 'Manager', '5000'], ['Zuhaib', 'Manager', '6000'], ['Fahad', 'Manager', '7000'], ['Hasseb', 'DM', '7000']]\n"
     ]
    }
   ],
   "source": [
    "print(employees)"
   ]
  },
  {
   "cell_type": "code",
   "execution_count": null,
   "id": "a6f3c8e2",
   "metadata": {},
   "outputs": [],
   "source": []
  },
  {
   "cell_type": "code",
   "execution_count": null,
   "id": "16ebf298",
   "metadata": {},
   "outputs": [],
   "source": []
  },
  {
   "cell_type": "code",
   "execution_count": null,
   "id": "987ce1c1",
   "metadata": {},
   "outputs": [],
   "source": []
  }
 ],
 "metadata": {
  "kernelspec": {
   "display_name": "Python 3 (ipykernel)",
   "language": "python",
   "name": "python3"
  },
  "language_info": {
   "codemirror_mode": {
    "name": "ipython",
    "version": 3
   },
   "file_extension": ".py",
   "mimetype": "text/x-python",
   "name": "python",
   "nbconvert_exporter": "python",
   "pygments_lexer": "ipython3",
   "version": "3.11.5"
  }
 },
 "nbformat": 4,
 "nbformat_minor": 5
}
