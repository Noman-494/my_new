{
 "cells": [
  {
   "cell_type": "code",
   "execution_count": 69,
   "id": "6a0edf88",
   "metadata": {},
   "outputs": [
    {
     "data": {
      "text/plain": [
       "2.0"
      ]
     },
     "execution_count": 69,
     "metadata": {},
     "output_type": "execute_result"
    }
   ],
   "source": [
    "4/2"
   ]
  },
  {
   "cell_type": "code",
   "execution_count": 70,
   "id": "72ab3e16",
   "metadata": {},
   "outputs": [
    {
     "data": {
      "text/plain": [
       "3.0"
      ]
     },
     "execution_count": 70,
     "metadata": {},
     "output_type": "execute_result"
    }
   ],
   "source": [
    "6.3//2"
   ]
  },
  {
   "cell_type": "code",
   "execution_count": 71,
   "id": "1e97b342",
   "metadata": {},
   "outputs": [
    {
     "data": {
      "text/plain": [
       "3.85"
      ]
     },
     "execution_count": 71,
     "metadata": {},
     "output_type": "execute_result"
    }
   ],
   "source": [
    "7.7/2"
   ]
  },
  {
   "cell_type": "code",
   "execution_count": 72,
   "id": "da4a2ecf",
   "metadata": {},
   "outputs": [
    {
     "data": {
      "text/plain": [
       "3.0"
      ]
     },
     "execution_count": 72,
     "metadata": {},
     "output_type": "execute_result"
    }
   ],
   "source": [
    "7.7//2"
   ]
  },
  {
   "cell_type": "markdown",
   "id": "fa93783e",
   "metadata": {},
   "source": [
    "# Type Casting"
   ]
  },
  {
   "cell_type": "code",
   "execution_count": 73,
   "id": "bc44d70a",
   "metadata": {},
   "outputs": [
    {
     "data": {
      "text/plain": [
       "3"
      ]
     },
     "execution_count": 73,
     "metadata": {},
     "output_type": "execute_result"
    }
   ],
   "source": [
    "int(3.82)"
   ]
  },
  {
   "cell_type": "code",
   "execution_count": 74,
   "id": "6e71a0e3",
   "metadata": {},
   "outputs": [
    {
     "data": {
      "text/plain": [
       "3.0"
      ]
     },
     "execution_count": 74,
     "metadata": {},
     "output_type": "execute_result"
    }
   ],
   "source": [
    "float(3)"
   ]
  },
  {
   "cell_type": "code",
   "execution_count": 75,
   "id": "8bb37ea0",
   "metadata": {},
   "outputs": [
    {
     "data": {
      "text/plain": [
       "'3.2'"
      ]
     },
     "execution_count": 75,
     "metadata": {},
     "output_type": "execute_result"
    }
   ],
   "source": [
    "str(3.2)"
   ]
  },
  {
   "cell_type": "code",
   "execution_count": 76,
   "id": "755ecf5d",
   "metadata": {},
   "outputs": [
    {
     "data": {
      "text/plain": [
       "3.2"
      ]
     },
     "execution_count": 76,
     "metadata": {},
     "output_type": "execute_result"
    }
   ],
   "source": [
    "float(\"3.2\")"
   ]
  },
  {
   "cell_type": "code",
   "execution_count": 77,
   "id": "053e2700",
   "metadata": {},
   "outputs": [
    {
     "ename": "ValueError",
     "evalue": "invalid literal for int() with base 10: '3.2'",
     "output_type": "error",
     "traceback": [
      "\u001b[1;31m---------------------------------------------------------------------------\u001b[0m",
      "\u001b[1;31mValueError\u001b[0m                                Traceback (most recent call last)",
      "Cell \u001b[1;32mIn[77], line 1\u001b[0m\n\u001b[1;32m----> 1\u001b[0m \u001b[38;5;28mint\u001b[39m(\u001b[38;5;124m\"\u001b[39m\u001b[38;5;124m3.2\u001b[39m\u001b[38;5;124m\"\u001b[39m)\n",
      "\u001b[1;31mValueError\u001b[0m: invalid literal for int() with base 10: '3.2'"
     ]
    }
   ],
   "source": [
    "int(\"3.2\")"
   ]
  },
  {
   "cell_type": "code",
   "execution_count": 78,
   "id": "1c6d8df9",
   "metadata": {},
   "outputs": [
    {
     "name": "stdout",
     "output_type": "stream",
     "text": [
      "3\n"
     ]
    },
    {
     "data": {
      "text/plain": [
       "3"
      ]
     },
     "execution_count": 78,
     "metadata": {},
     "output_type": "execute_result"
    }
   ],
   "source": [
    "print(int(float(\"3.2\")))\n",
    "\n",
    "int(3.2)\n",
    "# 3"
   ]
  },
  {
   "cell_type": "code",
   "execution_count": 79,
   "id": "e6ff157d",
   "metadata": {},
   "outputs": [
    {
     "data": {
      "text/plain": [
       "'This is our 3rd Session ------------------------------------------'"
      ]
     },
     "execution_count": 79,
     "metadata": {},
     "output_type": "execute_result"
    }
   ],
   "source": [
    "\"This is our 3rd Session ------------------------------------------\"\n"
   ]
  },
  {
   "cell_type": "code",
   "execution_count": 80,
   "id": "1439c88a",
   "metadata": {},
   "outputs": [
    {
     "ename": "SyntaxError",
     "evalue": "unterminated string literal (detected at line 1) (1936095239.py, line 1)",
     "output_type": "error",
     "traceback": [
      "\u001b[1;36m  Cell \u001b[1;32mIn[80], line 1\u001b[1;36m\u001b[0m\n\u001b[1;33m    \"This is our 3rd Session\u001b[0m\n\u001b[1;37m    ^\u001b[0m\n\u001b[1;31mSyntaxError\u001b[0m\u001b[1;31m:\u001b[0m unterminated string literal (detected at line 1)\n"
     ]
    }
   ],
   "source": [
    "\"This is our 3rd Session\n",
    "We are learning Data Science\""
   ]
  },
  {
   "cell_type": "code",
   "execution_count": 81,
   "id": "97f2270c",
   "metadata": {},
   "outputs": [
    {
     "data": {
      "text/plain": [
       "'This is our 3rd Session\\nWe are learning Applied Data Science\\n-\\n-\\n-\\n\\n-\\n-\\n\\n-\\n-\\n\\n-\\n-\\n'"
      ]
     },
     "execution_count": 81,
     "metadata": {},
     "output_type": "execute_result"
    }
   ],
   "source": [
    "\"\"\"This is our 3rd Session\n",
    "We are learning Applied Data Science\n",
    "-\n",
    "-\n",
    "-\n",
    "\n",
    "-\n",
    "-\n",
    "\n",
    "-\n",
    "-\n",
    "\n",
    "-\n",
    "-\n",
    "\"\"\""
   ]
  },
  {
   "cell_type": "code",
   "execution_count": 82,
   "id": "63043d3e",
   "metadata": {},
   "outputs": [
    {
     "name": "stdout",
     "output_type": "stream",
     "text": [
      "This is our 3rd Session\n",
      "We are learning Applied Data Science\n",
      "-\n",
      "-\n",
      "-\n",
      "\n",
      "-\n",
      "-\n",
      "\n",
      "-\n",
      "-\n",
      "\n",
      "-\n",
      "-\n",
      "\n"
     ]
    }
   ],
   "source": [
    "print(\"\"\"This is our 3rd Session\n",
    "We are learning Applied Data Science\n",
    "-\n",
    "-\n",
    "-\n",
    "\n",
    "-\n",
    "-\n",
    "\n",
    "-\n",
    "-\n",
    "\n",
    "-\n",
    "-\n",
    "\"\"\")"
   ]
  },
  {
   "cell_type": "code",
   "execution_count": 83,
   "id": "ec2cead2",
   "metadata": {},
   "outputs": [
    {
     "data": {
      "text/plain": [
       "'Muahmmad\\nWaqas'"
      ]
     },
     "execution_count": 83,
     "metadata": {},
     "output_type": "execute_result"
    }
   ],
   "source": [
    "\"Muahmmad\\nWaqas\""
   ]
  },
  {
   "cell_type": "code",
   "execution_count": 84,
   "id": "0b50ce8e",
   "metadata": {},
   "outputs": [
    {
     "name": "stdout",
     "output_type": "stream",
     "text": [
      "Muahmmad\n",
      "Waqas\n"
     ]
    }
   ],
   "source": [
    "print(\"Muahmmad\\nWaqas\")"
   ]
  },
  {
   "cell_type": "code",
   "execution_count": 85,
   "id": "d7f7913f",
   "metadata": {},
   "outputs": [
    {
     "name": "stdout",
     "output_type": "stream",
     "text": [
      "3\n"
     ]
    }
   ],
   "source": [
    "print(int(float(\"3.2\")))"
   ]
  },
  {
   "cell_type": "code",
   "execution_count": 86,
   "id": "bed72735",
   "metadata": {},
   "outputs": [
    {
     "ename": "SyntaxError",
     "evalue": "invalid syntax (3022387325.py, line 2)",
     "output_type": "error",
     "traceback": [
      "\u001b[1;36m  Cell \u001b[1;32mIn[86], line 2\u001b[1;36m\u001b[0m\n\u001b[1;33m    -\u001b[0m\n\u001b[1;37m     ^\u001b[0m\n\u001b[1;31mSyntaxError\u001b[0m\u001b[1;31m:\u001b[0m invalid syntax\n"
     ]
    }
   ],
   "source": [
    "bt1st1 = \"Waqas\"\n",
    "-\n",
    "\n",
    "\n",
    "# stn = \"N\""
   ]
  },
  {
   "cell_type": "code",
   "execution_count": 87,
   "id": "124e391a",
   "metadata": {},
   "outputs": [
    {
     "data": {
      "text/plain": [
       "str"
      ]
     },
     "execution_count": 87,
     "metadata": {},
     "output_type": "execute_result"
    }
   ],
   "source": [
    "s = \"\"\n",
    "type(s)"
   ]
  },
  {
   "cell_type": "markdown",
   "id": "28e67705",
   "metadata": {},
   "source": [
    "# list"
   ]
  },
  {
   "cell_type": "code",
   "execution_count": 88,
   "id": "c2f76119",
   "metadata": {},
   "outputs": [
    {
     "data": {
      "text/plain": [
       "list"
      ]
     },
     "execution_count": 88,
     "metadata": {},
     "output_type": "execute_result"
    }
   ],
   "source": [
    "l = []\n",
    "\n",
    "type(l)"
   ]
  },
  {
   "cell_type": "code",
   "execution_count": 89,
   "id": "437c894f",
   "metadata": {},
   "outputs": [],
   "source": [
    "batch6 = [\"Python for DS\", \"Data Visualization\", \"BI\", \"ML\", \"DL\"]"
   ]
  },
  {
   "cell_type": "code",
   "execution_count": 90,
   "id": "6c08a401",
   "metadata": {},
   "outputs": [
    {
     "data": {
      "text/plain": [
       "5"
      ]
     },
     "execution_count": 90,
     "metadata": {},
     "output_type": "execute_result"
    }
   ],
   "source": [
    "len(batch6)"
   ]
  },
  {
   "cell_type": "code",
   "execution_count": 91,
   "id": "2e658273",
   "metadata": {},
   "outputs": [
    {
     "data": {
      "text/plain": [
       "['Python for DS', 'Data Visualization', 'BI', 'ML', 'DL']"
      ]
     },
     "execution_count": 91,
     "metadata": {},
     "output_type": "execute_result"
    }
   ],
   "source": [
    "batch6"
   ]
  },
  {
   "cell_type": "code",
   "execution_count": 92,
   "id": "7a2d2480",
   "metadata": {},
   "outputs": [],
   "source": [
    "batch6.append(\"GAI\")"
   ]
  },
  {
   "cell_type": "code",
   "execution_count": 93,
   "id": "2ec90cba",
   "metadata": {},
   "outputs": [
    {
     "data": {
      "text/plain": [
       "['Python for DS', 'Data Visualization', 'BI', 'ML', 'DL', 'GAI']"
      ]
     },
     "execution_count": 93,
     "metadata": {},
     "output_type": "execute_result"
    }
   ],
   "source": [
    "batch6"
   ]
  },
  {
   "cell_type": "code",
   "execution_count": 94,
   "id": "80c5e59e",
   "metadata": {},
   "outputs": [
    {
     "data": {
      "text/plain": [
       "[1, 2, 3, 4]"
      ]
     },
     "execution_count": 94,
     "metadata": {},
     "output_type": "execute_result"
    }
   ],
   "source": [
    "[1,2,3] + [4]"
   ]
  },
  {
   "cell_type": "code",
   "execution_count": 95,
   "id": "d2c53bb0",
   "metadata": {},
   "outputs": [
    {
     "name": "stdout",
     "output_type": "stream",
     "text": [
      "['Python for DS', 'Data Visualization', 'BI', 'ML', 'DL', 'GAI']\n"
     ]
    }
   ],
   "source": [
    "print(batch6)"
   ]
  },
  {
   "cell_type": "code",
   "execution_count": 96,
   "id": "67423c48",
   "metadata": {},
   "outputs": [
    {
     "ename": "TypeError",
     "evalue": "'builtin_function_or_method' object is not subscriptable",
     "output_type": "error",
     "traceback": [
      "\u001b[1;31m---------------------------------------------------------------------------\u001b[0m",
      "\u001b[1;31mTypeError\u001b[0m                                 Traceback (most recent call last)",
      "Cell \u001b[1;32mIn[96], line 1\u001b[0m\n\u001b[1;32m----> 1\u001b[0m batch6\u001b[38;5;241m.\u001b[39mremove[\u001b[38;5;241m6\u001b[39m]\n",
      "\u001b[1;31mTypeError\u001b[0m: 'builtin_function_or_method' object is not subscriptable"
     ]
    }
   ],
   "source": [
    "batch6.remove[6]"
   ]
  },
  {
   "cell_type": "code",
   "execution_count": null,
   "id": "8c95aa06",
   "metadata": {},
   "outputs": [],
   "source": []
  },
  {
   "cell_type": "code",
   "execution_count": 97,
   "id": "2d66d181",
   "metadata": {},
   "outputs": [],
   "source": [
    "batch6 +=[\"EDA\"]"
   ]
  },
  {
   "cell_type": "code",
   "execution_count": 98,
   "id": "04f015e9",
   "metadata": {},
   "outputs": [
    {
     "name": "stdout",
     "output_type": "stream",
     "text": [
      "['Python for DS', 'Data Visualization', 'BI', 'ML', 'DL', 'GAI', 'EDA']\n"
     ]
    }
   ],
   "source": [
    "print(batch6)"
   ]
  },
  {
   "cell_type": "code",
   "execution_count": null,
   "id": "1b91a400",
   "metadata": {},
   "outputs": [],
   "source": []
  },
  {
   "cell_type": "code",
   "execution_count": null,
   "id": "8e8c1ee3",
   "metadata": {},
   "outputs": [],
   "source": []
  },
  {
   "cell_type": "code",
   "execution_count": null,
   "id": "34cec13a",
   "metadata": {},
   "outputs": [],
   "source": []
  },
  {
   "cell_type": "code",
   "execution_count": null,
   "id": "6645da69",
   "metadata": {},
   "outputs": [],
   "source": []
  },
  {
   "cell_type": "code",
   "execution_count": 99,
   "id": "4e673419",
   "metadata": {},
   "outputs": [
    {
     "data": {
      "text/plain": [
       "['Python for DS', 'Data Visualization', 'BI', 'ML', 'DL', 'GAI', 'EDA']"
      ]
     },
     "execution_count": 99,
     "metadata": {},
     "output_type": "execute_result"
    }
   ],
   "source": [
    "batch6"
   ]
  },
  {
   "cell_type": "code",
   "execution_count": 100,
   "id": "d135bbad",
   "metadata": {},
   "outputs": [
    {
     "data": {
      "text/plain": [
       "['__add__',\n",
       " '__class__',\n",
       " '__class_getitem__',\n",
       " '__contains__',\n",
       " '__delattr__',\n",
       " '__delitem__',\n",
       " '__dir__',\n",
       " '__doc__',\n",
       " '__eq__',\n",
       " '__format__',\n",
       " '__ge__',\n",
       " '__getattribute__',\n",
       " '__getitem__',\n",
       " '__getstate__',\n",
       " '__gt__',\n",
       " '__hash__',\n",
       " '__iadd__',\n",
       " '__imul__',\n",
       " '__init__',\n",
       " '__init_subclass__',\n",
       " '__iter__',\n",
       " '__le__',\n",
       " '__len__',\n",
       " '__lt__',\n",
       " '__mul__',\n",
       " '__ne__',\n",
       " '__new__',\n",
       " '__reduce__',\n",
       " '__reduce_ex__',\n",
       " '__repr__',\n",
       " '__reversed__',\n",
       " '__rmul__',\n",
       " '__setattr__',\n",
       " '__setitem__',\n",
       " '__sizeof__',\n",
       " '__str__',\n",
       " '__subclasshook__',\n",
       " 'append',\n",
       " 'clear',\n",
       " 'copy',\n",
       " 'count',\n",
       " 'extend',\n",
       " 'index',\n",
       " 'insert',\n",
       " 'pop',\n",
       " 'remove',\n",
       " 'reverse',\n",
       " 'sort']"
      ]
     },
     "execution_count": 100,
     "metadata": {},
     "output_type": "execute_result"
    }
   ],
   "source": [
    "dir(batch6)"
   ]
  },
  {
   "cell_type": "code",
   "execution_count": 101,
   "id": "17226fe2",
   "metadata": {},
   "outputs": [
    {
     "data": {
      "text/plain": [
       "['__add__',\n",
       " '__class__',\n",
       " '__class_getitem__',\n",
       " '__contains__',\n",
       " '__delattr__',\n",
       " '__delitem__',\n",
       " '__dir__',\n",
       " '__doc__',\n",
       " '__eq__',\n",
       " '__format__',\n",
       " '__ge__',\n",
       " '__getattribute__',\n",
       " '__getitem__',\n",
       " '__getstate__',\n",
       " '__gt__',\n",
       " '__hash__',\n",
       " '__iadd__',\n",
       " '__imul__',\n",
       " '__init__',\n",
       " '__init_subclass__',\n",
       " '__iter__',\n",
       " '__le__',\n",
       " '__len__',\n",
       " '__lt__',\n",
       " '__mul__',\n",
       " '__ne__',\n",
       " '__new__',\n",
       " '__reduce__',\n",
       " '__reduce_ex__',\n",
       " '__repr__',\n",
       " '__reversed__',\n",
       " '__rmul__',\n",
       " '__setattr__',\n",
       " '__setitem__',\n",
       " '__sizeof__',\n",
       " '__str__',\n",
       " '__subclasshook__',\n",
       " 'append',\n",
       " 'clear',\n",
       " 'copy',\n",
       " 'count',\n",
       " 'extend',\n",
       " 'index',\n",
       " 'insert',\n",
       " 'pop',\n",
       " 'remove',\n",
       " 'reverse',\n",
       " 'sort']"
      ]
     },
     "execution_count": 101,
     "metadata": {},
     "output_type": "execute_result"
    }
   ],
   "source": [
    "dir(list)"
   ]
  },
  {
   "cell_type": "markdown",
   "id": "1660927c",
   "metadata": {},
   "source": [
    "# indexing\n",
    "\n",
    "## Positive Indexing"
   ]
  },
  {
   "cell_type": "code",
   "execution_count": 102,
   "id": "56dab47e",
   "metadata": {},
   "outputs": [
    {
     "data": {
      "text/plain": [
       "['Python for DS', 'Data Visualization', 'BI', 'ML', 'DL', 'GAI', 'EDA']"
      ]
     },
     "execution_count": 102,
     "metadata": {},
     "output_type": "execute_result"
    }
   ],
   "source": [
    "batch6"
   ]
  },
  {
   "cell_type": "code",
   "execution_count": 103,
   "id": "c6fa4780",
   "metadata": {},
   "outputs": [
    {
     "data": {
      "text/plain": [
       "7"
      ]
     },
     "execution_count": 103,
     "metadata": {},
     "output_type": "execute_result"
    }
   ],
   "source": [
    "len(batch6)"
   ]
  },
  {
   "cell_type": "code",
   "execution_count": 104,
   "id": "4385b1f5",
   "metadata": {},
   "outputs": [],
   "source": [
    "final_index = len(batch6) - 1"
   ]
  },
  {
   "cell_type": "markdown",
   "id": "28adda23",
   "metadata": {},
   "source": [
    "## Negative Indexing"
   ]
  },
  {
   "cell_type": "markdown",
   "id": "5cb36706",
   "metadata": {},
   "source": [
    "* postive indx ---- Left to right and 0 to onwards\n",
    "* Negative indx ---- right to left and -1 to backwards\n"
   ]
  },
  {
   "cell_type": "code",
   "execution_count": 105,
   "id": "2a1fdb3f",
   "metadata": {},
   "outputs": [
    {
     "data": {
      "text/plain": [
       "['Python for DS', 'Data Visualization', 'BI', 'ML', 'DL', 'GAI', 'EDA']"
      ]
     },
     "execution_count": 105,
     "metadata": {},
     "output_type": "execute_result"
    }
   ],
   "source": [
    "batch6"
   ]
  },
  {
   "cell_type": "code",
   "execution_count": 106,
   "id": "de82f449",
   "metadata": {},
   "outputs": [
    {
     "data": {
      "text/plain": [
       "'ML'"
      ]
     },
     "execution_count": 106,
     "metadata": {},
     "output_type": "execute_result"
    }
   ],
   "source": [
    "batch6[-4]"
   ]
  },
  {
   "cell_type": "code",
   "execution_count": 107,
   "id": "6f620844",
   "metadata": {},
   "outputs": [
    {
     "data": {
      "text/plain": [
       "'ML'"
      ]
     },
     "execution_count": 107,
     "metadata": {},
     "output_type": "execute_result"
    }
   ],
   "source": [
    "batch6[3]"
   ]
  },
  {
   "cell_type": "code",
   "execution_count": 108,
   "id": "9af75801",
   "metadata": {},
   "outputs": [
    {
     "data": {
      "text/plain": [
       "'EDA'"
      ]
     },
     "execution_count": 108,
     "metadata": {},
     "output_type": "execute_result"
    }
   ],
   "source": [
    "batch6[-1]"
   ]
  },
  {
   "cell_type": "code",
   "execution_count": 109,
   "id": "a7978cf2",
   "metadata": {},
   "outputs": [
    {
     "data": {
      "text/plain": [
       "'Python for DS'"
      ]
     },
     "execution_count": 109,
     "metadata": {},
     "output_type": "execute_result"
    }
   ],
   "source": [
    "batch6[0]"
   ]
  },
  {
   "cell_type": "code",
   "execution_count": 110,
   "id": "83c213b7",
   "metadata": {},
   "outputs": [],
   "source": [
    "batch6.insert(2,\"Data Analysis\")"
   ]
  },
  {
   "cell_type": "code",
   "execution_count": 111,
   "id": "b7a5c2bf",
   "metadata": {},
   "outputs": [
    {
     "data": {
      "text/plain": [
       "['Python for DS',\n",
       " 'Data Visualization',\n",
       " 'Data Analysis',\n",
       " 'BI',\n",
       " 'ML',\n",
       " 'DL',\n",
       " 'GAI',\n",
       " 'EDA']"
      ]
     },
     "execution_count": 111,
     "metadata": {},
     "output_type": "execute_result"
    }
   ],
   "source": [
    "batch6"
   ]
  },
  {
   "cell_type": "code",
   "execution_count": 112,
   "id": "9a4b89a6",
   "metadata": {},
   "outputs": [
    {
     "name": "stdout",
     "output_type": "stream",
     "text": [
      "['Python for DS', 'Data Visualization', 'Data Analysis', 'BI', 'ML', 'DL', 'GAI', 'EDA']\n"
     ]
    }
   ],
   "source": [
    "print(batch6)"
   ]
  },
  {
   "cell_type": "code",
   "execution_count": 113,
   "id": "320a43b1",
   "metadata": {},
   "outputs": [],
   "source": [
    "batch6[2] = \"Web Scrapping\"\n",
    "batch6[3] = \"Database\""
   ]
  },
  {
   "cell_type": "code",
   "execution_count": 114,
   "id": "e778ee02",
   "metadata": {},
   "outputs": [
    {
     "name": "stdout",
     "output_type": "stream",
     "text": [
      "['Python for DS', 'Data Visualization', 'Web Scrapping', 'Database', 'ML', 'DL', 'GAI', 'EDA']\n"
     ]
    }
   ],
   "source": [
    "print(batch6)"
   ]
  },
  {
   "cell_type": "code",
   "execution_count": 115,
   "id": "32515239",
   "metadata": {},
   "outputs": [],
   "source": [
    "two_courses = [batch6[2], batch6[-3]]"
   ]
  },
  {
   "cell_type": "code",
   "execution_count": 116,
   "id": "ec6df7c7",
   "metadata": {},
   "outputs": [
    {
     "data": {
      "text/plain": [
       "['Web Scrapping', 'DL']"
      ]
     },
     "execution_count": 116,
     "metadata": {},
     "output_type": "execute_result"
    }
   ],
   "source": [
    "two_courses"
   ]
  },
  {
   "cell_type": "markdown",
   "id": "ceb490c5",
   "metadata": {},
   "source": [
    "# Slicing "
   ]
  },
  {
   "cell_type": "code",
   "execution_count": 117,
   "id": "be1c5727",
   "metadata": {},
   "outputs": [
    {
     "data": {
      "text/plain": [
       "['Data Visualization', 'Web Scrapping', 'Database', 'ML', 'DL']"
      ]
     },
     "execution_count": 117,
     "metadata": {},
     "output_type": "execute_result"
    }
   ],
   "source": [
    "batch6[1:-2]"
   ]
  },
  {
   "cell_type": "code",
   "execution_count": 118,
   "id": "d746689e",
   "metadata": {},
   "outputs": [
    {
     "data": {
      "text/plain": [
       "['Data Visualization', 'Web Scrapping', 'Database', 'ML', 'DL', 'GAI']"
      ]
     },
     "execution_count": 118,
     "metadata": {},
     "output_type": "execute_result"
    }
   ],
   "source": [
    "batch6[1:-1]"
   ]
  },
  {
   "cell_type": "code",
   "execution_count": 119,
   "id": "e583f377",
   "metadata": {},
   "outputs": [
    {
     "data": {
      "text/plain": [
       "'Data Visualization'"
      ]
     },
     "execution_count": 119,
     "metadata": {},
     "output_type": "execute_result"
    }
   ],
   "source": [
    "batch6[1]"
   ]
  },
  {
   "cell_type": "code",
   "execution_count": 120,
   "id": "4077e7dc",
   "metadata": {},
   "outputs": [
    {
     "data": {
      "text/plain": [
       "'GAI'"
      ]
     },
     "execution_count": 120,
     "metadata": {},
     "output_type": "execute_result"
    }
   ],
   "source": [
    "batch6[-2]"
   ]
  },
  {
   "cell_type": "code",
   "execution_count": 121,
   "id": "620bf9af",
   "metadata": {},
   "outputs": [
    {
     "data": {
      "text/plain": [
       "['Data Visualization', 'Web Scrapping', 'Database', 'ML', 'DL', 'GAI']"
      ]
     },
     "execution_count": 121,
     "metadata": {},
     "output_type": "execute_result"
    }
   ],
   "source": [
    "batch6[1:-1]"
   ]
  },
  {
   "cell_type": "code",
   "execution_count": 122,
   "id": "5db58cf7",
   "metadata": {},
   "outputs": [
    {
     "data": {
      "text/plain": [
       "8"
      ]
     },
     "execution_count": 122,
     "metadata": {},
     "output_type": "execute_result"
    }
   ],
   "source": [
    "len(batch6)"
   ]
  },
  {
   "cell_type": "code",
   "execution_count": 123,
   "id": "fe3d45ab",
   "metadata": {},
   "outputs": [
    {
     "data": {
      "text/plain": [
       "['Data Visualization', 'Web Scrapping', 'Database', 'ML', 'DL', 'GAI']"
      ]
     },
     "execution_count": 123,
     "metadata": {},
     "output_type": "execute_result"
    }
   ],
   "source": [
    "batch6[1:7]"
   ]
  },
  {
   "cell_type": "code",
   "execution_count": 124,
   "id": "72fcb8b9",
   "metadata": {},
   "outputs": [
    {
     "data": {
      "text/plain": [
       "['Data Visualization', 'Web Scrapping', 'Database', 'ML', 'DL', 'GAI', 'EDA']"
      ]
     },
     "execution_count": 124,
     "metadata": {},
     "output_type": "execute_result"
    }
   ],
   "source": [
    "batch6[1:999]"
   ]
  },
  {
   "cell_type": "code",
   "execution_count": 125,
   "id": "4d2d086b",
   "metadata": {},
   "outputs": [
    {
     "data": {
      "text/plain": [
       "['Data Visualization', 'Web Scrapping', 'Database', 'ML', 'DL', 'GAI', 'EDA']"
      ]
     },
     "execution_count": 125,
     "metadata": {},
     "output_type": "execute_result"
    }
   ],
   "source": [
    "batch6[1:]"
   ]
  },
  {
   "cell_type": "code",
   "execution_count": 126,
   "id": "4de00c2d",
   "metadata": {},
   "outputs": [
    {
     "data": {
      "text/plain": [
       "['Python for DS', 'Data Visualization', 'Web Scrapping', 'Database', 'ML']"
      ]
     },
     "execution_count": 126,
     "metadata": {},
     "output_type": "execute_result"
    }
   ],
   "source": [
    "batch6[:-3]"
   ]
  },
  {
   "cell_type": "code",
   "execution_count": 127,
   "id": "19aaf8ab",
   "metadata": {},
   "outputs": [
    {
     "data": {
      "text/plain": [
       "['Python for DS', 'Data Visualization', 'Web Scrapping', 'Database', 'ML']"
      ]
     },
     "execution_count": 127,
     "metadata": {},
     "output_type": "execute_result"
    }
   ],
   "source": [
    "batch6[0:-3]"
   ]
  },
  {
   "cell_type": "code",
   "execution_count": 128,
   "id": "9599de4c",
   "metadata": {},
   "outputs": [
    {
     "data": {
      "text/plain": [
       "['Web Scrapping', 'Database', 'ML', 'DL', 'GAI', 'EDA']"
      ]
     },
     "execution_count": 128,
     "metadata": {},
     "output_type": "execute_result"
    }
   ],
   "source": [
    "batch6[2:len(batch6)]"
   ]
  },
  {
   "cell_type": "code",
   "execution_count": 129,
   "id": "dbfeac07",
   "metadata": {},
   "outputs": [
    {
     "data": {
      "text/plain": [
       "5"
      ]
     },
     "execution_count": 129,
     "metadata": {},
     "output_type": "execute_result"
    }
   ],
   "source": [
    "batch6.index(\"DL\")"
   ]
  },
  {
   "cell_type": "code",
   "execution_count": 130,
   "id": "0659e4c9",
   "metadata": {},
   "outputs": [
    {
     "ename": "ValueError",
     "evalue": "'dl' is not in list",
     "output_type": "error",
     "traceback": [
      "\u001b[1;31m---------------------------------------------------------------------------\u001b[0m",
      "\u001b[1;31mValueError\u001b[0m                                Traceback (most recent call last)",
      "Cell \u001b[1;32mIn[130], line 1\u001b[0m\n\u001b[1;32m----> 1\u001b[0m batch6\u001b[38;5;241m.\u001b[39mindex(\u001b[38;5;124m\"\u001b[39m\u001b[38;5;124mdl\u001b[39m\u001b[38;5;124m\"\u001b[39m)\n",
      "\u001b[1;31mValueError\u001b[0m: 'dl' is not in list"
     ]
    }
   ],
   "source": [
    "batch6.index(\"dl\")"
   ]
  },
  {
   "cell_type": "markdown",
   "id": "6928d073",
   "metadata": {},
   "source": [
    "# Membership Operators\n",
    "\n",
    "* in\n",
    "* not in"
   ]
  },
  {
   "cell_type": "code",
   "execution_count": 131,
   "id": "deb63eae",
   "metadata": {},
   "outputs": [
    {
     "data": {
      "text/plain": [
       "False"
      ]
     },
     "execution_count": 131,
     "metadata": {},
     "output_type": "execute_result"
    }
   ],
   "source": [
    "\"dl\" in batch6"
   ]
  },
  {
   "cell_type": "code",
   "execution_count": 132,
   "id": "0b973dba",
   "metadata": {},
   "outputs": [
    {
     "data": {
      "text/plain": [
       "bool"
      ]
     },
     "execution_count": 132,
     "metadata": {},
     "output_type": "execute_result"
    }
   ],
   "source": [
    "type(False)"
   ]
  },
  {
   "cell_type": "code",
   "execution_count": 133,
   "id": "d7f01664",
   "metadata": {},
   "outputs": [
    {
     "data": {
      "text/plain": [
       "True"
      ]
     },
     "execution_count": 133,
     "metadata": {},
     "output_type": "execute_result"
    }
   ],
   "source": [
    "\"dl\" not in batch6"
   ]
  },
  {
   "cell_type": "code",
   "execution_count": 134,
   "id": "f261497d",
   "metadata": {},
   "outputs": [
    {
     "data": {
      "text/plain": [
       "bool"
      ]
     },
     "execution_count": 134,
     "metadata": {},
     "output_type": "execute_result"
    }
   ],
   "source": [
    "type(\"dl\" not in batch6)"
   ]
  },
  {
   "cell_type": "code",
   "execution_count": 135,
   "id": "011b33ed",
   "metadata": {},
   "outputs": [
    {
     "data": {
      "text/plain": [
       "False"
      ]
     },
     "execution_count": 135,
     "metadata": {},
     "output_type": "execute_result"
    }
   ],
   "source": [
    "\"w\" in \"Waqas\""
   ]
  },
  {
   "cell_type": "code",
   "execution_count": 136,
   "id": "98dad1f9",
   "metadata": {},
   "outputs": [
    {
     "data": {
      "text/plain": [
       "True"
      ]
     },
     "execution_count": 136,
     "metadata": {},
     "output_type": "execute_result"
    }
   ],
   "source": [
    "\"q\" in \"Waqas\""
   ]
  },
  {
   "cell_type": "markdown",
   "id": "2cacb874",
   "metadata": {},
   "source": [
    "# List of lists"
   ]
  },
  {
   "cell_type": "code",
   "execution_count": 137,
   "id": "0f67f368",
   "metadata": {},
   "outputs": [
    {
     "data": {
      "text/plain": [
       "[['Waqas', 'DS', 5000], ['Kanwal', 'DS', 6000], ['Faizan', 'MLE', 5500]]"
      ]
     },
     "execution_count": 137,
     "metadata": {},
     "output_type": "execute_result"
    }
   ],
   "source": [
    "employee1 = [\"Waqas\", \"DS\", 5000]\n",
    "\n",
    "employees = [employee1,[\"Kanwal\", \"DS\", 6000],\n",
    "            [\"Faizan\", \"MLE\", 5500]]\n",
    "\n",
    "employees"
   ]
  },
  {
   "cell_type": "code",
   "execution_count": 138,
   "id": "706946bf",
   "metadata": {},
   "outputs": [
    {
     "data": {
      "text/plain": [
       "3"
      ]
     },
     "execution_count": 138,
     "metadata": {},
     "output_type": "execute_result"
    }
   ],
   "source": [
    "len(employees)"
   ]
  },
  {
   "cell_type": "code",
   "execution_count": 139,
   "id": "5525d2f2",
   "metadata": {},
   "outputs": [
    {
     "data": {
      "text/plain": [
       "['Kanwal', 'DS', 6000]"
      ]
     },
     "execution_count": 139,
     "metadata": {},
     "output_type": "execute_result"
    }
   ],
   "source": [
    "employees[1]"
   ]
  },
  {
   "cell_type": "code",
   "execution_count": 140,
   "id": "8d421f78",
   "metadata": {},
   "outputs": [
    {
     "data": {
      "text/plain": [
       "6000"
      ]
     },
     "execution_count": 140,
     "metadata": {},
     "output_type": "execute_result"
    }
   ],
   "source": [
    "employees[1][-1]"
   ]
  },
  {
   "cell_type": "code",
   "execution_count": 141,
   "id": "4ea03e2e",
   "metadata": {},
   "outputs": [],
   "source": [
    "employees.insert(0,[\"Name\", \"Position\", \"Salary\"])"
   ]
  },
  {
   "cell_type": "code",
   "execution_count": 142,
   "id": "4e09d948",
   "metadata": {},
   "outputs": [
    {
     "data": {
      "text/plain": [
       "[['Name', 'Position', 'Salary'],\n",
       " ['Waqas', 'DS', 5000],\n",
       " ['Kanwal', 'DS', 6000],\n",
       " ['Faizan', 'MLE', 5500]]"
      ]
     },
     "execution_count": 142,
     "metadata": {},
     "output_type": "execute_result"
    }
   ],
   "source": [
    "employees"
   ]
  },
  {
   "cell_type": "code",
   "execution_count": 143,
   "id": "fefb5514",
   "metadata": {},
   "outputs": [
    {
     "data": {
      "text/plain": [
       "['__add__',\n",
       " '__class__',\n",
       " '__contains__',\n",
       " '__delattr__',\n",
       " '__dir__',\n",
       " '__doc__',\n",
       " '__eq__',\n",
       " '__format__',\n",
       " '__ge__',\n",
       " '__getattribute__',\n",
       " '__getitem__',\n",
       " '__getnewargs__',\n",
       " '__getstate__',\n",
       " '__gt__',\n",
       " '__hash__',\n",
       " '__init__',\n",
       " '__init_subclass__',\n",
       " '__iter__',\n",
       " '__le__',\n",
       " '__len__',\n",
       " '__lt__',\n",
       " '__mod__',\n",
       " '__mul__',\n",
       " '__ne__',\n",
       " '__new__',\n",
       " '__reduce__',\n",
       " '__reduce_ex__',\n",
       " '__repr__',\n",
       " '__rmod__',\n",
       " '__rmul__',\n",
       " '__setattr__',\n",
       " '__sizeof__',\n",
       " '__str__',\n",
       " '__subclasshook__',\n",
       " 'capitalize',\n",
       " 'casefold',\n",
       " 'center',\n",
       " 'count',\n",
       " 'encode',\n",
       " 'endswith',\n",
       " 'expandtabs',\n",
       " 'find',\n",
       " 'format',\n",
       " 'format_map',\n",
       " 'index',\n",
       " 'isalnum',\n",
       " 'isalpha',\n",
       " 'isascii',\n",
       " 'isdecimal',\n",
       " 'isdigit',\n",
       " 'isidentifier',\n",
       " 'islower',\n",
       " 'isnumeric',\n",
       " 'isprintable',\n",
       " 'isspace',\n",
       " 'istitle',\n",
       " 'isupper',\n",
       " 'join',\n",
       " 'ljust',\n",
       " 'lower',\n",
       " 'lstrip',\n",
       " 'maketrans',\n",
       " 'partition',\n",
       " 'removeprefix',\n",
       " 'removesuffix',\n",
       " 'replace',\n",
       " 'rfind',\n",
       " 'rindex',\n",
       " 'rjust',\n",
       " 'rpartition',\n",
       " 'rsplit',\n",
       " 'rstrip',\n",
       " 'split',\n",
       " 'splitlines',\n",
       " 'startswith',\n",
       " 'strip',\n",
       " 'swapcase',\n",
       " 'title',\n",
       " 'translate',\n",
       " 'upper',\n",
       " 'zfill']"
      ]
     },
     "execution_count": 143,
     "metadata": {},
     "output_type": "execute_result"
    }
   ],
   "source": [
    "dir(\"?\")"
   ]
  },
  {
   "cell_type": "code",
   "execution_count": 144,
   "id": "8d95d463",
   "metadata": {},
   "outputs": [
    {
     "data": {
      "text/plain": [
       "[['Name', 'Position', 'Salary'],\n",
       " ['Waqas', 'DS', 5000],\n",
       " ['Kanwal', 'DS', 6000],\n",
       " ['Faizan', 'MLE', 5500]]"
      ]
     },
     "execution_count": 144,
     "metadata": {},
     "output_type": "execute_result"
    }
   ],
   "source": [
    "employees"
   ]
  },
  {
   "cell_type": "code",
   "execution_count": 145,
   "id": "38e1f34d",
   "metadata": {},
   "outputs": [
    {
     "data": {
      "text/plain": [
       "['Name', 'Position', 'Salary']"
      ]
     },
     "execution_count": 145,
     "metadata": {},
     "output_type": "execute_result"
    }
   ],
   "source": [
    "employees[0]"
   ]
  },
  {
   "cell_type": "code",
   "execution_count": 146,
   "id": "3f193745",
   "metadata": {},
   "outputs": [],
   "source": [
    "employees[0].append(\"Bonus\")"
   ]
  },
  {
   "cell_type": "code",
   "execution_count": 147,
   "id": "c09bc8a2",
   "metadata": {},
   "outputs": [
    {
     "data": {
      "text/plain": [
       "[['Name', 'Position', 'Salary', 'Bonus'],\n",
       " ['Waqas', 'DS', 5000],\n",
       " ['Kanwal', 'DS', 6000],\n",
       " ['Faizan', 'MLE', 5500]]"
      ]
     },
     "execution_count": 147,
     "metadata": {},
     "output_type": "execute_result"
    }
   ],
   "source": [
    "employees"
   ]
  },
  {
   "cell_type": "markdown",
   "id": "f702ab01",
   "metadata": {},
   "source": [
    "# Iteration\n",
    "\n",
    "## For Loop"
   ]
  },
  {
   "cell_type": "code",
   "execution_count": 148,
   "id": "1c995219",
   "metadata": {},
   "outputs": [
    {
     "name": "stdout",
     "output_type": "stream",
     "text": [
      "W\n",
      "a\n",
      "q\n",
      "a\n",
      "s\n"
     ]
    }
   ],
   "source": [
    "name = \"Waqas\"\n",
    "\n",
    "for c in name:\n",
    " print(c)"
   ]
  },
  {
   "cell_type": "code",
   "execution_count": 149,
   "id": "ba7473d6",
   "metadata": {},
   "outputs": [
    {
     "name": "stdout",
     "output_type": "stream",
     "text": [
      "CPU times: total: 0 ns\n",
      "Wall time: 0 ns\n"
     ]
    }
   ],
   "source": [
    "time"
   ]
  },
  {
   "cell_type": "code",
   "execution_count": 150,
   "id": "09d5eb26",
   "metadata": {},
   "outputs": [],
   "source": [
    "import time"
   ]
  },
  {
   "cell_type": "code",
   "execution_count": 151,
   "id": "ce09458d",
   "metadata": {},
   "outputs": [
    {
     "data": {
      "text/plain": [
       "['_STRUCT_TM_ITEMS',\n",
       " '__doc__',\n",
       " '__loader__',\n",
       " '__name__',\n",
       " '__package__',\n",
       " '__spec__',\n",
       " 'altzone',\n",
       " 'asctime',\n",
       " 'ctime',\n",
       " 'daylight',\n",
       " 'get_clock_info',\n",
       " 'gmtime',\n",
       " 'localtime',\n",
       " 'mktime',\n",
       " 'monotonic',\n",
       " 'monotonic_ns',\n",
       " 'perf_counter',\n",
       " 'perf_counter_ns',\n",
       " 'process_time',\n",
       " 'process_time_ns',\n",
       " 'sleep',\n",
       " 'strftime',\n",
       " 'strptime',\n",
       " 'struct_time',\n",
       " 'thread_time',\n",
       " 'thread_time_ns',\n",
       " 'time',\n",
       " 'time_ns',\n",
       " 'timezone',\n",
       " 'tzname']"
      ]
     },
     "execution_count": 151,
     "metadata": {},
     "output_type": "execute_result"
    }
   ],
   "source": [
    "dir(time)"
   ]
  },
  {
   "cell_type": "code",
   "execution_count": 152,
   "id": "e0ac07b3",
   "metadata": {},
   "outputs": [
    {
     "name": "stdout",
     "output_type": "stream",
     "text": [
      "W\n",
      "a\n",
      "q\n",
      "a\n",
      "s\n"
     ]
    }
   ],
   "source": [
    "name = \"Waqas\"\n",
    "\n",
    "for c in name:\n",
    " print(c)\n",
    " time.sleep(15)"
   ]
  },
  {
   "cell_type": "code",
   "execution_count": 155,
   "id": "3ad3986f",
   "metadata": {},
   "outputs": [
    {
     "data": {
      "text/plain": [
       "'s'"
      ]
     },
     "execution_count": 155,
     "metadata": {},
     "output_type": "execute_result"
    }
   ],
   "source": [
    "c"
   ]
  },
  {
   "cell_type": "code",
   "execution_count": 154,
   "id": "f46b1c4b",
   "metadata": {},
   "outputs": [
    {
     "data": {
      "text/plain": [
       "[['Name', 'Position', 'Salary', 'Bonus'],\n",
       " ['Waqas', 'DS', 5000],\n",
       " ['Kanwal', 'DS', 6000],\n",
       " ['Faizan', 'MLE', 5500]]"
      ]
     },
     "execution_count": 154,
     "metadata": {},
     "output_type": "execute_result"
    }
   ],
   "source": [
    "employees"
   ]
  },
  {
   "cell_type": "code",
   "execution_count": 156,
   "id": "9a362878",
   "metadata": {},
   "outputs": [
    {
     "name": "stdout",
     "output_type": "stream",
     "text": [
      "['Name', 'Position', 'Salary', 'Bonus']\n",
      "['Waqas', 'DS', 5000]\n",
      "['Kanwal', 'DS', 6000]\n",
      "['Faizan', 'MLE', 5500]\n"
     ]
    }
   ],
   "source": [
    "for l in employees:\n",
    "    print(l)\n",
    "    time.sleep(2)"
   ]
  },
  {
   "cell_type": "code",
   "execution_count": 157,
   "id": "293907b7",
   "metadata": {},
   "outputs": [
    {
     "name": "stdout",
     "output_type": "stream",
     "text": [
      "['Waqas', 'DS', 5000]\n",
      "['Kanwal', 'DS', 6000]\n",
      "['Faizan', 'MLE', 5500]\n"
     ]
    }
   ],
   "source": [
    "for l in employees[1:]:\n",
    "    print(l)\n",
    "    time.sleep(2)"
   ]
  },
  {
   "cell_type": "code",
   "execution_count": 158,
   "id": "35682235",
   "metadata": {},
   "outputs": [
    {
     "name": "stdout",
     "output_type": "stream",
     "text": [
      "Waqas Session4\n"
     ]
    }
   ],
   "source": [
    "print(\"Waqas\", \"Session4\")"
   ]
  },
  {
   "cell_type": "code",
   "execution_count": 159,
   "id": "4d19f600",
   "metadata": {},
   "outputs": [
    {
     "name": "stdout",
     "output_type": "stream",
     "text": [
      "['Waqas', 'DS', 5000] Bonus Value 500.0\n",
      "['Kanwal', 'DS', 6000] Bonus Value 600.0\n",
      "['Faizan', 'MLE', 5500] Bonus Value 550.0\n"
     ]
    }
   ],
   "source": [
    "for l in employees[1:]:\n",
    "    print(l,\"Bonus Value\",l[-1]*.1)\n",
    "    time.sleep(2)"
   ]
  },
  {
   "cell_type": "code",
   "execution_count": 160,
   "id": "748d5a43",
   "metadata": {},
   "outputs": [
    {
     "name": "stdout",
     "output_type": "stream",
     "text": [
      "['Waqas', 'DS', 5000, 500.0]\n",
      "['Kanwal', 'DS', 6000, 600.0]\n",
      "['Faizan', 'MLE', 5500, 550.0]\n"
     ]
    }
   ],
   "source": [
    "for l in employees[1:]:\n",
    "    bonus = l[-1]*.1\n",
    "    l.append(bonus)\n",
    "    print(l)\n",
    "    time.sleep(5)"
   ]
  },
  {
   "cell_type": "code",
   "execution_count": null,
   "id": "893491b8",
   "metadata": {},
   "outputs": [],
   "source": [
    "employees"
   ]
  },
  {
   "cell_type": "code",
   "execution_count": null,
   "id": "108aae1f",
   "metadata": {},
   "outputs": [],
   "source": [
    "l"
   ]
  },
  {
   "cell_type": "code",
   "execution_count": null,
   "id": "36677457",
   "metadata": {},
   "outputs": [],
   "source": [
    "range(1,101)"
   ]
  },
  {
   "cell_type": "code",
   "execution_count": null,
   "id": "12db7b12",
   "metadata": {},
   "outputs": [],
   "source": [
    "hun_lst = list(range(1,101))"
   ]
  },
  {
   "cell_type": "code",
   "execution_count": null,
   "id": "1f77cc03",
   "metadata": {},
   "outputs": [],
   "source": [
    "print(hun_lst)"
   ]
  },
  {
   "cell_type": "markdown",
   "id": "7a29d182",
   "metadata": {},
   "source": [
    "# Conditional Statement -> Control flow"
   ]
  },
  {
   "cell_type": "markdown",
   "id": "54ab07b6",
   "metadata": {},
   "source": [
    "# Comparision Operators\n",
    "\n",
    "* `==` equals to\n",
    "* `!=` Not equals to\n",
    "* `>` Greater than\n",
    "* `<` Less than\n",
    "* `>=` Greater than & equals to\n",
    "* `<=` Less than & equals to"
   ]
  },
  {
   "cell_type": "code",
   "execution_count": null,
   "id": "a77f1c01",
   "metadata": {},
   "outputs": [],
   "source": [
    "2.0==2"
   ]
  },
  {
   "cell_type": "code",
   "execution_count": null,
   "id": "d9c40c5a",
   "metadata": {},
   "outputs": [],
   "source": [
    "2.0==\"2\""
   ]
  },
  {
   "cell_type": "code",
   "execution_count": null,
   "id": "14fb34fb",
   "metadata": {},
   "outputs": [],
   "source": [
    "if 2.0==\"2\":\n",
    "    print(\"OK\")\n"
   ]
  },
  {
   "cell_type": "code",
   "execution_count": null,
   "id": "03d9d7b6",
   "metadata": {},
   "outputs": [],
   "source": [
    "if 2.0!=\"2\":\n",
    "    print(\"OK\")\n"
   ]
  },
  {
   "cell_type": "code",
   "execution_count": null,
   "id": "a27cf068",
   "metadata": {},
   "outputs": [],
   "source": [
    "if True # 2.0!=\"2\":\n",
    "    print(\"OK\")\n"
   ]
  },
  {
   "cell_type": "code",
   "execution_count": null,
   "id": "a317dc8c",
   "metadata": {},
   "outputs": [],
   "source": [
    "if False:\n",
    "    print(\"I am printable\")\n",
    "else:\n",
    "    print(\"I am not printable\")"
   ]
  },
  {
   "cell_type": "markdown",
   "id": "ac01f273",
   "metadata": {},
   "source": [
    "% Modulus"
   ]
  },
  {
   "cell_type": "code",
   "execution_count": null,
   "id": "8cfc5f17",
   "metadata": {},
   "outputs": [],
   "source": [
    "2%2"
   ]
  },
  {
   "cell_type": "code",
   "execution_count": null,
   "id": "b2341be4",
   "metadata": {},
   "outputs": [],
   "source": [
    "6%2"
   ]
  },
  {
   "cell_type": "code",
   "execution_count": null,
   "id": "00dd2e9f",
   "metadata": {},
   "outputs": [],
   "source": []
  },
  {
   "cell_type": "code",
   "execution_count": null,
   "id": "ed31a5bd",
   "metadata": {},
   "outputs": [],
   "source": []
  },
  {
   "cell_type": "code",
   "execution_count": null,
   "id": "a4860fbf",
   "metadata": {},
   "outputs": [],
   "source": []
  },
  {
   "cell_type": "code",
   "execution_count": null,
   "id": "711cdf2d",
   "metadata": {},
   "outputs": [],
   "source": []
  },
  {
   "cell_type": "code",
   "execution_count": null,
   "id": "b8caa931",
   "metadata": {},
   "outputs": [],
   "source": []
  },
  {
   "cell_type": "code",
   "execution_count": null,
   "id": "e16284bf",
   "metadata": {},
   "outputs": [],
   "source": []
  },
  {
   "cell_type": "code",
   "execution_count": null,
   "id": "eb82b38e",
   "metadata": {},
   "outputs": [],
   "source": []
  }
 ],
 "metadata": {
  "kernelspec": {
   "display_name": "Python 3 (ipykernel)",
   "language": "python",
   "name": "python3"
  },
  "language_info": {
   "codemirror_mode": {
    "name": "ipython",
    "version": 3
   },
   "file_extension": ".py",
   "mimetype": "text/x-python",
   "name": "python",
   "nbconvert_exporter": "python",
   "pygments_lexer": "ipython3",
   "version": "3.11.5"
  }
 },
 "nbformat": 4,
 "nbformat_minor": 5
}
