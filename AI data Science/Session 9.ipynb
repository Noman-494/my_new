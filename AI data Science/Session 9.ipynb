{
 "cells": [
  {
   "cell_type": "code",
   "execution_count": 1,
   "id": "9dc7fe9d",
   "metadata": {},
   "outputs": [],
   "source": [
    "def mult(x,y): # here x and y parameters\n",
    "    return x*y"
   ]
  },
  {
   "cell_type": "code",
   "execution_count": 2,
   "id": "efdc6676",
   "metadata": {},
   "outputs": [
    {
     "data": {
      "text/plain": [
       "6"
      ]
     },
     "execution_count": 2,
     "metadata": {},
     "output_type": "execute_result"
    }
   ],
   "source": [
    "mult(2,3) # arguments"
   ]
  },
  {
   "cell_type": "code",
   "execution_count": null,
   "id": "dc9e86a6",
   "metadata": {},
   "outputs": [],
   "source": [
    "def tax(salary, tax_perc = 0.02): # tax_perc -> parameter -> default argument\n",
    "    pass # ? placeholder\n",
    "\n",
    "\n",
    "tax(5000,0.03) # positional argument\n"
   ]
  },
  {
   "cell_type": "code",
   "execution_count": null,
   "id": "986e5336",
   "metadata": {},
   "outputs": [],
   "source": [
    "mult(x = 2,y = 3) # keyword argument\n",
    "\n",
    "\n",
    "mult(y = 3, x = 2)"
   ]
  },
  {
   "cell_type": "code",
   "execution_count": 4,
   "id": "4a5372f2",
   "metadata": {},
   "outputs": [],
   "source": [
    "import csv\n",
    "\n",
    "file = open(\"playstore.csv\", encoding = \"latin-1\")\n",
    "reader = csv.reader(file)\n",
    "\n",
    "data = list(reader)"
   ]
  },
  {
   "cell_type": "code",
   "execution_count": 5,
   "id": "44f63ff5",
   "metadata": {},
   "outputs": [],
   "source": [
    "header = data[0]\n",
    "ps = data[1:]"
   ]
  },
  {
   "cell_type": "code",
   "execution_count": 6,
   "id": "261ea24f",
   "metadata": {},
   "outputs": [],
   "source": [
    "import csv\n",
    "\n",
    "def read_csv(file_name):\n",
    "    file = open(file_name, encoding = \"latin-1\")\n",
    "    reader = csv.reader(file)\n",
    "    data = list(reader)\n",
    "    \n",
    "    return data"
   ]
  },
  {
   "cell_type": "code",
   "execution_count": 7,
   "id": "ec2c317d",
   "metadata": {},
   "outputs": [],
   "source": [
    "s = read_csv(\"Store.csv\")"
   ]
  },
  {
   "cell_type": "code",
   "execution_count": 8,
   "id": "8fe35268",
   "metadata": {},
   "outputs": [
    {
     "data": {
      "text/plain": [
       "['id',\n",
       " 'track_name',\n",
       " 'size_bytes',\n",
       " 'currency',\n",
       " 'price',\n",
       " 'rating_count_tot',\n",
       " 'rating_count_ver',\n",
       " 'user_rating',\n",
       " 'user_rating_ver',\n",
       " 'ver',\n",
       " 'cont_rating',\n",
       " 'prime_genre',\n",
       " 'sup_devices.num',\n",
       " 'ipadSc_urls.num',\n",
       " 'lang.num',\n",
       " 'vpp_lic']"
      ]
     },
     "execution_count": 8,
     "metadata": {},
     "output_type": "execute_result"
    }
   ],
   "source": [
    "s[0]"
   ]
  },
  {
   "cell_type": "code",
   "execution_count": 9,
   "id": "eb5231c7",
   "metadata": {},
   "outputs": [
    {
     "data": {
      "text/plain": [
       "['284882215',\n",
       " 'Facebook',\n",
       " '389879808',\n",
       " 'USD',\n",
       " '0',\n",
       " '2974676',\n",
       " '212',\n",
       " '3.5',\n",
       " '3.5',\n",
       " '95',\n",
       " '4+',\n",
       " 'Social Networking',\n",
       " '37',\n",
       " '1',\n",
       " '29',\n",
       " '1']"
      ]
     },
     "execution_count": 9,
     "metadata": {},
     "output_type": "execute_result"
    }
   ],
   "source": [
    "s[1]"
   ]
  },
  {
   "cell_type": "code",
   "execution_count": 10,
   "id": "e1443b87",
   "metadata": {},
   "outputs": [],
   "source": [
    "import csv\n",
    "\n",
    "def read_csv(file_name, header_available = True):\n",
    "    file = open(file_name, encoding = \"latin-1\")\n",
    "    reader = csv.reader(file)\n",
    "    data = list(reader)\n",
    "    \n",
    "    if header_available: # if True\n",
    "        return data[0], data[1:]\n",
    "    else:\n",
    "        return data"
   ]
  },
  {
   "cell_type": "code",
   "execution_count": null,
   "id": "fc4e3442",
   "metadata": {},
   "outputs": [],
   "source": [
    "x,y,z = 2,3,5"
   ]
  },
  {
   "cell_type": "code",
   "execution_count": 11,
   "id": "10c85973",
   "metadata": {},
   "outputs": [],
   "source": [
    "header, store = read_csv(\"Store.csv\")"
   ]
  },
  {
   "cell_type": "code",
   "execution_count": 12,
   "id": "f0382718",
   "metadata": {},
   "outputs": [
    {
     "data": {
      "text/plain": [
       "['id',\n",
       " 'track_name',\n",
       " 'size_bytes',\n",
       " 'currency',\n",
       " 'price',\n",
       " 'rating_count_tot',\n",
       " 'rating_count_ver',\n",
       " 'user_rating',\n",
       " 'user_rating_ver',\n",
       " 'ver',\n",
       " 'cont_rating',\n",
       " 'prime_genre',\n",
       " 'sup_devices.num',\n",
       " 'ipadSc_urls.num',\n",
       " 'lang.num',\n",
       " 'vpp_lic']"
      ]
     },
     "execution_count": 12,
     "metadata": {},
     "output_type": "execute_result"
    }
   ],
   "source": [
    "header"
   ]
  },
  {
   "cell_type": "code",
   "execution_count": 13,
   "id": "77955447",
   "metadata": {},
   "outputs": [],
   "source": [
    "test = read_csv(\"test.csv\", False)"
   ]
  },
  {
   "cell_type": "code",
   "execution_count": 14,
   "id": "b5f59fb9",
   "metadata": {},
   "outputs": [
    {
     "data": {
      "text/plain": [
       "['284882215',\n",
       " 'Facebook',\n",
       " '389879808',\n",
       " 'USD',\n",
       " '0',\n",
       " '2974676',\n",
       " '212',\n",
       " '3.5',\n",
       " '3.5',\n",
       " '95',\n",
       " '4+',\n",
       " 'Social Networking',\n",
       " '37',\n",
       " '1',\n",
       " '29',\n",
       " '1',\n",
       " 'Free']"
      ]
     },
     "execution_count": 14,
     "metadata": {},
     "output_type": "execute_result"
    }
   ],
   "source": [
    "test[0]"
   ]
  },
  {
   "cell_type": "code",
   "execution_count": null,
   "id": "df77577a",
   "metadata": {},
   "outputs": [],
   "source": []
  }
 ],
 "metadata": {
  "kernelspec": {
   "display_name": "Python 3 (ipykernel)",
   "language": "python",
   "name": "python3"
  },
  "language_info": {
   "codemirror_mode": {
    "name": "ipython",
    "version": 3
   },
   "file_extension": ".py",
   "mimetype": "text/x-python",
   "name": "python",
   "nbconvert_exporter": "python",
   "pygments_lexer": "ipython3",
   "version": "3.11.5"
  }
 },
 "nbformat": 4,
 "nbformat_minor": 5
}
