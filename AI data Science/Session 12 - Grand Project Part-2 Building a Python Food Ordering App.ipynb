{
 "cells": [
  {
   "cell_type": "code",
   "execution_count": null,
   "id": "21ad8aa7",
   "metadata": {},
   "outputs": [],
   "source": [
    "rest_name = \"Buddies Inn\"\n",
    "\n",
    "menu = {\n",
    "    'SKU1': {'name': 'Burger', 'price': 5.99},\n",
    "    'SKU2': {'name': 'Pizza', 'price': 8.99},\n",
    "    'SKU3': {'name': 'Pasta', 'price': 7.49},\n",
    "    'SKU4': {'name': 'Salad', 'price': 4.99},\n",
    "    'SKU5': {'name': 'Steak', 'price': 12.99},\n",
    "    'SKU6': {'name': 'Sushi', 'price': 10.49},\n",
    "    'SKU7': {'name': 'Chicken Wings', 'price': 6.99},\n",
    "    'SKU8': {'name': 'Sandwich', 'price': 4.49},\n",
    "    'SKU9': {'name': 'Tacos', 'price': 5.49},\n",
    "    'SKU10': {'name': 'Ice Cream', 'price': 3.99}\n",
    "}\n",
    "\n",
    "cart = {}\n",
    "\n",
    "actions = {\"1\":\"Add item to the cart\",\n",
    "           \"2\":\"Remove item from the cart\",\n",
    "            \"3\":\"Modify item's quantity in the cart\",\n",
    "            \"4\":\"View items in the cart\",\n",
    "            \"5\":\"Checkout\",\n",
    "            \"6\":\"Exit\",\n",
    "          }\n",
    "\n",
    "gst = 0.07"
   ]
  },
  {
   "cell_type": "code",
   "execution_count": null,
   "id": "c62eb140",
   "metadata": {},
   "outputs": [],
   "source": [
    "def display_menu():\n",
    "    \n",
    "    \"\"\"Displays all menu item SKUs, names and prices\"\"\"\n",
    "    \n",
    "    print(\"\\n***Buddies Inn's Menu***\\n\")\n",
    "    \n",
    "    for sku in menu:\n",
    "        stock = sku[3:]\n",
    "        name = menu[sku][\"name\"]\n",
    "        price = menu[sku][\"price\"]\n",
    "\n",
    "        print(f\"({stock}) {name} ${price}\")\n",
    "    print(\"\\n\")"
   ]
  },
  {
   "cell_type": "code",
   "execution_count": null,
   "id": "6d984b88",
   "metadata": {},
   "outputs": [],
   "source": [
    "def add_to_cart(sku, quantity = 1):\n",
    "    \"\"\"\n",
    "    Add an item and its quantity to the cart\n",
    "    \n",
    "    :param1 string sku: The input SKU number being ordered\n",
    "    :param2 int quantity: The input qunatity being ordered\n",
    "    \"\"\"\n",
    "    if sku in menu:\n",
    "        if sku not in cart:\n",
    "            cart[sku] = quantity\n",
    "        else:\n",
    "            cart[sku] += quantity\n",
    "            \n",
    "        print(f\"Added {quantity} {menu[sku]['name']} in your cart\")\n",
    "            \n",
    "    else:\n",
    "        print(\"Sorry! Ordered item is not available in the menu\")\n",
    "        \n",
    "    "
   ]
  },
  {
   "cell_type": "code",
   "execution_count": null,
   "id": "be8f47fe",
   "metadata": {},
   "outputs": [],
   "source": [
    "def remove_from_cart(sku):\n",
    "    \n",
    "    \"\"\"\n",
    "    Remove an item from the cart\n",
    "    \n",
    "    :param string sku: The input SKU number to remove from the cart.\n",
    "    \n",
    "    \"\"\"\n",
    "    if sku in cart:\n",
    "        removed_val = cart.pop(sku)\n",
    "        print(f\"Removed {menu[sku]['name']} from the cart.\")\n",
    "    else:\n",
    "        print(f\"Sorry! This item in not available in the cart\")\n"
   ]
  },
  {
   "cell_type": "code",
   "execution_count": null,
   "id": "9d2ce207",
   "metadata": {},
   "outputs": [],
   "source": [
    "def modify_cart(sku, quantity):\n",
    "    \"\"\"\n",
    "    Modify an item's qunatity in the cart\n",
    "    \n",
    "    :param1 string sku: The input SKU number being ordered\n",
    "    :param2 int qunatity: The input new quantity to be modified for SKU.\n",
    "    \"\"\"\n",
    "    \n",
    "    if sku in cart:\n",
    "        if quantity > 0:\n",
    "            cart[sku] = quantity\n",
    "            print(f\"Modified {menu[sku]['name']}\\'s quantity to {quantity}\")\n",
    "        else:\n",
    "            remove_from_cart(sku)\n",
    "    else:      \n",
    "        print(\"Sorry! This item is not available in the cart\")"
   ]
  },
  {
   "cell_type": "code",
   "execution_count": null,
   "id": "21f49433",
   "metadata": {},
   "outputs": [],
   "source": [
    "def view_cart():\n",
    "    \"Display the menu names, quatity and total amount\"\n",
    "    \n",
    "    print(\"\\n***Your Order***\\n\")\n",
    "    subtotal = 0\n",
    "\n",
    "    for sku in cart:\n",
    "        quantity = cart[sku]\n",
    "        price = menu[sku]['price']\n",
    "\n",
    "        subtotal+= quantity*price\n",
    "\n",
    "        print(f\"{quantity} x {menu[sku]['name']}\")\n",
    "\n",
    "    tax = subtotal*gst\n",
    "\n",
    "    total = subtotal + tax\n",
    "    print(f\"Total: ${total: .2f}\")\n",
    "    print(\"\\n\")"
   ]
  },
  {
   "cell_type": "code",
   "execution_count": null,
   "id": "ff99bacd",
   "metadata": {},
   "outputs": [],
   "source": [
    "def checkout():\n",
    "    \"\"\"\n",
    "    Display the subtotal info for the user to checkout\n",
    "    \"\"\"\n",
    "    print(\"\\n***Checkout***\\n\")\n",
    "    \n",
    "    view_cart()\n",
    "    \n",
    "    print(\"Thank you for the order! Goodbye!\")\n",
    "    print(\"\\n\")"
   ]
  },
  {
   "cell_type": "code",
   "execution_count": null,
   "id": "44abd058",
   "metadata": {},
   "outputs": [],
   "source": [
    "actions"
   ]
  },
  {
   "cell_type": "code",
   "execution_count": null,
   "id": "c7608e89",
   "metadata": {},
   "outputs": [],
   "source": [
    "print(\"\\n***Please Choose your options***\\n\")\n",
    "\n",
    "for action in actions:\n",
    "    details = actions[action]\n",
    "    print(details)\n",
    "    "
   ]
  },
  {
   "cell_type": "code",
   "execution_count": null,
   "id": "08781548",
   "metadata": {},
   "outputs": [],
   "source": [
    "print(\"\\n***Please Choose your options***\\n\")\n",
    "\n",
    "for action in actions:\n",
    "    details = actions[action]\n",
    "    print(f\"({action}) {details}\")"
   ]
  },
  {
   "cell_type": "code",
   "execution_count": null,
   "id": "13e3c200",
   "metadata": {},
   "outputs": [],
   "source": [
    "def cust_actions():\n",
    "    print(\"\\n***Please Choose your option***\\n\")\n",
    "    for action in actions:\n",
    "        details = actions[action]\n",
    "        print(f\"({action}) {details}\")"
   ]
  },
  {
   "cell_type": "code",
   "execution_count": 12,
   "id": "d6509257",
   "metadata": {},
   "outputs": [
    {
     "name": "stdout",
     "output_type": "stream",
     "text": [
      "\n",
      "***Please Choose your option***\n",
      "\n",
      "(1) Add item to the cart\n",
      "(2) Remove item from the cart\n",
      "(3) Modify item's quantity in the cart\n",
      "(4) View items in the cart\n",
      "(5) Checkout\n",
      "(6) Exit\n"
     ]
    }
   ],
   "source": [
    "cust_actions()"
   ]
  },
  {
   "cell_type": "code",
   "execution_count": 13,
   "id": "dbb3ba7c",
   "metadata": {},
   "outputs": [],
   "source": [
    "def order():\n",
    "    \"\"\"\n",
    "    It will take order from the customers\n",
    "    \"\"\"\n",
    "    \n",
    "    print(f\"Welcome to the {rest_name}!\")\n",
    "    \n",
    "    ordering = True\n",
    "    \n",
    "    while ordering:\n",
    "        cust_actions()\n",
    "        break"
   ]
  },
  {
   "cell_type": "code",
   "execution_count": 14,
   "id": "78a1d799",
   "metadata": {},
   "outputs": [
    {
     "name": "stdout",
     "output_type": "stream",
     "text": [
      "Welcome to the Buddies Inn!\n",
      "\n",
      "***Please Choose your option***\n",
      "\n",
      "(1) Add item to the cart\n",
      "(2) Remove item from the cart\n",
      "(3) Modify item's quantity in the cart\n",
      "(4) View items in the cart\n",
      "(5) Checkout\n",
      "(6) Exit\n"
     ]
    }
   ],
   "source": [
    "order()"
   ]
  },
  {
   "cell_type": "code",
   "execution_count": 15,
   "id": "b1345274",
   "metadata": {},
   "outputs": [],
   "source": [
    "def order():\n",
    "    \"\"\"\n",
    "    It will take order from the customers\n",
    "    \"\"\"\n",
    "    \n",
    "    print(f\"Welcome to the {rest_name}!\")\n",
    "    \n",
    "    ordering = True\n",
    "    \n",
    "    while ordering:\n",
    "        cust_actions()\n",
    "        response = input(\"Please enter the desired option: \")\n",
    "        if response == \"1\":\n",
    "            display_menu()\n",
    "            break\n",
    "            "
   ]
  },
  {
   "cell_type": "code",
   "execution_count": null,
   "id": "3650fa80",
   "metadata": {},
   "outputs": [
    {
     "name": "stdout",
     "output_type": "stream",
     "text": [
      "Welcome to the Buddies Inn!\n",
      "\n",
      "***Please Choose your option***\n",
      "\n",
      "(1) Add item to the cart\n",
      "(2) Remove item from the cart\n",
      "(3) Modify item's quantity in the cart\n",
      "(4) View items in the cart\n",
      "(5) Checkout\n",
      "(6) Exit\n"
     ]
    }
   ],
   "source": [
    "order()"
   ]
  },
  {
   "cell_type": "code",
   "execution_count": null,
   "id": "2f3dbac6",
   "metadata": {},
   "outputs": [],
   "source": [
    "add_to_cart(\"1\", quantity = 1)\n",
    "            "
   ]
  },
  {
   "cell_type": "code",
   "execution_count": null,
   "id": "48667088",
   "metadata": {},
   "outputs": [],
   "source": [
    "cart"
   ]
  },
  {
   "cell_type": "code",
   "execution_count": null,
   "id": "cd5c9b83",
   "metadata": {},
   "outputs": [],
   "source": [
    "add_to_cart(\"SKU1\", quantity = 1)         "
   ]
  },
  {
   "cell_type": "code",
   "execution_count": null,
   "id": "a2d9f232",
   "metadata": {},
   "outputs": [],
   "source": [
    "cart"
   ]
  },
  {
   "cell_type": "code",
   "execution_count": null,
   "id": "cf672929",
   "metadata": {},
   "outputs": [],
   "source": [
    "def order():\n",
    "    \"\"\"\n",
    "    It will take order from the customers\n",
    "    \"\"\"\n",
    "    \n",
    "    print(f\"Welcome to the {rest_name}!\")\n",
    "    \n",
    "    ordering = True\n",
    "    \n",
    "    while ordering:\n",
    "        cust_actions()\n",
    "        response = input(\"Please enter the desired option: \")\n",
    "        if response == \"1\": # Add item to the cart\n",
    "            display_menu()\n",
    "            sku_prompt = \"Please enter the meal number for the menu item you want to order: \"\n",
    "            quantity_prompt = \"Please enter the quantity for the menu item you want to order[Defaualt 1]: \"\n",
    "            add_to_cart(sku, quantity = 1)\n",
    "            break\n",
    "            "
   ]
  },
  {
   "cell_type": "code",
   "execution_count": null,
   "id": "4a88dab2",
   "metadata": {},
   "outputs": [],
   "source": [
    "def get_sku_and_quantity(sku_prompt, quantity_prompt):\n",
    "    sku_num = input(sku_prompt)\n",
    "    sku = \"SKU\"+sku_num\n",
    "    \n",
    "    qty = input(quantity_prompt)\n",
    "    if not qty.isdigit():\n",
    "        qty = 1\n",
    "    else:\n",
    "        qty = int(qty)\n",
    "    \n",
    "    return sku, qty"
   ]
  },
  {
   "cell_type": "code",
   "execution_count": null,
   "id": "d9cd9c42",
   "metadata": {},
   "outputs": [],
   "source": [
    "\"1\".isdigit()"
   ]
  },
  {
   "cell_type": "code",
   "execution_count": null,
   "id": "e8c1864c",
   "metadata": {},
   "outputs": [],
   "source": [
    "sku_prompt = \"Please enter the meal number for the menu item you want to order: \"\n",
    "quantity_prompt = \"Please enter the quantity for the menu item you want to order: \"\n",
    "\n",
    "get_sku_and_quantity(sku_prompt, quantity_prompt)"
   ]
  },
  {
   "cell_type": "code",
   "execution_count": null,
   "id": "8348c486",
   "metadata": {},
   "outputs": [],
   "source": [
    "order()"
   ]
  },
  {
   "cell_type": "code",
   "execution_count": null,
   "id": "f4653954",
   "metadata": {},
   "outputs": [],
   "source": [
    "cart"
   ]
  },
  {
   "cell_type": "code",
   "execution_count": null,
   "id": "449c6d30",
   "metadata": {},
   "outputs": [],
   "source": [
    "def order():\n",
    "    \"\"\"\n",
    "    It will take order from the customers\n",
    "    \"\"\"\n",
    "    \n",
    "    print(f\"Welcome to the {rest_name}!\")\n",
    "    \n",
    "    ordering = True\n",
    "    \n",
    "    while ordering:\n",
    "        cust_actions()\n",
    "        response = input(\"Please enter the desired option: \")\n",
    "        if response == \"1\": # Add item to the cart\n",
    "            display_menu()\n",
    "            sku_prompt = \"Please enter the meal number for the menu item you want to order: \"\n",
    "            quantity_prompt = \"Please enter the quantity for the menu item you want to order [Defaualt 1]: \"\n",
    "            sku, quantity = get_sku_and_quantity(sku_prompt, quantity_prompt)\n",
    "            add_to_cart(sku, quantity)\n",
    "        elif response == \"2\": # Remove from the cart\n",
    "            display_menu()\n",
    "            sku_prompt = \"Please enter the meal number for the menu item you want to order: \"\n",
    "        \n",
    "            sku, quantity = get_sku_and_quantity(sku_prompt, quantity_prompt) \n",
    "            remove_from_cart(sku)\n",
    "            break"
   ]
  },
  {
   "cell_type": "code",
   "execution_count": null,
   "id": "3fdae29d",
   "metadata": {},
   "outputs": [],
   "source": [
    "order()"
   ]
  },
  {
   "cell_type": "code",
   "execution_count": null,
   "id": "839e3161",
   "metadata": {},
   "outputs": [],
   "source": [
    "num = 5\n",
    "\n",
    "if num:\n",
    "    print(\"OK\")"
   ]
  },
  {
   "cell_type": "code",
   "execution_count": null,
   "id": "217609f3",
   "metadata": {},
   "outputs": [],
   "source": [
    "num = None\n",
    "\n",
    "if num:\n",
    "    print(\"OK\")"
   ]
  },
  {
   "cell_type": "code",
   "execution_count": null,
   "id": "3ff00afa",
   "metadata": {},
   "outputs": [],
   "source": [
    "def get_sku_and_quantity(sku_prompt, quantity_prompt = None):\n",
    "    sku_num = input(sku_prompt)\n",
    "    sku = \"SKU\"+sku_num\n",
    "    \n",
    "    if quantity_prompt:\n",
    "        qty = input(quantity_prompt)\n",
    "        if not qty.isdigit():\n",
    "            qty = 1\n",
    "        else:\n",
    "            qty = int(qty)\n",
    "\n",
    "        return sku, qty\n",
    "    else:\n",
    "        return sku"
   ]
  },
  {
   "cell_type": "code",
   "execution_count": null,
   "id": "f5bf9a2d",
   "metadata": {},
   "outputs": [],
   "source": [
    "def order():\n",
    "    \"\"\"\n",
    "    It will take order from the customers\n",
    "    \"\"\"\n",
    "    \n",
    "    print(f\"Welcome to the {rest_name}!\")\n",
    "    \n",
    "    ordering = True\n",
    "    \n",
    "    while ordering:\n",
    "        cust_actions()\n",
    "        response = input(\"Please enter the desired option: \")\n",
    "        if response == \"1\": # Add item to the cart\n",
    "            display_menu()\n",
    "            sku_prompt = \"Please enter the meal number from the menu item you want to order: \"\n",
    "            quantity_prompt = \"Please enter the quantity for the menu item you want to order [Defaualt 1]: \"\n",
    "            sku, quantity = get_sku_and_quantity(sku_prompt, quantity_prompt)\n",
    "            add_to_cart(sku, quantity)\n",
    "        elif response == \"2\": # Remove from the cart\n",
    "            display_menu()\n",
    "            sku_prompt = \"Please enter the meal number from the menu item you want to remove: \"\n",
    "        \n",
    "            sku = get_sku_and_quantity(sku_prompt) \n",
    "            remove_from_cart(sku)\n",
    "            break"
   ]
  },
  {
   "cell_type": "code",
   "execution_count": null,
   "id": "b5155c68",
   "metadata": {},
   "outputs": [],
   "source": [
    "order()"
   ]
  },
  {
   "cell_type": "code",
   "execution_count": null,
   "id": "af1b2006",
   "metadata": {},
   "outputs": [],
   "source": [
    "order()"
   ]
  },
  {
   "cell_type": "code",
   "execution_count": null,
   "id": "f559a772",
   "metadata": {},
   "outputs": [],
   "source": [
    "def order():\n",
    "    \"\"\"\n",
    "    It will take order from the customers\n",
    "    \"\"\"\n",
    "    \n",
    "    print(f\"Welcome to the {rest_name}!\")\n",
    "    \n",
    "    ordering = True\n",
    "    \n",
    "    while ordering:\n",
    "        cust_actions()\n",
    "        response = input(\"Please enter the desired option: \")\n",
    "        if response == \"1\": # Add item to the cart\n",
    "            display_menu()\n",
    "            sku_prompt = \"Please enter the meal number from the menu item you want to order: \"\n",
    "            quantity_prompt = \"Please enter the quantity for the menu item you want to order [Defaualt 1]: \"\n",
    "            sku, quantity = get_sku_and_quantity(sku_prompt, quantity_prompt)\n",
    "            add_to_cart(sku, quantity)\n",
    "        elif response == \"2\": # Remove from the cart\n",
    "            display_menu()\n",
    "            sku_prompt = \"Please enter the meal number from the menu item you want to remove: \"\n",
    "        \n",
    "            sku = get_sku_and_quantity(sku_prompt) \n",
    "            remove_from_cart(sku)\n",
    "            \n",
    "        elif response == \"3\": # Modify the cart\n",
    "            display_menu()\n",
    "            sku_prompt = \"Please enter the meal number from the menu item you want to modify: \"\n",
    "            quantity_prompt = \"Please enter the quantity for the menu item you want to order [Defaualt 1]: \" \n",
    "            sku, quantity = get_sku_and_quantity(sku_prompt) \n",
    "            modify_cart(sku, quantity)\n",
    "        "
   ]
  },
  {
   "cell_type": "code",
   "execution_count": null,
   "id": "419c00f9",
   "metadata": {},
   "outputs": [],
   "source": [
    "cart"
   ]
  },
  {
   "cell_type": "code",
   "execution_count": null,
   "id": "04668581",
   "metadata": {},
   "outputs": [],
   "source": [
    "def order():\n",
    "    \"\"\"\n",
    "    It will take order from the customers\n",
    "    \"\"\"\n",
    "    \n",
    "    print(f\"Welcome to the {rest_name}!\")\n",
    "    \n",
    "    ordering = True\n",
    "    \n",
    "    while ordering:\n",
    "        cust_actions()\n",
    "        response = input(\"Please enter the desired option: \")\n",
    "        if response == \"1\": # Add item to the cart\n",
    "            display_menu()\n",
    "            sku_prompt = \"Please enter the meal number from the menu item you want to order: \"\n",
    "            quantity_prompt = \"Please enter the quantity for the menu item you want to order [Defaualt 1]: \"\n",
    "            sku, quantity = get_sku_and_quantity(sku_prompt, quantity_prompt)\n",
    "            print()\n",
    "            add_to_cart(sku, quantity)\n",
    "            \n",
    "        elif response == \"2\": # Remove from the cart\n",
    "            display_menu()\n",
    "            sku_prompt = \"Please enter the meal number from the menu item you want to remove: \"\n",
    "        \n",
    "            sku = get_sku_and_quantity(sku_prompt) \n",
    "            print()\n",
    "            remove_from_cart(sku)\n",
    "            \n",
    "        elif response == \"3\": # Modify the cart\n",
    "            display_menu()\n",
    "            sku_prompt = \"Please enter the meal number from the menu item you want to modify: \"\n",
    "            quantity_prompt = \"Please enter the quantity for the menu item you want to order [Defaualt 1]: \" \n",
    "            sku, quantity = get_sku_and_quantity(sku_prompt, quantity_prompt) \n",
    "            print()\n",
    "            modify_cart(sku, quantity)\n",
    "            \n",
    "        elif response == \"4\": # View cart\n",
    "            view_cart()\n",
    "        \n",
    "        elif response == \"5\": # Checkout\n",
    "            checkout()\n",
    "            ordering = False # breaking while loop\n",
    "            \n",
    "        elif response == \"6\": # Exit\n",
    "            print(\"Thanks for coming!\")\n",
    "            ordering = False # breaking while loop\n",
    "        else:\n",
    "            print(\"Sorry you have entered the invalid option. Please try again!\")"
   ]
  },
  {
   "cell_type": "code",
   "execution_count": null,
   "id": "c50522fb",
   "metadata": {},
   "outputs": [],
   "source": [
    "cart"
   ]
  },
  {
   "cell_type": "code",
   "execution_count": null,
   "id": "7182ba96",
   "metadata": {},
   "outputs": [],
   "source": [
    "dir(cart)"
   ]
  },
  {
   "cell_type": "code",
   "execution_count": null,
   "id": "f4527229",
   "metadata": {},
   "outputs": [],
   "source": [
    "cart.clear()"
   ]
  },
  {
   "cell_type": "code",
   "execution_count": null,
   "id": "f2981e3c",
   "metadata": {},
   "outputs": [],
   "source": [
    "cart"
   ]
  },
  {
   "cell_type": "code",
   "execution_count": null,
   "id": "0eb9edb5",
   "metadata": {},
   "outputs": [],
   "source": [
    "order()"
   ]
  },
  {
   "cell_type": "code",
   "execution_count": null,
   "id": "e2efe9a0",
   "metadata": {},
   "outputs": [],
   "source": [
    "order()"
   ]
  },
  {
   "cell_type": "code",
   "execution_count": null,
   "id": "680c35ec",
   "metadata": {},
   "outputs": [],
   "source": [
    "order()"
   ]
  },
  {
   "cell_type": "code",
   "execution_count": null,
   "id": "c0eb186d",
   "metadata": {},
   "outputs": [],
   "source": [
    "order()"
   ]
  },
  {
   "cell_type": "code",
   "execution_count": null,
   "id": "c239e837",
   "metadata": {},
   "outputs": [],
   "source": []
  },
  {
   "cell_type": "code",
   "execution_count": null,
   "id": "21026789",
   "metadata": {},
   "outputs": [],
   "source": []
  },
  {
   "cell_type": "code",
   "execution_count": null,
   "id": "6921e91e",
   "metadata": {},
   "outputs": [],
   "source": []
  },
  {
   "cell_type": "code",
   "execution_count": null,
   "id": "b1d5e732",
   "metadata": {},
   "outputs": [],
   "source": []
  },
  {
   "cell_type": "code",
   "execution_count": null,
   "id": "f6dd5a8a",
   "metadata": {},
   "outputs": [],
   "source": []
  },
  {
   "cell_type": "code",
   "execution_count": null,
   "id": "147396de",
   "metadata": {},
   "outputs": [],
   "source": []
  },
  {
   "cell_type": "code",
   "execution_count": null,
   "id": "56435d07",
   "metadata": {},
   "outputs": [],
   "source": []
  },
  {
   "cell_type": "code",
   "execution_count": null,
   "id": "7d34b5a3",
   "metadata": {},
   "outputs": [],
   "source": []
  },
  {
   "cell_type": "code",
   "execution_count": null,
   "id": "14d1080c",
   "metadata": {},
   "outputs": [],
   "source": []
  },
  {
   "cell_type": "code",
   "execution_count": null,
   "id": "924ac880",
   "metadata": {},
   "outputs": [],
   "source": []
  },
  {
   "cell_type": "code",
   "execution_count": null,
   "id": "bbe24801",
   "metadata": {},
   "outputs": [],
   "source": []
  }
 ],
 "metadata": {
  "kernelspec": {
   "display_name": "Python 3 (ipykernel)",
   "language": "python",
   "name": "python3"
  },
  "language_info": {
   "codemirror_mode": {
    "name": "ipython",
    "version": 3
   },
   "file_extension": ".py",
   "mimetype": "text/x-python",
   "name": "python",
   "nbconvert_exporter": "python",
   "pygments_lexer": "ipython3",
   "version": "3.11.5"
  }
 },
 "nbformat": 4,
 "nbformat_minor": 5
}
