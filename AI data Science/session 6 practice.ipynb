{
 "cells": [
  {
   "cell_type": "code",
   "execution_count": 3,
   "id": "5b35f4b2",
   "metadata": {},
   "outputs": [],
   "source": [
    "import csv\n",
    "store=list(csv.reader(open(\"store.csv\",encoding=\"latin-1\")))"
   ]
  },
  {
   "cell_type": "code",
   "execution_count": 4,
   "id": "9b32d90f",
   "metadata": {},
   "outputs": [
    {
     "data": {
      "text/plain": [
       "7198"
      ]
     },
     "execution_count": 4,
     "metadata": {},
     "output_type": "execute_result"
    }
   ],
   "source": [
    "len(store)"
   ]
  },
  {
   "cell_type": "code",
   "execution_count": null,
   "id": "2acef218",
   "metadata": {},
   "outputs": [],
   "source": []
  },
  {
   "cell_type": "code",
   "execution_count": null,
   "id": "ebd84d07",
   "metadata": {},
   "outputs": [],
   "source": []
  },
  {
   "cell_type": "code",
   "execution_count": null,
   "id": "f35a3fd8",
   "metadata": {},
   "outputs": [],
   "source": []
  },
  {
   "cell_type": "code",
   "execution_count": null,
   "id": "77d6220a",
   "metadata": {},
   "outputs": [],
   "source": []
  },
  {
   "cell_type": "code",
   "execution_count": null,
   "id": "75f69939",
   "metadata": {},
   "outputs": [],
   "source": []
  },
  {
   "cell_type": "code",
   "execution_count": null,
   "id": "d3b28f53",
   "metadata": {},
   "outputs": [],
   "source": []
  },
  {
   "cell_type": "code",
   "execution_count": 5,
   "id": "a56e2bfb",
   "metadata": {},
   "outputs": [
    {
     "name": "stdout",
     "output_type": "stream",
     "text": [
      "[['id', 'track_name', 'size_bytes', 'currency', 'price', 'rating_count_tot', 'rating_count_ver', 'user_rating', 'user_rating_ver', 'ver', 'cont_rating', 'prime_genre', 'sup_devices.num', 'ipadSc_urls.num', 'lang.num', 'vpp_lic'], ['284882215', 'Facebook', '389879808', 'USD', '0.0', '2974676', '212', '3.5', '3.5', '95.0', '4+', 'Social Networking', '37', '1', '29', '1'], ['389801252', 'Instagram', '113954816', 'USD', '0.0', '2161558', '1289', '4.5', '4.0', '10.23', '12+', 'Photo & Video', '37', '0', '29', '1'], ['529479190', 'Clash of Clans', '116476928', 'USD', '0.0', '2130805', '579', '4.5', '4.5', '9.24.12', '9+', 'Games', '38', '5', '18', '1'], ['420009108', 'Temple Run', '65921024', 'USD', '0.0', '1724546', '3842', '4.5', '4.0', '1.6.2', '9+', 'Games', '40', '5', '1', '1'], ['284035177', 'Pandora - Music & Radio', '130242560', 'USD', '0.0', '1126879', '3594', '4.0', '4.5', '8.4.1', '12+', 'Music', '37', '4', '1', '1'], ['429047995', 'Pinterest', '74778624', 'USD', '0.0', '1061624', '1814', '4.5', '4.0', '6.26', '12+', 'Social Networking', '37', '5', '27', '1'], ['282935706', 'Bible', '92774400', 'USD', '0.0', '985920', '5320', '4.5', '5.0', '7.5.1', '4+', 'Reference', '37', '5', '45', '1'], ['553834731', 'Candy Crush Saga', '222846976', 'USD', '0.0', '961794', '2453', '4.5', '4.5', '1.101.0', '4+', 'Games', '43', '5', '24', '1'], ['324684580', 'Spotify Music', '132510720', 'USD', '0.0', '878563', '8253', '4.5', '4.5', '8.4.3', '12+', 'Music', '37', '5', '18', '1']]\n"
     ]
    }
   ],
   "source": [
    "print(store[:10])"
   ]
  },
  {
   "cell_type": "code",
   "execution_count": 6,
   "id": "0799b709",
   "metadata": {},
   "outputs": [
    {
     "name": "stdout",
     "output_type": "stream",
     "text": [
      "['1069757703', 'å\\x8f\\x8bé\\x81\\x94 æ\\x81\\x8bäººæ\\x8e¢ã\\x81\\x97 ã\\x81§ã\\x81\\x82ã\\x81\\x84 ã\\x81¡ã\\x82\\x83ã\\x81£ã\\x81¨ sns -ã\\x82®ã\\x83£ã\\x83«ã\\x81¨ã\\x82\\x82', '35565568', 'USD', '0.0', '0', '0', '0.0', '0.0', '1.1.1', '17+', 'Social Networking', '37', '0', '1', '1']\n"
     ]
    }
   ],
   "source": [
    "print(store[-10])"
   ]
  },
  {
   "cell_type": "code",
   "execution_count": null,
   "id": "934aa465",
   "metadata": {},
   "outputs": [],
   "source": []
  },
  {
   "cell_type": "code",
   "execution_count": 7,
   "id": "b44cec18",
   "metadata": {},
   "outputs": [
    {
     "data": {
      "text/plain": [
       "<function list.append(object, /)>"
      ]
     },
     "execution_count": 7,
     "metadata": {},
     "output_type": "execute_result"
    }
   ],
   "source": [
    "store[0].append"
   ]
  },
  {
   "cell_type": "markdown",
   "id": "c2a6c781",
   "metadata": {},
   "source": [
    "#Dictinonary"
   ]
  },
  {
   "cell_type": "code",
   "execution_count": 8,
   "id": "31950e12",
   "metadata": {},
   "outputs": [],
   "source": [
    "a={1,2,3,4}"
   ]
  },
  {
   "cell_type": "code",
   "execution_count": 9,
   "id": "257dce80",
   "metadata": {},
   "outputs": [
    {
     "data": {
      "text/plain": [
       "{1, 2, 3, 4}"
      ]
     },
     "execution_count": 9,
     "metadata": {},
     "output_type": "execute_result"
    }
   ],
   "source": [
    "a"
   ]
  },
  {
   "cell_type": "code",
   "execution_count": 10,
   "id": "ba36615c",
   "metadata": {},
   "outputs": [
    {
     "data": {
      "text/plain": [
       "set"
      ]
     },
     "execution_count": 10,
     "metadata": {},
     "output_type": "execute_result"
    }
   ],
   "source": [
    "type(a)"
   ]
  },
  {
   "cell_type": "code",
   "execution_count": 11,
   "id": "ef40ac76",
   "metadata": {},
   "outputs": [],
   "source": [
    "d={\"name\":\"waqas\",\"salary\":5000,\"department\":\"DS\"}"
   ]
  },
  {
   "cell_type": "code",
   "execution_count": 12,
   "id": "e3128573",
   "metadata": {},
   "outputs": [
    {
     "data": {
      "text/plain": [
       "{'name': 'waqas', 'salary': 5000, 'department': 'DS'}"
      ]
     },
     "execution_count": 12,
     "metadata": {},
     "output_type": "execute_result"
    }
   ],
   "source": [
    "d"
   ]
  },
  {
   "cell_type": "code",
   "execution_count": 13,
   "id": "f99195ad",
   "metadata": {},
   "outputs": [
    {
     "data": {
      "text/plain": [
       "5000"
      ]
     },
     "execution_count": 13,
     "metadata": {},
     "output_type": "execute_result"
    }
   ],
   "source": [
    "d[\"salary\"]"
   ]
  },
  {
   "cell_type": "code",
   "execution_count": 14,
   "id": "785e8f51",
   "metadata": {},
   "outputs": [],
   "source": [
    "d[\"salary\"] +=500"
   ]
  },
  {
   "cell_type": "code",
   "execution_count": 15,
   "id": "bc63b988",
   "metadata": {},
   "outputs": [
    {
     "name": "stdout",
     "output_type": "stream",
     "text": [
      "5500\n"
     ]
    }
   ],
   "source": [
    "print(d[\"salary\"])"
   ]
  },
  {
   "cell_type": "code",
   "execution_count": 16,
   "id": "cf9f182b",
   "metadata": {},
   "outputs": [],
   "source": [
    "d[\"gender\"]=\"Male\""
   ]
  },
  {
   "cell_type": "code",
   "execution_count": 17,
   "id": "12d54b21",
   "metadata": {},
   "outputs": [
    {
     "data": {
      "text/plain": [
       "{'name': 'waqas', 'salary': 5500, 'department': 'DS', 'gender': 'Male'}"
      ]
     },
     "execution_count": 17,
     "metadata": {},
     "output_type": "execute_result"
    }
   ],
   "source": [
    "d"
   ]
  },
  {
   "cell_type": "code",
   "execution_count": 18,
   "id": "3c0809fa",
   "metadata": {},
   "outputs": [
    {
     "data": {
      "text/plain": [
       "{'name': 'waqas', 'salary': 5500, 'department': 'DS', 'gender': 'Male'}"
      ]
     },
     "execution_count": 18,
     "metadata": {},
     "output_type": "execute_result"
    }
   ],
   "source": [
    "d"
   ]
  },
  {
   "cell_type": "code",
   "execution_count": 19,
   "id": "8dca0990",
   "metadata": {},
   "outputs": [],
   "source": [
    "header=store[0]"
   ]
  },
  {
   "cell_type": "code",
   "execution_count": 20,
   "id": "cadd9799",
   "metadata": {},
   "outputs": [],
   "source": [
    "app=store[1:]"
   ]
  },
  {
   "cell_type": "code",
   "execution_count": 28,
   "id": "2f9b9730",
   "metadata": {},
   "outputs": [],
   "source": [
    "lst=[]\n",
    "for q in app:\n",
    "    genre=q[-5]\n",
    "    if genre not in lst:\n",
    "        lst.append(genre)   \n",
    "    \n",
    " "
   ]
  },
  {
   "cell_type": "code",
   "execution_count": 29,
   "id": "6b67cfef",
   "metadata": {},
   "outputs": [
    {
     "name": "stdout",
     "output_type": "stream",
     "text": [
      "Food & Drink\n"
     ]
    }
   ],
   "source": [
    "print(genre)"
   ]
  },
  {
   "cell_type": "code",
   "execution_count": 31,
   "id": "d5bdece1",
   "metadata": {},
   "outputs": [
    {
     "data": {
      "text/plain": [
       "23"
      ]
     },
     "execution_count": 31,
     "metadata": {},
     "output_type": "execute_result"
    }
   ],
   "source": [
    "len(lst)"
   ]
  },
  {
   "cell_type": "code",
   "execution_count": 30,
   "id": "54423600",
   "metadata": {},
   "outputs": [],
   "source": [
    "lst = []\n",
    "\n",
    "for i in app:\n",
    "    genre = i[-5]\n",
    "    if genre not in lst:\n",
    "        lst.append(genre)"
   ]
  },
  {
   "cell_type": "code",
   "execution_count": 32,
   "id": "9e3ab916",
   "metadata": {},
   "outputs": [
    {
     "data": {
      "text/plain": [
       "23"
      ]
     },
     "execution_count": 32,
     "metadata": {},
     "output_type": "execute_result"
    }
   ],
   "source": [
    "len(lst)"
   ]
  },
  {
   "cell_type": "code",
   "execution_count": 33,
   "id": "d1267ea9",
   "metadata": {},
   "outputs": [
    {
     "name": "stdout",
     "output_type": "stream",
     "text": [
      "['Social Networking', 'Photo & Video', 'Games', 'Music', 'Reference', 'Health & Fitness', 'Weather', 'Utilities', 'Travel', 'Shopping', 'News', 'Navigation', 'Lifestyle', 'Entertainment', 'Food & Drink', 'Sports', 'Book', 'Finance', 'Education', 'Productivity', 'Business', 'Catalogs', 'Medical']\n"
     ]
    }
   ],
   "source": [
    "print(lst)"
   ]
  },
  {
   "cell_type": "code",
   "execution_count": 36,
   "id": "dbc32857",
   "metadata": {},
   "outputs": [],
   "source": [
    "final_rating=0\n",
    "for q in app:\n",
    "    genre=q[-5]\n",
    "    price=q[4]\n",
    "    rating=q[7]\n",
    "    if price==\"0.0\":\n",
    "        final_rating +=float(rating)\n",
    "        "
   ]
  },
  {
   "cell_type": "code",
   "execution_count": 37,
   "id": "e7e50529",
   "metadata": {},
   "outputs": [
    {
     "data": {
      "text/plain": [
       "13696.0"
      ]
     },
     "execution_count": 37,
     "metadata": {},
     "output_type": "execute_result"
    }
   ],
   "source": [
    "final_rating"
   ]
  },
  {
   "cell_type": "code",
   "execution_count": 39,
   "id": "9ab99da0",
   "metadata": {},
   "outputs": [],
   "source": [
    "final_rating_games=0\n",
    "for q in app:\n",
    "    genre=q[-5]\n",
    "    price=q[4]\n",
    "    rating=q[7]\n",
    "    if price==\"0.0\"and genre==\"Games\":\n",
    "        final_rating_games +=float(rating)\n",
    "        "
   ]
  },
  {
   "cell_type": "code",
   "execution_count": 40,
   "id": "a6a45064",
   "metadata": {},
   "outputs": [
    {
     "data": {
      "text/plain": [
       "7964.0"
      ]
     },
     "execution_count": 40,
     "metadata": {},
     "output_type": "execute_result"
    }
   ],
   "source": [
    "final_rating_games"
   ]
  },
  {
   "cell_type": "code",
   "execution_count": 41,
   "id": "a59c5eed",
   "metadata": {},
   "outputs": [],
   "source": [
    "final_rating_games_netw=0\n",
    "for q in app:\n",
    "    genre=q[-5]\n",
    "    price=q[4]\n",
    "    rating=q[7]\n",
    "    if price==\"0.0\"and (genre==\"Games\"or \"Social Networking\"):\n",
    "        final_rating_games_netw +=float(rating)\n",
    "        "
   ]
  },
  {
   "cell_type": "code",
   "execution_count": 42,
   "id": "e14e0c17",
   "metadata": {},
   "outputs": [
    {
     "data": {
      "text/plain": [
       "13696.0"
      ]
     },
     "execution_count": 42,
     "metadata": {},
     "output_type": "execute_result"
    }
   ],
   "source": [
    "final_rating_games_netw"
   ]
  },
  {
   "cell_type": "code",
   "execution_count": 44,
   "id": "9961eae2",
   "metadata": {},
   "outputs": [],
   "source": [
    "header.append(\"price category\")"
   ]
  },
  {
   "cell_type": "code",
   "execution_count": 45,
   "id": "58d0c6b2",
   "metadata": {},
   "outputs": [
    {
     "data": {
      "text/plain": [
       "['id',\n",
       " 'track_name',\n",
       " 'size_bytes',\n",
       " 'currency',\n",
       " 'price',\n",
       " 'rating_count_tot',\n",
       " 'rating_count_ver',\n",
       " 'user_rating',\n",
       " 'user_rating_ver',\n",
       " 'ver',\n",
       " 'cont_rating',\n",
       " 'prime_genre',\n",
       " 'sup_devices.num',\n",
       " 'ipadSc_urls.num',\n",
       " 'lang.num',\n",
       " 'vpp_lic',\n",
       " 'price category']"
      ]
     },
     "execution_count": 45,
     "metadata": {},
     "output_type": "execute_result"
    }
   ],
   "source": [
    "header"
   ]
  },
  {
   "cell_type": "code",
   "execution_count": 46,
   "id": "b5c0e765",
   "metadata": {},
   "outputs": [
    {
     "data": {
      "text/plain": [
       "17"
      ]
     },
     "execution_count": 46,
     "metadata": {},
     "output_type": "execute_result"
    }
   ],
   "source": [
    "len(header)"
   ]
  },
  {
   "cell_type": "code",
   "execution_count": 47,
   "id": "93433c02",
   "metadata": {},
   "outputs": [
    {
     "data": {
      "text/plain": [
       "7197"
      ]
     },
     "execution_count": 47,
     "metadata": {},
     "output_type": "execute_result"
    }
   ],
   "source": [
    "len(app)"
   ]
  },
  {
   "cell_type": "code",
   "execution_count": 51,
   "id": "7dc20d27",
   "metadata": {},
   "outputs": [
    {
     "ename": "IndentationError",
     "evalue": "expected an indented block after 'if' statement on line 4 (1926118617.py, line 5)",
     "output_type": "error",
     "traceback": [
      "\u001b[1;36m  Cell \u001b[1;32mIn[51], line 5\u001b[1;36m\u001b[0m\n\u001b[1;33m    price_category.append(\"free\")\u001b[0m\n\u001b[1;37m    ^\u001b[0m\n\u001b[1;31mIndentationError\u001b[0m\u001b[1;31m:\u001b[0m expected an indented block after 'if' statement on line 4\n"
     ]
    }
   ],
   "source": [
    "price_category=[]\n",
    "for p in app:\n",
    "    price=p[4]\n",
    "    if price ==\"0.0\":\n",
    "    price_category.append(\"free\")"
   ]
  }
 ],
 "metadata": {
  "kernelspec": {
   "display_name": "Python 3 (ipykernel)",
   "language": "python",
   "name": "python3"
  },
  "language_info": {
   "codemirror_mode": {
    "name": "ipython",
    "version": 3
   },
   "file_extension": ".py",
   "mimetype": "text/x-python",
   "name": "python",
   "nbconvert_exporter": "python",
   "pygments_lexer": "ipython3",
   "version": "3.11.5"
  }
 },
 "nbformat": 4,
 "nbformat_minor": 5
}
