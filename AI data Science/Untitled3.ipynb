{
 "cells": [
  {
   "cell_type": "code",
   "execution_count": 1,
   "id": "612b193b",
   "metadata": {},
   "outputs": [],
   "source": [
    "import csv\n",
    "store=list(csv.reader(open(\"Store.csv\",encoding=\"Latin-1\")))"
   ]
  },
  {
   "cell_type": "code",
   "execution_count": 2,
   "id": "a52de518",
   "metadata": {},
   "outputs": [
    {
     "data": {
      "text/plain": [
       "['id',\n",
       " 'track_name',\n",
       " 'size_bytes',\n",
       " 'currency',\n",
       " 'price',\n",
       " 'rating_count_tot',\n",
       " 'rating_count_ver',\n",
       " 'user_rating',\n",
       " 'user_rating_ver',\n",
       " 'ver',\n",
       " 'cont_rating',\n",
       " 'prime_genre',\n",
       " 'sup_devices.num',\n",
       " 'ipadSc_urls.num',\n",
       " 'lang.num',\n",
       " 'vpp_lic']"
      ]
     },
     "execution_count": 2,
     "metadata": {},
     "output_type": "execute_result"
    }
   ],
   "source": [
    "store[0]"
   ]
  },
  {
   "cell_type": "code",
   "execution_count": 3,
   "id": "b405cb2d",
   "metadata": {},
   "outputs": [],
   "source": [
    "header=store[0]\n",
    "app=store[1:]"
   ]
  },
  {
   "cell_type": "code",
   "execution_count": 4,
   "id": "f5cec3b8",
   "metadata": {},
   "outputs": [],
   "source": [
    "header.append(\"ver_count\")"
   ]
  },
  {
   "cell_type": "code",
   "execution_count": 5,
   "id": "eee0eabd",
   "metadata": {},
   "outputs": [
    {
     "data": {
      "text/plain": [
       "['id',\n",
       " 'track_name',\n",
       " 'size_bytes',\n",
       " 'currency',\n",
       " 'price',\n",
       " 'rating_count_tot',\n",
       " 'rating_count_ver',\n",
       " 'user_rating',\n",
       " 'user_rating_ver',\n",
       " 'ver',\n",
       " 'cont_rating',\n",
       " 'prime_genre',\n",
       " 'sup_devices.num',\n",
       " 'ipadSc_urls.num',\n",
       " 'lang.num',\n",
       " 'vpp_lic',\n",
       " 'ver_count']"
      ]
     },
     "execution_count": 5,
     "metadata": {},
     "output_type": "execute_result"
    }
   ],
   "source": [
    "header"
   ]
  },
  {
   "cell_type": "code",
   "execution_count": 6,
   "id": "d82daad4",
   "metadata": {},
   "outputs": [],
   "source": [
    "   for r in app: \n",
    "    rating_count_ver=float(r[6])\n",
    "    rating_count=r[-1]\n",
    "    if  rating_count_ver >=0.0 and rating_count_ver <=1000.0:\n",
    "        r.append(\"0-1000\")\n",
    "    elif  rating_count_ver > 1000.0 and rating_count_ver <=10000.0:\n",
    "        r.append(\"1000-10000\")\n",
    "    elif  rating_count_ver > 10000.0 and rating_count_ver <=100000.0:\n",
    "        r.append(\"10000-100000\")\n",
    "    elif  rating_count_ver > 100000.0 and rating_count_ver <=500000.0:\n",
    "        r.append(\"100000-500000\") \n",
    "    elif  rating_count_ver > 500000.0 and rating_count_ver <=1000000.0:\n",
    "        r.append(\"500000-1000000\")\n",
    "    else:  \n",
    "        r.append(\"10000000 plus\") \n",
    "        "
   ]
  },
  {
   "cell_type": "code",
   "execution_count": 7,
   "id": "6dc82c7d",
   "metadata": {},
   "outputs": [
    {
     "data": {
      "text/plain": [
       "['284882215',\n",
       " 'Facebook',\n",
       " '389879808',\n",
       " 'USD',\n",
       " '0.0',\n",
       " '2974676',\n",
       " '212',\n",
       " '3.5',\n",
       " '3.5',\n",
       " '95.0',\n",
       " '4+',\n",
       " 'Social Networking',\n",
       " '37',\n",
       " '1',\n",
       " '29',\n",
       " '1',\n",
       " '0-1000']"
      ]
     },
     "execution_count": 7,
     "metadata": {},
     "output_type": "execute_result"
    }
   ],
   "source": [
    "app[0]"
   ]
  },
  {
   "cell_type": "code",
   "execution_count": 8,
   "id": "12cdb071",
   "metadata": {},
   "outputs": [],
   "source": [
    "ver_frequncy={}\n",
    "for r in app:\n",
    "    rating_count=r[-1]\n",
    "    if rating_count not in ver_frequncy:\n",
    "        ver_frequncy[rating_count] =1\n",
    "    else:\n",
    "        ver_frequncy[rating_count] +=1"
   ]
  },
  {
   "cell_type": "code",
   "execution_count": 9,
   "id": "8e971051",
   "metadata": {},
   "outputs": [
    {
     "data": {
      "text/plain": [
       "{'0-1000': 6731, '1000-10000': 421, '10000-100000': 42, '100000-500000': 3}"
      ]
     },
     "execution_count": 9,
     "metadata": {},
     "output_type": "execute_result"
    }
   ],
   "source": [
    "ver_frequncy"
   ]
  },
  {
   "cell_type": "code",
   "execution_count": 10,
   "id": "23bb00b4",
   "metadata": {},
   "outputs": [
    {
     "data": {
      "text/plain": [
       "{'0-1000': 6731, '1000-10000': 421, '10000-100000': 42, '100000-500000': 3}"
      ]
     },
     "execution_count": 10,
     "metadata": {},
     "output_type": "execute_result"
    }
   ],
   "source": [
    "ver_frequncy"
   ]
  },
  {
   "cell_type": "code",
   "execution_count": 11,
   "id": "9c2fa15c",
   "metadata": {},
   "outputs": [],
   "source": [
    "header.append(\"price_category\")"
   ]
  },
  {
   "cell_type": "code",
   "execution_count": 12,
   "id": "e9715d01",
   "metadata": {},
   "outputs": [
    {
     "data": {
      "text/plain": [
       "['id',\n",
       " 'track_name',\n",
       " 'size_bytes',\n",
       " 'currency',\n",
       " 'price',\n",
       " 'rating_count_tot',\n",
       " 'rating_count_ver',\n",
       " 'user_rating',\n",
       " 'user_rating_ver',\n",
       " 'ver',\n",
       " 'cont_rating',\n",
       " 'prime_genre',\n",
       " 'sup_devices.num',\n",
       " 'ipadSc_urls.num',\n",
       " 'lang.num',\n",
       " 'vpp_lic',\n",
       " 'ver_count',\n",
       " 'price_category']"
      ]
     },
     "execution_count": 12,
     "metadata": {},
     "output_type": "execute_result"
    }
   ],
   "source": [
    "header"
   ]
  },
  {
   "cell_type": "code",
   "execution_count": 12,
   "id": "ba8bdc7e",
   "metadata": {},
   "outputs": [],
   "source": [
    "frequ_price={}\n",
    "for r in app:\n",
    "    price=float(r[4])\n",
    "    price_category=r[-1]\n",
    "    if price==0.0:\n",
    "         r.append(\"Free\")\n",
    "    elif price > 0.0 and price <=20.0:\n",
    "         r.append(\"afforadble\")\n",
    "    elif price > 20.0 and price <=50.0:\n",
    "         r.append(\"Expensive\")\n",
    "    else:\n",
    "         r.append(\"Most Expensive\")\n",
    "    #for r in app:\n",
    "     ##   if price_category not in frequ_price:\n",
    "        ##    frequ_price[price_category] = 1\n",
    "    ##else:\n",
    "      ###  frequ_price[price_category] +=1"
   ]
  },
  {
   "cell_type": "code",
   "execution_count": 13,
   "id": "362c2f42",
   "metadata": {},
   "outputs": [
    {
     "data": {
      "text/plain": [
       "['284882215',\n",
       " 'Facebook',\n",
       " '389879808',\n",
       " 'USD',\n",
       " '0.0',\n",
       " '2974676',\n",
       " '212',\n",
       " '3.5',\n",
       " '3.5',\n",
       " '95.0',\n",
       " '4+',\n",
       " 'Social Networking',\n",
       " '37',\n",
       " '1',\n",
       " '29',\n",
       " '1',\n",
       " '0-1000',\n",
       " 'Free']"
      ]
     },
     "execution_count": 13,
     "metadata": {},
     "output_type": "execute_result"
    }
   ],
   "source": [
    "app[0]"
   ]
  },
  {
   "cell_type": "code",
   "execution_count": 20,
   "id": "fcdc05e6",
   "metadata": {},
   "outputs": [],
   "source": [
    "for r in app:\n",
    "    price_category = r[-1]\n",
    "    if price_category not in frequ_price:\n",
    "        frequ_price[price_category]= 1\n",
    "    else:\n",
    "        frequ_price[price_category]+=1"
   ]
  },
  {
   "cell_type": "code",
   "execution_count": 21,
   "id": "bb8c4157",
   "metadata": {},
   "outputs": [
    {
     "data": {
      "text/plain": [
       "{'Free': 4056, 'afforadble': 3105, 'Expensive': 29, 'Most Expensive': 7}"
      ]
     },
     "execution_count": 21,
     "metadata": {},
     "output_type": "execute_result"
    }
   ],
   "source": [
    "frequ_price"
   ]
  },
  {
   "cell_type": "code",
   "execution_count": null,
   "id": "07fbbc27",
   "metadata": {},
   "outputs": [],
   "source": []
  },
  {
   "cell_type": "code",
   "execution_count": null,
   "id": "9ea2e27c",
   "metadata": {},
   "outputs": [],
   "source": []
  },
  {
   "cell_type": "code",
   "execution_count": null,
   "id": "b184a56f",
   "metadata": {},
   "outputs": [],
   "source": []
  }
 ],
 "metadata": {
  "kernelspec": {
   "display_name": "Python 3 (ipykernel)",
   "language": "python",
   "name": "python3"
  },
  "language_info": {
   "codemirror_mode": {
    "name": "ipython",
    "version": 3
   },
   "file_extension": ".py",
   "mimetype": "text/x-python",
   "name": "python",
   "nbconvert_exporter": "python",
   "pygments_lexer": "ipython3",
   "version": "3.11.5"
  }
 },
 "nbformat": 4,
 "nbformat_minor": 5
}
