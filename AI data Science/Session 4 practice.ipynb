{
 "cells": [
  {
   "cell_type": "code",
   "execution_count": 11,
   "id": "6a0edf88",
   "metadata": {},
   "outputs": [
    {
     "data": {
      "text/plain": [
       "2.0"
      ]
     },
     "execution_count": 11,
     "metadata": {},
     "output_type": "execute_result"
    }
   ],
   "source": [
    "4/2"
   ]
  },
  {
   "cell_type": "code",
   "execution_count": 12,
   "id": "72ab3e16",
   "metadata": {},
   "outputs": [
    {
     "data": {
      "text/plain": [
       "3.0"
      ]
     },
     "execution_count": 12,
     "metadata": {},
     "output_type": "execute_result"
    }
   ],
   "source": [
    "6.3//2"
   ]
  },
  {
   "cell_type": "code",
   "execution_count": 13,
   "id": "1e97b342",
   "metadata": {},
   "outputs": [
    {
     "data": {
      "text/plain": [
       "3.85"
      ]
     },
     "execution_count": 13,
     "metadata": {},
     "output_type": "execute_result"
    }
   ],
   "source": [
    "7.7/2"
   ]
  },
  {
   "cell_type": "code",
   "execution_count": 14,
   "id": "da4a2ecf",
   "metadata": {},
   "outputs": [
    {
     "data": {
      "text/plain": [
       "3.0"
      ]
     },
     "execution_count": 14,
     "metadata": {},
     "output_type": "execute_result"
    }
   ],
   "source": [
    "7.7//2"
   ]
  },
  {
   "cell_type": "markdown",
   "id": "fa93783e",
   "metadata": {},
   "source": [
    "# Type Casting"
   ]
  },
  {
   "cell_type": "code",
   "execution_count": 15,
   "id": "bc44d70a",
   "metadata": {},
   "outputs": [
    {
     "data": {
      "text/plain": [
       "3"
      ]
     },
     "execution_count": 15,
     "metadata": {},
     "output_type": "execute_result"
    }
   ],
   "source": [
    "int(3.82)"
   ]
  },
  {
   "cell_type": "code",
   "execution_count": 16,
   "id": "6e71a0e3",
   "metadata": {},
   "outputs": [
    {
     "data": {
      "text/plain": [
       "3.0"
      ]
     },
     "execution_count": 16,
     "metadata": {},
     "output_type": "execute_result"
    }
   ],
   "source": [
    "float(3)"
   ]
  },
  {
   "cell_type": "code",
   "execution_count": 17,
   "id": "8bb37ea0",
   "metadata": {},
   "outputs": [
    {
     "data": {
      "text/plain": [
       "'3.2'"
      ]
     },
     "execution_count": 17,
     "metadata": {},
     "output_type": "execute_result"
    }
   ],
   "source": [
    "str(3.2)"
   ]
  },
  {
   "cell_type": "code",
   "execution_count": 18,
   "id": "755ecf5d",
   "metadata": {},
   "outputs": [
    {
     "data": {
      "text/plain": [
       "3.2"
      ]
     },
     "execution_count": 18,
     "metadata": {},
     "output_type": "execute_result"
    }
   ],
   "source": [
    "float(\"3.2\")"
   ]
  },
  {
   "cell_type": "code",
   "execution_count": 19,
   "id": "053e2700",
   "metadata": {},
   "outputs": [
    {
     "ename": "ValueError",
     "evalue": "invalid literal for int() with base 10: '3.2'",
     "output_type": "error",
     "traceback": [
      "\u001b[1;31m---------------------------------------------------------------------------\u001b[0m",
      "\u001b[1;31mValueError\u001b[0m                                Traceback (most recent call last)",
      "Cell \u001b[1;32mIn[19], line 1\u001b[0m\n\u001b[1;32m----> 1\u001b[0m \u001b[38;5;28mint\u001b[39m(\u001b[38;5;124m\"\u001b[39m\u001b[38;5;124m3.2\u001b[39m\u001b[38;5;124m\"\u001b[39m)\n",
      "\u001b[1;31mValueError\u001b[0m: invalid literal for int() with base 10: '3.2'"
     ]
    }
   ],
   "source": [
    "int(\"3.2\")"
   ]
  },
  {
   "cell_type": "code",
   "execution_count": 20,
   "id": "1c6d8df9",
   "metadata": {},
   "outputs": [
    {
     "name": "stdout",
     "output_type": "stream",
     "text": [
      "3\n"
     ]
    },
    {
     "data": {
      "text/plain": [
       "3"
      ]
     },
     "execution_count": 20,
     "metadata": {},
     "output_type": "execute_result"
    }
   ],
   "source": [
    "print(int(float(\"3.2\")))\n",
    "\n",
    "int(3.2)\n",
    "# 3"
   ]
  },
  {
   "cell_type": "code",
   "execution_count": 21,
   "id": "e6ff157d",
   "metadata": {},
   "outputs": [
    {
     "data": {
      "text/plain": [
       "'This is our 3rd Session ------------------------------------------'"
      ]
     },
     "execution_count": 21,
     "metadata": {},
     "output_type": "execute_result"
    }
   ],
   "source": [
    "\"This is our 3rd Session ------------------------------------------\"\n"
   ]
  },
  {
   "cell_type": "code",
   "execution_count": 22,
   "id": "1439c88a",
   "metadata": {},
   "outputs": [
    {
     "ename": "SyntaxError",
     "evalue": "unterminated string literal (detected at line 1) (1936095239.py, line 1)",
     "output_type": "error",
     "traceback": [
      "\u001b[1;36m  Cell \u001b[1;32mIn[22], line 1\u001b[1;36m\u001b[0m\n\u001b[1;33m    \"This is our 3rd Session\u001b[0m\n\u001b[1;37m    ^\u001b[0m\n\u001b[1;31mSyntaxError\u001b[0m\u001b[1;31m:\u001b[0m unterminated string literal (detected at line 1)\n"
     ]
    }
   ],
   "source": [
    "\"This is our 3rd Session\n",
    "We are learning Data Science\""
   ]
  },
  {
   "cell_type": "code",
   "execution_count": 23,
   "id": "97f2270c",
   "metadata": {},
   "outputs": [
    {
     "data": {
      "text/plain": [
       "'This is our 3rd Session\\nWe are learning Applied Data Science\\n-\\n-\\n-\\n\\n-\\n-\\n\\n-\\n-\\n\\n-\\n-\\n'"
      ]
     },
     "execution_count": 23,
     "metadata": {},
     "output_type": "execute_result"
    }
   ],
   "source": [
    "\"\"\"This is our 3rd Session\n",
    "We are learning Applied Data Science\n",
    "-\n",
    "-\n",
    "-\n",
    "\n",
    "-\n",
    "-\n",
    "\n",
    "-\n",
    "-\n",
    "\n",
    "-\n",
    "-\n",
    "\"\"\""
   ]
  },
  {
   "cell_type": "code",
   "execution_count": 24,
   "id": "63043d3e",
   "metadata": {},
   "outputs": [
    {
     "name": "stdout",
     "output_type": "stream",
     "text": [
      "This is our 3rd Session\n",
      "We are learning Applied Data Science\n",
      "-\n",
      "-\n",
      "-\n",
      "\n",
      "-\n",
      "-\n",
      "\n",
      "-\n",
      "-\n",
      "\n",
      "-\n",
      "-\n",
      "\n"
     ]
    }
   ],
   "source": [
    "print(\"\"\"This is our 3rd Session\n",
    "We are learning Applied Data Science\n",
    "-\n",
    "-\n",
    "-\n",
    "\n",
    "-\n",
    "-\n",
    "\n",
    "-\n",
    "-\n",
    "\n",
    "-\n",
    "-\n",
    "\"\"\")"
   ]
  },
  {
   "cell_type": "code",
   "execution_count": 25,
   "id": "ec2cead2",
   "metadata": {},
   "outputs": [
    {
     "data": {
      "text/plain": [
       "'Muahmmad\\nWaqas'"
      ]
     },
     "execution_count": 25,
     "metadata": {},
     "output_type": "execute_result"
    }
   ],
   "source": [
    "\"Muahmmad\\nWaqas\""
   ]
  },
  {
   "cell_type": "code",
   "execution_count": 26,
   "id": "0b50ce8e",
   "metadata": {},
   "outputs": [
    {
     "name": "stdout",
     "output_type": "stream",
     "text": [
      "Muahmmad\n",
      "Waqas\n"
     ]
    }
   ],
   "source": [
    "print(\"Muahmmad\\nWaqas\")"
   ]
  },
  {
   "cell_type": "code",
   "execution_count": 27,
   "id": "d7f7913f",
   "metadata": {},
   "outputs": [
    {
     "name": "stdout",
     "output_type": "stream",
     "text": [
      "3\n"
     ]
    }
   ],
   "source": [
    "print(int(float(\"3.2\")))"
   ]
  },
  {
   "cell_type": "code",
   "execution_count": 28,
   "id": "bed72735",
   "metadata": {},
   "outputs": [
    {
     "ename": "SyntaxError",
     "evalue": "invalid syntax (3022387325.py, line 2)",
     "output_type": "error",
     "traceback": [
      "\u001b[1;36m  Cell \u001b[1;32mIn[28], line 2\u001b[1;36m\u001b[0m\n\u001b[1;33m    -\u001b[0m\n\u001b[1;37m     ^\u001b[0m\n\u001b[1;31mSyntaxError\u001b[0m\u001b[1;31m:\u001b[0m invalid syntax\n"
     ]
    }
   ],
   "source": [
    "bt1st1 = \"Waqas\"\n",
    "-\n",
    "\n",
    "\n",
    "# stn = \"N\""
   ]
  },
  {
   "cell_type": "code",
   "execution_count": 29,
   "id": "124e391a",
   "metadata": {},
   "outputs": [
    {
     "data": {
      "text/plain": [
       "str"
      ]
     },
     "execution_count": 29,
     "metadata": {},
     "output_type": "execute_result"
    }
   ],
   "source": [
    "s = \"\"\n",
    "type(s)"
   ]
  },
  {
   "cell_type": "markdown",
   "id": "28e67705",
   "metadata": {},
   "source": [
    "# list"
   ]
  },
  {
   "cell_type": "code",
   "execution_count": 30,
   "id": "c2f76119",
   "metadata": {},
   "outputs": [
    {
     "data": {
      "text/plain": [
       "list"
      ]
     },
     "execution_count": 30,
     "metadata": {},
     "output_type": "execute_result"
    }
   ],
   "source": [
    "l = []\n",
    "\n",
    "type(l)"
   ]
  },
  {
   "cell_type": "code",
   "execution_count": 31,
   "id": "437c894f",
   "metadata": {},
   "outputs": [],
   "source": [
    "batch6 = [\"Python for DS\", \"Data Visualization\", \"BI\", \"ML\", \"DL\"]"
   ]
  },
  {
   "cell_type": "code",
   "execution_count": 32,
   "id": "6c08a401",
   "metadata": {},
   "outputs": [
    {
     "data": {
      "text/plain": [
       "5"
      ]
     },
     "execution_count": 32,
     "metadata": {},
     "output_type": "execute_result"
    }
   ],
   "source": [
    "len(batch6)"
   ]
  },
  {
   "cell_type": "code",
   "execution_count": 33,
   "id": "2e658273",
   "metadata": {},
   "outputs": [
    {
     "data": {
      "text/plain": [
       "['Python for DS', 'Data Visualization', 'BI', 'ML', 'DL']"
      ]
     },
     "execution_count": 33,
     "metadata": {},
     "output_type": "execute_result"
    }
   ],
   "source": [
    "batch6"
   ]
  },
  {
   "cell_type": "code",
   "execution_count": 34,
   "id": "7a2d2480",
   "metadata": {},
   "outputs": [],
   "source": [
    "batch6.append(\"GAI\")"
   ]
  },
  {
   "cell_type": "code",
   "execution_count": 35,
   "id": "2ec90cba",
   "metadata": {},
   "outputs": [
    {
     "data": {
      "text/plain": [
       "['Python for DS', 'Data Visualization', 'BI', 'ML', 'DL', 'GAI']"
      ]
     },
     "execution_count": 35,
     "metadata": {},
     "output_type": "execute_result"
    }
   ],
   "source": [
    "batch6"
   ]
  },
  {
   "cell_type": "code",
   "execution_count": 36,
   "id": "80c5e59e",
   "metadata": {},
   "outputs": [
    {
     "data": {
      "text/plain": [
       "[1, 2, 3, 4]"
      ]
     },
     "execution_count": 36,
     "metadata": {},
     "output_type": "execute_result"
    }
   ],
   "source": [
    "[1,2,3] + [4]"
   ]
  },
  {
   "cell_type": "code",
   "execution_count": 37,
   "id": "2d66d181",
   "metadata": {},
   "outputs": [],
   "source": [
    "batch6 +=[\"EDA\"]"
   ]
  },
  {
   "cell_type": "code",
   "execution_count": 38,
   "id": "4e673419",
   "metadata": {},
   "outputs": [
    {
     "data": {
      "text/plain": [
       "['Python for DS', 'Data Visualization', 'BI', 'ML', 'DL', 'GAI', 'EDA']"
      ]
     },
     "execution_count": 38,
     "metadata": {},
     "output_type": "execute_result"
    }
   ],
   "source": [
    "batch6"
   ]
  },
  {
   "cell_type": "code",
   "execution_count": 39,
   "id": "d135bbad",
   "metadata": {},
   "outputs": [
    {
     "data": {
      "text/plain": [
       "['__add__',\n",
       " '__class__',\n",
       " '__class_getitem__',\n",
       " '__contains__',\n",
       " '__delattr__',\n",
       " '__delitem__',\n",
       " '__dir__',\n",
       " '__doc__',\n",
       " '__eq__',\n",
       " '__format__',\n",
       " '__ge__',\n",
       " '__getattribute__',\n",
       " '__getitem__',\n",
       " '__getstate__',\n",
       " '__gt__',\n",
       " '__hash__',\n",
       " '__iadd__',\n",
       " '__imul__',\n",
       " '__init__',\n",
       " '__init_subclass__',\n",
       " '__iter__',\n",
       " '__le__',\n",
       " '__len__',\n",
       " '__lt__',\n",
       " '__mul__',\n",
       " '__ne__',\n",
       " '__new__',\n",
       " '__reduce__',\n",
       " '__reduce_ex__',\n",
       " '__repr__',\n",
       " '__reversed__',\n",
       " '__rmul__',\n",
       " '__setattr__',\n",
       " '__setitem__',\n",
       " '__sizeof__',\n",
       " '__str__',\n",
       " '__subclasshook__',\n",
       " 'append',\n",
       " 'clear',\n",
       " 'copy',\n",
       " 'count',\n",
       " 'extend',\n",
       " 'index',\n",
       " 'insert',\n",
       " 'pop',\n",
       " 'remove',\n",
       " 'reverse',\n",
       " 'sort']"
      ]
     },
     "execution_count": 39,
     "metadata": {},
     "output_type": "execute_result"
    }
   ],
   "source": [
    "dir(batch6)"
   ]
  },
  {
   "cell_type": "code",
   "execution_count": 40,
   "id": "17226fe2",
   "metadata": {},
   "outputs": [
    {
     "data": {
      "text/plain": [
       "['__add__',\n",
       " '__class__',\n",
       " '__class_getitem__',\n",
       " '__contains__',\n",
       " '__delattr__',\n",
       " '__delitem__',\n",
       " '__dir__',\n",
       " '__doc__',\n",
       " '__eq__',\n",
       " '__format__',\n",
       " '__ge__',\n",
       " '__getattribute__',\n",
       " '__getitem__',\n",
       " '__getstate__',\n",
       " '__gt__',\n",
       " '__hash__',\n",
       " '__iadd__',\n",
       " '__imul__',\n",
       " '__init__',\n",
       " '__init_subclass__',\n",
       " '__iter__',\n",
       " '__le__',\n",
       " '__len__',\n",
       " '__lt__',\n",
       " '__mul__',\n",
       " '__ne__',\n",
       " '__new__',\n",
       " '__reduce__',\n",
       " '__reduce_ex__',\n",
       " '__repr__',\n",
       " '__reversed__',\n",
       " '__rmul__',\n",
       " '__setattr__',\n",
       " '__setitem__',\n",
       " '__sizeof__',\n",
       " '__str__',\n",
       " '__subclasshook__',\n",
       " 'append',\n",
       " 'clear',\n",
       " 'copy',\n",
       " 'count',\n",
       " 'extend',\n",
       " 'index',\n",
       " 'insert',\n",
       " 'pop',\n",
       " 'remove',\n",
       " 'reverse',\n",
       " 'sort']"
      ]
     },
     "execution_count": 40,
     "metadata": {},
     "output_type": "execute_result"
    }
   ],
   "source": [
    "dir(list)"
   ]
  },
  {
   "cell_type": "markdown",
   "id": "1660927c",
   "metadata": {},
   "source": [
    "# indexing\n",
    "\n",
    "## Positive Indexing"
   ]
  },
  {
   "cell_type": "code",
   "execution_count": 41,
   "id": "56dab47e",
   "metadata": {},
   "outputs": [
    {
     "data": {
      "text/plain": [
       "['Python for DS', 'Data Visualization', 'BI', 'ML', 'DL', 'GAI', 'EDA']"
      ]
     },
     "execution_count": 41,
     "metadata": {},
     "output_type": "execute_result"
    }
   ],
   "source": [
    "batch6"
   ]
  },
  {
   "cell_type": "code",
   "execution_count": 42,
   "id": "c6fa4780",
   "metadata": {},
   "outputs": [
    {
     "data": {
      "text/plain": [
       "7"
      ]
     },
     "execution_count": 42,
     "metadata": {},
     "output_type": "execute_result"
    }
   ],
   "source": [
    "len(batch6)"
   ]
  },
  {
   "cell_type": "code",
   "execution_count": 43,
   "id": "4385b1f5",
   "metadata": {},
   "outputs": [],
   "source": [
    "final_index = len(batch6) - 1"
   ]
  },
  {
   "cell_type": "markdown",
   "id": "28adda23",
   "metadata": {},
   "source": [
    "## Negative Indexing"
   ]
  },
  {
   "cell_type": "markdown",
   "id": "5cb36706",
   "metadata": {},
   "source": [
    "* postive indx ---- Left to right and 0 to onwards\n",
    "* Negative indx ---- right to left and -1 to backwards\n"
   ]
  },
  {
   "cell_type": "code",
   "execution_count": 44,
   "id": "2a1fdb3f",
   "metadata": {},
   "outputs": [
    {
     "data": {
      "text/plain": [
       "['Python for DS', 'Data Visualization', 'BI', 'ML', 'DL', 'GAI', 'EDA']"
      ]
     },
     "execution_count": 44,
     "metadata": {},
     "output_type": "execute_result"
    }
   ],
   "source": [
    "batch6"
   ]
  },
  {
   "cell_type": "code",
   "execution_count": 45,
   "id": "de82f449",
   "metadata": {},
   "outputs": [
    {
     "data": {
      "text/plain": [
       "'ML'"
      ]
     },
     "execution_count": 45,
     "metadata": {},
     "output_type": "execute_result"
    }
   ],
   "source": [
    "batch6[-4]"
   ]
  },
  {
   "cell_type": "code",
   "execution_count": 46,
   "id": "6f620844",
   "metadata": {},
   "outputs": [
    {
     "data": {
      "text/plain": [
       "'ML'"
      ]
     },
     "execution_count": 46,
     "metadata": {},
     "output_type": "execute_result"
    }
   ],
   "source": [
    "batch6[3]"
   ]
  },
  {
   "cell_type": "code",
   "execution_count": 47,
   "id": "9af75801",
   "metadata": {},
   "outputs": [
    {
     "data": {
      "text/plain": [
       "'EDA'"
      ]
     },
     "execution_count": 47,
     "metadata": {},
     "output_type": "execute_result"
    }
   ],
   "source": [
    "batch6[-1]"
   ]
  },
  {
   "cell_type": "code",
   "execution_count": 48,
   "id": "a7978cf2",
   "metadata": {},
   "outputs": [
    {
     "data": {
      "text/plain": [
       "'Python for DS'"
      ]
     },
     "execution_count": 48,
     "metadata": {},
     "output_type": "execute_result"
    }
   ],
   "source": [
    "batch6[0]"
   ]
  },
  {
   "cell_type": "code",
   "execution_count": 49,
   "id": "83c213b7",
   "metadata": {},
   "outputs": [],
   "source": [
    "batch6.insert(2,\"Data Analysis\")"
   ]
  },
  {
   "cell_type": "code",
   "execution_count": 50,
   "id": "b7a5c2bf",
   "metadata": {},
   "outputs": [
    {
     "data": {
      "text/plain": [
       "['Python for DS',\n",
       " 'Data Visualization',\n",
       " 'Data Analysis',\n",
       " 'BI',\n",
       " 'ML',\n",
       " 'DL',\n",
       " 'GAI',\n",
       " 'EDA']"
      ]
     },
     "execution_count": 50,
     "metadata": {},
     "output_type": "execute_result"
    }
   ],
   "source": [
    "batch6"
   ]
  },
  {
   "cell_type": "code",
   "execution_count": 51,
   "id": "9a4b89a6",
   "metadata": {},
   "outputs": [
    {
     "name": "stdout",
     "output_type": "stream",
     "text": [
      "['Python for DS', 'Data Visualization', 'Data Analysis', 'BI', 'ML', 'DL', 'GAI', 'EDA']\n"
     ]
    }
   ],
   "source": [
    "print(batch6)"
   ]
  },
  {
   "cell_type": "code",
   "execution_count": 52,
   "id": "320a43b1",
   "metadata": {},
   "outputs": [],
   "source": [
    "batch6[2] = \"Web Scrapping\"\n",
    "batch6[3] = \"Database\""
   ]
  },
  {
   "cell_type": "code",
   "execution_count": 53,
   "id": "e778ee02",
   "metadata": {},
   "outputs": [
    {
     "name": "stdout",
     "output_type": "stream",
     "text": [
      "['Python for DS', 'Data Visualization', 'Web Scrapping', 'Database', 'ML', 'DL', 'GAI', 'EDA']\n"
     ]
    }
   ],
   "source": [
    "print(batch6)"
   ]
  },
  {
   "cell_type": "code",
   "execution_count": 54,
   "id": "b1728bbb",
   "metadata": {},
   "outputs": [],
   "source": [
    "batch6.insert(2,\"science\")"
   ]
  },
  {
   "cell_type": "code",
   "execution_count": 55,
   "id": "bfd0e024",
   "metadata": {},
   "outputs": [
    {
     "name": "stdout",
     "output_type": "stream",
     "text": [
      "['Python for DS', 'Data Visualization', 'science', 'Web Scrapping', 'Database', 'ML', 'DL', 'GAI', 'EDA']\n"
     ]
    }
   ],
   "source": [
    "print(batch6)"
   ]
  },
  {
   "cell_type": "code",
   "execution_count": 56,
   "id": "5a3fe32c",
   "metadata": {},
   "outputs": [],
   "source": [
    "batch6[1]=\"english\""
   ]
  },
  {
   "cell_type": "code",
   "execution_count": 57,
   "id": "a5efca22",
   "metadata": {},
   "outputs": [
    {
     "name": "stdout",
     "output_type": "stream",
     "text": [
      "['Python for DS', 'english', 'science', 'Web Scrapping', 'Database', 'ML', 'DL', 'GAI', 'EDA']\n"
     ]
    }
   ],
   "source": [
    "print(batch6)"
   ]
  },
  {
   "cell_type": "code",
   "execution_count": 58,
   "id": "382d916b",
   "metadata": {},
   "outputs": [],
   "source": [
    "two_course=[batch6[3],batch6[-3]]"
   ]
  },
  {
   "cell_type": "code",
   "execution_count": 59,
   "id": "b3c6e950",
   "metadata": {},
   "outputs": [
    {
     "data": {
      "text/plain": [
       "['Web Scrapping', 'DL']"
      ]
     },
     "execution_count": 59,
     "metadata": {},
     "output_type": "execute_result"
    }
   ],
   "source": [
    "two_course"
   ]
  },
  {
   "cell_type": "markdown",
   "id": "32feaeec",
   "metadata": {},
   "source": [
    "## slicing"
   ]
  },
  {
   "cell_type": "code",
   "execution_count": 60,
   "id": "22509aef",
   "metadata": {},
   "outputs": [
    {
     "data": {
      "text/plain": [
       "['english', 'science', 'Web Scrapping', 'Database', 'ML', 'DL', 'GAI', 'EDA']"
      ]
     },
     "execution_count": 60,
     "metadata": {},
     "output_type": "execute_result"
    }
   ],
   "source": [
    "batch6[1:9]"
   ]
  },
  {
   "cell_type": "code",
   "execution_count": 61,
   "id": "14ba47e4",
   "metadata": {},
   "outputs": [
    {
     "data": {
      "text/plain": [
       "['english', 'science', 'Web Scrapping', 'Database', 'ML', 'DL', 'GAI', 'EDA']"
      ]
     },
     "execution_count": 61,
     "metadata": {},
     "output_type": "execute_result"
    }
   ],
   "source": [
    "batch6[1:]"
   ]
  },
  {
   "cell_type": "code",
   "execution_count": 62,
   "id": "dc4aeda1",
   "metadata": {},
   "outputs": [
    {
     "data": {
      "text/plain": [
       "['Python for DS',\n",
       " 'english',\n",
       " 'science',\n",
       " 'Web Scrapping',\n",
       " 'Database',\n",
       " 'ML',\n",
       " 'DL']"
      ]
     },
     "execution_count": 62,
     "metadata": {},
     "output_type": "execute_result"
    }
   ],
   "source": [
    "batch6[:-2]"
   ]
  },
  {
   "cell_type": "code",
   "execution_count": 63,
   "id": "e9f16323",
   "metadata": {},
   "outputs": [
    {
     "data": {
      "text/plain": [
       "6"
      ]
     },
     "execution_count": 63,
     "metadata": {},
     "output_type": "execute_result"
    }
   ],
   "source": [
    "batch6.index('DL')"
   ]
  },
  {
   "cell_type": "markdown",
   "id": "32141892",
   "metadata": {},
   "source": [
    "# Mwmbership operator\n",
    "\n"
   ]
  },
  {
   "cell_type": "code",
   "execution_count": 64,
   "id": "dfb47e5e",
   "metadata": {},
   "outputs": [
    {
     "data": {
      "text/plain": [
       "True"
      ]
     },
     "execution_count": 64,
     "metadata": {},
     "output_type": "execute_result"
    }
   ],
   "source": [
    "'dl'not in batch6"
   ]
  },
  {
   "cell_type": "code",
   "execution_count": 65,
   "id": "12bdbc28",
   "metadata": {},
   "outputs": [
    {
     "data": {
      "text/plain": [
       "bool"
      ]
     },
     "execution_count": 65,
     "metadata": {},
     "output_type": "execute_result"
    }
   ],
   "source": [
    "type(True)"
   ]
  },
  {
   "cell_type": "code",
   "execution_count": 66,
   "id": "bf3523fe",
   "metadata": {},
   "outputs": [
    {
     "data": {
      "text/plain": [
       "False"
      ]
     },
     "execution_count": 66,
     "metadata": {},
     "output_type": "execute_result"
    }
   ],
   "source": [
    "'w'in 'Waqas'"
   ]
  },
  {
   "cell_type": "code",
   "execution_count": 67,
   "id": "8be9a628",
   "metadata": {},
   "outputs": [
    {
     "data": {
      "text/plain": [
       "True"
      ]
     },
     "execution_count": 67,
     "metadata": {},
     "output_type": "execute_result"
    }
   ],
   "source": [
    "'q'in 'Waqas'"
   ]
  },
  {
   "cell_type": "code",
   "execution_count": 68,
   "id": "082802f6",
   "metadata": {},
   "outputs": [],
   "source": [
    "employee1=['waqas','Dl',6000]\n",
    "employee2=['noman','ml',5000]"
   ]
  },
  {
   "cell_type": "code",
   "execution_count": 69,
   "id": "15a82f68",
   "metadata": {},
   "outputs": [],
   "source": [
    "employees=[employee1,employee2]"
   ]
  },
  {
   "cell_type": "code",
   "execution_count": 70,
   "id": "5f141d9c",
   "metadata": {},
   "outputs": [
    {
     "data": {
      "text/plain": [
       "[['waqas', 'Dl', 6000], ['noman', 'ml', 5000]]"
      ]
     },
     "execution_count": 70,
     "metadata": {},
     "output_type": "execute_result"
    }
   ],
   "source": [
    "employees"
   ]
  },
  {
   "cell_type": "code",
   "execution_count": 71,
   "id": "4e64caf4",
   "metadata": {},
   "outputs": [
    {
     "data": {
      "text/plain": [
       "2"
      ]
     },
     "execution_count": 71,
     "metadata": {},
     "output_type": "execute_result"
    }
   ],
   "source": [
    "len(employees)"
   ]
  },
  {
   "cell_type": "code",
   "execution_count": 72,
   "id": "4a0a94a5",
   "metadata": {},
   "outputs": [
    {
     "data": {
      "text/plain": [
       "(['waqas', 'Dl', 6000], [2])"
      ]
     },
     "execution_count": 72,
     "metadata": {},
     "output_type": "execute_result"
    }
   ],
   "source": [
    "employees[0],[2]"
   ]
  },
  {
   "cell_type": "markdown",
   "id": "88136950",
   "metadata": {},
   "source": [
    "## for loop"
   ]
  },
  {
   "cell_type": "code",
   "execution_count": 73,
   "id": "aec2ee7b",
   "metadata": {},
   "outputs": [],
   "source": [
    "name=\"waqas\""
   ]
  },
  {
   "cell_type": "code",
   "execution_count": 74,
   "id": "d4ac85f7",
   "metadata": {},
   "outputs": [
    {
     "ename": "SyntaxError",
     "evalue": "expected ':' (1149926286.py, line 1)",
     "output_type": "error",
     "traceback": [
      "\u001b[1;36m  Cell \u001b[1;32mIn[74], line 1\u001b[1;36m\u001b[0m\n\u001b[1;33m    for c in \"waqas\"\u001b[0m\n\u001b[1;37m                    ^\u001b[0m\n\u001b[1;31mSyntaxError\u001b[0m\u001b[1;31m:\u001b[0m expected ':'\n"
     ]
    }
   ],
   "source": [
    "for c in \"waqas\""
   ]
  },
  {
   "cell_type": "code",
   "execution_count": 75,
   "id": "c05b1065",
   "metadata": {},
   "outputs": [],
   "source": [
    "employee1=[\"noman\",\"Manager\",\"5000\"]"
   ]
  },
  {
   "cell_type": "code",
   "execution_count": 76,
   "id": "270270a7",
   "metadata": {},
   "outputs": [],
   "source": [
    "employee2=[\"Zuhaib\",\"Manager\",\"6000\"]"
   ]
  },
  {
   "cell_type": "code",
   "execution_count": 77,
   "id": "19185491",
   "metadata": {},
   "outputs": [],
   "source": [
    "employee3=[\"Fahad\",\"Manager\",\"7000\"]"
   ]
  },
  {
   "cell_type": "code",
   "execution_count": 78,
   "id": "6f4085fd",
   "metadata": {},
   "outputs": [],
   "source": [
    "employee4=[\"Hasseb\",\"DM\",\"7000\"]"
   ]
  },
  {
   "cell_type": "code",
   "execution_count": 79,
   "id": "318f5277",
   "metadata": {},
   "outputs": [],
   "source": [
    "employees=[employee1,employee2,employee3,employee4]"
   ]
  },
  {
   "cell_type": "code",
   "execution_count": 80,
   "id": "9e7f939d",
   "metadata": {},
   "outputs": [
    {
     "name": "stdout",
     "output_type": "stream",
     "text": [
      "[['noman', 'Manager', '5000'], ['Zuhaib', 'Manager', '6000'], ['Fahad', 'Manager', '7000'], ['Hasseb', 'DM', '7000']]\n"
     ]
    }
   ],
   "source": [
    "print(employees)"
   ]
  },
  {
   "cell_type": "code",
   "execution_count": 81,
   "id": "c8a83dd5",
   "metadata": {},
   "outputs": [
    {
     "data": {
      "text/plain": [
       "'6000'"
      ]
     },
     "execution_count": 81,
     "metadata": {},
     "output_type": "execute_result"
    }
   ],
   "source": [
    "employees[1][-1]"
   ]
  },
  {
   "cell_type": "code",
   "execution_count": 82,
   "id": "790ecc0c",
   "metadata": {},
   "outputs": [
    {
     "data": {
      "text/plain": [
       "'Hasseb'"
      ]
     },
     "execution_count": 82,
     "metadata": {},
     "output_type": "execute_result"
    }
   ],
   "source": [
    "employees[-1][0]"
   ]
  },
  {
   "cell_type": "code",
   "execution_count": 83,
   "id": "2d5a7657",
   "metadata": {},
   "outputs": [
    {
     "data": {
      "text/plain": [
       "'5000'"
      ]
     },
     "execution_count": 83,
     "metadata": {},
     "output_type": "execute_result"
    }
   ],
   "source": [
    "employees[0][-1]"
   ]
  },
  {
   "cell_type": "code",
   "execution_count": 84,
   "id": "299b2434",
   "metadata": {},
   "outputs": [
    {
     "data": {
      "text/plain": [
       "'Fahad'"
      ]
     },
     "execution_count": 84,
     "metadata": {},
     "output_type": "execute_result"
    }
   ],
   "source": [
    "employees[2][0]"
   ]
  },
  {
   "cell_type": "code",
   "execution_count": 85,
   "id": "6cbb459b",
   "metadata": {},
   "outputs": [
    {
     "data": {
      "text/plain": [
       "[['noman', 'Manager', '5000'],\n",
       " ['Zuhaib', 'Manager', '6000'],\n",
       " ['Fahad', 'Manager', '7000'],\n",
       " ['Hasseb', 'DM', '7000']]"
      ]
     },
     "execution_count": 85,
     "metadata": {},
     "output_type": "execute_result"
    }
   ],
   "source": [
    "employees"
   ]
  },
  {
   "cell_type": "code",
   "execution_count": 86,
   "id": "d5a33b67",
   "metadata": {},
   "outputs": [],
   "source": [
    "employee1.insert(2,'grade')"
   ]
  },
  {
   "cell_type": "code",
   "execution_count": 87,
   "id": "642baf87",
   "metadata": {},
   "outputs": [
    {
     "name": "stdout",
     "output_type": "stream",
     "text": [
      "[['noman', 'Manager', 'grade', '5000'], ['Zuhaib', 'Manager', '6000'], ['Fahad', 'Manager', '7000'], ['Hasseb', 'DM', '7000']]\n"
     ]
    }
   ],
   "source": [
    "print(employees)"
   ]
  },
  {
   "cell_type": "code",
   "execution_count": 88,
   "id": "189a3f23",
   "metadata": {},
   "outputs": [
    {
     "data": {
      "text/plain": [
       "['Zuhaib', 'Manager', '6000']"
      ]
     },
     "execution_count": 88,
     "metadata": {},
     "output_type": "execute_result"
    }
   ],
   "source": [
    "employee2"
   ]
  },
  {
   "cell_type": "code",
   "execution_count": 89,
   "id": "0c3f1977",
   "metadata": {},
   "outputs": [],
   "source": [
    "employee2.insert(2,'grade')"
   ]
  },
  {
   "cell_type": "code",
   "execution_count": 90,
   "id": "d6e1aaa3",
   "metadata": {},
   "outputs": [
    {
     "data": {
      "text/plain": [
       "['Zuhaib', 'Manager', 'grade', '6000']"
      ]
     },
     "execution_count": 90,
     "metadata": {},
     "output_type": "execute_result"
    }
   ],
   "source": [
    "employee2"
   ]
  },
  {
   "cell_type": "code",
   "execution_count": 91,
   "id": "8dbddd80",
   "metadata": {},
   "outputs": [],
   "source": [
    "employee3.insert(2,'grade')"
   ]
  },
  {
   "cell_type": "code",
   "execution_count": 92,
   "id": "d119160c",
   "metadata": {},
   "outputs": [
    {
     "data": {
      "text/plain": [
       "['Fahad', 'Manager', 'grade', '7000']"
      ]
     },
     "execution_count": 92,
     "metadata": {},
     "output_type": "execute_result"
    }
   ],
   "source": [
    "employee3"
   ]
  },
  {
   "cell_type": "code",
   "execution_count": 93,
   "id": "66a352d7",
   "metadata": {},
   "outputs": [],
   "source": [
    "employee4.insert(2,'grade')"
   ]
  },
  {
   "cell_type": "code",
   "execution_count": 120,
   "id": "11eb379c",
   "metadata": {},
   "outputs": [
    {
     "data": {
      "text/plain": [
       "['Hasseb', 'DM', '7000', 800]"
      ]
     },
     "execution_count": 120,
     "metadata": {},
     "output_type": "execute_result"
    }
   ],
   "source": [
    "employee4"
   ]
  },
  {
   "cell_type": "code",
   "execution_count": 121,
   "id": "3d0caebb",
   "metadata": {},
   "outputs": [
    {
     "ename": "ValueError",
     "evalue": "list.remove(x): x not in list",
     "output_type": "error",
     "traceback": [
      "\u001b[1;31m---------------------------------------------------------------------------\u001b[0m",
      "\u001b[1;31mValueError\u001b[0m                                Traceback (most recent call last)",
      "Cell \u001b[1;32mIn[121], line 1\u001b[0m\n\u001b[1;32m----> 1\u001b[0m employee1\u001b[38;5;241m.\u001b[39mremove(\u001b[38;5;124m'\u001b[39m\u001b[38;5;124mgrade\u001b[39m\u001b[38;5;124m'\u001b[39m)\n",
      "\u001b[1;31mValueError\u001b[0m: list.remove(x): x not in list"
     ]
    }
   ],
   "source": [
    "employee1.remove('grade')"
   ]
  },
  {
   "cell_type": "code",
   "execution_count": 122,
   "id": "0584bc7d",
   "metadata": {},
   "outputs": [
    {
     "data": {
      "text/plain": [
       "['noman', 'Manager', '5000', 500]"
      ]
     },
     "execution_count": 122,
     "metadata": {},
     "output_type": "execute_result"
    }
   ],
   "source": [
    "employee1"
   ]
  },
  {
   "cell_type": "code",
   "execution_count": 123,
   "id": "a483018f",
   "metadata": {},
   "outputs": [
    {
     "ename": "ValueError",
     "evalue": "list.remove(x): x not in list",
     "output_type": "error",
     "traceback": [
      "\u001b[1;31m---------------------------------------------------------------------------\u001b[0m",
      "\u001b[1;31mValueError\u001b[0m                                Traceback (most recent call last)",
      "Cell \u001b[1;32mIn[123], line 1\u001b[0m\n\u001b[1;32m----> 1\u001b[0m employee4\u001b[38;5;241m.\u001b[39mremove(\u001b[38;5;124m'\u001b[39m\u001b[38;5;124mgrade\u001b[39m\u001b[38;5;124m'\u001b[39m)\n",
      "\u001b[1;31mValueError\u001b[0m: list.remove(x): x not in list"
     ]
    }
   ],
   "source": [
    "employee4.remove('grade')"
   ]
  },
  {
   "cell_type": "code",
   "execution_count": 124,
   "id": "1c76f856",
   "metadata": {},
   "outputs": [
    {
     "data": {
      "text/plain": [
       "[['name', 'postion', 'salary', 'bonus'],\n",
       " ['noman', 'Manager', '5000', 500],\n",
       " ['Zuhaib', 'Manager', 'grade', '6000', 600],\n",
       " ['Fahad', 'Manager', 'grade', '7000', 700],\n",
       " ['Hasseb', 'DM', '7000', 800]]"
      ]
     },
     "execution_count": 124,
     "metadata": {},
     "output_type": "execute_result"
    }
   ],
   "source": [
    "employees"
   ]
  },
  {
   "cell_type": "code",
   "execution_count": 125,
   "id": "2b21556d",
   "metadata": {},
   "outputs": [
    {
     "data": {
      "text/plain": [
       "['noman', 'Manager', '5000']"
      ]
     },
     "execution_count": 125,
     "metadata": {},
     "output_type": "execute_result"
    }
   ],
   "source": [
    "employee1[0:-1]"
   ]
  },
  {
   "cell_type": "code",
   "execution_count": 126,
   "id": "2d7d5d06",
   "metadata": {},
   "outputs": [
    {
     "data": {
      "text/plain": [
       "['Manager', 'grade', '6000', 600]"
      ]
     },
     "execution_count": 126,
     "metadata": {},
     "output_type": "execute_result"
    }
   ],
   "source": [
    "employee2[1:]"
   ]
  },
  {
   "cell_type": "code",
   "execution_count": 127,
   "id": "9ab653e4",
   "metadata": {},
   "outputs": [
    {
     "data": {
      "text/plain": [
       "[['name', 'postion', 'salary', 'bonus'],\n",
       " ['noman', 'Manager', '5000', 500],\n",
       " ['Zuhaib', 'Manager', 'grade', '6000', 600],\n",
       " ['Fahad', 'Manager', 'grade', '7000', 700],\n",
       " ['Hasseb', 'DM', '7000', 800]]"
      ]
     },
     "execution_count": 127,
     "metadata": {},
     "output_type": "execute_result"
    }
   ],
   "source": [
    "employees"
   ]
  },
  {
   "cell_type": "code",
   "execution_count": 128,
   "id": "ac1bfb8e",
   "metadata": {},
   "outputs": [
    {
     "data": {
      "text/plain": [
       "1"
      ]
     },
     "execution_count": 128,
     "metadata": {},
     "output_type": "execute_result"
    }
   ],
   "source": [
    "employee4.index('DM')"
   ]
  },
  {
   "cell_type": "code",
   "execution_count": 129,
   "id": "49073a5b",
   "metadata": {},
   "outputs": [
    {
     "ename": "ValueError",
     "evalue": "'dm' is not in list",
     "output_type": "error",
     "traceback": [
      "\u001b[1;31m---------------------------------------------------------------------------\u001b[0m",
      "\u001b[1;31mValueError\u001b[0m                                Traceback (most recent call last)",
      "Cell \u001b[1;32mIn[129], line 1\u001b[0m\n\u001b[1;32m----> 1\u001b[0m employee4\u001b[38;5;241m.\u001b[39mindex(\u001b[38;5;124m'\u001b[39m\u001b[38;5;124mdm\u001b[39m\u001b[38;5;124m'\u001b[39m)\n",
      "\u001b[1;31mValueError\u001b[0m: 'dm' is not in list"
     ]
    }
   ],
   "source": [
    "employee4.index('dm')"
   ]
  },
  {
   "cell_type": "code",
   "execution_count": 130,
   "id": "3c561876",
   "metadata": {},
   "outputs": [
    {
     "data": {
      "text/plain": [
       "0"
      ]
     },
     "execution_count": 130,
     "metadata": {},
     "output_type": "execute_result"
    }
   ],
   "source": [
    "employee1.index('noman')"
   ]
  },
  {
   "cell_type": "code",
   "execution_count": 131,
   "id": "e72e45cd",
   "metadata": {},
   "outputs": [
    {
     "data": {
      "text/plain": [
       "True"
      ]
     },
     "execution_count": 131,
     "metadata": {},
     "output_type": "execute_result"
    }
   ],
   "source": [
    "'noman'in employee1"
   ]
  },
  {
   "cell_type": "code",
   "execution_count": 132,
   "id": "67461868",
   "metadata": {},
   "outputs": [
    {
     "data": {
      "text/plain": [
       "True"
      ]
     },
     "execution_count": 132,
     "metadata": {},
     "output_type": "execute_result"
    }
   ],
   "source": [
    "'Noman'not in employee1"
   ]
  },
  {
   "cell_type": "code",
   "execution_count": 133,
   "id": "cddbb5ba",
   "metadata": {},
   "outputs": [
    {
     "data": {
      "text/plain": [
       "False"
      ]
     },
     "execution_count": 133,
     "metadata": {},
     "output_type": "execute_result"
    }
   ],
   "source": [
    "'zuhaib'in employee2"
   ]
  },
  {
   "cell_type": "code",
   "execution_count": 134,
   "id": "5c15d90c",
   "metadata": {},
   "outputs": [
    {
     "data": {
      "text/plain": [
       "False"
      ]
     },
     "execution_count": 134,
     "metadata": {},
     "output_type": "execute_result"
    }
   ],
   "source": [
    "'Zuhaib'not in employee2"
   ]
  },
  {
   "cell_type": "code",
   "execution_count": 135,
   "id": "7dc18500",
   "metadata": {},
   "outputs": [
    {
     "data": {
      "text/plain": [
       "True"
      ]
     },
     "execution_count": 135,
     "metadata": {},
     "output_type": "execute_result"
    }
   ],
   "source": [
    "'Zuhaib'in employee2"
   ]
  },
  {
   "cell_type": "code",
   "execution_count": 136,
   "id": "5f3109c4",
   "metadata": {},
   "outputs": [
    {
     "data": {
      "text/plain": [
       "5"
      ]
     },
     "execution_count": 136,
     "metadata": {},
     "output_type": "execute_result"
    }
   ],
   "source": [
    "len(employees)"
   ]
  },
  {
   "cell_type": "code",
   "execution_count": 137,
   "id": "875d1981",
   "metadata": {},
   "outputs": [
    {
     "data": {
      "text/plain": [
       "'5000'"
      ]
     },
     "execution_count": 137,
     "metadata": {},
     "output_type": "execute_result"
    }
   ],
   "source": [
    "employees[1][2]"
   ]
  },
  {
   "cell_type": "code",
   "execution_count": 138,
   "id": "2515a1f8",
   "metadata": {},
   "outputs": [
    {
     "data": {
      "text/plain": [
       "[['name', 'postion', 'salary', 'bonus'],\n",
       " ['noman', 'Manager', '5000', 500],\n",
       " ['Zuhaib', 'Manager', 'grade', '6000', 600],\n",
       " ['Fahad', 'Manager', 'grade', '7000', 700],\n",
       " ['Hasseb', 'DM', '7000', 800]]"
      ]
     },
     "execution_count": 138,
     "metadata": {},
     "output_type": "execute_result"
    }
   ],
   "source": [
    "employees"
   ]
  },
  {
   "cell_type": "code",
   "execution_count": 139,
   "id": "48e60f48",
   "metadata": {},
   "outputs": [],
   "source": [
    "employees.insert(0,['name','postion','salary'])"
   ]
  },
  {
   "cell_type": "code",
   "execution_count": 140,
   "id": "b9faab74",
   "metadata": {},
   "outputs": [
    {
     "name": "stdout",
     "output_type": "stream",
     "text": [
      "[['name', 'postion', 'salary'], ['name', 'postion', 'salary', 'bonus'], ['noman', 'Manager', '5000', 500], ['Zuhaib', 'Manager', 'grade', '6000', 600], ['Fahad', 'Manager', 'grade', '7000', 700], ['Hasseb', 'DM', '7000', 800]]\n"
     ]
    }
   ],
   "source": [
    "print(employees)"
   ]
  },
  {
   "cell_type": "code",
   "execution_count": 141,
   "id": "f549e413",
   "metadata": {},
   "outputs": [],
   "source": [
    "employees[0].append('bonus')"
   ]
  },
  {
   "cell_type": "code",
   "execution_count": 142,
   "id": "a9a0f0d2",
   "metadata": {},
   "outputs": [
    {
     "data": {
      "text/plain": [
       "[['name', 'postion', 'salary', 'bonus'],\n",
       " ['name', 'postion', 'salary', 'bonus'],\n",
       " ['noman', 'Manager', '5000', 500],\n",
       " ['Zuhaib', 'Manager', 'grade', '6000', 600],\n",
       " ['Fahad', 'Manager', 'grade', '7000', 700],\n",
       " ['Hasseb', 'DM', '7000', 800]]"
      ]
     },
     "execution_count": 142,
     "metadata": {},
     "output_type": "execute_result"
    }
   ],
   "source": [
    "employees"
   ]
  },
  {
   "cell_type": "code",
   "execution_count": 143,
   "id": "b756dab3",
   "metadata": {},
   "outputs": [],
   "source": [
    "employees[1].append(500)\n",
    "employees[2].append(600)\n",
    "employees[3].append(700)\n",
    "employees[4].append(800)"
   ]
  },
  {
   "cell_type": "code",
   "execution_count": 10,
   "id": "3fea3c1c",
   "metadata": {},
   "outputs": [
    {
     "ename": "NameError",
     "evalue": "name 'employees' is not defined",
     "output_type": "error",
     "traceback": [
      "\u001b[1;31m---------------------------------------------------------------------------\u001b[0m",
      "\u001b[1;31mNameError\u001b[0m                                 Traceback (most recent call last)",
      "Cell \u001b[1;32mIn[10], line 1\u001b[0m\n\u001b[1;32m----> 1\u001b[0m employees\n",
      "\u001b[1;31mNameError\u001b[0m: name 'employees' is not defined"
     ]
    }
   ],
   "source": [
    "employees"
   ]
  },
  {
   "cell_type": "code",
   "execution_count": null,
   "id": "ffec902e",
   "metadata": {},
   "outputs": [],
   "source": []
  }
 ],
 "metadata": {
  "kernelspec": {
   "display_name": "Python 3 (ipykernel)",
   "language": "python",
   "name": "python3"
  },
  "language_info": {
   "codemirror_mode": {
    "name": "ipython",
    "version": 3
   },
   "file_extension": ".py",
   "mimetype": "text/x-python",
   "name": "python",
   "nbconvert_exporter": "python",
   "pygments_lexer": "ipython3",
   "version": "3.11.5"
  }
 },
 "nbformat": 4,
 "nbformat_minor": 5
}
