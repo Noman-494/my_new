{
 "cells": [
  {
   "cell_type": "code",
   "execution_count": 13,
   "id": "6a0edf88",
   "metadata": {},
   "outputs": [
    {
     "data": {
      "text/plain": [
       "2.0"
      ]
     },
     "execution_count": 13,
     "metadata": {},
     "output_type": "execute_result"
    }
   ],
   "source": [
    "4/2"
   ]
  },
  {
   "cell_type": "code",
   "execution_count": 14,
   "id": "72ab3e16",
   "metadata": {},
   "outputs": [
    {
     "data": {
      "text/plain": [
       "3.0"
      ]
     },
     "execution_count": 14,
     "metadata": {},
     "output_type": "execute_result"
    }
   ],
   "source": [
    "6.3//2"
   ]
  },
  {
   "cell_type": "code",
   "execution_count": 15,
   "id": "1e97b342",
   "metadata": {},
   "outputs": [
    {
     "data": {
      "text/plain": [
       "3.85"
      ]
     },
     "execution_count": 15,
     "metadata": {},
     "output_type": "execute_result"
    }
   ],
   "source": [
    "7.7/2"
   ]
  },
  {
   "cell_type": "code",
   "execution_count": 16,
   "id": "da4a2ecf",
   "metadata": {},
   "outputs": [
    {
     "data": {
      "text/plain": [
       "3.0"
      ]
     },
     "execution_count": 16,
     "metadata": {},
     "output_type": "execute_result"
    }
   ],
   "source": [
    "7.7//2"
   ]
  },
  {
   "cell_type": "markdown",
   "id": "fa93783e",
   "metadata": {},
   "source": [
    "# Type Casting"
   ]
  },
  {
   "cell_type": "code",
   "execution_count": 17,
   "id": "bc44d70a",
   "metadata": {},
   "outputs": [
    {
     "data": {
      "text/plain": [
       "3"
      ]
     },
     "execution_count": 17,
     "metadata": {},
     "output_type": "execute_result"
    }
   ],
   "source": [
    "int(3.82)"
   ]
  },
  {
   "cell_type": "code",
   "execution_count": 18,
   "id": "6e71a0e3",
   "metadata": {},
   "outputs": [
    {
     "data": {
      "text/plain": [
       "3.0"
      ]
     },
     "execution_count": 18,
     "metadata": {},
     "output_type": "execute_result"
    }
   ],
   "source": [
    "float(3)"
   ]
  },
  {
   "cell_type": "code",
   "execution_count": 19,
   "id": "8bb37ea0",
   "metadata": {},
   "outputs": [
    {
     "data": {
      "text/plain": [
       "'3.2'"
      ]
     },
     "execution_count": 19,
     "metadata": {},
     "output_type": "execute_result"
    }
   ],
   "source": [
    "str(3.2)"
   ]
  },
  {
   "cell_type": "code",
   "execution_count": 20,
   "id": "755ecf5d",
   "metadata": {},
   "outputs": [
    {
     "data": {
      "text/plain": [
       "3.2"
      ]
     },
     "execution_count": 20,
     "metadata": {},
     "output_type": "execute_result"
    }
   ],
   "source": [
    "float(\"3.2\")"
   ]
  },
  {
   "cell_type": "code",
   "execution_count": 21,
   "id": "053e2700",
   "metadata": {},
   "outputs": [
    {
     "ename": "ValueError",
     "evalue": "invalid literal for int() with base 10: '3.2'",
     "output_type": "error",
     "traceback": [
      "\u001b[1;31m---------------------------------------------------------------------------\u001b[0m",
      "\u001b[1;31mValueError\u001b[0m                                Traceback (most recent call last)",
      "Cell \u001b[1;32mIn[21], line 1\u001b[0m\n\u001b[1;32m----> 1\u001b[0m \u001b[38;5;28mint\u001b[39m(\u001b[38;5;124m\"\u001b[39m\u001b[38;5;124m3.2\u001b[39m\u001b[38;5;124m\"\u001b[39m)\n",
      "\u001b[1;31mValueError\u001b[0m: invalid literal for int() with base 10: '3.2'"
     ]
    }
   ],
   "source": [
    "int(\"3.2\")"
   ]
  },
  {
   "cell_type": "code",
   "execution_count": 22,
   "id": "1c6d8df9",
   "metadata": {},
   "outputs": [
    {
     "name": "stdout",
     "output_type": "stream",
     "text": [
      "3\n"
     ]
    },
    {
     "data": {
      "text/plain": [
       "3"
      ]
     },
     "execution_count": 22,
     "metadata": {},
     "output_type": "execute_result"
    }
   ],
   "source": [
    "print(int(float(\"3.2\")))\n",
    "\n",
    "int(3.2)\n",
    "# 3"
   ]
  },
  {
   "cell_type": "code",
   "execution_count": 23,
   "id": "e6ff157d",
   "metadata": {},
   "outputs": [
    {
     "data": {
      "text/plain": [
       "'This is our 3rd Session ------------------------------------------'"
      ]
     },
     "execution_count": 23,
     "metadata": {},
     "output_type": "execute_result"
    }
   ],
   "source": [
    "\"This is our 3rd Session ------------------------------------------\"\n"
   ]
  },
  {
   "cell_type": "code",
   "execution_count": 24,
   "id": "1439c88a",
   "metadata": {},
   "outputs": [
    {
     "ename": "SyntaxError",
     "evalue": "unterminated string literal (detected at line 1) (1936095239.py, line 1)",
     "output_type": "error",
     "traceback": [
      "\u001b[1;36m  Cell \u001b[1;32mIn[24], line 1\u001b[1;36m\u001b[0m\n\u001b[1;33m    \"This is our 3rd Session\u001b[0m\n\u001b[1;37m    ^\u001b[0m\n\u001b[1;31mSyntaxError\u001b[0m\u001b[1;31m:\u001b[0m unterminated string literal (detected at line 1)\n"
     ]
    }
   ],
   "source": [
    "\"This is our 3rd Session\n",
    "We are learning Data Science\""
   ]
  },
  {
   "cell_type": "code",
   "execution_count": 2,
   "id": "bcd421fd",
   "metadata": {},
   "outputs": [
    {
     "data": {
      "text/plain": [
       "'this is our thrid session frrgrrrrrrr'"
      ]
     },
     "execution_count": 2,
     "metadata": {},
     "output_type": "execute_result"
    }
   ],
   "source": [
    "\"this is our thrid session frrgrrrrrrr\""
   ]
  },
  {
   "cell_type": "code",
   "execution_count": 25,
   "id": "97f2270c",
   "metadata": {},
   "outputs": [
    {
     "data": {
      "text/plain": [
       "'This is our 3rd Session\\nWe are learning Applied Data Science\\n-\\n-\\n-\\n\\n-\\n-\\n\\n-\\n-\\n\\n-\\n-\\n'"
      ]
     },
     "execution_count": 25,
     "metadata": {},
     "output_type": "execute_result"
    }
   ],
   "source": [
    "\"\"\"This is our 3rd Session\n",
    "We are learning Applied Data Science\n",
    "-\n",
    "-\n",
    "-\n",
    "\n",
    "-\n",
    "-\n",
    "\n",
    "-\n",
    "-\n",
    "\n",
    "-\n",
    "-\n",
    "\"\"\""
   ]
  },
  {
   "cell_type": "code",
   "execution_count": 26,
   "id": "63043d3e",
   "metadata": {},
   "outputs": [
    {
     "name": "stdout",
     "output_type": "stream",
     "text": [
      "This is our 3rd Session\n",
      "We are learning Applied Data Science\n",
      "-\n",
      "-\n",
      "-\n",
      "\n",
      "-\n",
      "-\n",
      "\n",
      "-\n",
      "-\n",
      "\n",
      "-\n",
      "-\n",
      "\n"
     ]
    }
   ],
   "source": [
    "print(\"\"\"This is our 3rd Session\n",
    "We are learning Applied Data Science\n",
    "-\n",
    "-\n",
    "-\n",
    "\n",
    "-\n",
    "-\n",
    "\n",
    "-\n",
    "-\n",
    "\n",
    "-\n",
    "-\n",
    "\"\"\")"
   ]
  },
  {
   "cell_type": "code",
   "execution_count": 27,
   "id": "ec2cead2",
   "metadata": {},
   "outputs": [
    {
     "data": {
      "text/plain": [
       "'Muahmmad\\nWaqas'"
      ]
     },
     "execution_count": 27,
     "metadata": {},
     "output_type": "execute_result"
    }
   ],
   "source": [
    "\"Muahmmad\\nWaqas\""
   ]
  },
  {
   "cell_type": "code",
   "execution_count": 6,
   "id": "8014c44d",
   "metadata": {},
   "outputs": [
    {
     "name": "stdout",
     "output_type": "stream",
     "text": [
      "Noman\n",
      "shaikh\n"
     ]
    }
   ],
   "source": [
    "print(\"Noman\\nshaikh\")"
   ]
  },
  {
   "cell_type": "code",
   "execution_count": 28,
   "id": "0b50ce8e",
   "metadata": {},
   "outputs": [
    {
     "name": "stdout",
     "output_type": "stream",
     "text": [
      "Muahmmad\n",
      "Waqas\n"
     ]
    }
   ],
   "source": [
    "print(\"Muahmmad\\nWaqas\")"
   ]
  },
  {
   "cell_type": "code",
   "execution_count": 29,
   "id": "d7f7913f",
   "metadata": {},
   "outputs": [
    {
     "name": "stdout",
     "output_type": "stream",
     "text": [
      "3\n"
     ]
    }
   ],
   "source": [
    "print(int(float(\"3.2\")))"
   ]
  },
  {
   "cell_type": "code",
   "execution_count": 30,
   "id": "bed72735",
   "metadata": {},
   "outputs": [
    {
     "ename": "SyntaxError",
     "evalue": "invalid syntax (3022387325.py, line 2)",
     "output_type": "error",
     "traceback": [
      "\u001b[1;36m  Cell \u001b[1;32mIn[30], line 2\u001b[1;36m\u001b[0m\n\u001b[1;33m    -\u001b[0m\n\u001b[1;37m     ^\u001b[0m\n\u001b[1;31mSyntaxError\u001b[0m\u001b[1;31m:\u001b[0m invalid syntax\n"
     ]
    }
   ],
   "source": [
    "bt1st1 = \"Waqas\"\n",
    "-\n",
    "\n",
    "\n",
    "# stn = \"N\""
   ]
  },
  {
   "cell_type": "code",
   "execution_count": 31,
   "id": "124e391a",
   "metadata": {},
   "outputs": [
    {
     "data": {
      "text/plain": [
       "str"
      ]
     },
     "execution_count": 31,
     "metadata": {},
     "output_type": "execute_result"
    }
   ],
   "source": [
    "s = \"\"\n",
    "type(s)"
   ]
  },
  {
   "cell_type": "markdown",
   "id": "28e67705",
   "metadata": {},
   "source": [
    "# list"
   ]
  },
  {
   "cell_type": "code",
   "execution_count": 32,
   "id": "c2f76119",
   "metadata": {},
   "outputs": [
    {
     "data": {
      "text/plain": [
       "list"
      ]
     },
     "execution_count": 32,
     "metadata": {},
     "output_type": "execute_result"
    }
   ],
   "source": [
    "l = []\n",
    "\n",
    "type(l)"
   ]
  },
  {
   "cell_type": "code",
   "execution_count": 33,
   "id": "437c894f",
   "metadata": {},
   "outputs": [],
   "source": [
    "batch6 = [\"Python for DS\", \"Data Visualization\", \"BI\", \"ML\", \"DL\"]"
   ]
  },
  {
   "cell_type": "code",
   "execution_count": 34,
   "id": "6c08a401",
   "metadata": {},
   "outputs": [
    {
     "data": {
      "text/plain": [
       "5"
      ]
     },
     "execution_count": 34,
     "metadata": {},
     "output_type": "execute_result"
    }
   ],
   "source": [
    "len(batch6)"
   ]
  },
  {
   "cell_type": "code",
   "execution_count": 35,
   "id": "2e658273",
   "metadata": {},
   "outputs": [
    {
     "data": {
      "text/plain": [
       "['Python for DS', 'Data Visualization', 'BI', 'ML', 'DL']"
      ]
     },
     "execution_count": 35,
     "metadata": {},
     "output_type": "execute_result"
    }
   ],
   "source": [
    "batch6"
   ]
  },
  {
   "cell_type": "code",
   "execution_count": 7,
   "id": "6bbf324e",
   "metadata": {},
   "outputs": [
    {
     "data": {
      "text/plain": [
       "['__add__',\n",
       " '__class__',\n",
       " '__class_getitem__',\n",
       " '__contains__',\n",
       " '__delattr__',\n",
       " '__delitem__',\n",
       " '__dir__',\n",
       " '__doc__',\n",
       " '__eq__',\n",
       " '__format__',\n",
       " '__ge__',\n",
       " '__getattribute__',\n",
       " '__getitem__',\n",
       " '__getstate__',\n",
       " '__gt__',\n",
       " '__hash__',\n",
       " '__iadd__',\n",
       " '__imul__',\n",
       " '__init__',\n",
       " '__init_subclass__',\n",
       " '__iter__',\n",
       " '__le__',\n",
       " '__len__',\n",
       " '__lt__',\n",
       " '__mul__',\n",
       " '__ne__',\n",
       " '__new__',\n",
       " '__reduce__',\n",
       " '__reduce_ex__',\n",
       " '__repr__',\n",
       " '__reversed__',\n",
       " '__rmul__',\n",
       " '__setattr__',\n",
       " '__setitem__',\n",
       " '__sizeof__',\n",
       " '__str__',\n",
       " '__subclasshook__',\n",
       " 'append',\n",
       " 'clear',\n",
       " 'copy',\n",
       " 'count',\n",
       " 'extend',\n",
       " 'index',\n",
       " 'insert',\n",
       " 'pop',\n",
       " 'remove',\n",
       " 'reverse',\n",
       " 'sort']"
      ]
     },
     "execution_count": 7,
     "metadata": {},
     "output_type": "execute_result"
    }
   ],
   "source": [
    "dir(list)"
   ]
  },
  {
   "cell_type": "code",
   "execution_count": 36,
   "id": "7a2d2480",
   "metadata": {},
   "outputs": [],
   "source": [
    "batch6.append(\"GAI\")"
   ]
  },
  {
   "cell_type": "code",
   "execution_count": 37,
   "id": "2ec90cba",
   "metadata": {},
   "outputs": [
    {
     "data": {
      "text/plain": [
       "['Python for DS', 'Data Visualization', 'BI', 'ML', 'DL', 'GAI']"
      ]
     },
     "execution_count": 37,
     "metadata": {},
     "output_type": "execute_result"
    }
   ],
   "source": [
    "batch6"
   ]
  },
  {
   "cell_type": "code",
   "execution_count": 38,
   "id": "80c5e59e",
   "metadata": {},
   "outputs": [
    {
     "data": {
      "text/plain": [
       "[1, 2, 3, 4]"
      ]
     },
     "execution_count": 38,
     "metadata": {},
     "output_type": "execute_result"
    }
   ],
   "source": [
    "[1,2,3] + [4]"
   ]
  },
  {
   "cell_type": "code",
   "execution_count": 39,
   "id": "2d66d181",
   "metadata": {},
   "outputs": [],
   "source": [
    "batch6 +=[\"EDA\"]"
   ]
  },
  {
   "cell_type": "code",
   "execution_count": 40,
   "id": "4e673419",
   "metadata": {},
   "outputs": [
    {
     "data": {
      "text/plain": [
       "['Python for DS', 'Data Visualization', 'BI', 'ML', 'DL', 'GAI', 'EDA']"
      ]
     },
     "execution_count": 40,
     "metadata": {},
     "output_type": "execute_result"
    }
   ],
   "source": [
    "batch6"
   ]
  },
  {
   "cell_type": "code",
   "execution_count": 41,
   "id": "d135bbad",
   "metadata": {},
   "outputs": [
    {
     "data": {
      "text/plain": [
       "['__add__',\n",
       " '__class__',\n",
       " '__class_getitem__',\n",
       " '__contains__',\n",
       " '__delattr__',\n",
       " '__delitem__',\n",
       " '__dir__',\n",
       " '__doc__',\n",
       " '__eq__',\n",
       " '__format__',\n",
       " '__ge__',\n",
       " '__getattribute__',\n",
       " '__getitem__',\n",
       " '__getstate__',\n",
       " '__gt__',\n",
       " '__hash__',\n",
       " '__iadd__',\n",
       " '__imul__',\n",
       " '__init__',\n",
       " '__init_subclass__',\n",
       " '__iter__',\n",
       " '__le__',\n",
       " '__len__',\n",
       " '__lt__',\n",
       " '__mul__',\n",
       " '__ne__',\n",
       " '__new__',\n",
       " '__reduce__',\n",
       " '__reduce_ex__',\n",
       " '__repr__',\n",
       " '__reversed__',\n",
       " '__rmul__',\n",
       " '__setattr__',\n",
       " '__setitem__',\n",
       " '__sizeof__',\n",
       " '__str__',\n",
       " '__subclasshook__',\n",
       " 'append',\n",
       " 'clear',\n",
       " 'copy',\n",
       " 'count',\n",
       " 'extend',\n",
       " 'index',\n",
       " 'insert',\n",
       " 'pop',\n",
       " 'remove',\n",
       " 'reverse',\n",
       " 'sort']"
      ]
     },
     "execution_count": 41,
     "metadata": {},
     "output_type": "execute_result"
    }
   ],
   "source": [
    "dir(batch6)"
   ]
  },
  {
   "cell_type": "code",
   "execution_count": 42,
   "id": "17226fe2",
   "metadata": {},
   "outputs": [
    {
     "data": {
      "text/plain": [
       "['__add__',\n",
       " '__class__',\n",
       " '__class_getitem__',\n",
       " '__contains__',\n",
       " '__delattr__',\n",
       " '__delitem__',\n",
       " '__dir__',\n",
       " '__doc__',\n",
       " '__eq__',\n",
       " '__format__',\n",
       " '__ge__',\n",
       " '__getattribute__',\n",
       " '__getitem__',\n",
       " '__getstate__',\n",
       " '__gt__',\n",
       " '__hash__',\n",
       " '__iadd__',\n",
       " '__imul__',\n",
       " '__init__',\n",
       " '__init_subclass__',\n",
       " '__iter__',\n",
       " '__le__',\n",
       " '__len__',\n",
       " '__lt__',\n",
       " '__mul__',\n",
       " '__ne__',\n",
       " '__new__',\n",
       " '__reduce__',\n",
       " '__reduce_ex__',\n",
       " '__repr__',\n",
       " '__reversed__',\n",
       " '__rmul__',\n",
       " '__setattr__',\n",
       " '__setitem__',\n",
       " '__sizeof__',\n",
       " '__str__',\n",
       " '__subclasshook__',\n",
       " 'append',\n",
       " 'clear',\n",
       " 'copy',\n",
       " 'count',\n",
       " 'extend',\n",
       " 'index',\n",
       " 'insert',\n",
       " 'pop',\n",
       " 'remove',\n",
       " 'reverse',\n",
       " 'sort']"
      ]
     },
     "execution_count": 42,
     "metadata": {},
     "output_type": "execute_result"
    }
   ],
   "source": [
    "dir(list)"
   ]
  },
  {
   "cell_type": "markdown",
   "id": "1660927c",
   "metadata": {},
   "source": [
    "# indexing\n",
    "\n",
    "## Positive Indexing"
   ]
  },
  {
   "cell_type": "code",
   "execution_count": 43,
   "id": "56dab47e",
   "metadata": {},
   "outputs": [
    {
     "data": {
      "text/plain": [
       "['Python for DS', 'Data Visualization', 'BI', 'ML', 'DL', 'GAI', 'EDA']"
      ]
     },
     "execution_count": 43,
     "metadata": {},
     "output_type": "execute_result"
    }
   ],
   "source": [
    "batch6"
   ]
  },
  {
   "cell_type": "code",
   "execution_count": 44,
   "id": "c6fa4780",
   "metadata": {},
   "outputs": [
    {
     "data": {
      "text/plain": [
       "7"
      ]
     },
     "execution_count": 44,
     "metadata": {},
     "output_type": "execute_result"
    }
   ],
   "source": [
    "len(batch6)"
   ]
  },
  {
   "cell_type": "code",
   "execution_count": 45,
   "id": "4385b1f5",
   "metadata": {},
   "outputs": [],
   "source": [
    "final_index = len(batch6) - 1"
   ]
  },
  {
   "cell_type": "markdown",
   "id": "28adda23",
   "metadata": {},
   "source": [
    "## Negative Indexing"
   ]
  },
  {
   "cell_type": "markdown",
   "id": "5cb36706",
   "metadata": {},
   "source": [
    "* postive indx ---- Left to right and 0 to onwards\n",
    "* Negative indx ---- right to left and -1 to backwards\n"
   ]
  },
  {
   "cell_type": "code",
   "execution_count": 46,
   "id": "2a1fdb3f",
   "metadata": {},
   "outputs": [
    {
     "data": {
      "text/plain": [
       "['Python for DS', 'Data Visualization', 'BI', 'ML', 'DL', 'GAI', 'EDA']"
      ]
     },
     "execution_count": 46,
     "metadata": {},
     "output_type": "execute_result"
    }
   ],
   "source": [
    "batch6"
   ]
  },
  {
   "cell_type": "code",
   "execution_count": 47,
   "id": "de82f449",
   "metadata": {},
   "outputs": [
    {
     "data": {
      "text/plain": [
       "'ML'"
      ]
     },
     "execution_count": 47,
     "metadata": {},
     "output_type": "execute_result"
    }
   ],
   "source": [
    "batch6[-4]"
   ]
  },
  {
   "cell_type": "code",
   "execution_count": 48,
   "id": "6f620844",
   "metadata": {},
   "outputs": [
    {
     "data": {
      "text/plain": [
       "'ML'"
      ]
     },
     "execution_count": 48,
     "metadata": {},
     "output_type": "execute_result"
    }
   ],
   "source": [
    "batch6[3]"
   ]
  },
  {
   "cell_type": "code",
   "execution_count": 49,
   "id": "9af75801",
   "metadata": {},
   "outputs": [
    {
     "data": {
      "text/plain": [
       "'EDA'"
      ]
     },
     "execution_count": 49,
     "metadata": {},
     "output_type": "execute_result"
    }
   ],
   "source": [
    "batch6[-1]"
   ]
  },
  {
   "cell_type": "code",
   "execution_count": 50,
   "id": "a7978cf2",
   "metadata": {},
   "outputs": [
    {
     "data": {
      "text/plain": [
       "'Python for DS'"
      ]
     },
     "execution_count": 50,
     "metadata": {},
     "output_type": "execute_result"
    }
   ],
   "source": [
    "batch6[0]"
   ]
  },
  {
   "cell_type": "code",
   "execution_count": 51,
   "id": "83c213b7",
   "metadata": {},
   "outputs": [],
   "source": [
    "batch6.insert(2,\"Data Analysis\")"
   ]
  },
  {
   "cell_type": "code",
   "execution_count": 52,
   "id": "b7a5c2bf",
   "metadata": {},
   "outputs": [
    {
     "data": {
      "text/plain": [
       "['Python for DS',\n",
       " 'Data Visualization',\n",
       " 'Data Analysis',\n",
       " 'BI',\n",
       " 'ML',\n",
       " 'DL',\n",
       " 'GAI',\n",
       " 'EDA']"
      ]
     },
     "execution_count": 52,
     "metadata": {},
     "output_type": "execute_result"
    }
   ],
   "source": [
    "batch6"
   ]
  },
  {
   "cell_type": "code",
   "execution_count": 53,
   "id": "9a4b89a6",
   "metadata": {},
   "outputs": [
    {
     "name": "stdout",
     "output_type": "stream",
     "text": [
      "['Python for DS', 'Data Visualization', 'Data Analysis', 'BI', 'ML', 'DL', 'GAI', 'EDA']\n"
     ]
    }
   ],
   "source": [
    "print(batch6)"
   ]
  },
  {
   "cell_type": "code",
   "execution_count": 9,
   "id": "25cd3ffc",
   "metadata": {},
   "outputs": [],
   "source": [
    "batch=[\"noman\",\"azeem\",\"working\",\"time\"]"
   ]
  },
  {
   "cell_type": "code",
   "execution_count": 10,
   "id": "34ef2258",
   "metadata": {},
   "outputs": [
    {
     "data": {
      "text/plain": [
       "['noman', 'azeem', 'working', 'time']"
      ]
     },
     "execution_count": 10,
     "metadata": {},
     "output_type": "execute_result"
    }
   ],
   "source": [
    "batch"
   ]
  },
  {
   "cell_type": "code",
   "execution_count": 12,
   "id": "4239966f",
   "metadata": {},
   "outputs": [
    {
     "data": {
      "text/plain": [
       "'time'"
      ]
     },
     "execution_count": 12,
     "metadata": {},
     "output_type": "execute_result"
    }
   ],
   "source": [
    "batch[-1]"
   ]
  },
  {
   "cell_type": "code",
   "execution_count": 19,
   "id": "b33d23b5",
   "metadata": {},
   "outputs": [
    {
     "data": {
      "text/plain": [
       "[]"
      ]
     },
     "execution_count": 19,
     "metadata": {},
     "output_type": "execute_result"
    }
   ],
   "source": [
    "batch[-1:-3]"
   ]
  },
  {
   "cell_type": "code",
   "execution_count": 54,
   "id": "320a43b1",
   "metadata": {},
   "outputs": [],
   "source": [
    "batch6[2] = \"Web Scrapping\"\n",
    "batch6[3] = \"Database\""
   ]
  },
  {
   "cell_type": "code",
   "execution_count": 22,
   "id": "4758afaa",
   "metadata": {},
   "outputs": [],
   "source": [
    "batch[3]=\"naeem\""
   ]
  },
  {
   "cell_type": "code",
   "execution_count": 27,
   "id": "7dd0857d",
   "metadata": {},
   "outputs": [
    {
     "data": {
      "text/plain": [
       "['noman', 'azeem', 'working', 'naeem']"
      ]
     },
     "execution_count": 27,
     "metadata": {},
     "output_type": "execute_result"
    }
   ],
   "source": [
    "batch"
   ]
  },
  {
   "cell_type": "code",
   "execution_count": 28,
   "id": "86cf1fe9",
   "metadata": {},
   "outputs": [
    {
     "data": {
      "text/plain": [
       "'naeem'"
      ]
     },
     "execution_count": 28,
     "metadata": {},
     "output_type": "execute_result"
    }
   ],
   "source": [
    "batch[3]"
   ]
  },
  {
   "cell_type": "code",
   "execution_count": 30,
   "id": "c50a9301",
   "metadata": {},
   "outputs": [
    {
     "name": "stdout",
     "output_type": "stream",
     "text": [
      "['noman', 'azeem', 'working', 'naeem']\n"
     ]
    }
   ],
   "source": [
    "print(batch)"
   ]
  },
  {
   "cell_type": "code",
   "execution_count": 31,
   "id": "7f2b395b",
   "metadata": {},
   "outputs": [],
   "source": [
    "batch.insert(2,\"nazeer\")"
   ]
  },
  {
   "cell_type": "code",
   "execution_count": 32,
   "id": "79ba37c9",
   "metadata": {},
   "outputs": [
    {
     "data": {
      "text/plain": [
       "['noman', 'azeem', 'nazeer', 'working', 'naeem']"
      ]
     },
     "execution_count": 32,
     "metadata": {},
     "output_type": "execute_result"
    }
   ],
   "source": [
    "batch"
   ]
  },
  {
   "cell_type": "code",
   "execution_count": 33,
   "id": "fe285915",
   "metadata": {},
   "outputs": [
    {
     "data": {
      "text/plain": [
       "['noman', 'azeem', 'nazeer', 'working', 'naeem']"
      ]
     },
     "execution_count": 33,
     "metadata": {},
     "output_type": "execute_result"
    }
   ],
   "source": [
    "batch.copy(r)"
   ]
  },
  {
   "cell_type": "code",
   "execution_count": null,
   "id": "ec973a77",
   "metadata": {},
   "outputs": [],
   "source": []
  },
  {
   "cell_type": "code",
   "execution_count": 55,
   "id": "e778ee02",
   "metadata": {},
   "outputs": [
    {
     "name": "stdout",
     "output_type": "stream",
     "text": [
      "['Python for DS', 'Data Visualization', 'Web Scrapping', 'Database', 'ML', 'DL', 'GAI', 'EDA']\n"
     ]
    }
   ],
   "source": [
    "print(batch6)"
   ]
  },
  {
   "cell_type": "code",
   "execution_count": 60,
   "id": "b1728bbb",
   "metadata": {},
   "outputs": [],
   "source": [
    "batch6.insert(2,\"science\")"
   ]
  },
  {
   "cell_type": "code",
   "execution_count": 61,
   "id": "bfd0e024",
   "metadata": {},
   "outputs": [
    {
     "name": "stdout",
     "output_type": "stream",
     "text": [
      "['Python for DS', 'science', 'science', 'Web Scrapping', 'Database', 'ML', 'DL', 'GAI', 'EDA']\n"
     ]
    }
   ],
   "source": [
    "print(batch6)"
   ]
  },
  {
   "cell_type": "code",
   "execution_count": 62,
   "id": "5a3fe32c",
   "metadata": {},
   "outputs": [],
   "source": [
    "batch6[1]=\"english\""
   ]
  },
  {
   "cell_type": "code",
   "execution_count": 63,
   "id": "a5efca22",
   "metadata": {},
   "outputs": [
    {
     "name": "stdout",
     "output_type": "stream",
     "text": [
      "['Python for DS', 'english', 'science', 'Web Scrapping', 'Database', 'ML', 'DL', 'GAI', 'EDA']\n"
     ]
    }
   ],
   "source": [
    "print(batch6)"
   ]
  }
 ],
 "metadata": {
  "kernelspec": {
   "display_name": "Python 3 (ipykernel)",
   "language": "python",
   "name": "python3"
  },
  "language_info": {
   "codemirror_mode": {
    "name": "ipython",
    "version": 3
   },
   "file_extension": ".py",
   "mimetype": "text/x-python",
   "name": "python",
   "nbconvert_exporter": "python",
   "pygments_lexer": "ipython3",
   "version": "3.11.5"
  }
 },
 "nbformat": 4,
 "nbformat_minor": 5
}
